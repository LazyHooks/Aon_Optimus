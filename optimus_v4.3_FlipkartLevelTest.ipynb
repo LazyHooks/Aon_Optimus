{
  "nbformat": 4,
  "nbformat_minor": 0,
  "metadata": {
    "colab": {
      "provenance": [],
      "include_colab_link": true
    },
    "kernelspec": {
      "name": "python3",
      "display_name": "Python 3"
    },
    "language_info": {
      "name": "python"
    }
  },
  "cells": [
    {
      "cell_type": "markdown",
      "metadata": {
        "id": "view-in-github",
        "colab_type": "text"
      },
      "source": [
        "<a href=\"https://colab.research.google.com/github/LazyHooks/Optimus/blob/main/optimus_v4.3_FlipkartLevelTest.ipynb\" target=\"_parent\"><img src=\"https://colab.research.google.com/assets/colab-badge.svg\" alt=\"Open In Colab\"/></a>"
      ]
    },
    {
      "cell_type": "code",
      "source": [
        "import pandas as pd"
      ],
      "metadata": {
        "id": "qnHLNOlup9EC"
      },
      "execution_count": 134,
      "outputs": []
    },
    {
      "cell_type": "code",
      "source": [
        "df = pd.read_csv('Version1_Level_Train1_WIthoutTFP.csv')\n",
        "df.shape"
      ],
      "metadata": {
        "id": "A8i1ht13p_jE",
        "outputId": "baa0016c-c7a9-47b4-9ef0-3c43b6d2a3b2",
        "colab": {
          "base_uri": "https://localhost:8080/"
        }
      },
      "execution_count": 135,
      "outputs": [
        {
          "output_type": "execute_result",
          "data": {
            "text/plain": [
              "(254383, 5)"
            ]
          },
          "metadata": {},
          "execution_count": 135
        }
      ]
    },
    {
      "cell_type": "code",
      "source": [
        "df_test = pd.read_csv('Version1_Level_Test5_Flipkart.csv')\n",
        "df_test.shape"
      ],
      "metadata": {
        "id": "g8-zz11mqB8b",
        "outputId": "fa4f55fb-a127-4e39-d995-562db3203c01",
        "colab": {
          "base_uri": "https://localhost:8080/"
        }
      },
      "execution_count": 136,
      "outputs": [
        {
          "output_type": "execute_result",
          "data": {
            "text/plain": [
              "(7742, 5)"
            ]
          },
          "metadata": {},
          "execution_count": 136
        }
      ]
    },
    {
      "cell_type": "code",
      "source": [
        "df.shape\n",
        "#set(df['Company Name'])"
      ],
      "metadata": {
        "id": "WUT3QAtFqFAk",
        "outputId": "bf82308d-05e7-400c-d9dc-bf91968dbb28",
        "colab": {
          "base_uri": "https://localhost:8080/"
        }
      },
      "execution_count": 137,
      "outputs": [
        {
          "output_type": "execute_result",
          "data": {
            "text/plain": [
              "(254383, 5)"
            ]
          },
          "metadata": {},
          "execution_count": 137
        }
      ]
    },
    {
      "cell_type": "code",
      "source": [
        "df.columns"
      ],
      "metadata": {
        "id": "XgKUy_kIqISg",
        "outputId": "d46348aa-33cd-44b1-99ce-02998470371e",
        "colab": {
          "base_uri": "https://localhost:8080/"
        }
      },
      "execution_count": 138,
      "outputs": [
        {
          "output_type": "execute_result",
          "data": {
            "text/plain": [
              "Index(['Company Name', 'Co. Designation', 'Co. Function', 'Job Family Code',\n",
              "       'Level'],\n",
              "      dtype='object')"
            ]
          },
          "metadata": {},
          "execution_count": 138
        }
      ]
    },
    {
      "cell_type": "code",
      "source": [
        "train_cols = ['Co. Designation', 'Co. Function']\n",
        "train_cols_2='Co. Designation'"
      ],
      "metadata": {
        "id": "snqs9UFrqK1M"
      },
      "execution_count": 139,
      "outputs": []
    },
    {
      "cell_type": "code",
      "source": [
        "target_col = 'Job Family Code'\n",
        "target_col_2='Level'"
      ],
      "metadata": {
        "id": "Q7EVYCfFqLPP"
      },
      "execution_count": 140,
      "outputs": []
    },
    {
      "cell_type": "code",
      "source": [
        "all_cols = ['Co. Designation', 'Co. Function', 'Job Family Code','Level']"
      ],
      "metadata": {
        "id": "BnXOkzyFqMzP"
      },
      "execution_count": 141,
      "outputs": []
    },
    {
      "cell_type": "code",
      "source": [
        "import pandas as pd\n",
        "from scipy.sparse import hstack\n",
        "from sklearn.feature_extraction.text import TfidfVectorizer\n",
        "from sklearn.linear_model import LogisticRegression\n",
        "from sklearn.metrics import accuracy_score, classification_report\n",
        "from sklearn.model_selection import train_test_split"
      ],
      "metadata": {
        "id": "qtC88Zw9qPj5"
      },
      "execution_count": 142,
      "outputs": []
    },
    {
      "cell_type": "code",
      "source": [
        "# Load data\n",
        "data = pd.read_csv('Version1_Level_Train1_WIthoutTFP.csv')"
      ],
      "metadata": {
        "id": "1Ut2p3HnqQtf"
      },
      "execution_count": 143,
      "outputs": []
    },
    {
      "cell_type": "code",
      "source": [
        "#df_test.head()"
      ],
      "metadata": {
        "id": "ZXQTHb6UqSTq"
      },
      "execution_count": 144,
      "outputs": []
    },
    {
      "cell_type": "code",
      "source": [
        "data = data[all_cols]\n",
        "data = data.dropna()"
      ],
      "metadata": {
        "id": "677jgG6vqUER"
      },
      "execution_count": 145,
      "outputs": []
    },
    {
      "cell_type": "code",
      "source": [
        "df_test = df_test[all_cols]\n",
        "df_test = df_test.dropna()"
      ],
      "metadata": {
        "id": "Lw2QDppCqVk0"
      },
      "execution_count": 146,
      "outputs": []
    },
    {
      "cell_type": "code",
      "source": [
        "#data.head()"
      ],
      "metadata": {
        "id": "XWwhj-PCqW1M"
      },
      "execution_count": 147,
      "outputs": []
    },
    {
      "cell_type": "code",
      "source": [
        "#df_test.head()"
      ],
      "metadata": {
        "id": "Q_uADMLNqYpW"
      },
      "execution_count": 148,
      "outputs": []
    },
    {
      "cell_type": "markdown",
      "source": [
        "JF"
      ],
      "metadata": {
        "id": "_UlVoosAD-It"
      }
    },
    {
      "cell_type": "code",
      "source": [
        "# Extract features from each text column using TF-IDF vectorizer\n",
        "vectorizers = []\n",
        "X_train_list = []\n",
        "X_test_list = []\n",
        "for col in train_cols:\n",
        "    vectorizer = TfidfVectorizer(max_features=10000)\n",
        "    X_train_col = vectorizer.fit_transform(data.loc[:, col])\n",
        "    X_train_list.append(X_train_col)\n",
        "    X_test_col = vectorizer.transform(data.loc[:, col])\n",
        "    X_test_list.append(X_test_col)\n",
        "    vectorizers.append(vectorizer)"
      ],
      "metadata": {
        "id": "INmGmNpcqarC"
      },
      "execution_count": 149,
      "outputs": []
    },
    {
      "cell_type": "markdown",
      "source": [
        "Level"
      ],
      "metadata": {
        "id": "ftnxt4mXD_Nz"
      }
    },
    {
      "cell_type": "code",
      "source": [
        "vectorizers_2 = []\n",
        "X_train_list_2 = []\n",
        "X_test_list_2 = []\n",
        "#for col in train_cols_2:\n",
        "vectorizer = TfidfVectorizer(max_features=10000)\n",
        "X_train_col = vectorizer.fit_transform(data.loc[:, train_cols_2])\n",
        "X_train_list_2.append(X_train_col)\n",
        "X_test_col = vectorizer.transform(data.loc[:, train_cols_2])\n",
        "X_test_list_2.append(X_test_col)\n",
        "vectorizers_2.append(vectorizer)\n",
        "\n",
        "jfcol='Job Family Code'\n",
        "vectorizer = TfidfVectorizer(max_features=10000)\n",
        "X_train_col = vectorizer.fit_transform(data.loc[:, jfcol])\n",
        "X_train_list_2.append(X_train_col)\n",
        "X_test_col = vectorizer.transform(data.loc[:, jfcol])\n",
        "X_test_list_2.append(X_test_col)\n",
        "vectorizers_2.append(vectorizer)\n"
      ],
      "metadata": {
        "id": "Qnp9DBKiD9eS"
      },
      "execution_count": 150,
      "outputs": []
    },
    {
      "cell_type": "markdown",
      "source": [
        "JF"
      ],
      "metadata": {
        "id": "rymDy7YTESw5"
      }
    },
    {
      "cell_type": "code",
      "source": [
        "# Concatenate sparse matrices into a single feature matrix\n",
        "X_train = hstack(X_train_list)\n",
        "X_test = hstack(X_test_list)\n",
        "\n",
        "# Split data into training and testing sets\n",
        "y_train = data[target_col]\n",
        "#y_test = df_test[target_col]\n",
        "\n",
        "X_train, X_test, y_train, y_test = train_test_split(X_train, y_train, test_size=0.2, random_state=42)"
      ],
      "metadata": {
        "id": "b2nmh3_nqcsI"
      },
      "execution_count": 151,
      "outputs": []
    },
    {
      "cell_type": "markdown",
      "source": [
        "Level"
      ],
      "metadata": {
        "id": "jsqt4A1TETsL"
      }
    },
    {
      "cell_type": "code",
      "source": [
        "# Concatenate sparse matrices into a single feature matrix\n",
        "X_train_2 = hstack(X_train_list_2)\n",
        "X_test_2 = hstack(X_test_list_2)\n",
        "\n",
        "# Split data into training and testing sets\n",
        "y_train_2 = data[target_col_2]\n",
        "#y_test = df_test[target_col]\n",
        "\n",
        "X_train_2, X_test_2, y_train_2, y_test_2 = train_test_split(X_train_2, y_train_2, test_size=0.2, random_state=42)\n"
      ],
      "metadata": {
        "id": "JmDTcbOeEU9t"
      },
      "execution_count": 152,
      "outputs": []
    },
    {
      "cell_type": "markdown",
      "source": [
        "JF"
      ],
      "metadata": {
        "id": "eoMDb8e8EoCP"
      }
    },
    {
      "cell_type": "code",
      "source": [
        "# Train logistic regression model\n",
        "model = LogisticRegression()\n",
        "model.fit(X_train, y_train)\n",
        "\n",
        "# Predict on test set and evaluate performance\n",
        "y_pred = model.predict(X_test)\n",
        "print('Accuracy:', accuracy_score(y_test, y_pred))\n",
        "print('Classification Report:\\n', classification_report(y_test, y_pred))"
      ],
      "metadata": {
        "id": "oKeT0fuVqe2-",
        "outputId": "fb83f2c4-9412-4486-cf58-3260aa5095cf",
        "colab": {
          "base_uri": "https://localhost:8080/"
        }
      },
      "execution_count": 153,
      "outputs": [
        {
          "output_type": "stream",
          "name": "stderr",
          "text": [
            "/usr/local/lib/python3.10/dist-packages/sklearn/linear_model/_logistic.py:458: ConvergenceWarning: lbfgs failed to converge (status=1):\n",
            "STOP: TOTAL NO. of ITERATIONS REACHED LIMIT.\n",
            "\n",
            "Increase the number of iterations (max_iter) or scale the data as shown in:\n",
            "    https://scikit-learn.org/stable/modules/preprocessing.html\n",
            "Please also refer to the documentation for alternative solver options:\n",
            "    https://scikit-learn.org/stable/modules/linear_model.html#logistic-regression\n",
            "  n_iter_i = _check_optimize_result(\n"
          ]
        },
        {
          "output_type": "stream",
          "name": "stdout",
          "text": [
            "Accuracy: 0.8942744265581697\n"
          ]
        },
        {
          "output_type": "stream",
          "name": "stderr",
          "text": [
            "/usr/local/lib/python3.10/dist-packages/sklearn/metrics/_classification.py:1344: UndefinedMetricWarning: Precision and F-score are ill-defined and being set to 0.0 in labels with no predicted samples. Use `zero_division` parameter to control this behavior.\n",
            "  _warn_prf(average, modifier, msg_start, len(result))\n",
            "/usr/local/lib/python3.10/dist-packages/sklearn/metrics/_classification.py:1344: UndefinedMetricWarning: Precision and F-score are ill-defined and being set to 0.0 in labels with no predicted samples. Use `zero_division` parameter to control this behavior.\n",
            "  _warn_prf(average, modifier, msg_start, len(result))\n"
          ]
        },
        {
          "output_type": "stream",
          "name": "stdout",
          "text": [
            "Classification Report:\n",
            "               precision    recall  f1-score   support\n",
            "\n",
            "        AADS       0.88      0.86      0.87       254\n",
            "        AAMD       0.93      0.89      0.91       209\n",
            "        AAML       0.96      0.92      0.94        74\n",
            "        AFAD       0.95      0.70      0.81        57\n",
            "        AFFE       0.79      0.84      0.82        95\n",
            "        AFSE       0.82      0.56      0.67        16\n",
            "        AFXX       0.89      0.66      0.76        38\n",
            "        ARCD       1.00      0.20      0.33        10\n",
            "        ARIA       0.00      0.00      0.00         1\n",
            "        ARRP       1.00      0.88      0.93         8\n",
            "        ARXX       0.92      0.88      0.90       550\n",
            "        ASCD       1.00      0.69      0.82       103\n",
            "        ASDB       0.80      0.78      0.79        83\n",
            "        ASEC       1.00      0.83      0.91        12\n",
            "        ASFS       0.24      0.96      0.39        73\n",
            "        ASMD       1.00      0.25      0.40        12\n",
            "        ASPI       0.59      0.51      0.54       944\n",
            "        ASRP       0.98      0.92      0.95        53\n",
            "        ASSI       0.71      0.50      0.59        10\n",
            "        ASUI       0.83      0.69      0.75        35\n",
            "        ASWD       1.00      0.98      0.99       124\n",
            "        ASXX       0.83      0.81      0.82      7282\n",
            "        BCPM       0.88      0.78      0.82         9\n",
            "        BFAC       1.00      1.00      1.00        90\n",
            "        BFAM       1.00      0.75      0.86         4\n",
            "        BFCA       0.79      1.00      0.88        19\n",
            "        BFCB       1.00      1.00      1.00        57\n",
            "        BFCM       1.00      1.00      1.00        29\n",
            "        BFIR       1.00      1.00      1.00       257\n",
            "        BFKY       1.00      1.00      1.00        22\n",
            "        BFTF       0.94      1.00      0.97        34\n",
            "        BFUW       1.00      1.00      1.00       101\n",
            "        BFWB       1.00      1.00      1.00        53\n",
            "        BSMT       0.97      0.97      0.97        95\n",
            "        CCCE       1.00      1.00      1.00       155\n",
            "        CCCO       0.94      1.00      0.97        17\n",
            "        CCCV       1.00      1.00      1.00      1145\n",
            "        CCID       0.00      0.00      0.00         1\n",
            "        CCMD       0.99      0.99      0.99      1199\n",
            "        CMDO       0.90      0.51      0.65        93\n",
            "        CMXX       1.00      0.94      0.97        66\n",
            "        CSAN       1.00      0.75      0.86         4\n",
            "        CSBC       0.86      0.89      0.88       470\n",
            "        CSCG       0.95      0.96      0.96       218\n",
            "        CSCS       0.62      0.79      0.70        19\n",
            "        CSED       1.00      0.93      0.97        46\n",
            "        CSEL       0.00      0.00      0.00         1\n",
            "        CSFC       0.90      0.93      0.91      1229\n",
            "        CSSI       0.97      0.96      0.97       567\n",
            "        DABD       0.81      0.86      0.84       176\n",
            "        DABI       0.54      0.43      0.48        72\n",
            "        DADV       0.98      0.79      0.87        70\n",
            "        DADW       0.00      0.00      0.00        28\n",
            "        DMDA       1.00      0.75      0.86         4\n",
            "        DMKM       0.00      0.00      0.00         1\n",
            "        DMMD       0.00      0.00      0.00         2\n",
            "        DMSM       1.00      1.00      1.00        23\n",
            "        EDCA       0.99      0.91      0.95       128\n",
            "        EDEE       0.98      0.99      0.99       668\n",
            "        EDFE       1.00      0.33      0.50         3\n",
            "        EDME       0.97      0.99      0.98       209\n",
            "        EDXX       1.00      0.88      0.94        84\n",
            "        FAAG       0.84      0.89      0.87       289\n",
            "        FAAP       1.00      1.00      1.00       529\n",
            "        FAER       1.00      0.80      0.89        10\n",
            "        FAFA       0.85      0.83      0.84       311\n",
            "        FAFI       1.00      1.00      1.00       243\n",
            "        FALC       0.71      0.87      0.78        39\n",
            "        FAML       1.00      1.00      1.00        91\n",
            "        FATP       1.00      1.00      1.00        69\n",
            "        FLAC       0.92      0.76      0.83       211\n",
            "        FLCS       0.00      0.00      0.00         2\n",
            "        FLFA       0.57      0.55      0.56        22\n",
            "        FLLE       0.99      0.98      0.99       305\n",
            "        FLPP       0.96      0.95      0.95       237\n",
            "        FLPR       0.65      0.88      0.75        78\n",
            "        FLTR       1.00      0.56      0.72        16\n",
            "        FLTX       1.00      0.88      0.94        43\n",
            "        FLXX       0.85      0.83      0.84       755\n",
            "        GDXX       0.91      0.92      0.91        84\n",
            "        HCMC       1.00      1.00      1.00        15\n",
            "        HCMR       1.00      1.00      1.00        33\n",
            "        HCRM       0.99      0.97      0.98       196\n",
            "        HRBP       0.88      0.94      0.91       295\n",
            "        HRCB       0.94      0.81      0.87        21\n",
            "        HRGM       1.00      0.77      0.87        22\n",
            "        HROD       1.00      0.14      0.25         7\n",
            "        HRRE       0.88      0.90      0.89       227\n",
            "        HRRM       1.00      0.50      0.67        10\n",
            "        HRSS       0.93      0.87      0.90       149\n",
            "        HRTR       1.00      0.91      0.95        54\n",
            "        HRXX       0.92      0.72      0.81        94\n",
            "        HSGL       0.95      0.95      0.95        19\n",
            "        INAU       0.94      0.81      0.87        37\n",
            "        INCL       1.00      0.11      0.20        45\n",
            "        INDB       0.95      0.91      0.93       138\n",
            "        INDC       0.96      0.94      0.95       103\n",
            "        INDS       0.86      0.91      0.89       221\n",
            "        INFE       0.00      0.00      0.00         1\n",
            "        INFS       1.00      0.98      0.99       364\n",
            "        INNE       0.95      0.91      0.93       191\n",
            "        INRA       0.99      0.98      0.99      1488\n",
            "        INRE       1.00      0.82      0.90        17\n",
            "        INRI       1.00      0.97      0.99        38\n",
            "        INRP       0.00      0.00      0.00         2\n",
            "        INSA       0.94      0.85      0.89        20\n",
            "        INSS       0.73      0.73      0.73        45\n",
            "        INTI       1.00      0.67      0.80         6\n",
            "        INXX       0.86      0.77      0.81       569\n",
            "        IPXX       0.00      0.00      0.00         1\n",
            "        ITAU       0.85      0.71      0.77        78\n",
            "        LECM       0.00      0.00      0.00         1\n",
            "        LECO       0.97      0.95      0.96        39\n",
            "        LEPO       1.00      1.00      1.00        22\n",
            "        MBCC       0.92      0.63      0.75        19\n",
            "        MBCM       0.83      0.84      0.84       103\n",
            "        MBDM       0.90      0.79      0.84        76\n",
            "        MBSE       0.94      0.89      0.91        36\n",
            "        MBXX       0.94      0.93      0.94       331\n",
            "        PDFD       0.73      0.93      0.82      1194\n",
            "        PDFS       0.67      0.67      0.67         3\n",
            "        PDHD       0.95      0.77      0.85      1048\n",
            "        PDLE       0.98      0.97      0.97       749\n",
            "        PDPM       0.94      0.87      0.90       539\n",
            "        PDUI       0.96      0.70      0.81        93\n",
            "        PDXX       0.87      0.95      0.91      6570\n",
            "        PRAG       0.44      0.22      0.29       126\n",
            "        PRPO       0.86      0.89      0.87       773\n",
            "        PRXX       0.78      0.83      0.81       518\n",
            "        QAXX       0.91      0.75      0.83       138\n",
            "        QUTF       0.95      0.98      0.96       353\n",
            "        QUTS       1.00      1.00      1.00       204\n",
            "        RABA       0.96      0.99      0.97       387\n",
            "        RABF       1.00      1.00      1.00       133\n",
            "        RAPR       0.90      0.96      0.93        28\n",
            "        RASR       1.00      0.99      1.00       367\n",
            "        RICR       1.00      0.44      0.62         9\n",
            "        RIOR       1.00      1.00      1.00        20\n",
            "        RSSC       0.94      0.92      0.93        37\n",
            "        RSSD       0.13      0.47      0.20        17\n",
            "        RSVM       1.00      0.20      0.33        51\n",
            "        RSWL       0.99      0.99      0.99       303\n",
            "        SAAC       0.84      0.86      0.85       315\n",
            "        SABD       0.83      0.92      0.87       417\n",
            "        SACH       0.85      0.77      0.81       211\n",
            "        SACS       0.89      0.92      0.91        73\n",
            "        SAIN       0.89      0.98      0.93       595\n",
            "        SAPS       0.93      0.96      0.94       451\n",
            "        SASD       0.98      0.95      0.97       427\n",
            "        SAXX       0.76      0.28      0.41       114\n",
            "        SCCP       1.00      0.79      0.88        47\n",
            "        SSSO       0.94      0.81      0.87        36\n",
            "        SYAS       0.97      1.00      0.99        34\n",
            "        SYGR       0.00      0.00      0.00         3\n",
            "        SYIM       0.86      0.95      0.90       128\n",
            "        SYIN       1.00      0.50      0.67        10\n",
            "        SYIS       0.88      0.67      0.76        21\n",
            "        SYPT       0.00      0.00      0.00        10\n",
            "        SYXX       0.75      0.77      0.76       179\n",
            "        TEAU       0.95      0.92      0.94      1596\n",
            "        TEEM       0.79      0.99      0.88       112\n",
            "        TEMT       0.95      0.73      0.83       288\n",
            "        TEXX       0.97      0.94      0.96      2119\n",
            "        TOCO       0.99      0.99      0.99      2484\n",
            "        TOFC       0.68      0.90      0.77       200\n",
            "        TOHR       0.00      0.00      0.00         1\n",
            "        TOMR       1.00      0.28      0.43        29\n",
            "        TOPO       0.94      0.94      0.94        18\n",
            "        TOSI       0.98      1.00      0.99       783\n",
            "        TRPR       0.88      0.83      0.85        53\n",
            "        TRTN       1.00      0.87      0.93        15\n",
            "        TTXX       0.96      0.79      0.86        56\n",
            "        TWXX       0.85      0.72      0.78       381\n",
            "        UEXX       0.92      0.37      0.52        30\n",
            "        VATR       1.00      1.00      1.00         3\n",
            "\n",
            "    accuracy                           0.89     50877\n",
            "   macro avg       0.84      0.76      0.78     50877\n",
            "weighted avg       0.90      0.89      0.89     50877\n",
            "\n"
          ]
        },
        {
          "output_type": "stream",
          "name": "stderr",
          "text": [
            "/usr/local/lib/python3.10/dist-packages/sklearn/metrics/_classification.py:1344: UndefinedMetricWarning: Precision and F-score are ill-defined and being set to 0.0 in labels with no predicted samples. Use `zero_division` parameter to control this behavior.\n",
            "  _warn_prf(average, modifier, msg_start, len(result))\n"
          ]
        }
      ]
    },
    {
      "cell_type": "markdown",
      "source": [
        "Level"
      ],
      "metadata": {
        "id": "speJir44Esd9"
      }
    },
    {
      "cell_type": "code",
      "source": [
        "# Train logistic regression model\n",
        "model_2 = LogisticRegression()\n",
        "model_2.fit(X_train_2, y_train_2)\n",
        "\n",
        "# Predict on test set and evaluate performance\n",
        "y_pred_2 = model_2.predict(X_test_2)\n",
        "print('Accuracy:', accuracy_score(y_test_2, y_pred_2))\n",
        "print('Classification Report:\\n', classification_report(y_test_2, y_pred_2))"
      ],
      "metadata": {
        "id": "g3VrW4jvEtUm",
        "colab": {
          "base_uri": "https://localhost:8080/"
        },
        "outputId": "1e0c7003-b419-4ff3-827b-b9623345f6a4"
      },
      "execution_count": 154,
      "outputs": [
        {
          "output_type": "stream",
          "name": "stderr",
          "text": [
            "/usr/local/lib/python3.10/dist-packages/sklearn/linear_model/_logistic.py:458: ConvergenceWarning: lbfgs failed to converge (status=1):\n",
            "STOP: TOTAL NO. of ITERATIONS REACHED LIMIT.\n",
            "\n",
            "Increase the number of iterations (max_iter) or scale the data as shown in:\n",
            "    https://scikit-learn.org/stable/modules/preprocessing.html\n",
            "Please also refer to the documentation for alternative solver options:\n",
            "    https://scikit-learn.org/stable/modules/linear_model.html#logistic-regression\n",
            "  n_iter_i = _check_optimize_result(\n"
          ]
        },
        {
          "output_type": "stream",
          "name": "stdout",
          "text": [
            "Accuracy: 0.626648583839456\n"
          ]
        },
        {
          "output_type": "stream",
          "name": "stderr",
          "text": [
            "/usr/local/lib/python3.10/dist-packages/sklearn/metrics/_classification.py:1344: UndefinedMetricWarning: Precision and F-score are ill-defined and being set to 0.0 in labels with no predicted samples. Use `zero_division` parameter to control this behavior.\n",
            "  _warn_prf(average, modifier, msg_start, len(result))\n",
            "/usr/local/lib/python3.10/dist-packages/sklearn/metrics/_classification.py:1344: UndefinedMetricWarning: Precision and F-score are ill-defined and being set to 0.0 in labels with no predicted samples. Use `zero_division` parameter to control this behavior.\n",
            "  _warn_prf(average, modifier, msg_start, len(result))\n"
          ]
        },
        {
          "output_type": "stream",
          "name": "stdout",
          "text": [
            "Classification Report:\n",
            "               precision    recall  f1-score   support\n",
            "\n",
            "          E1       0.90      0.43      0.58        89\n",
            "          E2       0.00      0.00      0.00         5\n",
            "          I1       0.78      0.61      0.69      6399\n",
            "          I2       0.57      0.59      0.58      9411\n",
            "          I3       0.52      0.68      0.59     10888\n",
            "          I4       0.46      0.41      0.44      6446\n",
            "          I5       0.53      0.21      0.30      1727\n",
            "          I6       0.47      0.08      0.14       292\n",
            "          I7       0.39      0.32      0.35        28\n",
            "          M2       0.63      0.31      0.41       144\n",
            "          M3       0.86      0.68      0.76       883\n",
            "          M4       0.66      0.72      0.69      2834\n",
            "          M5       0.60      0.57      0.58      2146\n",
            "          M6       0.62      0.45      0.52      1032\n",
            "          M7       0.57      0.25      0.35       420\n",
            "          M8       0.62      0.25      0.36        60\n",
            "          S1       0.89      0.92      0.91      1316\n",
            "          S2       0.70      0.78      0.74      1482\n",
            "          S3       0.91      0.95      0.93      5275\n",
            "\n",
            "    accuracy                           0.63     50877\n",
            "   macro avg       0.62      0.49      0.52     50877\n",
            "weighted avg       0.63      0.63      0.62     50877\n",
            "\n"
          ]
        },
        {
          "output_type": "stream",
          "name": "stderr",
          "text": [
            "/usr/local/lib/python3.10/dist-packages/sklearn/metrics/_classification.py:1344: UndefinedMetricWarning: Precision and F-score are ill-defined and being set to 0.0 in labels with no predicted samples. Use `zero_division` parameter to control this behavior.\n",
            "  _warn_prf(average, modifier, msg_start, len(result))\n"
          ]
        }
      ]
    },
    {
      "cell_type": "markdown",
      "source": [
        "Unseen JF"
      ],
      "metadata": {
        "id": "Uw3a2C6MFFps"
      }
    },
    {
      "cell_type": "code",
      "source": [
        "X_test_unseen = []\n",
        "\n",
        "for i, col in enumerate(train_cols):\n",
        "    vectorizer = vectorizers[i]\n",
        "    X_test_col = vectorizer.transform(df_test.loc[:, col])\n",
        "    X_test_unseen.append(X_test_col)\n",
        "\n",
        "X_unseen = hstack(X_test_unseen)"
      ],
      "metadata": {
        "id": "NQZToaZCqgw9"
      },
      "execution_count": 155,
      "outputs": []
    },
    {
      "cell_type": "markdown",
      "source": [
        "JF"
      ],
      "metadata": {
        "id": "p7G0-yLwG1Om"
      }
    },
    {
      "cell_type": "code",
      "source": [
        "y_test_pred = model.predict (X_unseen)"
      ],
      "metadata": {
        "id": "YHDH2Tm-qinj"
      },
      "execution_count": 156,
      "outputs": []
    },
    {
      "cell_type": "markdown",
      "source": [
        "Unseen Level + Pred JF"
      ],
      "metadata": {
        "id": "ouGxrZbu9AB8"
      }
    },
    {
      "cell_type": "code",
      "source": [
        "X_test_unseen_2 = []\n",
        "z=0\n",
        "\n",
        "vectorizer = vectorizers_2[0]\n",
        "X_test_col_2 = vectorizer.transform(df_test.loc[:, train_cols_2])\n",
        "X_test_unseen_2.append(X_test_col_2)\n",
        "z=i\n",
        "\n",
        "vectorizer = vectorizers_2[1]\n",
        "X_test_col_2 = vectorizer.transform(df_test.loc[:, jfcol])\n",
        "X_test_unseen_2.append(X_test_col_2)\n",
        "\n",
        "X_unseen_2 = hstack(X_test_unseen_2)\n"
      ],
      "metadata": {
        "id": "2InaNFw39De7"
      },
      "execution_count": 157,
      "outputs": []
    },
    {
      "cell_type": "markdown",
      "source": [
        "Level"
      ],
      "metadata": {
        "id": "70r5Xbw5G2en"
      }
    },
    {
      "cell_type": "code",
      "source": [
        "y_test_pred_2 = model_2.predict (X_unseen_2)"
      ],
      "metadata": {
        "id": "0XWYp9w4G4M2"
      },
      "execution_count": 158,
      "outputs": []
    },
    {
      "cell_type": "code",
      "source": [
        "pd.DataFrame(y_test_pred).to_csv('JF_x.csv')\n",
        "pd.DataFrame(y_test_pred_2).to_csv('Lvl_x.csv')\n",
        "frames=[pd.DataFrame(y_test_pred),pd.DataFrame(y_test_pred_2)]\n",
        "maps=pd.concat(frames, axis=1)\n",
        "pd.DataFrame(maps).to_csv('maps_x.csv')"
      ],
      "metadata": {
        "id": "GFo__iaGqkq3"
      },
      "execution_count": 159,
      "outputs": []
    },
    {
      "cell_type": "markdown",
      "source": [
        "JF"
      ],
      "metadata": {
        "id": "ReL5_jziHi-X"
      }
    },
    {
      "cell_type": "code",
      "source": [
        "# Predict on test set and evaluate performance\n",
        "y_test_actual=df_test[target_col]\n",
        "print('Accuracy:', accuracy_score(y_test_actual, y_test_pred))\n",
        "print('Classification Report:\\n', classification_report(y_test_actual, y_test_pred))"
      ],
      "metadata": {
        "id": "gKDeyzgiSrDX",
        "outputId": "18da5783-10bc-41d8-a62c-5d5efb250dee",
        "colab": {
          "base_uri": "https://localhost:8080/"
        }
      },
      "execution_count": 160,
      "outputs": [
        {
          "output_type": "stream",
          "name": "stdout",
          "text": [
            "Accuracy: 0.8979328165374677\n",
            "Classification Report:\n",
            "               precision    recall  f1-score   support\n",
            "\n",
            "        AADS       0.99      0.95      0.97       105\n",
            "        AFFE       0.96      0.83      0.89       245\n",
            "        ARXX       0.95      0.73      0.82        74\n",
            "        ASRP       1.00      0.88      0.94        25\n",
            "        ASUI       0.00      0.00      0.00         0\n",
            "        ASXX       0.15      0.50      0.23        16\n",
            "        BSMT       0.94      0.90      0.92       222\n",
            "        CCMD       0.97      0.78      0.86       244\n",
            "        CMDO       0.71      0.75      0.73        16\n",
            "        CSBC       0.86      0.86      0.86       345\n",
            "        CSFC       0.88      0.95      0.91        22\n",
            "        DABD       0.00      0.00      0.00         0\n",
            "        DABI       0.52      0.82      0.64        79\n",
            "        FAFA       0.00      0.00      0.00         0\n",
            "        FALC       0.79      0.94      0.86       193\n",
            "        FLLE       0.98      1.00      0.99        63\n",
            "        FLPP       0.91      1.00      0.95        53\n",
            "        FLTR       0.00      0.00      0.00        14\n",
            "        FLTX       1.00      0.95      0.97        60\n",
            "        FLXX       0.90      0.99      0.94       227\n",
            "        GDXX       0.56      0.77      0.65        57\n",
            "        HRBP       0.96      1.00      0.98       307\n",
            "        HRCB       1.00      1.00      1.00         6\n",
            "        HROD       1.00      0.08      0.14        13\n",
            "        HRRE       0.91      0.97      0.94        75\n",
            "        HRSS       1.00      0.83      0.91        42\n",
            "        HRTR       0.99      1.00      0.99        95\n",
            "        INDB       1.00      0.50      0.67         2\n",
            "        INDC       0.00      0.00      0.00         0\n",
            "        INDS       1.00      0.23      0.38        13\n",
            "        INFE       0.00      0.00      0.00         4\n",
            "        INNE       0.86      0.39      0.53        31\n",
            "        INSS       1.00      0.47      0.64        19\n",
            "        INXX       0.00      0.00      0.00         0\n",
            "        LECO       0.99      0.99      0.99       209\n",
            "        MBCM       0.96      0.96      0.96        45\n",
            "        MBDM       0.87      0.88      0.87        97\n",
            "        MBXX       0.98      0.95      0.96        84\n",
            "        PDHD       0.00      0.00      0.00         0\n",
            "        PDPM       0.99      0.98      0.98       299\n",
            "        PDUI       1.00      0.94      0.97        93\n",
            "        PDXX       0.99      0.97      0.98      2026\n",
            "        PRAG       0.87      0.68      0.76        40\n",
            "        PRPO       0.00      0.00      0.00         0\n",
            "        PRXX       0.80      0.75      0.77       151\n",
            "        QAXX       0.36      0.17      0.24        23\n",
            "        QUTS       0.00      0.00      0.00         1\n",
            "        RABA       0.95      0.96      0.96       296\n",
            "        RABF       0.00      0.00      0.00         0\n",
            "        RAPR       1.00      1.00      1.00         8\n",
            "        RASR       0.00      0.00      0.00         0\n",
            "        RSVM       1.00      0.20      0.33       249\n",
            "        SABD       0.83      0.99      0.90      1240\n",
            "        SASD       0.00      0.00      0.00         0\n",
            "        SCCP       1.00      0.03      0.07        29\n",
            "        SSSO       0.87      0.87      0.87       144\n",
            "        SYIN       0.00      0.00      0.00         0\n",
            "        SYXX       0.50      0.76      0.60        21\n",
            "        TEAU       0.00      0.00      0.00         0\n",
            "        TEXX       0.00      0.00      0.00         0\n",
            "        TOCO       0.00      0.00      0.00         0\n",
            "        TRPR       0.09      0.06      0.07        18\n",
            "\n",
            "    accuracy                           0.90      7740\n",
            "   macro avg       0.63      0.55      0.56      7740\n",
            "weighted avg       0.92      0.90      0.89      7740\n",
            "\n"
          ]
        },
        {
          "output_type": "stream",
          "name": "stderr",
          "text": [
            "/usr/local/lib/python3.10/dist-packages/sklearn/metrics/_classification.py:1344: UndefinedMetricWarning: Precision and F-score are ill-defined and being set to 0.0 in labels with no predicted samples. Use `zero_division` parameter to control this behavior.\n",
            "  _warn_prf(average, modifier, msg_start, len(result))\n",
            "/usr/local/lib/python3.10/dist-packages/sklearn/metrics/_classification.py:1344: UndefinedMetricWarning: Recall and F-score are ill-defined and being set to 0.0 in labels with no true samples. Use `zero_division` parameter to control this behavior.\n",
            "  _warn_prf(average, modifier, msg_start, len(result))\n",
            "/usr/local/lib/python3.10/dist-packages/sklearn/metrics/_classification.py:1344: UndefinedMetricWarning: Precision and F-score are ill-defined and being set to 0.0 in labels with no predicted samples. Use `zero_division` parameter to control this behavior.\n",
            "  _warn_prf(average, modifier, msg_start, len(result))\n",
            "/usr/local/lib/python3.10/dist-packages/sklearn/metrics/_classification.py:1344: UndefinedMetricWarning: Recall and F-score are ill-defined and being set to 0.0 in labels with no true samples. Use `zero_division` parameter to control this behavior.\n",
            "  _warn_prf(average, modifier, msg_start, len(result))\n",
            "/usr/local/lib/python3.10/dist-packages/sklearn/metrics/_classification.py:1344: UndefinedMetricWarning: Precision and F-score are ill-defined and being set to 0.0 in labels with no predicted samples. Use `zero_division` parameter to control this behavior.\n",
            "  _warn_prf(average, modifier, msg_start, len(result))\n",
            "/usr/local/lib/python3.10/dist-packages/sklearn/metrics/_classification.py:1344: UndefinedMetricWarning: Recall and F-score are ill-defined and being set to 0.0 in labels with no true samples. Use `zero_division` parameter to control this behavior.\n",
            "  _warn_prf(average, modifier, msg_start, len(result))\n"
          ]
        }
      ]
    },
    {
      "cell_type": "markdown",
      "source": [
        "Level"
      ],
      "metadata": {
        "id": "WdQCZxtcHllh"
      }
    },
    {
      "cell_type": "code",
      "source": [
        "# Predict on test set and evaluate performance\n",
        "y_test_actual_2=df_test[target_col_2]\n",
        "print('Accuracy:', accuracy_score(y_test_actual_2, y_test_pred_2))\n",
        "print('Classification Report:\\n', classification_report(y_test_actual_2, y_test_pred_2))"
      ],
      "metadata": {
        "id": "0Dty7SHVHmtG",
        "colab": {
          "base_uri": "https://localhost:8080/"
        },
        "outputId": "dd2b1eb7-6850-4888-a2b0-a557bc414d9d"
      },
      "execution_count": 161,
      "outputs": [
        {
          "output_type": "stream",
          "name": "stdout",
          "text": [
            "Accuracy: 0.5490956072351422\n",
            "Classification Report:\n",
            "               precision    recall  f1-score   support\n",
            "\n",
            "          E1       0.99      0.77      0.87       144\n",
            "          I1       0.00      0.00      0.00         0\n",
            "          I2       0.52      0.47      0.49       642\n",
            "          I3       0.60      0.78      0.67      2051\n",
            "          I4       0.61      0.56      0.58      1093\n",
            "          I5       0.00      0.00      0.00         0\n",
            "          I7       0.00      0.00      0.00         0\n",
            "          M3       0.00      0.00      0.00         0\n",
            "          M4       0.58      0.54      0.56      1409\n",
            "          M5       0.46      0.54      0.50       996\n",
            "          M6       0.14      0.06      0.08       640\n",
            "          M7       0.86      0.41      0.56       463\n",
            "          M8       0.96      0.33      0.49       302\n",
            "          S1       0.00      0.00      0.00         0\n",
            "          S2       0.00      0.00      0.00         0\n",
            "          S3       0.00      0.00      0.00         0\n",
            "\n",
            "    accuracy                           0.55      7740\n",
            "   macro avg       0.36      0.28      0.30      7740\n",
            "weighted avg       0.57      0.55      0.54      7740\n",
            "\n"
          ]
        },
        {
          "output_type": "stream",
          "name": "stderr",
          "text": [
            "/usr/local/lib/python3.10/dist-packages/sklearn/metrics/_classification.py:1344: UndefinedMetricWarning: Recall and F-score are ill-defined and being set to 0.0 in labels with no true samples. Use `zero_division` parameter to control this behavior.\n",
            "  _warn_prf(average, modifier, msg_start, len(result))\n",
            "/usr/local/lib/python3.10/dist-packages/sklearn/metrics/_classification.py:1344: UndefinedMetricWarning: Recall and F-score are ill-defined and being set to 0.0 in labels with no true samples. Use `zero_division` parameter to control this behavior.\n",
            "  _warn_prf(average, modifier, msg_start, len(result))\n",
            "/usr/local/lib/python3.10/dist-packages/sklearn/metrics/_classification.py:1344: UndefinedMetricWarning: Recall and F-score are ill-defined and being set to 0.0 in labels with no true samples. Use `zero_division` parameter to control this behavior.\n",
            "  _warn_prf(average, modifier, msg_start, len(result))\n"
          ]
        }
      ]
    }
  ]
}