{
  "nbformat": 4,
  "nbformat_minor": 0,
  "metadata": {
    "colab": {
      "provenance": [],
      "include_colab_link": true
    },
    "kernelspec": {
      "name": "python3",
      "display_name": "Python 3"
    },
    "language_info": {
      "name": "python"
    },
    "widgets": {
      "application/vnd.jupyter.widget-state+json": {
        "906ec139f46f46cb8032be240629a10a": {
          "model_module": "@jupyter-widgets/controls",
          "model_name": "HBoxModel",
          "model_module_version": "1.5.0",
          "state": {
            "_dom_classes": [],
            "_model_module": "@jupyter-widgets/controls",
            "_model_module_version": "1.5.0",
            "_model_name": "HBoxModel",
            "_view_count": null,
            "_view_module": "@jupyter-widgets/controls",
            "_view_module_version": "1.5.0",
            "_view_name": "HBoxView",
            "box_style": "",
            "children": [
              "IPY_MODEL_a3eb717344d74e2ba30c56e412129ada",
              "IPY_MODEL_9159386d74944c329282ca0167e46846",
              "IPY_MODEL_bef1708486f34f1897a8ecb8a45d62b1"
            ],
            "layout": "IPY_MODEL_8bb9d45d73b04fd099d985b9bea13e82"
          }
        },
        "a3eb717344d74e2ba30c56e412129ada": {
          "model_module": "@jupyter-widgets/controls",
          "model_name": "HTMLModel",
          "model_module_version": "1.5.0",
          "state": {
            "_dom_classes": [],
            "_model_module": "@jupyter-widgets/controls",
            "_model_module_version": "1.5.0",
            "_model_name": "HTMLModel",
            "_view_count": null,
            "_view_module": "@jupyter-widgets/controls",
            "_view_module_version": "1.5.0",
            "_view_name": "HTMLView",
            "description": "",
            "description_tooltip": null,
            "layout": "IPY_MODEL_2d5fd26a9d7844c7aaef6e94547bd63a",
            "placeholder": "​",
            "style": "IPY_MODEL_cd53654d19044a17ad1830bcfdd76022",
            "value": ""
          }
        },
        "9159386d74944c329282ca0167e46846": {
          "model_module": "@jupyter-widgets/controls",
          "model_name": "FloatProgressModel",
          "model_module_version": "1.5.0",
          "state": {
            "_dom_classes": [],
            "_model_module": "@jupyter-widgets/controls",
            "_model_module_version": "1.5.0",
            "_model_name": "FloatProgressModel",
            "_view_count": null,
            "_view_module": "@jupyter-widgets/controls",
            "_view_module_version": "1.5.0",
            "_view_name": "ProgressView",
            "bar_style": "danger",
            "description": "",
            "description_tooltip": null,
            "layout": "IPY_MODEL_6ca665576cdf42d7ba22790301d511e1",
            "max": 1,
            "min": 0,
            "orientation": "horizontal",
            "style": "IPY_MODEL_9114768dccd34d8bb5f36b2736d6bb38",
            "value": 0
          }
        },
        "bef1708486f34f1897a8ecb8a45d62b1": {
          "model_module": "@jupyter-widgets/controls",
          "model_name": "HTMLModel",
          "model_module_version": "1.5.0",
          "state": {
            "_dom_classes": [],
            "_model_module": "@jupyter-widgets/controls",
            "_model_module_version": "1.5.0",
            "_model_name": "HTMLModel",
            "_view_count": null,
            "_view_module": "@jupyter-widgets/controls",
            "_view_module_version": "1.5.0",
            "_view_name": "HTMLView",
            "description": "",
            "description_tooltip": null,
            "layout": "IPY_MODEL_483e9bf59fcb4a3db1b37d24bab99771",
            "placeholder": "​",
            "style": "IPY_MODEL_587ba29d13604545823216d311587384",
            "value": " 0/? [00:00&lt;?, ?it/s]"
          }
        },
        "8bb9d45d73b04fd099d985b9bea13e82": {
          "model_module": "@jupyter-widgets/base",
          "model_name": "LayoutModel",
          "model_module_version": "1.2.0",
          "state": {
            "_model_module": "@jupyter-widgets/base",
            "_model_module_version": "1.2.0",
            "_model_name": "LayoutModel",
            "_view_count": null,
            "_view_module": "@jupyter-widgets/base",
            "_view_module_version": "1.2.0",
            "_view_name": "LayoutView",
            "align_content": null,
            "align_items": null,
            "align_self": null,
            "border": null,
            "bottom": null,
            "display": null,
            "flex": null,
            "flex_flow": null,
            "grid_area": null,
            "grid_auto_columns": null,
            "grid_auto_flow": null,
            "grid_auto_rows": null,
            "grid_column": null,
            "grid_gap": null,
            "grid_row": null,
            "grid_template_areas": null,
            "grid_template_columns": null,
            "grid_template_rows": null,
            "height": null,
            "justify_content": null,
            "justify_items": null,
            "left": null,
            "margin": null,
            "max_height": null,
            "max_width": null,
            "min_height": null,
            "min_width": null,
            "object_fit": null,
            "object_position": null,
            "order": null,
            "overflow": null,
            "overflow_x": null,
            "overflow_y": null,
            "padding": null,
            "right": null,
            "top": null,
            "visibility": null,
            "width": null
          }
        },
        "2d5fd26a9d7844c7aaef6e94547bd63a": {
          "model_module": "@jupyter-widgets/base",
          "model_name": "LayoutModel",
          "model_module_version": "1.2.0",
          "state": {
            "_model_module": "@jupyter-widgets/base",
            "_model_module_version": "1.2.0",
            "_model_name": "LayoutModel",
            "_view_count": null,
            "_view_module": "@jupyter-widgets/base",
            "_view_module_version": "1.2.0",
            "_view_name": "LayoutView",
            "align_content": null,
            "align_items": null,
            "align_self": null,
            "border": null,
            "bottom": null,
            "display": null,
            "flex": null,
            "flex_flow": null,
            "grid_area": null,
            "grid_auto_columns": null,
            "grid_auto_flow": null,
            "grid_auto_rows": null,
            "grid_column": null,
            "grid_gap": null,
            "grid_row": null,
            "grid_template_areas": null,
            "grid_template_columns": null,
            "grid_template_rows": null,
            "height": null,
            "justify_content": null,
            "justify_items": null,
            "left": null,
            "margin": null,
            "max_height": null,
            "max_width": null,
            "min_height": null,
            "min_width": null,
            "object_fit": null,
            "object_position": null,
            "order": null,
            "overflow": null,
            "overflow_x": null,
            "overflow_y": null,
            "padding": null,
            "right": null,
            "top": null,
            "visibility": null,
            "width": null
          }
        },
        "cd53654d19044a17ad1830bcfdd76022": {
          "model_module": "@jupyter-widgets/controls",
          "model_name": "DescriptionStyleModel",
          "model_module_version": "1.5.0",
          "state": {
            "_model_module": "@jupyter-widgets/controls",
            "_model_module_version": "1.5.0",
            "_model_name": "DescriptionStyleModel",
            "_view_count": null,
            "_view_module": "@jupyter-widgets/base",
            "_view_module_version": "1.2.0",
            "_view_name": "StyleView",
            "description_width": ""
          }
        },
        "6ca665576cdf42d7ba22790301d511e1": {
          "model_module": "@jupyter-widgets/base",
          "model_name": "LayoutModel",
          "model_module_version": "1.2.0",
          "state": {
            "_model_module": "@jupyter-widgets/base",
            "_model_module_version": "1.2.0",
            "_model_name": "LayoutModel",
            "_view_count": null,
            "_view_module": "@jupyter-widgets/base",
            "_view_module_version": "1.2.0",
            "_view_name": "LayoutView",
            "align_content": null,
            "align_items": null,
            "align_self": null,
            "border": null,
            "bottom": null,
            "display": null,
            "flex": null,
            "flex_flow": null,
            "grid_area": null,
            "grid_auto_columns": null,
            "grid_auto_flow": null,
            "grid_auto_rows": null,
            "grid_column": null,
            "grid_gap": null,
            "grid_row": null,
            "grid_template_areas": null,
            "grid_template_columns": null,
            "grid_template_rows": null,
            "height": null,
            "justify_content": null,
            "justify_items": null,
            "left": null,
            "margin": null,
            "max_height": null,
            "max_width": null,
            "min_height": null,
            "min_width": null,
            "object_fit": null,
            "object_position": null,
            "order": null,
            "overflow": null,
            "overflow_x": null,
            "overflow_y": null,
            "padding": null,
            "right": null,
            "top": null,
            "visibility": null,
            "width": "20px"
          }
        },
        "9114768dccd34d8bb5f36b2736d6bb38": {
          "model_module": "@jupyter-widgets/controls",
          "model_name": "ProgressStyleModel",
          "model_module_version": "1.5.0",
          "state": {
            "_model_module": "@jupyter-widgets/controls",
            "_model_module_version": "1.5.0",
            "_model_name": "ProgressStyleModel",
            "_view_count": null,
            "_view_module": "@jupyter-widgets/base",
            "_view_module_version": "1.2.0",
            "_view_name": "StyleView",
            "bar_color": null,
            "description_width": ""
          }
        },
        "483e9bf59fcb4a3db1b37d24bab99771": {
          "model_module": "@jupyter-widgets/base",
          "model_name": "LayoutModel",
          "model_module_version": "1.2.0",
          "state": {
            "_model_module": "@jupyter-widgets/base",
            "_model_module_version": "1.2.0",
            "_model_name": "LayoutModel",
            "_view_count": null,
            "_view_module": "@jupyter-widgets/base",
            "_view_module_version": "1.2.0",
            "_view_name": "LayoutView",
            "align_content": null,
            "align_items": null,
            "align_self": null,
            "border": null,
            "bottom": null,
            "display": null,
            "flex": null,
            "flex_flow": null,
            "grid_area": null,
            "grid_auto_columns": null,
            "grid_auto_flow": null,
            "grid_auto_rows": null,
            "grid_column": null,
            "grid_gap": null,
            "grid_row": null,
            "grid_template_areas": null,
            "grid_template_columns": null,
            "grid_template_rows": null,
            "height": null,
            "justify_content": null,
            "justify_items": null,
            "left": null,
            "margin": null,
            "max_height": null,
            "max_width": null,
            "min_height": null,
            "min_width": null,
            "object_fit": null,
            "object_position": null,
            "order": null,
            "overflow": null,
            "overflow_x": null,
            "overflow_y": null,
            "padding": null,
            "right": null,
            "top": null,
            "visibility": null,
            "width": null
          }
        },
        "587ba29d13604545823216d311587384": {
          "model_module": "@jupyter-widgets/controls",
          "model_name": "DescriptionStyleModel",
          "model_module_version": "1.5.0",
          "state": {
            "_model_module": "@jupyter-widgets/controls",
            "_model_module_version": "1.5.0",
            "_model_name": "DescriptionStyleModel",
            "_view_count": null,
            "_view_module": "@jupyter-widgets/base",
            "_view_module_version": "1.2.0",
            "_view_name": "StyleView",
            "description_width": ""
          }
        }
      }
    }
  },
  "cells": [
    {
      "cell_type": "markdown",
      "metadata": {
        "id": "view-in-github",
        "colab_type": "text"
      },
      "source": [
        "<a href=\"https://colab.research.google.com/github/LazyHooks/Optimus/blob/main/optimus_v5.17.ipynb\" target=\"_parent\"><img src=\"https://colab.research.google.com/assets/colab-badge.svg\" alt=\"Open In Colab\"/></a>"
      ]
    },
    {
      "cell_type": "code",
      "source": [
        "import pandas as pd"
      ],
      "metadata": {
        "id": "qnHLNOlup9EC"
      },
      "execution_count": 61,
      "outputs": []
    },
    {
      "cell_type": "code",
      "source": [
        "d=pd.read_csv('GCC Train.csv')\n",
        "df = d.copy(deep=True)\n"
      ],
      "metadata": {
        "id": "A8i1ht13p_jE"
      },
      "execution_count": 62,
      "outputs": []
    },
    {
      "cell_type": "code",
      "source": [
        "df_test = pd.read_csv('Test3.csv')\n",
        "df_test.head()"
      ],
      "metadata": {
        "id": "g8-zz11mqB8b",
        "outputId": "ad1d16e7-da14-4593-87b0-7bb82d5e399d",
        "colab": {
          "base_uri": "https://localhost:8080/",
          "height": 310
        }
      },
      "execution_count": 63,
      "outputs": [
        {
          "output_type": "execute_result",
          "data": {
            "text/plain": [
              "                          Company Name              Co. Designation  \\\n",
              "0  HDFC Securities Hi Tech & ITES 2022         Relationship Manager   \n",
              "1  HDFC Securities Hi Tech & ITES 2022         Relationship Manager   \n",
              "2  HDFC Securities Hi Tech & ITES 2022           Area Sales Manager   \n",
              "3  HDFC Securities Hi Tech & ITES 2022  Senior Relationship Manager   \n",
              "4  HDFC Securities Hi Tech & ITES 2022           Area Sales Manager   \n",
              "\n",
              "     Co. Function Job Family Code Level     TFP  \n",
              "0  Branch Dealing            BFCB    S3  225766  \n",
              "1  Branch Dealing            BFCB    S3  290000  \n",
              "2  Branch Dealing            BFCB    I2  350000  \n",
              "3  Branch Dealing            BFCB    I2  340000  \n",
              "4  Branch Dealing            BFCB    I2  400000  "
            ],
            "text/html": [
              "\n",
              "  <div id=\"df-cd37f9ed-3532-4b6d-ad74-0aa364b5379d\" class=\"colab-df-container\">\n",
              "    <div>\n",
              "<style scoped>\n",
              "    .dataframe tbody tr th:only-of-type {\n",
              "        vertical-align: middle;\n",
              "    }\n",
              "\n",
              "    .dataframe tbody tr th {\n",
              "        vertical-align: top;\n",
              "    }\n",
              "\n",
              "    .dataframe thead th {\n",
              "        text-align: right;\n",
              "    }\n",
              "</style>\n",
              "<table border=\"1\" class=\"dataframe\">\n",
              "  <thead>\n",
              "    <tr style=\"text-align: right;\">\n",
              "      <th></th>\n",
              "      <th>Company Name</th>\n",
              "      <th>Co. Designation</th>\n",
              "      <th>Co. Function</th>\n",
              "      <th>Job Family Code</th>\n",
              "      <th>Level</th>\n",
              "      <th>TFP</th>\n",
              "    </tr>\n",
              "  </thead>\n",
              "  <tbody>\n",
              "    <tr>\n",
              "      <th>0</th>\n",
              "      <td>HDFC Securities Hi Tech &amp; ITES 2022</td>\n",
              "      <td>Relationship Manager</td>\n",
              "      <td>Branch Dealing</td>\n",
              "      <td>BFCB</td>\n",
              "      <td>S3</td>\n",
              "      <td>225766</td>\n",
              "    </tr>\n",
              "    <tr>\n",
              "      <th>1</th>\n",
              "      <td>HDFC Securities Hi Tech &amp; ITES 2022</td>\n",
              "      <td>Relationship Manager</td>\n",
              "      <td>Branch Dealing</td>\n",
              "      <td>BFCB</td>\n",
              "      <td>S3</td>\n",
              "      <td>290000</td>\n",
              "    </tr>\n",
              "    <tr>\n",
              "      <th>2</th>\n",
              "      <td>HDFC Securities Hi Tech &amp; ITES 2022</td>\n",
              "      <td>Area Sales Manager</td>\n",
              "      <td>Branch Dealing</td>\n",
              "      <td>BFCB</td>\n",
              "      <td>I2</td>\n",
              "      <td>350000</td>\n",
              "    </tr>\n",
              "    <tr>\n",
              "      <th>3</th>\n",
              "      <td>HDFC Securities Hi Tech &amp; ITES 2022</td>\n",
              "      <td>Senior Relationship Manager</td>\n",
              "      <td>Branch Dealing</td>\n",
              "      <td>BFCB</td>\n",
              "      <td>I2</td>\n",
              "      <td>340000</td>\n",
              "    </tr>\n",
              "    <tr>\n",
              "      <th>4</th>\n",
              "      <td>HDFC Securities Hi Tech &amp; ITES 2022</td>\n",
              "      <td>Area Sales Manager</td>\n",
              "      <td>Branch Dealing</td>\n",
              "      <td>BFCB</td>\n",
              "      <td>I2</td>\n",
              "      <td>400000</td>\n",
              "    </tr>\n",
              "  </tbody>\n",
              "</table>\n",
              "</div>\n",
              "    <div class=\"colab-df-buttons\">\n",
              "\n",
              "  <div class=\"colab-df-container\">\n",
              "    <button class=\"colab-df-convert\" onclick=\"convertToInteractive('df-cd37f9ed-3532-4b6d-ad74-0aa364b5379d')\"\n",
              "            title=\"Convert this dataframe to an interactive table.\"\n",
              "            style=\"display:none;\">\n",
              "\n",
              "  <svg xmlns=\"http://www.w3.org/2000/svg\" height=\"24px\" viewBox=\"0 -960 960 960\">\n",
              "    <path d=\"M120-120v-720h720v720H120Zm60-500h600v-160H180v160Zm220 220h160v-160H400v160Zm0 220h160v-160H400v160ZM180-400h160v-160H180v160Zm440 0h160v-160H620v160ZM180-180h160v-160H180v160Zm440 0h160v-160H620v160Z\"/>\n",
              "  </svg>\n",
              "    </button>\n",
              "\n",
              "  <style>\n",
              "    .colab-df-container {\n",
              "      display:flex;\n",
              "      gap: 12px;\n",
              "    }\n",
              "\n",
              "    .colab-df-convert {\n",
              "      background-color: #E8F0FE;\n",
              "      border: none;\n",
              "      border-radius: 50%;\n",
              "      cursor: pointer;\n",
              "      display: none;\n",
              "      fill: #1967D2;\n",
              "      height: 32px;\n",
              "      padding: 0 0 0 0;\n",
              "      width: 32px;\n",
              "    }\n",
              "\n",
              "    .colab-df-convert:hover {\n",
              "      background-color: #E2EBFA;\n",
              "      box-shadow: 0px 1px 2px rgba(60, 64, 67, 0.3), 0px 1px 3px 1px rgba(60, 64, 67, 0.15);\n",
              "      fill: #174EA6;\n",
              "    }\n",
              "\n",
              "    .colab-df-buttons div {\n",
              "      margin-bottom: 4px;\n",
              "    }\n",
              "\n",
              "    [theme=dark] .colab-df-convert {\n",
              "      background-color: #3B4455;\n",
              "      fill: #D2E3FC;\n",
              "    }\n",
              "\n",
              "    [theme=dark] .colab-df-convert:hover {\n",
              "      background-color: #434B5C;\n",
              "      box-shadow: 0px 1px 3px 1px rgba(0, 0, 0, 0.15);\n",
              "      filter: drop-shadow(0px 1px 2px rgba(0, 0, 0, 0.3));\n",
              "      fill: #FFFFFF;\n",
              "    }\n",
              "  </style>\n",
              "\n",
              "    <script>\n",
              "      const buttonEl =\n",
              "        document.querySelector('#df-cd37f9ed-3532-4b6d-ad74-0aa364b5379d button.colab-df-convert');\n",
              "      buttonEl.style.display =\n",
              "        google.colab.kernel.accessAllowed ? 'block' : 'none';\n",
              "\n",
              "      async function convertToInteractive(key) {\n",
              "        const element = document.querySelector('#df-cd37f9ed-3532-4b6d-ad74-0aa364b5379d');\n",
              "        const dataTable =\n",
              "          await google.colab.kernel.invokeFunction('convertToInteractive',\n",
              "                                                    [key], {});\n",
              "        if (!dataTable) return;\n",
              "\n",
              "        const docLinkHtml = 'Like what you see? Visit the ' +\n",
              "          '<a target=\"_blank\" href=https://colab.research.google.com/notebooks/data_table.ipynb>data table notebook</a>'\n",
              "          + ' to learn more about interactive tables.';\n",
              "        element.innerHTML = '';\n",
              "        dataTable['output_type'] = 'display_data';\n",
              "        await google.colab.output.renderOutput(dataTable, element);\n",
              "        const docLink = document.createElement('div');\n",
              "        docLink.innerHTML = docLinkHtml;\n",
              "        element.appendChild(docLink);\n",
              "      }\n",
              "    </script>\n",
              "  </div>\n",
              "\n",
              "\n",
              "<div id=\"df-441bef30-0aff-41ab-992c-b78aadb60ffa\">\n",
              "  <button class=\"colab-df-quickchart\" onclick=\"quickchart('df-441bef30-0aff-41ab-992c-b78aadb60ffa')\"\n",
              "            title=\"Suggest charts.\"\n",
              "            style=\"display:none;\">\n",
              "\n",
              "<svg xmlns=\"http://www.w3.org/2000/svg\" height=\"24px\"viewBox=\"0 0 24 24\"\n",
              "     width=\"24px\">\n",
              "    <g>\n",
              "        <path d=\"M19 3H5c-1.1 0-2 .9-2 2v14c0 1.1.9 2 2 2h14c1.1 0 2-.9 2-2V5c0-1.1-.9-2-2-2zM9 17H7v-7h2v7zm4 0h-2V7h2v10zm4 0h-2v-4h2v4z\"/>\n",
              "    </g>\n",
              "</svg>\n",
              "  </button>\n",
              "\n",
              "<style>\n",
              "  .colab-df-quickchart {\n",
              "    background-color: #E8F0FE;\n",
              "    border: none;\n",
              "    border-radius: 50%;\n",
              "    cursor: pointer;\n",
              "    display: none;\n",
              "    fill: #1967D2;\n",
              "    height: 32px;\n",
              "    padding: 0 0 0 0;\n",
              "    width: 32px;\n",
              "  }\n",
              "\n",
              "  .colab-df-quickchart:hover {\n",
              "    background-color: #E2EBFA;\n",
              "    box-shadow: 0px 1px 2px rgba(60, 64, 67, 0.3), 0px 1px 3px 1px rgba(60, 64, 67, 0.15);\n",
              "    fill: #174EA6;\n",
              "  }\n",
              "\n",
              "  [theme=dark] .colab-df-quickchart {\n",
              "    background-color: #3B4455;\n",
              "    fill: #D2E3FC;\n",
              "  }\n",
              "\n",
              "  [theme=dark] .colab-df-quickchart:hover {\n",
              "    background-color: #434B5C;\n",
              "    box-shadow: 0px 1px 3px 1px rgba(0, 0, 0, 0.15);\n",
              "    filter: drop-shadow(0px 1px 2px rgba(0, 0, 0, 0.3));\n",
              "    fill: #FFFFFF;\n",
              "  }\n",
              "</style>\n",
              "\n",
              "  <script>\n",
              "    async function quickchart(key) {\n",
              "      const charts = await google.colab.kernel.invokeFunction(\n",
              "          'suggestCharts', [key], {});\n",
              "    }\n",
              "    (() => {\n",
              "      let quickchartButtonEl =\n",
              "        document.querySelector('#df-441bef30-0aff-41ab-992c-b78aadb60ffa button');\n",
              "      quickchartButtonEl.style.display =\n",
              "        google.colab.kernel.accessAllowed ? 'block' : 'none';\n",
              "    })();\n",
              "  </script>\n",
              "</div>\n",
              "    </div>\n",
              "  </div>\n"
            ]
          },
          "metadata": {},
          "execution_count": 63
        }
      ]
    },
    {
      "cell_type": "code",
      "source": [
        "df.shape\n",
        "#set(df['Company Name'])"
      ],
      "metadata": {
        "id": "WUT3QAtFqFAk",
        "outputId": "47104a46-7ff6-4b2c-ca1a-1dcca5fe3986",
        "colab": {
          "base_uri": "https://localhost:8080/"
        }
      },
      "execution_count": 64,
      "outputs": [
        {
          "output_type": "execute_result",
          "data": {
            "text/plain": [
              "(157303, 6)"
            ]
          },
          "metadata": {},
          "execution_count": 64
        }
      ]
    },
    {
      "cell_type": "code",
      "source": [
        "df.columns"
      ],
      "metadata": {
        "id": "XgKUy_kIqISg",
        "outputId": "c14db797-2114-4fcb-8c4b-995251929f36",
        "colab": {
          "base_uri": "https://localhost:8080/"
        }
      },
      "execution_count": 65,
      "outputs": [
        {
          "output_type": "execute_result",
          "data": {
            "text/plain": [
              "Index(['Company Name', 'Co. Designation', 'Co. Function', 'Job Family Code',\n",
              "       'Level', 'TFP'],\n",
              "      dtype='object')"
            ]
          },
          "metadata": {},
          "execution_count": 65
        }
      ]
    },
    {
      "cell_type": "code",
      "source": [
        "train_cols = ['Co. Designation', 'Co. Function']"
      ],
      "metadata": {
        "id": "snqs9UFrqK1M"
      },
      "execution_count": 66,
      "outputs": []
    },
    {
      "cell_type": "code",
      "source": [
        "target_col = 'Job Family Code'\n",
        "target_col_2='Level'"
      ],
      "metadata": {
        "id": "Q7EVYCfFqLPP"
      },
      "execution_count": 67,
      "outputs": []
    },
    {
      "cell_type": "code",
      "source": [
        "all_cols = ['Co. Designation', 'Co. Function', 'Job Family Code','Level']\n",
        "univ_cols= ['Co. Designation', 'Co. Function', 'Job Family Code','Level','TFP']"
      ],
      "metadata": {
        "id": "BnXOkzyFqMzP"
      },
      "execution_count": 68,
      "outputs": []
    },
    {
      "cell_type": "code",
      "source": [
        "import pandas as pd\n",
        "from scipy.sparse import hstack\n",
        "from sklearn.feature_extraction.text import TfidfVectorizer\n",
        "from sklearn.linear_model import LogisticRegression\n",
        "from sklearn.metrics import accuracy_score, classification_report\n",
        "from sklearn.model_selection import train_test_split"
      ],
      "metadata": {
        "id": "qtC88Zw9qPj5"
      },
      "execution_count": 69,
      "outputs": []
    },
    {
      "cell_type": "code",
      "source": [
        "# Load data\n",
        "data = d"
      ],
      "metadata": {
        "id": "1Ut2p3HnqQtf"
      },
      "execution_count": 70,
      "outputs": []
    },
    {
      "cell_type": "code",
      "source": [
        "df_test.head()"
      ],
      "metadata": {
        "id": "ZXQTHb6UqSTq",
        "outputId": "71782bb3-cb6f-4ee2-e882-6d78e089df78",
        "colab": {
          "base_uri": "https://localhost:8080/",
          "height": 310
        }
      },
      "execution_count": 71,
      "outputs": [
        {
          "output_type": "execute_result",
          "data": {
            "text/plain": [
              "                          Company Name              Co. Designation  \\\n",
              "0  HDFC Securities Hi Tech & ITES 2022         Relationship Manager   \n",
              "1  HDFC Securities Hi Tech & ITES 2022         Relationship Manager   \n",
              "2  HDFC Securities Hi Tech & ITES 2022           Area Sales Manager   \n",
              "3  HDFC Securities Hi Tech & ITES 2022  Senior Relationship Manager   \n",
              "4  HDFC Securities Hi Tech & ITES 2022           Area Sales Manager   \n",
              "\n",
              "     Co. Function Job Family Code Level     TFP  \n",
              "0  Branch Dealing            BFCB    S3  225766  \n",
              "1  Branch Dealing            BFCB    S3  290000  \n",
              "2  Branch Dealing            BFCB    I2  350000  \n",
              "3  Branch Dealing            BFCB    I2  340000  \n",
              "4  Branch Dealing            BFCB    I2  400000  "
            ],
            "text/html": [
              "\n",
              "  <div id=\"df-3f4a6a52-7194-484f-9e66-ae36fb58e542\" class=\"colab-df-container\">\n",
              "    <div>\n",
              "<style scoped>\n",
              "    .dataframe tbody tr th:only-of-type {\n",
              "        vertical-align: middle;\n",
              "    }\n",
              "\n",
              "    .dataframe tbody tr th {\n",
              "        vertical-align: top;\n",
              "    }\n",
              "\n",
              "    .dataframe thead th {\n",
              "        text-align: right;\n",
              "    }\n",
              "</style>\n",
              "<table border=\"1\" class=\"dataframe\">\n",
              "  <thead>\n",
              "    <tr style=\"text-align: right;\">\n",
              "      <th></th>\n",
              "      <th>Company Name</th>\n",
              "      <th>Co. Designation</th>\n",
              "      <th>Co. Function</th>\n",
              "      <th>Job Family Code</th>\n",
              "      <th>Level</th>\n",
              "      <th>TFP</th>\n",
              "    </tr>\n",
              "  </thead>\n",
              "  <tbody>\n",
              "    <tr>\n",
              "      <th>0</th>\n",
              "      <td>HDFC Securities Hi Tech &amp; ITES 2022</td>\n",
              "      <td>Relationship Manager</td>\n",
              "      <td>Branch Dealing</td>\n",
              "      <td>BFCB</td>\n",
              "      <td>S3</td>\n",
              "      <td>225766</td>\n",
              "    </tr>\n",
              "    <tr>\n",
              "      <th>1</th>\n",
              "      <td>HDFC Securities Hi Tech &amp; ITES 2022</td>\n",
              "      <td>Relationship Manager</td>\n",
              "      <td>Branch Dealing</td>\n",
              "      <td>BFCB</td>\n",
              "      <td>S3</td>\n",
              "      <td>290000</td>\n",
              "    </tr>\n",
              "    <tr>\n",
              "      <th>2</th>\n",
              "      <td>HDFC Securities Hi Tech &amp; ITES 2022</td>\n",
              "      <td>Area Sales Manager</td>\n",
              "      <td>Branch Dealing</td>\n",
              "      <td>BFCB</td>\n",
              "      <td>I2</td>\n",
              "      <td>350000</td>\n",
              "    </tr>\n",
              "    <tr>\n",
              "      <th>3</th>\n",
              "      <td>HDFC Securities Hi Tech &amp; ITES 2022</td>\n",
              "      <td>Senior Relationship Manager</td>\n",
              "      <td>Branch Dealing</td>\n",
              "      <td>BFCB</td>\n",
              "      <td>I2</td>\n",
              "      <td>340000</td>\n",
              "    </tr>\n",
              "    <tr>\n",
              "      <th>4</th>\n",
              "      <td>HDFC Securities Hi Tech &amp; ITES 2022</td>\n",
              "      <td>Area Sales Manager</td>\n",
              "      <td>Branch Dealing</td>\n",
              "      <td>BFCB</td>\n",
              "      <td>I2</td>\n",
              "      <td>400000</td>\n",
              "    </tr>\n",
              "  </tbody>\n",
              "</table>\n",
              "</div>\n",
              "    <div class=\"colab-df-buttons\">\n",
              "\n",
              "  <div class=\"colab-df-container\">\n",
              "    <button class=\"colab-df-convert\" onclick=\"convertToInteractive('df-3f4a6a52-7194-484f-9e66-ae36fb58e542')\"\n",
              "            title=\"Convert this dataframe to an interactive table.\"\n",
              "            style=\"display:none;\">\n",
              "\n",
              "  <svg xmlns=\"http://www.w3.org/2000/svg\" height=\"24px\" viewBox=\"0 -960 960 960\">\n",
              "    <path d=\"M120-120v-720h720v720H120Zm60-500h600v-160H180v160Zm220 220h160v-160H400v160Zm0 220h160v-160H400v160ZM180-400h160v-160H180v160Zm440 0h160v-160H620v160ZM180-180h160v-160H180v160Zm440 0h160v-160H620v160Z\"/>\n",
              "  </svg>\n",
              "    </button>\n",
              "\n",
              "  <style>\n",
              "    .colab-df-container {\n",
              "      display:flex;\n",
              "      gap: 12px;\n",
              "    }\n",
              "\n",
              "    .colab-df-convert {\n",
              "      background-color: #E8F0FE;\n",
              "      border: none;\n",
              "      border-radius: 50%;\n",
              "      cursor: pointer;\n",
              "      display: none;\n",
              "      fill: #1967D2;\n",
              "      height: 32px;\n",
              "      padding: 0 0 0 0;\n",
              "      width: 32px;\n",
              "    }\n",
              "\n",
              "    .colab-df-convert:hover {\n",
              "      background-color: #E2EBFA;\n",
              "      box-shadow: 0px 1px 2px rgba(60, 64, 67, 0.3), 0px 1px 3px 1px rgba(60, 64, 67, 0.15);\n",
              "      fill: #174EA6;\n",
              "    }\n",
              "\n",
              "    .colab-df-buttons div {\n",
              "      margin-bottom: 4px;\n",
              "    }\n",
              "\n",
              "    [theme=dark] .colab-df-convert {\n",
              "      background-color: #3B4455;\n",
              "      fill: #D2E3FC;\n",
              "    }\n",
              "\n",
              "    [theme=dark] .colab-df-convert:hover {\n",
              "      background-color: #434B5C;\n",
              "      box-shadow: 0px 1px 3px 1px rgba(0, 0, 0, 0.15);\n",
              "      filter: drop-shadow(0px 1px 2px rgba(0, 0, 0, 0.3));\n",
              "      fill: #FFFFFF;\n",
              "    }\n",
              "  </style>\n",
              "\n",
              "    <script>\n",
              "      const buttonEl =\n",
              "        document.querySelector('#df-3f4a6a52-7194-484f-9e66-ae36fb58e542 button.colab-df-convert');\n",
              "      buttonEl.style.display =\n",
              "        google.colab.kernel.accessAllowed ? 'block' : 'none';\n",
              "\n",
              "      async function convertToInteractive(key) {\n",
              "        const element = document.querySelector('#df-3f4a6a52-7194-484f-9e66-ae36fb58e542');\n",
              "        const dataTable =\n",
              "          await google.colab.kernel.invokeFunction('convertToInteractive',\n",
              "                                                    [key], {});\n",
              "        if (!dataTable) return;\n",
              "\n",
              "        const docLinkHtml = 'Like what you see? Visit the ' +\n",
              "          '<a target=\"_blank\" href=https://colab.research.google.com/notebooks/data_table.ipynb>data table notebook</a>'\n",
              "          + ' to learn more about interactive tables.';\n",
              "        element.innerHTML = '';\n",
              "        dataTable['output_type'] = 'display_data';\n",
              "        await google.colab.output.renderOutput(dataTable, element);\n",
              "        const docLink = document.createElement('div');\n",
              "        docLink.innerHTML = docLinkHtml;\n",
              "        element.appendChild(docLink);\n",
              "      }\n",
              "    </script>\n",
              "  </div>\n",
              "\n",
              "\n",
              "<div id=\"df-2b1bcf42-0b4a-44dc-9dea-b0f6f65705e6\">\n",
              "  <button class=\"colab-df-quickchart\" onclick=\"quickchart('df-2b1bcf42-0b4a-44dc-9dea-b0f6f65705e6')\"\n",
              "            title=\"Suggest charts.\"\n",
              "            style=\"display:none;\">\n",
              "\n",
              "<svg xmlns=\"http://www.w3.org/2000/svg\" height=\"24px\"viewBox=\"0 0 24 24\"\n",
              "     width=\"24px\">\n",
              "    <g>\n",
              "        <path d=\"M19 3H5c-1.1 0-2 .9-2 2v14c0 1.1.9 2 2 2h14c1.1 0 2-.9 2-2V5c0-1.1-.9-2-2-2zM9 17H7v-7h2v7zm4 0h-2V7h2v10zm4 0h-2v-4h2v4z\"/>\n",
              "    </g>\n",
              "</svg>\n",
              "  </button>\n",
              "\n",
              "<style>\n",
              "  .colab-df-quickchart {\n",
              "    background-color: #E8F0FE;\n",
              "    border: none;\n",
              "    border-radius: 50%;\n",
              "    cursor: pointer;\n",
              "    display: none;\n",
              "    fill: #1967D2;\n",
              "    height: 32px;\n",
              "    padding: 0 0 0 0;\n",
              "    width: 32px;\n",
              "  }\n",
              "\n",
              "  .colab-df-quickchart:hover {\n",
              "    background-color: #E2EBFA;\n",
              "    box-shadow: 0px 1px 2px rgba(60, 64, 67, 0.3), 0px 1px 3px 1px rgba(60, 64, 67, 0.15);\n",
              "    fill: #174EA6;\n",
              "  }\n",
              "\n",
              "  [theme=dark] .colab-df-quickchart {\n",
              "    background-color: #3B4455;\n",
              "    fill: #D2E3FC;\n",
              "  }\n",
              "\n",
              "  [theme=dark] .colab-df-quickchart:hover {\n",
              "    background-color: #434B5C;\n",
              "    box-shadow: 0px 1px 3px 1px rgba(0, 0, 0, 0.15);\n",
              "    filter: drop-shadow(0px 1px 2px rgba(0, 0, 0, 0.3));\n",
              "    fill: #FFFFFF;\n",
              "  }\n",
              "</style>\n",
              "\n",
              "  <script>\n",
              "    async function quickchart(key) {\n",
              "      const charts = await google.colab.kernel.invokeFunction(\n",
              "          'suggestCharts', [key], {});\n",
              "    }\n",
              "    (() => {\n",
              "      let quickchartButtonEl =\n",
              "        document.querySelector('#df-2b1bcf42-0b4a-44dc-9dea-b0f6f65705e6 button');\n",
              "      quickchartButtonEl.style.display =\n",
              "        google.colab.kernel.accessAllowed ? 'block' : 'none';\n",
              "    })();\n",
              "  </script>\n",
              "</div>\n",
              "    </div>\n",
              "  </div>\n"
            ]
          },
          "metadata": {},
          "execution_count": 71
        }
      ]
    },
    {
      "cell_type": "code",
      "source": [
        "\n",
        "data = data[all_cols]\n",
        "data = data.dropna()"
      ],
      "metadata": {
        "id": "677jgG6vqUER"
      },
      "execution_count": 72,
      "outputs": []
    },
    {
      "cell_type": "code",
      "source": [
        "df_test_2=df_test\n",
        "df_test_2=df_test[univ_cols]\n",
        "\n",
        "df_test = df_test[all_cols]\n",
        "df_test = df_test.dropna()\n",
        "df_test_2 = df_test_2.dropna()"
      ],
      "metadata": {
        "id": "Lw2QDppCqVk0"
      },
      "execution_count": 73,
      "outputs": []
    },
    {
      "cell_type": "code",
      "source": [
        "#data.head()"
      ],
      "metadata": {
        "id": "XWwhj-PCqW1M"
      },
      "execution_count": 74,
      "outputs": []
    },
    {
      "cell_type": "code",
      "source": [
        "#df_test.head()"
      ],
      "metadata": {
        "id": "Q_uADMLNqYpW"
      },
      "execution_count": 75,
      "outputs": []
    },
    {
      "cell_type": "markdown",
      "source": [
        "JF"
      ],
      "metadata": {
        "id": "_UlVoosAD-It"
      }
    },
    {
      "cell_type": "code",
      "source": [
        "# Extract features from each text column using TF-IDF vectorizer\n",
        "vectorizers = []\n",
        "X_train_list = []\n",
        "X_test_list = []\n",
        "for col in train_cols:\n",
        "    vectorizer = TfidfVectorizer(max_features=10000)\n",
        "    X_train_col = vectorizer.fit_transform(data.loc[:, col])\n",
        "    X_train_list.append(X_train_col)\n",
        "    X_test_col = vectorizer.transform(data.loc[:, col])\n",
        "    X_test_list.append(X_test_col)\n",
        "    vectorizers.append(vectorizer)"
      ],
      "metadata": {
        "id": "INmGmNpcqarC"
      },
      "execution_count": 76,
      "outputs": []
    },
    {
      "cell_type": "markdown",
      "source": [
        "Level"
      ],
      "metadata": {
        "id": "ftnxt4mXD_Nz"
      }
    },
    {
      "cell_type": "code",
      "source": [
        "vectorizers_2 = []\n",
        "X_train_list_2 = []\n",
        "X_test_list_2 = []\n",
        "for col in train_cols:\n",
        "    vectorizer = TfidfVectorizer(max_features=10000)\n",
        "    X_train_col = vectorizer.fit_transform(data.loc[:, col])\n",
        "    X_train_list_2.append(X_train_col)\n",
        "    X_test_col = vectorizer.transform(data.loc[:, col])\n",
        "    X_test_list_2.append(X_test_col)\n",
        "    vectorizers_2.append(vectorizer)\n",
        "\n",
        "jfcol='Job Family Code'\n",
        "vectorizer = TfidfVectorizer(max_features=10000)\n",
        "X_train_col = vectorizer.fit_transform(data.loc[:, jfcol])\n",
        "X_train_list_2.append(X_train_col)\n",
        "X_test_col = vectorizer.transform(data.loc[:, jfcol])\n",
        "X_test_list_2.append(X_test_col)\n",
        "vectorizers_2.append(vectorizer)\n"
      ],
      "metadata": {
        "id": "Qnp9DBKiD9eS"
      },
      "execution_count": 77,
      "outputs": []
    },
    {
      "cell_type": "markdown",
      "source": [
        "JF"
      ],
      "metadata": {
        "id": "rymDy7YTESw5"
      }
    },
    {
      "cell_type": "code",
      "source": [
        "# Concatenate sparse matrices into a single feature matrix\n",
        "X_train = hstack(X_train_list)\n",
        "X_test = hstack(X_test_list)\n",
        "\n",
        "# Split data into training and testing sets\n",
        "y_train = data[target_col]\n",
        "#y_test = df_test[target_col]\n",
        "\n",
        "X_train, X_test, y_train, y_test = train_test_split(X_train, y_train, test_size=0.2, random_state=42)"
      ],
      "metadata": {
        "id": "b2nmh3_nqcsI"
      },
      "execution_count": 78,
      "outputs": []
    },
    {
      "cell_type": "markdown",
      "source": [
        "Level"
      ],
      "metadata": {
        "id": "jsqt4A1TETsL"
      }
    },
    {
      "cell_type": "code",
      "source": [
        "# Concatenate sparse matrices into a single feature matrix\n",
        "X_train_2 = hstack(X_train_list_2)\n",
        "X_test_2 = hstack(X_test_list_2)\n",
        "\n",
        "# Split data into training and testing sets\n",
        "y_train_2 = data[target_col_2]\n",
        "#y_test = df_test[target_col]\n",
        "\n",
        "X_train_2, X_test_2, y_train_2, y_test_2 = train_test_split(X_train_2, y_train_2, test_size=0.2, random_state=42)\n"
      ],
      "metadata": {
        "id": "JmDTcbOeEU9t"
      },
      "execution_count": 79,
      "outputs": []
    },
    {
      "cell_type": "markdown",
      "source": [
        "JF"
      ],
      "metadata": {
        "id": "eoMDb8e8EoCP"
      }
    },
    {
      "cell_type": "code",
      "source": [
        "# Train logistic regression model\n",
        "model = LogisticRegression(max_iter=10000)\n",
        "model.fit(X_train, y_train)\n",
        "\n",
        "# Predict on test set and evaluate performance\n",
        "y_pred = model.predict(X_test)\n",
        "print('Accuracy:', accuracy_score(y_test, y_pred))\n",
        "print('Classification Report:\\n', classification_report(y_test, y_pred))"
      ],
      "metadata": {
        "id": "oKeT0fuVqe2-",
        "outputId": "908cd510-8d75-4556-de33-6b84e701397a",
        "colab": {
          "base_uri": "https://localhost:8080/"
        }
      },
      "execution_count": 80,
      "outputs": [
        {
          "output_type": "stream",
          "name": "stdout",
          "text": [
            "Accuracy: 0.8512761832109595\n"
          ]
        },
        {
          "output_type": "stream",
          "name": "stderr",
          "text": [
            "/usr/local/lib/python3.10/dist-packages/sklearn/metrics/_classification.py:1344: UndefinedMetricWarning: Precision and F-score are ill-defined and being set to 0.0 in labels with no predicted samples. Use `zero_division` parameter to control this behavior.\n",
            "  _warn_prf(average, modifier, msg_start, len(result))\n",
            "/usr/local/lib/python3.10/dist-packages/sklearn/metrics/_classification.py:1344: UndefinedMetricWarning: Precision and F-score are ill-defined and being set to 0.0 in labels with no predicted samples. Use `zero_division` parameter to control this behavior.\n",
            "  _warn_prf(average, modifier, msg_start, len(result))\n"
          ]
        },
        {
          "output_type": "stream",
          "name": "stdout",
          "text": [
            "Classification Report:\n",
            "               precision    recall  f1-score   support\n",
            "\n",
            "        AADS       0.95      0.89      0.92        80\n",
            "        AAMD       0.83      0.70      0.76       132\n",
            "        AFAD       0.79      0.61      0.69        36\n",
            "        AFFE       0.96      0.77      0.85        30\n",
            "        AFSE       0.86      0.76      0.81        25\n",
            "        AFXX       0.50      0.50      0.50         6\n",
            "        ARCD       0.00      0.00      0.00         1\n",
            "        ARIA       0.93      0.51      0.66        55\n",
            "        ARRP       0.00      0.00      0.00         6\n",
            "        ARSY       1.00      0.50      0.67         2\n",
            "        ARXX       0.88      0.86      0.87       162\n",
            "        ASCD       0.80      0.13      0.22        31\n",
            "        ASDB       1.00      0.51      0.68        68\n",
            "        ASEC       1.00      0.11      0.20         9\n",
            "        ASFS       0.88      0.56      0.68       483\n",
            "        ASMD       0.00      0.00      0.00        16\n",
            "        ASPI       1.00      0.24      0.39        54\n",
            "        ASRP       0.78      0.40      0.53        70\n",
            "        ASSI       0.33      0.05      0.09        60\n",
            "        ASUI       0.87      0.75      0.80        60\n",
            "        ASXX       0.85      0.98      0.91      6260\n",
            "        BCPM       1.00      0.30      0.46        10\n",
            "        BFAC       0.78      0.92      0.84        61\n",
            "        BFAM       0.74      0.49      0.59       242\n",
            "        BFCA       0.99      0.96      0.97       248\n",
            "        BFCB       0.96      0.90      0.93      1002\n",
            "        BFCM       0.71      0.82      0.76      1028\n",
            "        BFFU       0.45      0.92      0.60       359\n",
            "        BFIS       0.00      0.00      0.00         1\n",
            "        BFKY       0.82      0.77      0.79       509\n",
            "        BFLP       1.00      1.00      1.00        16\n",
            "        BFPC       0.18      0.09      0.12       187\n",
            "        BFTF       0.97      0.75      0.85       250\n",
            "        BFTO       0.86      0.92      0.89      1130\n",
            "        BFUW       0.78      0.69      0.73        51\n",
            "        BFWB       0.36      0.58      0.44       121\n",
            "        BSMT       0.68      0.67      0.68       114\n",
            "        CCCE       0.80      0.67      0.73         6\n",
            "        CCCO       1.00      0.60      0.75         5\n",
            "        CCCV       0.00      0.00      0.00         1\n",
            "        CCCW       0.00      0.00      0.00        29\n",
            "        CCMD       0.97      0.99      0.98       179\n",
            "        CCMI       0.59      0.95      0.73       124\n",
            "        CCVD       0.84      0.28      0.42       230\n",
            "        CCVI       1.00      1.00      1.00       498\n",
            "        CMDO       0.83      0.40      0.54        72\n",
            "        CMDS       0.00      0.00      0.00         2\n",
            "        CMXX       0.90      0.88      0.89        52\n",
            "        CSBC       0.74      0.77      0.76       113\n",
            "        CSCG       0.00      0.00      0.00         1\n",
            "        CSCS       1.00      0.12      0.22         8\n",
            "        CSED       0.00      0.00      0.00         1\n",
            "        CSEL       0.60      0.60      0.60         5\n",
            "        CSFC       0.92      0.88      0.90       666\n",
            "        CSPS       0.00      0.00      0.00         5\n",
            "        CSSI       0.96      0.90      0.93       138\n",
            "        DABD       0.43      0.34      0.38        86\n",
            "        DABI       0.91      0.88      0.90       544\n",
            "        DADV       1.00      0.22      0.36        18\n",
            "        DADW       0.77      0.26      0.39        77\n",
            "        DMDA       0.72      0.53      0.61        72\n",
            "        DMKM       0.00      0.00      0.00         2\n",
            "        DMMD       0.00      0.00      0.00         8\n",
            "        DMSM       0.91      0.39      0.54       109\n",
            "        EDXX       0.50      1.00      0.67         1\n",
            "        FAAG       0.83      0.41      0.55        73\n",
            "        FAAP       0.97      0.70      0.81        43\n",
            "        FAAU       0.00      0.00      0.00         2\n",
            "        FADS       0.00      0.00      0.00         4\n",
            "        FAER       0.76      0.22      0.34       144\n",
            "        FAFA       0.79      0.58      0.67       262\n",
            "        FAFI       0.98      0.98      0.98       372\n",
            "        FALC       0.52      0.86      0.65       153\n",
            "        FAML       0.90      0.70      0.79       125\n",
            "        FAPC       0.00      0.00      0.00         2\n",
            "        FARR       0.81      0.30      0.44        43\n",
            "        FASR       1.00      0.25      0.40        20\n",
            "        FATA       0.93      0.54      0.68        26\n",
            "        FATP       0.00      0.00      0.00         6\n",
            "        FLAC       0.99      0.96      0.98       206\n",
            "        FLCS       1.00      0.50      0.67         2\n",
            "        FLFA       0.96      0.93      0.95        29\n",
            "        FLLE       0.88      0.75      0.81        20\n",
            "        FLMI       0.76      0.76      0.76        21\n",
            "        FLPP       0.87      0.94      0.91        36\n",
            "        FLPR       0.70      0.64      0.67        11\n",
            "        FLTR       0.95      0.83      0.89        48\n",
            "        FLTX       0.97      0.88      0.92        33\n",
            "        FLXX       0.94      0.94      0.94       327\n",
            "        GDXX       0.88      0.64      0.74        11\n",
            "        HCCA       1.00      0.61      0.76        23\n",
            "        HCMR       1.00      0.83      0.91        18\n",
            "        HRBP       0.80      0.85      0.82        66\n",
            "        HRCB       0.78      0.78      0.78         9\n",
            "        HRDI       0.00      0.00      0.00         3\n",
            "        HRGM       0.33      0.33      0.33         3\n",
            "        HROD       0.88      0.44      0.58        16\n",
            "        HRRE       0.79      0.83      0.81        95\n",
            "        HRSS       0.86      0.50      0.63        12\n",
            "        HRTR       0.72      0.78      0.75        23\n",
            "        HRXX       1.00      0.57      0.73        14\n",
            "        HSCB       0.00      0.00      0.00         1\n",
            "        HSGL       0.55      0.63      0.59        43\n",
            "        HSLD       0.00      0.00      0.00         2\n",
            "        HSPL       0.64      0.50      0.56        14\n",
            "        HSRS       1.00      0.29      0.44         7\n",
            "        INAU       0.81      0.89      0.85        63\n",
            "        INCL       1.00      0.31      0.47        13\n",
            "        INDB       0.85      0.87      0.86       214\n",
            "        INDC       1.00      0.25      0.40         4\n",
            "        INDS       0.84      0.62      0.71       100\n",
            "        INFS       0.00      0.00      0.00        13\n",
            "        INNE       0.99      0.88      0.93       156\n",
            "        INRA       0.92      0.91      0.91       359\n",
            "        INRE       1.00      0.81      0.90        16\n",
            "        INRI       0.99      0.98      0.99       598\n",
            "        INRP       0.33      0.15      0.21        13\n",
            "        INSA       1.00      0.55      0.71        22\n",
            "        INSS       0.75      0.93      0.83       242\n",
            "        INTI       1.00      0.75      0.86         4\n",
            "        INXX       0.85      0.87      0.86       475\n",
            "        ITAU       0.00      0.00      0.00         7\n",
            "        LECO       0.63      0.82      0.71       191\n",
            "        LEPO       0.60      0.19      0.29        16\n",
            "        LERE       1.00      0.89      0.94         9\n",
            "        MBCC       0.94      0.73      0.82        22\n",
            "        MBCM       0.20      0.25      0.22         4\n",
            "        MBDM       0.83      0.77      0.80        13\n",
            "        MBXX       0.57      0.81      0.67        16\n",
            "        PDFS       0.00      0.00      0.00        14\n",
            "        PDPM       0.88      0.77      0.82       135\n",
            "        PDXX       0.98      0.90      0.94      1592\n",
            "        PRAG       0.81      0.81      0.81       144\n",
            "        PRPO       0.90      0.87      0.89       349\n",
            "        PRXX       0.79      0.73      0.76       434\n",
            "        QAXX       0.00      0.00      0.00        15\n",
            "        QUTF       0.79      0.80      0.80        85\n",
            "        QUTS       0.93      0.98      0.96       214\n",
            "        RABA       0.78      0.79      0.78       326\n",
            "        RABF       0.74      0.92      0.82        93\n",
            "        RAPR       0.67      0.50      0.57         4\n",
            "        RARA       0.93      0.70      0.80       294\n",
            "        RASR       1.00      0.87      0.93        39\n",
            "        RAVA       0.96      0.88      0.91        97\n",
            "        RICR       0.59      0.76      0.66        96\n",
            "        RIER       0.87      0.54      0.67        63\n",
            "        RIMR       0.34      0.47      0.39        88\n",
            "        RIOR       0.95      0.90      0.92       395\n",
            "        RSSC       1.00      1.00      1.00         4\n",
            "        RSVM       1.00      0.43      0.61        23\n",
            "        RSWL       0.00      0.00      0.00         1\n",
            "        SAAC       0.92      0.88      0.90        26\n",
            "        SABD       0.86      0.84      0.85        37\n",
            "        SACS       1.00      0.56      0.71         9\n",
            "        SAPS       0.50      0.40      0.44         5\n",
            "        SASD       0.84      0.78      0.81        27\n",
            "        SAXX       0.77      0.86      0.81        43\n",
            "        SCCP       1.00      0.93      0.96        42\n",
            "        SSSO       0.86      0.89      0.88        28\n",
            "        SYAM       0.00      0.00      0.00         1\n",
            "        SYAS       0.75      0.56      0.64        16\n",
            "        SYGR       1.00      0.49      0.65        37\n",
            "        SYIM       0.97      0.80      0.88        87\n",
            "        SYIN       1.00      0.80      0.89        25\n",
            "        SYIS       0.65      0.71      0.68        31\n",
            "        SYPT       0.00      0.00      0.00         6\n",
            "        SYXX       0.92      0.84      0.88       366\n",
            "        TEAU       0.94      0.92      0.93      1073\n",
            "        TEMT       0.94      0.75      0.83        59\n",
            "        TEXX       0.97      0.97      0.97       590\n",
            "        TOCO       0.90      0.89      0.90       857\n",
            "        TOFC       0.94      0.93      0.94      1511\n",
            "        TOFS       0.83      0.88      0.85        81\n",
            "        TOMR       0.96      0.58      0.72        43\n",
            "        TOPO       0.73      0.65      0.69        55\n",
            "        TOSI       0.77      0.97      0.86       829\n",
            "        TRPR       0.91      0.45      0.61        22\n",
            "        TSXX       0.00      0.00      0.00         2\n",
            "        TTXX       0.00      0.00      0.00         1\n",
            "        TWXX       0.94      0.79      0.86        42\n",
            "        UEXX       1.00      0.83      0.91        18\n",
            "        VATR       0.00      0.00      0.00         1\n",
            "        aamd       0.00      0.00      0.00         1\n",
            "        asxx       0.00      0.00      0.00         2\n",
            "        bfam       0.00      0.00      0.00         4\n",
            "        dmda       0.00      0.00      0.00         1\n",
            "        edxx       1.00      0.50      0.67         2\n",
            "        indb       0.00      0.00      0.00         1\n",
            "        inds       0.00      0.00      0.00         1\n",
            "        leco       0.00      0.00      0.00         1\n",
            "        mbxx       0.00      0.00      0.00         1\n",
            "        rabf       1.00      1.00      1.00         3\n",
            "        teau       0.50      0.25      0.33         4\n",
            "\n",
            "    accuracy                           0.85     31461\n",
            "   macro avg       0.67      0.55      0.58     31461\n",
            "weighted avg       0.86      0.85      0.84     31461\n",
            "\n"
          ]
        },
        {
          "output_type": "stream",
          "name": "stderr",
          "text": [
            "/usr/local/lib/python3.10/dist-packages/sklearn/metrics/_classification.py:1344: UndefinedMetricWarning: Precision and F-score are ill-defined and being set to 0.0 in labels with no predicted samples. Use `zero_division` parameter to control this behavior.\n",
            "  _warn_prf(average, modifier, msg_start, len(result))\n"
          ]
        }
      ]
    },
    {
      "cell_type": "markdown",
      "source": [
        "Level"
      ],
      "metadata": {
        "id": "speJir44Esd9"
      }
    },
    {
      "cell_type": "code",
      "source": [
        "# Train logistic regression model\n",
        "model_2 = LogisticRegression(max_iter=10000)\n",
        "model_2.fit(X_train_2, y_train_2)\n",
        "\n",
        "# Predict on test set and evaluate performance\n",
        "y_pred_2 = model_2.predict(X_test_2)\n",
        "print('Accuracy:', accuracy_score(y_test_2, y_pred_2))\n",
        "print('Classification Report:\\n', classification_report(y_test_2, y_pred_2))"
      ],
      "metadata": {
        "id": "g3VrW4jvEtUm",
        "outputId": "6be59b0d-f9a6-4e21-e169-a719a78c3f6d",
        "colab": {
          "base_uri": "https://localhost:8080/"
        }
      },
      "execution_count": 81,
      "outputs": [
        {
          "output_type": "stream",
          "name": "stdout",
          "text": [
            "Accuracy: 0.745208353199199\n"
          ]
        },
        {
          "output_type": "stream",
          "name": "stderr",
          "text": [
            "/usr/local/lib/python3.10/dist-packages/sklearn/metrics/_classification.py:1344: UndefinedMetricWarning: Precision and F-score are ill-defined and being set to 0.0 in labels with no predicted samples. Use `zero_division` parameter to control this behavior.\n",
            "  _warn_prf(average, modifier, msg_start, len(result))\n",
            "/usr/local/lib/python3.10/dist-packages/sklearn/metrics/_classification.py:1344: UndefinedMetricWarning: Precision and F-score are ill-defined and being set to 0.0 in labels with no predicted samples. Use `zero_division` parameter to control this behavior.\n",
            "  _warn_prf(average, modifier, msg_start, len(result))\n"
          ]
        },
        {
          "output_type": "stream",
          "name": "stdout",
          "text": [
            "Classification Report:\n",
            "               precision    recall  f1-score   support\n",
            "\n",
            "           1       1.00      1.00      1.00         9\n",
            "           2       0.47      0.91      0.62        44\n",
            "           3       0.40      0.07      0.12        82\n",
            "           4       0.58      0.76      0.66        46\n",
            "           5       0.67      0.35      0.46        17\n",
            "           6       0.67      0.29      0.40         7\n",
            "           7       0.00      0.00      0.00         2\n",
            "          E1       0.67      0.19      0.30        62\n",
            "          E2       0.67      0.40      0.50        10\n",
            "          I0       1.00      1.00      1.00         2\n",
            "          I1       0.72      0.86      0.79      4809\n",
            "          I2       0.70      0.62      0.66      3979\n",
            "          I3       0.76      0.68      0.72      3934\n",
            "          I4       0.78      0.89      0.83      6702\n",
            "          I5       0.73      0.65      0.69      1581\n",
            "          I6       0.59      0.17      0.27       230\n",
            "          I7       0.86      0.60      0.71        10\n",
            "          M2       0.85      0.82      0.84       244\n",
            "          M3       0.64      0.48      0.54      1124\n",
            "          M4       0.59      0.72      0.65      1180\n",
            "          M5       0.63      0.58      0.61      1386\n",
            "          M6       0.69      0.49      0.57       498\n",
            "          M7       0.69      0.44      0.54       386\n",
            "          S1       0.70      0.56      0.62       158\n",
            "          S2       0.89      0.91      0.90      2447\n",
            "          S3       0.81      0.73      0.77      2512\n",
            "\n",
            "    accuracy                           0.75     31461\n",
            "   macro avg       0.68      0.58      0.61     31461\n",
            "weighted avg       0.74      0.75      0.74     31461\n",
            "\n"
          ]
        },
        {
          "output_type": "stream",
          "name": "stderr",
          "text": [
            "/usr/local/lib/python3.10/dist-packages/sklearn/metrics/_classification.py:1344: UndefinedMetricWarning: Precision and F-score are ill-defined and being set to 0.0 in labels with no predicted samples. Use `zero_division` parameter to control this behavior.\n",
            "  _warn_prf(average, modifier, msg_start, len(result))\n"
          ]
        }
      ]
    },
    {
      "cell_type": "markdown",
      "source": [
        "Unseen JF"
      ],
      "metadata": {
        "id": "Uw3a2C6MFFps"
      }
    },
    {
      "cell_type": "code",
      "source": [
        "X_test_unseen = []\n",
        "\n",
        "for i, col in enumerate(train_cols):\n",
        "    vectorizer = vectorizers[i]\n",
        "    X_test_col = vectorizer.transform(df_test.loc[:, col])\n",
        "    X_test_unseen.append(X_test_col)\n",
        "\n",
        "X_unseen = hstack(X_test_unseen)"
      ],
      "metadata": {
        "id": "NQZToaZCqgw9"
      },
      "execution_count": 82,
      "outputs": []
    },
    {
      "cell_type": "markdown",
      "source": [
        "JF"
      ],
      "metadata": {
        "id": "p7G0-yLwG1Om"
      }
    },
    {
      "cell_type": "code",
      "source": [
        "y_test_pred = model.predict (X_unseen)"
      ],
      "metadata": {
        "id": "YHDH2Tm-qinj"
      },
      "execution_count": 83,
      "outputs": []
    },
    {
      "cell_type": "markdown",
      "source": [
        "Unseen Level + Pred JF"
      ],
      "metadata": {
        "id": "ouGxrZbu9AB8"
      }
    },
    {
      "cell_type": "code",
      "source": [
        "X_test_unseen_2 = []\n",
        "z=0\n",
        "for i, col in enumerate(train_cols):\n",
        "    vectorizer = vectorizers_2[i]\n",
        "    X_test_col_2 = vectorizer.transform(df_test.loc[:, col])\n",
        "    X_test_unseen_2.append(X_test_col_2)\n",
        "    z=i\n",
        "\n",
        "vectorizer = vectorizers_2[z+1]\n",
        "X_test_col_2 = vectorizer.transform(df_test.loc[:, jfcol])\n",
        "X_test_unseen_2.append(X_test_col_2)\n",
        "\n",
        "X_unseen_2 = hstack(X_test_unseen_2)\n"
      ],
      "metadata": {
        "id": "2InaNFw39De7"
      },
      "execution_count": 84,
      "outputs": []
    },
    {
      "cell_type": "markdown",
      "source": [
        "Level"
      ],
      "metadata": {
        "id": "70r5Xbw5G2en"
      }
    },
    {
      "cell_type": "code",
      "source": [
        "y_test_pred_2 = model_2.predict (X_unseen_2)"
      ],
      "metadata": {
        "id": "0XWYp9w4G4M2"
      },
      "execution_count": 85,
      "outputs": []
    },
    {
      "cell_type": "code",
      "source": [
        "pd.DataFrame(y_test_pred).to_csv('JF_x.csv')\n",
        "pd.DataFrame(y_test_pred_2).to_csv('Lvl_x.csv')\n",
        "frames=[pd.DataFrame(y_test_pred),pd.DataFrame(y_test_pred_2)]\n",
        "maps=pd.concat(frames, axis=1)\n",
        "pd.DataFrame(maps).to_csv('maps_x.csv')"
      ],
      "metadata": {
        "id": "GFo__iaGqkq3"
      },
      "execution_count": 86,
      "outputs": []
    },
    {
      "cell_type": "markdown",
      "source": [
        "JF"
      ],
      "metadata": {
        "id": "ReL5_jziHi-X"
      }
    },
    {
      "cell_type": "code",
      "source": [
        "# Predict on test set and evaluate performance\n",
        "y_test_actual=df_test[target_col]\n",
        "print('Accuracy:', accuracy_score(y_test_actual, y_test_pred))\n",
        "print('Classification Report:\\n', classification_report(y_test_actual, y_test_pred))"
      ],
      "metadata": {
        "id": "gKDeyzgiSrDX",
        "outputId": "81e3914e-f74c-4f0e-dd63-c0ce52a0be8d",
        "colab": {
          "base_uri": "https://localhost:8080/"
        }
      },
      "execution_count": 87,
      "outputs": [
        {
          "output_type": "stream",
          "name": "stdout",
          "text": [
            "Accuracy: 0.9286452947259566\n",
            "Classification Report:\n",
            "               precision    recall  f1-score   support\n",
            "\n",
            "        AADS       0.00      0.00      0.00         0\n",
            "        AAMD       0.00      0.00      0.00         0\n",
            "        AFAD       1.00      0.92      0.96        12\n",
            "        ASFS       0.00      0.00      0.00         0\n",
            "        BFAM       0.75      0.80      0.77        15\n",
            "        BFCB       0.97      0.98      0.98      1456\n",
            "        BFCM       0.35      0.43      0.38        21\n",
            "        BFTO       0.00      0.00      0.00         0\n",
            "        BSMT       0.00      0.00      0.00        12\n",
            "        CCVD       1.00      0.98      0.99       130\n",
            "        CSEL       0.00      0.00      0.00         0\n",
            "        FAFA       0.00      0.00      0.00         0\n",
            "        FLXX       0.00      0.00      0.00         0\n",
            "        HRCB       0.00      0.00      0.00         0\n",
            "        HROD       0.00      0.00      0.00         2\n",
            "        HRRE       0.00      0.00      0.00         0\n",
            "        HRSS       0.00      0.00      0.00         8\n",
            "        HRTR       0.89      1.00      0.94         8\n",
            "        HRXX       1.00      1.00      1.00        15\n",
            "        HSGL       0.00      0.00      0.00         0\n",
            "        INAU       0.83      0.71      0.77         7\n",
            "        INXX       0.78      0.79      0.79        58\n",
            "        LECO       0.73      1.00      0.84         8\n",
            "        MBCC       1.00      0.75      0.86        12\n",
            "        MBDM       0.92      0.46      0.61        24\n",
            "        MBXX       0.33      0.50      0.40         2\n",
            "        PDPM       0.00      0.00      0.00         0\n",
            "        PRXX       0.76      0.67      0.72        43\n",
            "        QUTF       0.00      0.00      0.00         0\n",
            "        QUTS       0.00      0.00      0.00         0\n",
            "        RABF       0.90      0.96      0.93        48\n",
            "        RIER       0.95      1.00      0.97        19\n",
            "        SAAC       1.00      0.50      0.67         4\n",
            "        SACS       1.00      0.12      0.22        24\n",
            "        SYIN       0.00      0.00      0.00         3\n",
            "        SYXX       0.00      0.00      0.00         0\n",
            "        TEAU       0.00      0.00      0.00         0\n",
            "        TOCO       0.00      0.00      0.00         0\n",
            "        TOFC       0.00      0.00      0.00         0\n",
            "        TOSI       0.00      0.00      0.00         3\n",
            "\n",
            "    accuracy                           0.93      1934\n",
            "   macro avg       0.38      0.34      0.35      1934\n",
            "weighted avg       0.94      0.93      0.93      1934\n",
            "\n"
          ]
        },
        {
          "output_type": "stream",
          "name": "stderr",
          "text": [
            "/usr/local/lib/python3.10/dist-packages/sklearn/metrics/_classification.py:1344: UndefinedMetricWarning: Precision and F-score are ill-defined and being set to 0.0 in labels with no predicted samples. Use `zero_division` parameter to control this behavior.\n",
            "  _warn_prf(average, modifier, msg_start, len(result))\n",
            "/usr/local/lib/python3.10/dist-packages/sklearn/metrics/_classification.py:1344: UndefinedMetricWarning: Recall and F-score are ill-defined and being set to 0.0 in labels with no true samples. Use `zero_division` parameter to control this behavior.\n",
            "  _warn_prf(average, modifier, msg_start, len(result))\n",
            "/usr/local/lib/python3.10/dist-packages/sklearn/metrics/_classification.py:1344: UndefinedMetricWarning: Precision and F-score are ill-defined and being set to 0.0 in labels with no predicted samples. Use `zero_division` parameter to control this behavior.\n",
            "  _warn_prf(average, modifier, msg_start, len(result))\n",
            "/usr/local/lib/python3.10/dist-packages/sklearn/metrics/_classification.py:1344: UndefinedMetricWarning: Recall and F-score are ill-defined and being set to 0.0 in labels with no true samples. Use `zero_division` parameter to control this behavior.\n",
            "  _warn_prf(average, modifier, msg_start, len(result))\n",
            "/usr/local/lib/python3.10/dist-packages/sklearn/metrics/_classification.py:1344: UndefinedMetricWarning: Precision and F-score are ill-defined and being set to 0.0 in labels with no predicted samples. Use `zero_division` parameter to control this behavior.\n",
            "  _warn_prf(average, modifier, msg_start, len(result))\n",
            "/usr/local/lib/python3.10/dist-packages/sklearn/metrics/_classification.py:1344: UndefinedMetricWarning: Recall and F-score are ill-defined and being set to 0.0 in labels with no true samples. Use `zero_division` parameter to control this behavior.\n",
            "  _warn_prf(average, modifier, msg_start, len(result))\n"
          ]
        }
      ]
    },
    {
      "cell_type": "code",
      "source": [
        "df_lvlx = pd.read_csv('maps_x.csv')"
      ],
      "metadata": {
        "id": "3F3Q17mTphUg"
      },
      "execution_count": 88,
      "outputs": []
    },
    {
      "cell_type": "markdown",
      "source": [
        "Level"
      ],
      "metadata": {
        "id": "WdQCZxtcHllh"
      }
    },
    {
      "cell_type": "code",
      "source": [
        "# Predict on test set and evaluate performance\n",
        "y_test_actual_2=df_test[target_col_2]\n",
        "print('Accuracy:', accuracy_score(y_test_actual_2, y_test_pred_2))\n",
        "print('Classification Report:\\n', classification_report(y_test_actual_2, y_test_pred_2))"
      ],
      "metadata": {
        "id": "0Dty7SHVHmtG",
        "outputId": "6c8de4af-a1cb-42d1-ca02-4a0bd2100539",
        "colab": {
          "base_uri": "https://localhost:8080/"
        }
      },
      "execution_count": 89,
      "outputs": [
        {
          "output_type": "stream",
          "name": "stdout",
          "text": [
            "Accuracy: 0.5330920372285419\n",
            "Classification Report:\n",
            "               precision    recall  f1-score   support\n",
            "\n",
            "          E1       0.33      0.15      0.21        13\n",
            "          E2       1.00      0.14      0.25         7\n",
            "          I1       0.00      0.00      0.00         0\n",
            "          I2       0.50      0.76      0.60       601\n",
            "          I3       0.00      0.00      0.00         0\n",
            "          I4       0.00      0.00      0.00         0\n",
            "          M3       0.55      0.08      0.14       494\n",
            "          M4       0.43      0.49      0.46       203\n",
            "          M5       0.42      0.16      0.24        91\n",
            "          M6       0.41      0.34      0.37        50\n",
            "          M7       0.58      0.33      0.42        43\n",
            "          S2       0.00      0.00      0.00         0\n",
            "          S3       0.74      0.90      0.81       432\n",
            "\n",
            "    accuracy                           0.53      1934\n",
            "   macro avg       0.38      0.26      0.27      1934\n",
            "weighted avg       0.56      0.53      0.49      1934\n",
            "\n"
          ]
        },
        {
          "output_type": "stream",
          "name": "stderr",
          "text": [
            "/usr/local/lib/python3.10/dist-packages/sklearn/metrics/_classification.py:1344: UndefinedMetricWarning: Recall and F-score are ill-defined and being set to 0.0 in labels with no true samples. Use `zero_division` parameter to control this behavior.\n",
            "  _warn_prf(average, modifier, msg_start, len(result))\n",
            "/usr/local/lib/python3.10/dist-packages/sklearn/metrics/_classification.py:1344: UndefinedMetricWarning: Recall and F-score are ill-defined and being set to 0.0 in labels with no true samples. Use `zero_division` parameter to control this behavior.\n",
            "  _warn_prf(average, modifier, msg_start, len(result))\n",
            "/usr/local/lib/python3.10/dist-packages/sklearn/metrics/_classification.py:1344: UndefinedMetricWarning: Recall and F-score are ill-defined and being set to 0.0 in labels with no true samples. Use `zero_division` parameter to control this behavior.\n",
            "  _warn_prf(average, modifier, msg_start, len(result))\n"
          ]
        }
      ]
    },
    {
      "cell_type": "code",
      "source": [
        "df_test_2.shape"
      ],
      "metadata": {
        "id": "olWMiIi_sMD2",
        "outputId": "dfc6e20e-0e17-4a95-c755-8a74c62729a5",
        "colab": {
          "base_uri": "https://localhost:8080/"
        }
      },
      "execution_count": 90,
      "outputs": [
        {
          "output_type": "execute_result",
          "data": {
            "text/plain": [
              "(1934, 5)"
            ]
          },
          "metadata": {},
          "execution_count": 90
        }
      ]
    },
    {
      "cell_type": "code",
      "source": [
        "temp=df_test_2.loc[:,'TFP']\n",
        "init_maps=pd.concat([maps , temp], axis=1)\n",
        "init_maps"
      ],
      "metadata": {
        "id": "UrJNtqbep0WK",
        "outputId": "04254af7-f835-449d-904a-d22ca8323a9a",
        "colab": {
          "base_uri": "https://localhost:8080/",
          "height": 423
        }
      },
      "execution_count": 91,
      "outputs": [
        {
          "output_type": "execute_result",
          "data": {
            "text/plain": [
              "         0   0     TFP\n",
              "0     BFCB  S3  225766\n",
              "1     BFCB  S3  290000\n",
              "2     BFCB  I2  350000\n",
              "3     BFCB  I2  340000\n",
              "4     BFCB  I2  400000\n",
              "...    ...  ..     ...\n",
              "1929  BFCB  S3  272325\n",
              "1930  BFCB  I2  450000\n",
              "1931  BFCB  S3  262637\n",
              "1932  BFCB  S3  267481\n",
              "1933  BFCB  S3  272325\n",
              "\n",
              "[1934 rows x 3 columns]"
            ],
            "text/html": [
              "\n",
              "  <div id=\"df-5fe56305-85af-4931-ab6e-572b8b444118\" class=\"colab-df-container\">\n",
              "    <div>\n",
              "<style scoped>\n",
              "    .dataframe tbody tr th:only-of-type {\n",
              "        vertical-align: middle;\n",
              "    }\n",
              "\n",
              "    .dataframe tbody tr th {\n",
              "        vertical-align: top;\n",
              "    }\n",
              "\n",
              "    .dataframe thead th {\n",
              "        text-align: right;\n",
              "    }\n",
              "</style>\n",
              "<table border=\"1\" class=\"dataframe\">\n",
              "  <thead>\n",
              "    <tr style=\"text-align: right;\">\n",
              "      <th></th>\n",
              "      <th>0</th>\n",
              "      <th>0</th>\n",
              "      <th>TFP</th>\n",
              "    </tr>\n",
              "  </thead>\n",
              "  <tbody>\n",
              "    <tr>\n",
              "      <th>0</th>\n",
              "      <td>BFCB</td>\n",
              "      <td>S3</td>\n",
              "      <td>225766</td>\n",
              "    </tr>\n",
              "    <tr>\n",
              "      <th>1</th>\n",
              "      <td>BFCB</td>\n",
              "      <td>S3</td>\n",
              "      <td>290000</td>\n",
              "    </tr>\n",
              "    <tr>\n",
              "      <th>2</th>\n",
              "      <td>BFCB</td>\n",
              "      <td>I2</td>\n",
              "      <td>350000</td>\n",
              "    </tr>\n",
              "    <tr>\n",
              "      <th>3</th>\n",
              "      <td>BFCB</td>\n",
              "      <td>I2</td>\n",
              "      <td>340000</td>\n",
              "    </tr>\n",
              "    <tr>\n",
              "      <th>4</th>\n",
              "      <td>BFCB</td>\n",
              "      <td>I2</td>\n",
              "      <td>400000</td>\n",
              "    </tr>\n",
              "    <tr>\n",
              "      <th>...</th>\n",
              "      <td>...</td>\n",
              "      <td>...</td>\n",
              "      <td>...</td>\n",
              "    </tr>\n",
              "    <tr>\n",
              "      <th>1929</th>\n",
              "      <td>BFCB</td>\n",
              "      <td>S3</td>\n",
              "      <td>272325</td>\n",
              "    </tr>\n",
              "    <tr>\n",
              "      <th>1930</th>\n",
              "      <td>BFCB</td>\n",
              "      <td>I2</td>\n",
              "      <td>450000</td>\n",
              "    </tr>\n",
              "    <tr>\n",
              "      <th>1931</th>\n",
              "      <td>BFCB</td>\n",
              "      <td>S3</td>\n",
              "      <td>262637</td>\n",
              "    </tr>\n",
              "    <tr>\n",
              "      <th>1932</th>\n",
              "      <td>BFCB</td>\n",
              "      <td>S3</td>\n",
              "      <td>267481</td>\n",
              "    </tr>\n",
              "    <tr>\n",
              "      <th>1933</th>\n",
              "      <td>BFCB</td>\n",
              "      <td>S3</td>\n",
              "      <td>272325</td>\n",
              "    </tr>\n",
              "  </tbody>\n",
              "</table>\n",
              "<p>1934 rows × 3 columns</p>\n",
              "</div>\n",
              "    <div class=\"colab-df-buttons\">\n",
              "\n",
              "  <div class=\"colab-df-container\">\n",
              "    <button class=\"colab-df-convert\" onclick=\"convertToInteractive('df-5fe56305-85af-4931-ab6e-572b8b444118')\"\n",
              "            title=\"Convert this dataframe to an interactive table.\"\n",
              "            style=\"display:none;\">\n",
              "\n",
              "  <svg xmlns=\"http://www.w3.org/2000/svg\" height=\"24px\" viewBox=\"0 -960 960 960\">\n",
              "    <path d=\"M120-120v-720h720v720H120Zm60-500h600v-160H180v160Zm220 220h160v-160H400v160Zm0 220h160v-160H400v160ZM180-400h160v-160H180v160Zm440 0h160v-160H620v160ZM180-180h160v-160H180v160Zm440 0h160v-160H620v160Z\"/>\n",
              "  </svg>\n",
              "    </button>\n",
              "\n",
              "  <style>\n",
              "    .colab-df-container {\n",
              "      display:flex;\n",
              "      gap: 12px;\n",
              "    }\n",
              "\n",
              "    .colab-df-convert {\n",
              "      background-color: #E8F0FE;\n",
              "      border: none;\n",
              "      border-radius: 50%;\n",
              "      cursor: pointer;\n",
              "      display: none;\n",
              "      fill: #1967D2;\n",
              "      height: 32px;\n",
              "      padding: 0 0 0 0;\n",
              "      width: 32px;\n",
              "    }\n",
              "\n",
              "    .colab-df-convert:hover {\n",
              "      background-color: #E2EBFA;\n",
              "      box-shadow: 0px 1px 2px rgba(60, 64, 67, 0.3), 0px 1px 3px 1px rgba(60, 64, 67, 0.15);\n",
              "      fill: #174EA6;\n",
              "    }\n",
              "\n",
              "    .colab-df-buttons div {\n",
              "      margin-bottom: 4px;\n",
              "    }\n",
              "\n",
              "    [theme=dark] .colab-df-convert {\n",
              "      background-color: #3B4455;\n",
              "      fill: #D2E3FC;\n",
              "    }\n",
              "\n",
              "    [theme=dark] .colab-df-convert:hover {\n",
              "      background-color: #434B5C;\n",
              "      box-shadow: 0px 1px 3px 1px rgba(0, 0, 0, 0.15);\n",
              "      filter: drop-shadow(0px 1px 2px rgba(0, 0, 0, 0.3));\n",
              "      fill: #FFFFFF;\n",
              "    }\n",
              "  </style>\n",
              "\n",
              "    <script>\n",
              "      const buttonEl =\n",
              "        document.querySelector('#df-5fe56305-85af-4931-ab6e-572b8b444118 button.colab-df-convert');\n",
              "      buttonEl.style.display =\n",
              "        google.colab.kernel.accessAllowed ? 'block' : 'none';\n",
              "\n",
              "      async function convertToInteractive(key) {\n",
              "        const element = document.querySelector('#df-5fe56305-85af-4931-ab6e-572b8b444118');\n",
              "        const dataTable =\n",
              "          await google.colab.kernel.invokeFunction('convertToInteractive',\n",
              "                                                    [key], {});\n",
              "        if (!dataTable) return;\n",
              "\n",
              "        const docLinkHtml = 'Like what you see? Visit the ' +\n",
              "          '<a target=\"_blank\" href=https://colab.research.google.com/notebooks/data_table.ipynb>data table notebook</a>'\n",
              "          + ' to learn more about interactive tables.';\n",
              "        element.innerHTML = '';\n",
              "        dataTable['output_type'] = 'display_data';\n",
              "        await google.colab.output.renderOutput(dataTable, element);\n",
              "        const docLink = document.createElement('div');\n",
              "        docLink.innerHTML = docLinkHtml;\n",
              "        element.appendChild(docLink);\n",
              "      }\n",
              "    </script>\n",
              "  </div>\n",
              "\n",
              "\n",
              "<div id=\"df-f7aec7e1-b8e1-465c-bfb8-125b41ada19d\">\n",
              "  <button class=\"colab-df-quickchart\" onclick=\"quickchart('df-f7aec7e1-b8e1-465c-bfb8-125b41ada19d')\"\n",
              "            title=\"Suggest charts.\"\n",
              "            style=\"display:none;\">\n",
              "\n",
              "<svg xmlns=\"http://www.w3.org/2000/svg\" height=\"24px\"viewBox=\"0 0 24 24\"\n",
              "     width=\"24px\">\n",
              "    <g>\n",
              "        <path d=\"M19 3H5c-1.1 0-2 .9-2 2v14c0 1.1.9 2 2 2h14c1.1 0 2-.9 2-2V5c0-1.1-.9-2-2-2zM9 17H7v-7h2v7zm4 0h-2V7h2v10zm4 0h-2v-4h2v4z\"/>\n",
              "    </g>\n",
              "</svg>\n",
              "  </button>\n",
              "\n",
              "<style>\n",
              "  .colab-df-quickchart {\n",
              "    background-color: #E8F0FE;\n",
              "    border: none;\n",
              "    border-radius: 50%;\n",
              "    cursor: pointer;\n",
              "    display: none;\n",
              "    fill: #1967D2;\n",
              "    height: 32px;\n",
              "    padding: 0 0 0 0;\n",
              "    width: 32px;\n",
              "  }\n",
              "\n",
              "  .colab-df-quickchart:hover {\n",
              "    background-color: #E2EBFA;\n",
              "    box-shadow: 0px 1px 2px rgba(60, 64, 67, 0.3), 0px 1px 3px 1px rgba(60, 64, 67, 0.15);\n",
              "    fill: #174EA6;\n",
              "  }\n",
              "\n",
              "  [theme=dark] .colab-df-quickchart {\n",
              "    background-color: #3B4455;\n",
              "    fill: #D2E3FC;\n",
              "  }\n",
              "\n",
              "  [theme=dark] .colab-df-quickchart:hover {\n",
              "    background-color: #434B5C;\n",
              "    box-shadow: 0px 1px 3px 1px rgba(0, 0, 0, 0.15);\n",
              "    filter: drop-shadow(0px 1px 2px rgba(0, 0, 0, 0.3));\n",
              "    fill: #FFFFFF;\n",
              "  }\n",
              "</style>\n",
              "\n",
              "  <script>\n",
              "    async function quickchart(key) {\n",
              "      const charts = await google.colab.kernel.invokeFunction(\n",
              "          'suggestCharts', [key], {});\n",
              "    }\n",
              "    (() => {\n",
              "      let quickchartButtonEl =\n",
              "        document.querySelector('#df-f7aec7e1-b8e1-465c-bfb8-125b41ada19d button');\n",
              "      quickchartButtonEl.style.display =\n",
              "        google.colab.kernel.accessAllowed ? 'block' : 'none';\n",
              "    })();\n",
              "  </script>\n",
              "</div>\n",
              "    </div>\n",
              "  </div>\n"
            ]
          },
          "metadata": {},
          "execution_count": 91
        }
      ]
    },
    {
      "cell_type": "code",
      "source": [
        "#init_maps.JF.unique()"
      ],
      "metadata": {
        "id": "Z4APnSDjyDTJ"
      },
      "execution_count": 92,
      "outputs": []
    },
    {
      "cell_type": "code",
      "source": [
        "init_maps.columns = ['JF', 'level', 'TFP']"
      ],
      "metadata": {
        "id": "PkPWGplhxuIs"
      },
      "execution_count": 93,
      "outputs": []
    },
    {
      "cell_type": "code",
      "source": [
        "ref_table = pd.read_excel('GCC_LOL.xlsx')"
      ],
      "metadata": {
        "id": "hYZJT24Nq_oa"
      },
      "execution_count": 94,
      "outputs": []
    },
    {
      "cell_type": "code",
      "source": [
        "#temp_level = ref_table.loc[ref_table.index == 3].Level.values[0]\n",
        "#temp_level"
      ],
      "metadata": {
        "id": "PRIS2U_Ixcps"
      },
      "execution_count": 95,
      "outputs": []
    },
    {
      "cell_type": "code",
      "source": [
        "def find_in_ref(df, jf, level):\n",
        "  try:\n",
        "    return df.loc[(df.JF == jf) & (df.Level == level)]\n",
        "  except:\n",
        "    return None\n",
        "\n",
        "def check_range_ref(ref_df, comp, index):\n",
        "  ref_row = ref_df.loc[ref_df.index == index]\n",
        "\n",
        "  if comp >= ref_row.Min.values[0] and comp <= ref_row.Max.values[0] :\n",
        "    return True\n",
        "\n",
        "  return False\n",
        "\n",
        "def compare_range_ref(ref_df, comp, index):\n",
        "  ref_row = ref_df.loc[ref_df.index == index]\n",
        "\n",
        "  if comp < ref_row.Min.values[0]:\n",
        "    return -1\n",
        "  elif comp > ref_row.Max.values[0]:\n",
        "    return 1\n",
        "  elif comp >= ref_row.Min.values[0] and comp <= ref_row.Max.values[0] :\n",
        "    return 0\n",
        "\n",
        "  return False\n"
      ],
      "metadata": {
        "id": "j5bQBmhCxmHj"
      },
      "execution_count": 96,
      "outputs": []
    },
    {
      "cell_type": "code",
      "source": [
        "find_in_ref(ref_table, 'HRBP', 'I5')"
      ],
      "metadata": {
        "id": "Jrh3742py6zY",
        "outputId": "704eb348-90bf-4a21-a989-e7b4996c9101",
        "colab": {
          "base_uri": "https://localhost:8080/",
          "height": 89
        }
      },
      "execution_count": 97,
      "outputs": [
        {
          "output_type": "execute_result",
          "data": {
            "text/plain": [
              "    JF+Level    JF Level     P10     P90\n",
              "606   HRBPI5  HRBP    I5  2927.0  5732.0"
            ],
            "text/html": [
              "\n",
              "  <div id=\"df-c2b570bd-aa84-4d68-968f-5c18897117b4\" class=\"colab-df-container\">\n",
              "    <div>\n",
              "<style scoped>\n",
              "    .dataframe tbody tr th:only-of-type {\n",
              "        vertical-align: middle;\n",
              "    }\n",
              "\n",
              "    .dataframe tbody tr th {\n",
              "        vertical-align: top;\n",
              "    }\n",
              "\n",
              "    .dataframe thead th {\n",
              "        text-align: right;\n",
              "    }\n",
              "</style>\n",
              "<table border=\"1\" class=\"dataframe\">\n",
              "  <thead>\n",
              "    <tr style=\"text-align: right;\">\n",
              "      <th></th>\n",
              "      <th>JF+Level</th>\n",
              "      <th>JF</th>\n",
              "      <th>Level</th>\n",
              "      <th>P10</th>\n",
              "      <th>P90</th>\n",
              "    </tr>\n",
              "  </thead>\n",
              "  <tbody>\n",
              "    <tr>\n",
              "      <th>606</th>\n",
              "      <td>HRBPI5</td>\n",
              "      <td>HRBP</td>\n",
              "      <td>I5</td>\n",
              "      <td>2927.0</td>\n",
              "      <td>5732.0</td>\n",
              "    </tr>\n",
              "  </tbody>\n",
              "</table>\n",
              "</div>\n",
              "    <div class=\"colab-df-buttons\">\n",
              "\n",
              "  <div class=\"colab-df-container\">\n",
              "    <button class=\"colab-df-convert\" onclick=\"convertToInteractive('df-c2b570bd-aa84-4d68-968f-5c18897117b4')\"\n",
              "            title=\"Convert this dataframe to an interactive table.\"\n",
              "            style=\"display:none;\">\n",
              "\n",
              "  <svg xmlns=\"http://www.w3.org/2000/svg\" height=\"24px\" viewBox=\"0 -960 960 960\">\n",
              "    <path d=\"M120-120v-720h720v720H120Zm60-500h600v-160H180v160Zm220 220h160v-160H400v160Zm0 220h160v-160H400v160ZM180-400h160v-160H180v160Zm440 0h160v-160H620v160ZM180-180h160v-160H180v160Zm440 0h160v-160H620v160Z\"/>\n",
              "  </svg>\n",
              "    </button>\n",
              "\n",
              "  <style>\n",
              "    .colab-df-container {\n",
              "      display:flex;\n",
              "      gap: 12px;\n",
              "    }\n",
              "\n",
              "    .colab-df-convert {\n",
              "      background-color: #E8F0FE;\n",
              "      border: none;\n",
              "      border-radius: 50%;\n",
              "      cursor: pointer;\n",
              "      display: none;\n",
              "      fill: #1967D2;\n",
              "      height: 32px;\n",
              "      padding: 0 0 0 0;\n",
              "      width: 32px;\n",
              "    }\n",
              "\n",
              "    .colab-df-convert:hover {\n",
              "      background-color: #E2EBFA;\n",
              "      box-shadow: 0px 1px 2px rgba(60, 64, 67, 0.3), 0px 1px 3px 1px rgba(60, 64, 67, 0.15);\n",
              "      fill: #174EA6;\n",
              "    }\n",
              "\n",
              "    .colab-df-buttons div {\n",
              "      margin-bottom: 4px;\n",
              "    }\n",
              "\n",
              "    [theme=dark] .colab-df-convert {\n",
              "      background-color: #3B4455;\n",
              "      fill: #D2E3FC;\n",
              "    }\n",
              "\n",
              "    [theme=dark] .colab-df-convert:hover {\n",
              "      background-color: #434B5C;\n",
              "      box-shadow: 0px 1px 3px 1px rgba(0, 0, 0, 0.15);\n",
              "      filter: drop-shadow(0px 1px 2px rgba(0, 0, 0, 0.3));\n",
              "      fill: #FFFFFF;\n",
              "    }\n",
              "  </style>\n",
              "\n",
              "    <script>\n",
              "      const buttonEl =\n",
              "        document.querySelector('#df-c2b570bd-aa84-4d68-968f-5c18897117b4 button.colab-df-convert');\n",
              "      buttonEl.style.display =\n",
              "        google.colab.kernel.accessAllowed ? 'block' : 'none';\n",
              "\n",
              "      async function convertToInteractive(key) {\n",
              "        const element = document.querySelector('#df-c2b570bd-aa84-4d68-968f-5c18897117b4');\n",
              "        const dataTable =\n",
              "          await google.colab.kernel.invokeFunction('convertToInteractive',\n",
              "                                                    [key], {});\n",
              "        if (!dataTable) return;\n",
              "\n",
              "        const docLinkHtml = 'Like what you see? Visit the ' +\n",
              "          '<a target=\"_blank\" href=https://colab.research.google.com/notebooks/data_table.ipynb>data table notebook</a>'\n",
              "          + ' to learn more about interactive tables.';\n",
              "        element.innerHTML = '';\n",
              "        dataTable['output_type'] = 'display_data';\n",
              "        await google.colab.output.renderOutput(dataTable, element);\n",
              "        const docLink = document.createElement('div');\n",
              "        docLink.innerHTML = docLinkHtml;\n",
              "        element.appendChild(docLink);\n",
              "      }\n",
              "    </script>\n",
              "  </div>\n",
              "\n",
              "\n",
              "<div id=\"df-42be7d75-a842-482a-bcb7-ec4224c2edd0\">\n",
              "  <button class=\"colab-df-quickchart\" onclick=\"quickchart('df-42be7d75-a842-482a-bcb7-ec4224c2edd0')\"\n",
              "            title=\"Suggest charts.\"\n",
              "            style=\"display:none;\">\n",
              "\n",
              "<svg xmlns=\"http://www.w3.org/2000/svg\" height=\"24px\"viewBox=\"0 0 24 24\"\n",
              "     width=\"24px\">\n",
              "    <g>\n",
              "        <path d=\"M19 3H5c-1.1 0-2 .9-2 2v14c0 1.1.9 2 2 2h14c1.1 0 2-.9 2-2V5c0-1.1-.9-2-2-2zM9 17H7v-7h2v7zm4 0h-2V7h2v10zm4 0h-2v-4h2v4z\"/>\n",
              "    </g>\n",
              "</svg>\n",
              "  </button>\n",
              "\n",
              "<style>\n",
              "  .colab-df-quickchart {\n",
              "    background-color: #E8F0FE;\n",
              "    border: none;\n",
              "    border-radius: 50%;\n",
              "    cursor: pointer;\n",
              "    display: none;\n",
              "    fill: #1967D2;\n",
              "    height: 32px;\n",
              "    padding: 0 0 0 0;\n",
              "    width: 32px;\n",
              "  }\n",
              "\n",
              "  .colab-df-quickchart:hover {\n",
              "    background-color: #E2EBFA;\n",
              "    box-shadow: 0px 1px 2px rgba(60, 64, 67, 0.3), 0px 1px 3px 1px rgba(60, 64, 67, 0.15);\n",
              "    fill: #174EA6;\n",
              "  }\n",
              "\n",
              "  [theme=dark] .colab-df-quickchart {\n",
              "    background-color: #3B4455;\n",
              "    fill: #D2E3FC;\n",
              "  }\n",
              "\n",
              "  [theme=dark] .colab-df-quickchart:hover {\n",
              "    background-color: #434B5C;\n",
              "    box-shadow: 0px 1px 3px 1px rgba(0, 0, 0, 0.15);\n",
              "    filter: drop-shadow(0px 1px 2px rgba(0, 0, 0, 0.3));\n",
              "    fill: #FFFFFF;\n",
              "  }\n",
              "</style>\n",
              "\n",
              "  <script>\n",
              "    async function quickchart(key) {\n",
              "      const charts = await google.colab.kernel.invokeFunction(\n",
              "          'suggestCharts', [key], {});\n",
              "    }\n",
              "    (() => {\n",
              "      let quickchartButtonEl =\n",
              "        document.querySelector('#df-42be7d75-a842-482a-bcb7-ec4224c2edd0 button');\n",
              "      quickchartButtonEl.style.display =\n",
              "        google.colab.kernel.accessAllowed ? 'block' : 'none';\n",
              "    })();\n",
              "  </script>\n",
              "</div>\n",
              "    </div>\n",
              "  </div>\n"
            ]
          },
          "metadata": {},
          "execution_count": 97
        }
      ]
    },
    {
      "cell_type": "code",
      "source": [
        "reassigned_maps = init_maps.copy(deep=True)"
      ],
      "metadata": {
        "id": "Ssn6CGFI8NC8"
      },
      "execution_count": 98,
      "outputs": []
    },
    {
      "cell_type": "code",
      "source": [
        "pd.DataFrame(init_maps).to_csv('init_maps.csv')\n",
        "init_maps.shape"
      ],
      "metadata": {
        "id": "7B0X4t3-JbDG",
        "outputId": "f6ec0d94-3bf2-4713-e86f-229128203eb7",
        "colab": {
          "base_uri": "https://localhost:8080/"
        }
      },
      "execution_count": 99,
      "outputs": [
        {
          "output_type": "execute_result",
          "data": {
            "text/plain": [
              "(1934, 3)"
            ]
          },
          "metadata": {},
          "execution_count": 99
        }
      ]
    },
    {
      "cell_type": "code",
      "source": [
        "from tqdm.auto import tqdm"
      ],
      "metadata": {
        "id": "zwzYog8T974k"
      },
      "execution_count": 100,
      "outputs": []
    },
    {
      "cell_type": "code",
      "source": [
        "for index, query in tqdm(init_maps.iterrows()):\n",
        "  ref_row = find_in_ref(ref_table, query.JF, query.level)\n",
        "  d_index=index\n",
        "\n",
        "  try:\n",
        "    ref_index = ref_row.index[0]\n",
        "  except:\n",
        "    continue\n",
        "\n",
        "  # check if comp falls in that range\n",
        "  comp = query['TFP']/1000\n",
        "  final_index = -1\n",
        "  cur_jf=query.JF\n",
        "  if compare_range_ref(ref_table, comp, ref_index)==0:\n",
        "    #print(\"Exact match found at \", ref_index)\n",
        "    final_index = ref_index\n",
        "  elif compare_range_ref(ref_table, comp, ref_index )==-1:\n",
        "    ref_index_l=ref_index\n",
        "    while ref_table.loc[ref_table.index == ref_index_l].JF.values[0]==cur_jf:\n",
        "      if ref_table.loc[ref_table.index == ref_index_l].Level.values[0]=='S2':\n",
        "        final_index = ref_index_l\n",
        "        break\n",
        "      elif compare_range_ref(ref_table, comp, ref_index_l)==0:\n",
        "        final_index = ref_index_l\n",
        "        break\n",
        "      ref_index_l=ref_index_l-1\n",
        "  elif compare_range_ref(ref_table, comp, ref_index )==1:\n",
        "    ref_index_u=ref_index\n",
        "    while ref_table.loc[ref_table.index == ref_index_u].JF.values[0]==cur_jf:\n",
        "      if compare_range_ref(ref_table, comp, ref_index_u)==0:\n",
        "        final_index = ref_index_u\n",
        "        break\n",
        "      elif ref_table.loc[ref_table.index == ref_index_u].Level.values[0]=='E2':\n",
        "        final_index = ref_index_u\n",
        "        break\n",
        "      else:\n",
        "        if ref_table.loc[ref_table.index == ref_index_u].Level.values[0]=='I7':\n",
        "          ref_index_u = ref_index_u+7\n",
        "        else:\n",
        "          ref_index_u = ref_index_u+1\n",
        "\n",
        "  if final_index != -1 :\n",
        "    final_level = ref_table.loc[ref_table.index == final_index].Level.values[0]\n",
        "    reassigned_maps.at[d_index, 'level'] = final_level\n"
      ],
      "metadata": {
        "id": "HhG6BOhfzCwd",
        "outputId": "f55235c1-e3fa-4fe1-884f-5c6a956c4e19",
        "colab": {
          "base_uri": "https://localhost:8080/",
          "height": 423,
          "referenced_widgets": [
            "906ec139f46f46cb8032be240629a10a",
            "a3eb717344d74e2ba30c56e412129ada",
            "9159386d74944c329282ca0167e46846",
            "bef1708486f34f1897a8ecb8a45d62b1",
            "8bb9d45d73b04fd099d985b9bea13e82",
            "2d5fd26a9d7844c7aaef6e94547bd63a",
            "cd53654d19044a17ad1830bcfdd76022",
            "6ca665576cdf42d7ba22790301d511e1",
            "9114768dccd34d8bb5f36b2736d6bb38",
            "483e9bf59fcb4a3db1b37d24bab99771",
            "587ba29d13604545823216d311587384"
          ]
        }
      },
      "execution_count": 101,
      "outputs": [
        {
          "output_type": "display_data",
          "data": {
            "text/plain": [
              "0it [00:00, ?it/s]"
            ],
            "application/vnd.jupyter.widget-view+json": {
              "version_major": 2,
              "version_minor": 0,
              "model_id": "906ec139f46f46cb8032be240629a10a"
            }
          },
          "metadata": {}
        },
        {
          "output_type": "error",
          "ename": "AttributeError",
          "evalue": "ignored",
          "traceback": [
            "\u001b[0;31m---------------------------------------------------------------------------\u001b[0m",
            "\u001b[0;31mAttributeError\u001b[0m                            Traceback (most recent call last)",
            "\u001b[0;32m<ipython-input-101-b4042da8e9c7>\u001b[0m in \u001b[0;36m<cell line: 1>\u001b[0;34m()\u001b[0m\n\u001b[1;32m     12\u001b[0m   \u001b[0mfinal_index\u001b[0m \u001b[0;34m=\u001b[0m \u001b[0;34m-\u001b[0m\u001b[0;36m1\u001b[0m\u001b[0;34m\u001b[0m\u001b[0;34m\u001b[0m\u001b[0m\n\u001b[1;32m     13\u001b[0m   \u001b[0mcur_jf\u001b[0m\u001b[0;34m=\u001b[0m\u001b[0mquery\u001b[0m\u001b[0;34m.\u001b[0m\u001b[0mJF\u001b[0m\u001b[0;34m\u001b[0m\u001b[0;34m\u001b[0m\u001b[0m\n\u001b[0;32m---> 14\u001b[0;31m   \u001b[0;32mif\u001b[0m \u001b[0mcompare_range_ref\u001b[0m\u001b[0;34m(\u001b[0m\u001b[0mref_table\u001b[0m\u001b[0;34m,\u001b[0m \u001b[0mcomp\u001b[0m\u001b[0;34m,\u001b[0m \u001b[0mref_index\u001b[0m\u001b[0;34m)\u001b[0m\u001b[0;34m==\u001b[0m\u001b[0;36m0\u001b[0m\u001b[0;34m:\u001b[0m\u001b[0;34m\u001b[0m\u001b[0;34m\u001b[0m\u001b[0m\n\u001b[0m\u001b[1;32m     15\u001b[0m     \u001b[0;31m#print(\"Exact match found at \", ref_index)\u001b[0m\u001b[0;34m\u001b[0m\u001b[0;34m\u001b[0m\u001b[0m\n\u001b[1;32m     16\u001b[0m     \u001b[0mfinal_index\u001b[0m \u001b[0;34m=\u001b[0m \u001b[0mref_index\u001b[0m\u001b[0;34m\u001b[0m\u001b[0;34m\u001b[0m\u001b[0m\n",
            "\u001b[0;32m<ipython-input-96-9b23b01f9a2c>\u001b[0m in \u001b[0;36mcompare_range_ref\u001b[0;34m(ref_df, comp, index)\u001b[0m\n\u001b[1;32m     16\u001b[0m   \u001b[0mref_row\u001b[0m \u001b[0;34m=\u001b[0m \u001b[0mref_df\u001b[0m\u001b[0;34m.\u001b[0m\u001b[0mloc\u001b[0m\u001b[0;34m[\u001b[0m\u001b[0mref_df\u001b[0m\u001b[0;34m.\u001b[0m\u001b[0mindex\u001b[0m \u001b[0;34m==\u001b[0m \u001b[0mindex\u001b[0m\u001b[0;34m]\u001b[0m\u001b[0;34m\u001b[0m\u001b[0;34m\u001b[0m\u001b[0m\n\u001b[1;32m     17\u001b[0m \u001b[0;34m\u001b[0m\u001b[0m\n\u001b[0;32m---> 18\u001b[0;31m   \u001b[0;32mif\u001b[0m \u001b[0mcomp\u001b[0m \u001b[0;34m<\u001b[0m \u001b[0mref_row\u001b[0m\u001b[0;34m.\u001b[0m\u001b[0mMin\u001b[0m\u001b[0;34m.\u001b[0m\u001b[0mvalues\u001b[0m\u001b[0;34m[\u001b[0m\u001b[0;36m0\u001b[0m\u001b[0;34m]\u001b[0m\u001b[0;34m:\u001b[0m\u001b[0;34m\u001b[0m\u001b[0;34m\u001b[0m\u001b[0m\n\u001b[0m\u001b[1;32m     19\u001b[0m     \u001b[0;32mreturn\u001b[0m \u001b[0;34m-\u001b[0m\u001b[0;36m1\u001b[0m\u001b[0;34m\u001b[0m\u001b[0;34m\u001b[0m\u001b[0m\n\u001b[1;32m     20\u001b[0m   \u001b[0;32melif\u001b[0m \u001b[0mcomp\u001b[0m \u001b[0;34m>\u001b[0m \u001b[0mref_row\u001b[0m\u001b[0;34m.\u001b[0m\u001b[0mMax\u001b[0m\u001b[0;34m.\u001b[0m\u001b[0mvalues\u001b[0m\u001b[0;34m[\u001b[0m\u001b[0;36m0\u001b[0m\u001b[0;34m]\u001b[0m\u001b[0;34m:\u001b[0m\u001b[0;34m\u001b[0m\u001b[0;34m\u001b[0m\u001b[0m\n",
            "\u001b[0;32m/usr/local/lib/python3.10/dist-packages/pandas/core/generic.py\u001b[0m in \u001b[0;36m__getattr__\u001b[0;34m(self, name)\u001b[0m\n\u001b[1;32m   5900\u001b[0m         ):\n\u001b[1;32m   5901\u001b[0m             \u001b[0;32mreturn\u001b[0m \u001b[0mself\u001b[0m\u001b[0;34m[\u001b[0m\u001b[0mname\u001b[0m\u001b[0;34m]\u001b[0m\u001b[0;34m\u001b[0m\u001b[0;34m\u001b[0m\u001b[0m\n\u001b[0;32m-> 5902\u001b[0;31m         \u001b[0;32mreturn\u001b[0m \u001b[0mobject\u001b[0m\u001b[0;34m.\u001b[0m\u001b[0m__getattribute__\u001b[0m\u001b[0;34m(\u001b[0m\u001b[0mself\u001b[0m\u001b[0;34m,\u001b[0m \u001b[0mname\u001b[0m\u001b[0;34m)\u001b[0m\u001b[0;34m\u001b[0m\u001b[0;34m\u001b[0m\u001b[0m\n\u001b[0m\u001b[1;32m   5903\u001b[0m \u001b[0;34m\u001b[0m\u001b[0m\n\u001b[1;32m   5904\u001b[0m     \u001b[0;32mdef\u001b[0m \u001b[0m__setattr__\u001b[0m\u001b[0;34m(\u001b[0m\u001b[0mself\u001b[0m\u001b[0;34m,\u001b[0m \u001b[0mname\u001b[0m\u001b[0;34m:\u001b[0m \u001b[0mstr\u001b[0m\u001b[0;34m,\u001b[0m \u001b[0mvalue\u001b[0m\u001b[0;34m)\u001b[0m \u001b[0;34m->\u001b[0m \u001b[0;32mNone\u001b[0m\u001b[0;34m:\u001b[0m\u001b[0;34m\u001b[0m\u001b[0;34m\u001b[0m\u001b[0m\n",
            "\u001b[0;31mAttributeError\u001b[0m: 'DataFrame' object has no attribute 'Min'"
          ]
        }
      ]
    },
    {
      "cell_type": "code",
      "source": [
        "pd.DataFrame(reassigned_maps).to_csv('reassigned maps.csv')"
      ],
      "metadata": {
        "id": "E0CdXFbX02Gi"
      },
      "execution_count": null,
      "outputs": []
    },
    {
      "cell_type": "code",
      "source": [
        "from pickle import dump\n",
        "dump(model,open('GCCJF.pkl', 'wb'))\n",
        "dump(model_2,open('GCCLevel.pkl', 'wb'))\n",
        "dump(vectorizers,open('GCCJF_vect.pkl', 'wb'))\n",
        "dump(vectorizers_2,open('GCCLevel_vect.pkl', 'wb'))"
      ],
      "metadata": {
        "id": "vYm_9jTskP_r"
      },
      "execution_count": 102,
      "outputs": []
    }
  ]
}