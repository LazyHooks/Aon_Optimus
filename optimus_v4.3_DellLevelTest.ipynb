{
  "nbformat": 4,
  "nbformat_minor": 0,
  "metadata": {
    "colab": {
      "provenance": [],
      "include_colab_link": true
    },
    "kernelspec": {
      "name": "python3",
      "display_name": "Python 3"
    },
    "language_info": {
      "name": "python"
    }
  },
  "cells": [
    {
      "cell_type": "markdown",
      "metadata": {
        "id": "view-in-github",
        "colab_type": "text"
      },
      "source": [
        "<a href=\"https://colab.research.google.com/github/LazyHooks/Optimus/blob/main/optimus_v4.3_DellLevelTest.ipynb\" target=\"_parent\"><img src=\"https://colab.research.google.com/assets/colab-badge.svg\" alt=\"Open In Colab\"/></a>"
      ]
    },
    {
      "cell_type": "code",
      "source": [
        "import pandas as pd"
      ],
      "metadata": {
        "id": "qnHLNOlup9EC"
      },
      "execution_count": 78,
      "outputs": []
    },
    {
      "cell_type": "code",
      "source": [
        "df = pd.read_csv('Version1_Level_Train1_WIthoutTFP.csv')\n",
        "df.shape"
      ],
      "metadata": {
        "id": "A8i1ht13p_jE",
        "outputId": "a316531b-615c-44df-b778-38b220e4b129",
        "colab": {
          "base_uri": "https://localhost:8080/"
        }
      },
      "execution_count": 79,
      "outputs": [
        {
          "output_type": "execute_result",
          "data": {
            "text/plain": [
              "(254383, 5)"
            ]
          },
          "metadata": {},
          "execution_count": 79
        }
      ]
    },
    {
      "cell_type": "code",
      "source": [
        "df_test = pd.read_csv('Version1_Level_Test3_Dell.csv')\n",
        "df_test.shape"
      ],
      "metadata": {
        "id": "g8-zz11mqB8b",
        "outputId": "dcc6c346-f2a2-436f-a8b1-bb5533807cc8",
        "colab": {
          "base_uri": "https://localhost:8080/"
        }
      },
      "execution_count": 80,
      "outputs": [
        {
          "output_type": "execute_result",
          "data": {
            "text/plain": [
              "(22188, 5)"
            ]
          },
          "metadata": {},
          "execution_count": 80
        }
      ]
    },
    {
      "cell_type": "code",
      "source": [
        "df.shape\n",
        "#set(df['Company Name'])"
      ],
      "metadata": {
        "id": "WUT3QAtFqFAk",
        "outputId": "3a655368-dd2e-4d88-c4e4-a9428f412976",
        "colab": {
          "base_uri": "https://localhost:8080/"
        }
      },
      "execution_count": 81,
      "outputs": [
        {
          "output_type": "execute_result",
          "data": {
            "text/plain": [
              "(254383, 5)"
            ]
          },
          "metadata": {},
          "execution_count": 81
        }
      ]
    },
    {
      "cell_type": "code",
      "source": [
        "df.columns"
      ],
      "metadata": {
        "id": "XgKUy_kIqISg",
        "outputId": "c33a366c-23a8-4524-f288-ac02c5c83f54",
        "colab": {
          "base_uri": "https://localhost:8080/"
        }
      },
      "execution_count": 82,
      "outputs": [
        {
          "output_type": "execute_result",
          "data": {
            "text/plain": [
              "Index(['Company Name', 'Co. Designation', 'Co. Function', 'Job Family Code',\n",
              "       'Level'],\n",
              "      dtype='object')"
            ]
          },
          "metadata": {},
          "execution_count": 82
        }
      ]
    },
    {
      "cell_type": "code",
      "source": [
        "train_cols = ['Co. Designation', 'Co. Function']\n",
        "train_cols_2='Co. Designation'"
      ],
      "metadata": {
        "id": "snqs9UFrqK1M"
      },
      "execution_count": 83,
      "outputs": []
    },
    {
      "cell_type": "code",
      "source": [
        "target_col = 'Job Family Code'\n",
        "target_col_2='Level'"
      ],
      "metadata": {
        "id": "Q7EVYCfFqLPP"
      },
      "execution_count": 84,
      "outputs": []
    },
    {
      "cell_type": "code",
      "source": [
        "all_cols = ['Co. Designation', 'Co. Function', 'Job Family Code','Level']"
      ],
      "metadata": {
        "id": "BnXOkzyFqMzP"
      },
      "execution_count": 85,
      "outputs": []
    },
    {
      "cell_type": "code",
      "source": [
        "import pandas as pd\n",
        "from scipy.sparse import hstack\n",
        "from sklearn.feature_extraction.text import TfidfVectorizer\n",
        "from sklearn.linear_model import LogisticRegression\n",
        "from sklearn.metrics import accuracy_score, classification_report\n",
        "from sklearn.model_selection import train_test_split"
      ],
      "metadata": {
        "id": "qtC88Zw9qPj5"
      },
      "execution_count": 86,
      "outputs": []
    },
    {
      "cell_type": "code",
      "source": [
        "# Load data\n",
        "data = pd.read_csv('Version1_Level_Train1_WIthoutTFP.csv')"
      ],
      "metadata": {
        "id": "1Ut2p3HnqQtf"
      },
      "execution_count": 87,
      "outputs": []
    },
    {
      "cell_type": "code",
      "source": [
        "#df_test.head()"
      ],
      "metadata": {
        "id": "ZXQTHb6UqSTq"
      },
      "execution_count": 88,
      "outputs": []
    },
    {
      "cell_type": "code",
      "source": [
        "data = data[all_cols]\n",
        "data = data.dropna()"
      ],
      "metadata": {
        "id": "677jgG6vqUER"
      },
      "execution_count": 89,
      "outputs": []
    },
    {
      "cell_type": "code",
      "source": [
        "df_test = df_test[all_cols]\n",
        "df_test = df_test.dropna()"
      ],
      "metadata": {
        "id": "Lw2QDppCqVk0"
      },
      "execution_count": 90,
      "outputs": []
    },
    {
      "cell_type": "code",
      "source": [
        "#data.head()"
      ],
      "metadata": {
        "id": "XWwhj-PCqW1M"
      },
      "execution_count": 91,
      "outputs": []
    },
    {
      "cell_type": "code",
      "source": [
        "#df_test.head()"
      ],
      "metadata": {
        "id": "Q_uADMLNqYpW"
      },
      "execution_count": 92,
      "outputs": []
    },
    {
      "cell_type": "markdown",
      "source": [
        "JF"
      ],
      "metadata": {
        "id": "_UlVoosAD-It"
      }
    },
    {
      "cell_type": "code",
      "source": [
        "# Extract features from each text column using TF-IDF vectorizer\n",
        "vectorizers = []\n",
        "X_train_list = []\n",
        "X_test_list = []\n",
        "for col in train_cols:\n",
        "    vectorizer = TfidfVectorizer(max_features=10000)\n",
        "    X_train_col = vectorizer.fit_transform(data.loc[:, col])\n",
        "    X_train_list.append(X_train_col)\n",
        "    X_test_col = vectorizer.transform(data.loc[:, col])\n",
        "    X_test_list.append(X_test_col)\n",
        "    vectorizers.append(vectorizer)"
      ],
      "metadata": {
        "id": "INmGmNpcqarC"
      },
      "execution_count": 93,
      "outputs": []
    },
    {
      "cell_type": "markdown",
      "source": [
        "Level"
      ],
      "metadata": {
        "id": "ftnxt4mXD_Nz"
      }
    },
    {
      "cell_type": "code",
      "source": [
        "vectorizers_2 = []\n",
        "X_train_list_2 = []\n",
        "X_test_list_2 = []\n",
        "#for col in train_cols_2:\n",
        "vectorizer = TfidfVectorizer(max_features=10000)\n",
        "X_train_col = vectorizer.fit_transform(data.loc[:, train_cols_2])\n",
        "X_train_list_2.append(X_train_col)\n",
        "X_test_col = vectorizer.transform(data.loc[:, train_cols_2])\n",
        "X_test_list_2.append(X_test_col)\n",
        "vectorizers_2.append(vectorizer)\n",
        "\n",
        "jfcol='Job Family Code'\n",
        "vectorizer = TfidfVectorizer(max_features=10000)\n",
        "X_train_col = vectorizer.fit_transform(data.loc[:, jfcol])\n",
        "X_train_list_2.append(X_train_col)\n",
        "X_test_col = vectorizer.transform(data.loc[:, jfcol])\n",
        "X_test_list_2.append(X_test_col)\n",
        "vectorizers_2.append(vectorizer)\n"
      ],
      "metadata": {
        "id": "Qnp9DBKiD9eS"
      },
      "execution_count": 94,
      "outputs": []
    },
    {
      "cell_type": "markdown",
      "source": [
        "JF"
      ],
      "metadata": {
        "id": "rymDy7YTESw5"
      }
    },
    {
      "cell_type": "code",
      "source": [
        "# Concatenate sparse matrices into a single feature matrix\n",
        "X_train = hstack(X_train_list)\n",
        "X_test = hstack(X_test_list)\n",
        "\n",
        "# Split data into training and testing sets\n",
        "y_train = data[target_col]\n",
        "#y_test = df_test[target_col]\n",
        "\n",
        "X_train, X_test, y_train, y_test = train_test_split(X_train, y_train, test_size=0.2, random_state=42)"
      ],
      "metadata": {
        "id": "b2nmh3_nqcsI"
      },
      "execution_count": 95,
      "outputs": []
    },
    {
      "cell_type": "markdown",
      "source": [
        "Level"
      ],
      "metadata": {
        "id": "jsqt4A1TETsL"
      }
    },
    {
      "cell_type": "code",
      "source": [
        "# Concatenate sparse matrices into a single feature matrix\n",
        "X_train_2 = hstack(X_train_list_2)\n",
        "X_test_2 = hstack(X_test_list_2)\n",
        "\n",
        "# Split data into training and testing sets\n",
        "y_train_2 = data[target_col_2]\n",
        "#y_test = df_test[target_col]\n",
        "\n",
        "X_train_2, X_test_2, y_train_2, y_test_2 = train_test_split(X_train_2, y_train_2, test_size=0.2, random_state=42)\n"
      ],
      "metadata": {
        "id": "JmDTcbOeEU9t"
      },
      "execution_count": 96,
      "outputs": []
    },
    {
      "cell_type": "markdown",
      "source": [
        "JF"
      ],
      "metadata": {
        "id": "eoMDb8e8EoCP"
      }
    },
    {
      "cell_type": "code",
      "source": [
        "# Train logistic regression model\n",
        "model = LogisticRegression()\n",
        "model.fit(X_train, y_train)\n",
        "\n",
        "# Predict on test set and evaluate performance\n",
        "y_pred = model.predict(X_test)\n",
        "print('Accuracy:', accuracy_score(y_test, y_pred))\n",
        "print('Classification Report:\\n', classification_report(y_test, y_pred))"
      ],
      "metadata": {
        "id": "oKeT0fuVqe2-",
        "outputId": "e5081989-14d6-499f-e375-ec1980e77639",
        "colab": {
          "base_uri": "https://localhost:8080/"
        }
      },
      "execution_count": 97,
      "outputs": [
        {
          "output_type": "stream",
          "name": "stderr",
          "text": [
            "/usr/local/lib/python3.10/dist-packages/sklearn/linear_model/_logistic.py:458: ConvergenceWarning: lbfgs failed to converge (status=1):\n",
            "STOP: TOTAL NO. of ITERATIONS REACHED LIMIT.\n",
            "\n",
            "Increase the number of iterations (max_iter) or scale the data as shown in:\n",
            "    https://scikit-learn.org/stable/modules/preprocessing.html\n",
            "Please also refer to the documentation for alternative solver options:\n",
            "    https://scikit-learn.org/stable/modules/linear_model.html#logistic-regression\n",
            "  n_iter_i = _check_optimize_result(\n"
          ]
        },
        {
          "output_type": "stream",
          "name": "stdout",
          "text": [
            "Accuracy: 0.8942744265581697\n"
          ]
        },
        {
          "output_type": "stream",
          "name": "stderr",
          "text": [
            "/usr/local/lib/python3.10/dist-packages/sklearn/metrics/_classification.py:1344: UndefinedMetricWarning: Precision and F-score are ill-defined and being set to 0.0 in labels with no predicted samples. Use `zero_division` parameter to control this behavior.\n",
            "  _warn_prf(average, modifier, msg_start, len(result))\n",
            "/usr/local/lib/python3.10/dist-packages/sklearn/metrics/_classification.py:1344: UndefinedMetricWarning: Precision and F-score are ill-defined and being set to 0.0 in labels with no predicted samples. Use `zero_division` parameter to control this behavior.\n",
            "  _warn_prf(average, modifier, msg_start, len(result))\n"
          ]
        },
        {
          "output_type": "stream",
          "name": "stdout",
          "text": [
            "Classification Report:\n",
            "               precision    recall  f1-score   support\n",
            "\n",
            "        AADS       0.88      0.86      0.87       254\n",
            "        AAMD       0.93      0.89      0.91       209\n",
            "        AAML       0.96      0.92      0.94        74\n",
            "        AFAD       0.95      0.70      0.81        57\n",
            "        AFFE       0.79      0.84      0.82        95\n",
            "        AFSE       0.82      0.56      0.67        16\n",
            "        AFXX       0.89      0.66      0.76        38\n",
            "        ARCD       1.00      0.20      0.33        10\n",
            "        ARIA       0.00      0.00      0.00         1\n",
            "        ARRP       1.00      0.88      0.93         8\n",
            "        ARXX       0.92      0.88      0.90       550\n",
            "        ASCD       1.00      0.69      0.82       103\n",
            "        ASDB       0.80      0.78      0.79        83\n",
            "        ASEC       1.00      0.83      0.91        12\n",
            "        ASFS       0.24      0.96      0.39        73\n",
            "        ASMD       1.00      0.25      0.40        12\n",
            "        ASPI       0.59      0.51      0.54       944\n",
            "        ASRP       0.98      0.92      0.95        53\n",
            "        ASSI       0.71      0.50      0.59        10\n",
            "        ASUI       0.83      0.69      0.75        35\n",
            "        ASWD       1.00      0.98      0.99       124\n",
            "        ASXX       0.83      0.81      0.82      7282\n",
            "        BCPM       0.88      0.78      0.82         9\n",
            "        BFAC       1.00      1.00      1.00        90\n",
            "        BFAM       1.00      0.75      0.86         4\n",
            "        BFCA       0.79      1.00      0.88        19\n",
            "        BFCB       1.00      1.00      1.00        57\n",
            "        BFCM       1.00      1.00      1.00        29\n",
            "        BFIR       1.00      1.00      1.00       257\n",
            "        BFKY       1.00      1.00      1.00        22\n",
            "        BFTF       0.94      1.00      0.97        34\n",
            "        BFUW       1.00      1.00      1.00       101\n",
            "        BFWB       1.00      1.00      1.00        53\n",
            "        BSMT       0.97      0.97      0.97        95\n",
            "        CCCE       1.00      1.00      1.00       155\n",
            "        CCCO       0.94      1.00      0.97        17\n",
            "        CCCV       1.00      1.00      1.00      1145\n",
            "        CCID       0.00      0.00      0.00         1\n",
            "        CCMD       0.99      0.99      0.99      1199\n",
            "        CMDO       0.90      0.51      0.65        93\n",
            "        CMXX       1.00      0.94      0.97        66\n",
            "        CSAN       1.00      0.75      0.86         4\n",
            "        CSBC       0.86      0.89      0.88       470\n",
            "        CSCG       0.95      0.96      0.96       218\n",
            "        CSCS       0.62      0.79      0.70        19\n",
            "        CSED       1.00      0.93      0.97        46\n",
            "        CSEL       0.00      0.00      0.00         1\n",
            "        CSFC       0.90      0.93      0.91      1229\n",
            "        CSSI       0.97      0.96      0.97       567\n",
            "        DABD       0.81      0.86      0.84       176\n",
            "        DABI       0.54      0.43      0.48        72\n",
            "        DADV       0.98      0.79      0.87        70\n",
            "        DADW       0.00      0.00      0.00        28\n",
            "        DMDA       1.00      0.75      0.86         4\n",
            "        DMKM       0.00      0.00      0.00         1\n",
            "        DMMD       0.00      0.00      0.00         2\n",
            "        DMSM       1.00      1.00      1.00        23\n",
            "        EDCA       0.99      0.91      0.95       128\n",
            "        EDEE       0.98      0.99      0.99       668\n",
            "        EDFE       1.00      0.33      0.50         3\n",
            "        EDME       0.97      0.99      0.98       209\n",
            "        EDXX       1.00      0.88      0.94        84\n",
            "        FAAG       0.84      0.89      0.87       289\n",
            "        FAAP       1.00      1.00      1.00       529\n",
            "        FAER       1.00      0.80      0.89        10\n",
            "        FAFA       0.85      0.83      0.84       311\n",
            "        FAFI       1.00      1.00      1.00       243\n",
            "        FALC       0.71      0.87      0.78        39\n",
            "        FAML       1.00      1.00      1.00        91\n",
            "        FATP       1.00      1.00      1.00        69\n",
            "        FLAC       0.92      0.76      0.83       211\n",
            "        FLCS       0.00      0.00      0.00         2\n",
            "        FLFA       0.57      0.55      0.56        22\n",
            "        FLLE       0.99      0.98      0.99       305\n",
            "        FLPP       0.96      0.95      0.95       237\n",
            "        FLPR       0.65      0.88      0.75        78\n",
            "        FLTR       1.00      0.56      0.72        16\n",
            "        FLTX       1.00      0.88      0.94        43\n",
            "        FLXX       0.85      0.83      0.84       755\n",
            "        GDXX       0.91      0.92      0.91        84\n",
            "        HCMC       1.00      1.00      1.00        15\n",
            "        HCMR       1.00      1.00      1.00        33\n",
            "        HCRM       0.99      0.97      0.98       196\n",
            "        HRBP       0.88      0.94      0.91       295\n",
            "        HRCB       0.94      0.81      0.87        21\n",
            "        HRGM       1.00      0.77      0.87        22\n",
            "        HROD       1.00      0.14      0.25         7\n",
            "        HRRE       0.88      0.90      0.89       227\n",
            "        HRRM       1.00      0.50      0.67        10\n",
            "        HRSS       0.93      0.87      0.90       149\n",
            "        HRTR       1.00      0.91      0.95        54\n",
            "        HRXX       0.92      0.72      0.81        94\n",
            "        HSGL       0.95      0.95      0.95        19\n",
            "        INAU       0.94      0.81      0.87        37\n",
            "        INCL       1.00      0.11      0.20        45\n",
            "        INDB       0.95      0.91      0.93       138\n",
            "        INDC       0.96      0.94      0.95       103\n",
            "        INDS       0.86      0.91      0.89       221\n",
            "        INFE       0.00      0.00      0.00         1\n",
            "        INFS       1.00      0.98      0.99       364\n",
            "        INNE       0.95      0.91      0.93       191\n",
            "        INRA       0.99      0.98      0.99      1488\n",
            "        INRE       1.00      0.82      0.90        17\n",
            "        INRI       1.00      0.97      0.99        38\n",
            "        INRP       0.00      0.00      0.00         2\n",
            "        INSA       0.94      0.85      0.89        20\n",
            "        INSS       0.73      0.73      0.73        45\n",
            "        INTI       1.00      0.67      0.80         6\n",
            "        INXX       0.86      0.77      0.81       569\n",
            "        IPXX       0.00      0.00      0.00         1\n",
            "        ITAU       0.85      0.71      0.77        78\n",
            "        LECM       0.00      0.00      0.00         1\n",
            "        LECO       0.97      0.95      0.96        39\n",
            "        LEPO       1.00      1.00      1.00        22\n",
            "        MBCC       0.92      0.63      0.75        19\n",
            "        MBCM       0.83      0.84      0.84       103\n",
            "        MBDM       0.90      0.79      0.84        76\n",
            "        MBSE       0.94      0.89      0.91        36\n",
            "        MBXX       0.94      0.93      0.94       331\n",
            "        PDFD       0.73      0.93      0.82      1194\n",
            "        PDFS       0.67      0.67      0.67         3\n",
            "        PDHD       0.95      0.77      0.85      1048\n",
            "        PDLE       0.98      0.97      0.97       749\n",
            "        PDPM       0.94      0.87      0.90       539\n",
            "        PDUI       0.96      0.70      0.81        93\n",
            "        PDXX       0.87      0.95      0.91      6570\n",
            "        PRAG       0.44      0.22      0.29       126\n",
            "        PRPO       0.86      0.89      0.87       773\n",
            "        PRXX       0.78      0.83      0.81       518\n",
            "        QAXX       0.91      0.75      0.83       138\n",
            "        QUTF       0.95      0.98      0.96       353\n",
            "        QUTS       1.00      1.00      1.00       204\n",
            "        RABA       0.96      0.99      0.97       387\n",
            "        RABF       1.00      1.00      1.00       133\n",
            "        RAPR       0.90      0.96      0.93        28\n",
            "        RASR       1.00      0.99      1.00       367\n",
            "        RICR       1.00      0.44      0.62         9\n",
            "        RIOR       1.00      1.00      1.00        20\n",
            "        RSSC       0.94      0.92      0.93        37\n",
            "        RSSD       0.13      0.47      0.20        17\n",
            "        RSVM       1.00      0.20      0.33        51\n",
            "        RSWL       0.99      0.99      0.99       303\n",
            "        SAAC       0.84      0.86      0.85       315\n",
            "        SABD       0.83      0.92      0.87       417\n",
            "        SACH       0.85      0.77      0.81       211\n",
            "        SACS       0.89      0.92      0.91        73\n",
            "        SAIN       0.89      0.98      0.93       595\n",
            "        SAPS       0.93      0.96      0.94       451\n",
            "        SASD       0.98      0.95      0.97       427\n",
            "        SAXX       0.76      0.28      0.41       114\n",
            "        SCCP       1.00      0.79      0.88        47\n",
            "        SSSO       0.94      0.81      0.87        36\n",
            "        SYAS       0.97      1.00      0.99        34\n",
            "        SYGR       0.00      0.00      0.00         3\n",
            "        SYIM       0.86      0.95      0.90       128\n",
            "        SYIN       1.00      0.50      0.67        10\n",
            "        SYIS       0.88      0.67      0.76        21\n",
            "        SYPT       0.00      0.00      0.00        10\n",
            "        SYXX       0.75      0.77      0.76       179\n",
            "        TEAU       0.95      0.92      0.94      1596\n",
            "        TEEM       0.79      0.99      0.88       112\n",
            "        TEMT       0.95      0.73      0.83       288\n",
            "        TEXX       0.97      0.94      0.96      2119\n",
            "        TOCO       0.99      0.99      0.99      2484\n",
            "        TOFC       0.68      0.90      0.77       200\n",
            "        TOHR       0.00      0.00      0.00         1\n",
            "        TOMR       1.00      0.28      0.43        29\n",
            "        TOPO       0.94      0.94      0.94        18\n",
            "        TOSI       0.98      1.00      0.99       783\n",
            "        TRPR       0.88      0.83      0.85        53\n",
            "        TRTN       1.00      0.87      0.93        15\n",
            "        TTXX       0.96      0.79      0.86        56\n",
            "        TWXX       0.85      0.72      0.78       381\n",
            "        UEXX       0.92      0.37      0.52        30\n",
            "        VATR       1.00      1.00      1.00         3\n",
            "\n",
            "    accuracy                           0.89     50877\n",
            "   macro avg       0.84      0.76      0.78     50877\n",
            "weighted avg       0.90      0.89      0.89     50877\n",
            "\n"
          ]
        },
        {
          "output_type": "stream",
          "name": "stderr",
          "text": [
            "/usr/local/lib/python3.10/dist-packages/sklearn/metrics/_classification.py:1344: UndefinedMetricWarning: Precision and F-score are ill-defined and being set to 0.0 in labels with no predicted samples. Use `zero_division` parameter to control this behavior.\n",
            "  _warn_prf(average, modifier, msg_start, len(result))\n"
          ]
        }
      ]
    },
    {
      "cell_type": "markdown",
      "source": [
        "Level"
      ],
      "metadata": {
        "id": "speJir44Esd9"
      }
    },
    {
      "cell_type": "code",
      "source": [
        "# Train logistic regression model\n",
        "model_2 = LogisticRegression()\n",
        "model_2.fit(X_train_2, y_train_2)\n",
        "\n",
        "# Predict on test set and evaluate performance\n",
        "y_pred_2 = model_2.predict(X_test_2)\n",
        "print('Accuracy:', accuracy_score(y_test_2, y_pred_2))\n",
        "print('Classification Report:\\n', classification_report(y_test_2, y_pred_2))"
      ],
      "metadata": {
        "id": "g3VrW4jvEtUm",
        "colab": {
          "base_uri": "https://localhost:8080/"
        },
        "outputId": "f57dea93-a4fb-4149-846c-f71439971123"
      },
      "execution_count": 98,
      "outputs": [
        {
          "output_type": "stream",
          "name": "stderr",
          "text": [
            "/usr/local/lib/python3.10/dist-packages/sklearn/linear_model/_logistic.py:458: ConvergenceWarning: lbfgs failed to converge (status=1):\n",
            "STOP: TOTAL NO. of ITERATIONS REACHED LIMIT.\n",
            "\n",
            "Increase the number of iterations (max_iter) or scale the data as shown in:\n",
            "    https://scikit-learn.org/stable/modules/preprocessing.html\n",
            "Please also refer to the documentation for alternative solver options:\n",
            "    https://scikit-learn.org/stable/modules/linear_model.html#logistic-regression\n",
            "  n_iter_i = _check_optimize_result(\n"
          ]
        },
        {
          "output_type": "stream",
          "name": "stdout",
          "text": [
            "Accuracy: 0.626648583839456\n"
          ]
        },
        {
          "output_type": "stream",
          "name": "stderr",
          "text": [
            "/usr/local/lib/python3.10/dist-packages/sklearn/metrics/_classification.py:1344: UndefinedMetricWarning: Precision and F-score are ill-defined and being set to 0.0 in labels with no predicted samples. Use `zero_division` parameter to control this behavior.\n",
            "  _warn_prf(average, modifier, msg_start, len(result))\n",
            "/usr/local/lib/python3.10/dist-packages/sklearn/metrics/_classification.py:1344: UndefinedMetricWarning: Precision and F-score are ill-defined and being set to 0.0 in labels with no predicted samples. Use `zero_division` parameter to control this behavior.\n",
            "  _warn_prf(average, modifier, msg_start, len(result))\n"
          ]
        },
        {
          "output_type": "stream",
          "name": "stdout",
          "text": [
            "Classification Report:\n",
            "               precision    recall  f1-score   support\n",
            "\n",
            "          E1       0.90      0.43      0.58        89\n",
            "          E2       0.00      0.00      0.00         5\n",
            "          I1       0.78      0.61      0.69      6399\n",
            "          I2       0.57      0.59      0.58      9411\n",
            "          I3       0.52      0.68      0.59     10888\n",
            "          I4       0.46      0.41      0.44      6446\n",
            "          I5       0.53      0.21      0.30      1727\n",
            "          I6       0.47      0.08      0.14       292\n",
            "          I7       0.39      0.32      0.35        28\n",
            "          M2       0.63      0.31      0.41       144\n",
            "          M3       0.86      0.68      0.76       883\n",
            "          M4       0.66      0.72      0.69      2834\n",
            "          M5       0.60      0.57      0.58      2146\n",
            "          M6       0.62      0.45      0.52      1032\n",
            "          M7       0.57      0.25      0.35       420\n",
            "          M8       0.62      0.25      0.36        60\n",
            "          S1       0.89      0.92      0.91      1316\n",
            "          S2       0.70      0.78      0.74      1482\n",
            "          S3       0.91      0.95      0.93      5275\n",
            "\n",
            "    accuracy                           0.63     50877\n",
            "   macro avg       0.62      0.49      0.52     50877\n",
            "weighted avg       0.63      0.63      0.62     50877\n",
            "\n"
          ]
        },
        {
          "output_type": "stream",
          "name": "stderr",
          "text": [
            "/usr/local/lib/python3.10/dist-packages/sklearn/metrics/_classification.py:1344: UndefinedMetricWarning: Precision and F-score are ill-defined and being set to 0.0 in labels with no predicted samples. Use `zero_division` parameter to control this behavior.\n",
            "  _warn_prf(average, modifier, msg_start, len(result))\n"
          ]
        }
      ]
    },
    {
      "cell_type": "markdown",
      "source": [
        "Unseen JF"
      ],
      "metadata": {
        "id": "Uw3a2C6MFFps"
      }
    },
    {
      "cell_type": "code",
      "source": [
        "X_test_unseen = []\n",
        "\n",
        "for i, col in enumerate(train_cols):\n",
        "    vectorizer = vectorizers[i]\n",
        "    X_test_col = vectorizer.transform(df_test.loc[:, col])\n",
        "    X_test_unseen.append(X_test_col)\n",
        "\n",
        "X_unseen = hstack(X_test_unseen)"
      ],
      "metadata": {
        "id": "NQZToaZCqgw9"
      },
      "execution_count": 99,
      "outputs": []
    },
    {
      "cell_type": "markdown",
      "source": [
        "JF"
      ],
      "metadata": {
        "id": "p7G0-yLwG1Om"
      }
    },
    {
      "cell_type": "code",
      "source": [
        "y_test_pred = model.predict (X_unseen)"
      ],
      "metadata": {
        "id": "YHDH2Tm-qinj"
      },
      "execution_count": 100,
      "outputs": []
    },
    {
      "cell_type": "markdown",
      "source": [
        "Unseen Level + Pred JF"
      ],
      "metadata": {
        "id": "ouGxrZbu9AB8"
      }
    },
    {
      "cell_type": "code",
      "source": [
        "X_test_unseen_2 = []\n",
        "z=0\n",
        "\n",
        "vectorizer = vectorizers_2[0]\n",
        "X_test_col_2 = vectorizer.transform(df_test.loc[:, train_cols_2])\n",
        "X_test_unseen_2.append(X_test_col_2)\n",
        "z=i\n",
        "\n",
        "vectorizer = vectorizers_2[1]\n",
        "X_test_col_2 = vectorizer.transform(df_test.loc[:, jfcol])\n",
        "X_test_unseen_2.append(X_test_col_2)\n",
        "\n",
        "X_unseen_2 = hstack(X_test_unseen_2)\n"
      ],
      "metadata": {
        "id": "2InaNFw39De7"
      },
      "execution_count": 101,
      "outputs": []
    },
    {
      "cell_type": "markdown",
      "source": [
        "Level"
      ],
      "metadata": {
        "id": "70r5Xbw5G2en"
      }
    },
    {
      "cell_type": "code",
      "source": [
        "y_test_pred_2 = model_2.predict (X_unseen_2)"
      ],
      "metadata": {
        "id": "0XWYp9w4G4M2"
      },
      "execution_count": 102,
      "outputs": []
    },
    {
      "cell_type": "code",
      "source": [
        "pd.DataFrame(y_test_pred).to_csv('JF_x.csv')\n",
        "pd.DataFrame(y_test_pred_2).to_csv('Lvl_x.csv')\n",
        "frames=[pd.DataFrame(y_test_pred),pd.DataFrame(y_test_pred_2)]\n",
        "maps=pd.concat(frames, axis=1)\n",
        "pd.DataFrame(maps).to_csv('maps_x.csv')"
      ],
      "metadata": {
        "id": "GFo__iaGqkq3"
      },
      "execution_count": 103,
      "outputs": []
    },
    {
      "cell_type": "markdown",
      "source": [
        "JF"
      ],
      "metadata": {
        "id": "ReL5_jziHi-X"
      }
    },
    {
      "cell_type": "code",
      "source": [
        "# Predict on test set and evaluate performance\n",
        "y_test_actual=df_test[target_col]\n",
        "print('Accuracy:', accuracy_score(y_test_actual, y_test_pred))\n",
        "print('Classification Report:\\n', classification_report(y_test_actual, y_test_pred))"
      ],
      "metadata": {
        "id": "gKDeyzgiSrDX",
        "outputId": "dd2d95d4-c8ab-4791-adb6-12358f2fff1e",
        "colab": {
          "base_uri": "https://localhost:8080/"
        }
      },
      "execution_count": 104,
      "outputs": [
        {
          "output_type": "stream",
          "name": "stdout",
          "text": [
            "Accuracy: 0.9766089778258518\n"
          ]
        },
        {
          "output_type": "stream",
          "name": "stderr",
          "text": [
            "/usr/local/lib/python3.10/dist-packages/sklearn/metrics/_classification.py:1344: UndefinedMetricWarning: Precision and F-score are ill-defined and being set to 0.0 in labels with no predicted samples. Use `zero_division` parameter to control this behavior.\n",
            "  _warn_prf(average, modifier, msg_start, len(result))\n",
            "/usr/local/lib/python3.10/dist-packages/sklearn/metrics/_classification.py:1344: UndefinedMetricWarning: Recall and F-score are ill-defined and being set to 0.0 in labels with no true samples. Use `zero_division` parameter to control this behavior.\n",
            "  _warn_prf(average, modifier, msg_start, len(result))\n"
          ]
        },
        {
          "output_type": "stream",
          "name": "stdout",
          "text": [
            "Classification Report:\n",
            "               precision    recall  f1-score   support\n",
            "\n",
            "        AADS       1.00      1.00      1.00        92\n",
            "        AAMD       1.00      1.00      1.00        51\n",
            "        AAML       1.00      1.00      1.00         1\n",
            "        AFFE       1.00      1.00      1.00        20\n",
            "        AFSE       1.00      1.00      1.00         2\n",
            "        ARXX       1.00      0.96      0.98       329\n",
            "        ASXX       0.99      1.00      0.99      3143\n",
            "        BCPM       1.00      0.71      0.83         7\n",
            "        BFCA       1.00      1.00      1.00        38\n",
            "        CCMD       1.00      1.00      1.00       619\n",
            "        CMXX       0.00      0.00      0.00         5\n",
            "        CSBC       0.23      0.82      0.36        11\n",
            "        CSCG       1.00      1.00      1.00         2\n",
            "        CSCS       0.00      0.00      0.00         0\n",
            "        CSFC       0.96      0.90      0.93       262\n",
            "        CSSI       1.00      0.99      0.99      1346\n",
            "        DABD       0.86      1.00      0.92       195\n",
            "        DABI       0.00      0.00      0.00        17\n",
            "        EDCA       1.00      1.00      1.00        11\n",
            "        EDEE       1.00      1.00      1.00         7\n",
            "        EDME       1.00      1.00      1.00         1\n",
            "        EDXX       1.00      1.00      1.00        41\n",
            "        FAFA       0.96      1.00      0.98       216\n",
            "        FLAC       0.00      0.00      0.00         0\n",
            "        FLLE       1.00      1.00      1.00        38\n",
            "        FLPP       1.00      0.94      0.97        33\n",
            "        FLPR       1.00      1.00      1.00        27\n",
            "        FLTX       1.00      1.00      1.00        17\n",
            "        FLXX       1.00      0.98      0.99       525\n",
            "        GDXX       1.00      1.00      1.00         4\n",
            "        HRBP       0.97      0.83      0.90        42\n",
            "        HRCB       1.00      1.00      1.00         4\n",
            "        HRRE       0.88      1.00      0.93        50\n",
            "        HRRM       0.90      1.00      0.95        35\n",
            "        HRSS       1.00      0.99      0.99        81\n",
            "        HRTR       1.00      1.00      1.00         8\n",
            "        HRXX       1.00      1.00      1.00        13\n",
            "        INAU       1.00      1.00      1.00        29\n",
            "        INDB       0.99      1.00      0.99        95\n",
            "        INDC       1.00      1.00      1.00         4\n",
            "        INDS       1.00      1.00      1.00       341\n",
            "        INFS       1.00      1.00      1.00      1512\n",
            "        INNE       1.00      1.00      1.00        41\n",
            "        INRA       1.00      1.00      1.00      1369\n",
            "        INXX       1.00      0.24      0.39        83\n",
            "        MBCC       1.00      1.00      1.00         7\n",
            "        MBCM       1.00      0.98      0.99       148\n",
            "        MBDM       1.00      0.63      0.78        52\n",
            "        MBXX       0.96      1.00      0.98        95\n",
            "        PDHD       1.00      0.33      0.50         3\n",
            "        PDLE       0.00      0.00      0.00         0\n",
            "        PDPM       0.97      0.85      0.90        84\n",
            "        PDUI       1.00      0.88      0.94        42\n",
            "        PDXX       0.99      1.00      0.99      2602\n",
            "        PRPO       1.00      1.00      1.00       984\n",
            "        PRXX       1.00      0.99      0.99        74\n",
            "        QUTF       1.00      1.00      1.00       729\n",
            "        RABA       0.97      1.00      0.98       549\n",
            "        RSSC       0.86      1.00      0.93        56\n",
            "        RSWL       1.00      0.87      0.93        54\n",
            "        SAAC       0.99      0.94      0.96       285\n",
            "        SABD       0.92      0.98      0.95       175\n",
            "        SACH       0.85      0.92      0.88        12\n",
            "        SAIN       0.88      1.00      0.94      1950\n",
            "        SAPS       1.00      1.00      1.00       502\n",
            "        SASD       0.99      1.00      1.00      1137\n",
            "        SAXX       1.00      0.09      0.16       293\n",
            "        SYAS       1.00      0.97      0.98        30\n",
            "        SYIM       1.00      1.00      1.00        26\n",
            "        SYXX       1.00      0.88      0.93        48\n",
            "        TEAU       1.00      1.00      1.00       604\n",
            "        TEEM       1.00      1.00      1.00       400\n",
            "        TOCO       0.00      0.00      0.00         0\n",
            "        TOSI       1.00      1.00      1.00       255\n",
            "        TTXX       1.00      1.00      1.00        56\n",
            "        TWXX       1.00      1.00      1.00       169\n",
            "\n",
            "    accuracy                           0.98     22188\n",
            "   macro avg       0.90      0.86      0.87     22188\n",
            "weighted avg       0.98      0.98      0.97     22188\n",
            "\n"
          ]
        },
        {
          "output_type": "stream",
          "name": "stderr",
          "text": [
            "/usr/local/lib/python3.10/dist-packages/sklearn/metrics/_classification.py:1344: UndefinedMetricWarning: Precision and F-score are ill-defined and being set to 0.0 in labels with no predicted samples. Use `zero_division` parameter to control this behavior.\n",
            "  _warn_prf(average, modifier, msg_start, len(result))\n",
            "/usr/local/lib/python3.10/dist-packages/sklearn/metrics/_classification.py:1344: UndefinedMetricWarning: Recall and F-score are ill-defined and being set to 0.0 in labels with no true samples. Use `zero_division` parameter to control this behavior.\n",
            "  _warn_prf(average, modifier, msg_start, len(result))\n",
            "/usr/local/lib/python3.10/dist-packages/sklearn/metrics/_classification.py:1344: UndefinedMetricWarning: Precision and F-score are ill-defined and being set to 0.0 in labels with no predicted samples. Use `zero_division` parameter to control this behavior.\n",
            "  _warn_prf(average, modifier, msg_start, len(result))\n",
            "/usr/local/lib/python3.10/dist-packages/sklearn/metrics/_classification.py:1344: UndefinedMetricWarning: Recall and F-score are ill-defined and being set to 0.0 in labels with no true samples. Use `zero_division` parameter to control this behavior.\n",
            "  _warn_prf(average, modifier, msg_start, len(result))\n"
          ]
        }
      ]
    },
    {
      "cell_type": "markdown",
      "source": [
        "Level"
      ],
      "metadata": {
        "id": "WdQCZxtcHllh"
      }
    },
    {
      "cell_type": "code",
      "source": [
        "# Predict on test set and evaluate performance\n",
        "y_test_actual_2=df_test[target_col_2]\n",
        "print('Accuracy:', accuracy_score(y_test_actual_2, y_test_pred_2))\n",
        "print('Classification Report:\\n', classification_report(y_test_actual_2, y_test_pred_2))"
      ],
      "metadata": {
        "id": "0Dty7SHVHmtG",
        "colab": {
          "base_uri": "https://localhost:8080/"
        },
        "outputId": "d377eb18-38a8-4637-942b-4ca2e3324ebc"
      },
      "execution_count": 105,
      "outputs": [
        {
          "output_type": "stream",
          "name": "stdout",
          "text": [
            "Accuracy: 0.6957364341085271\n"
          ]
        },
        {
          "output_type": "stream",
          "name": "stderr",
          "text": [
            "/usr/local/lib/python3.10/dist-packages/sklearn/metrics/_classification.py:1344: UndefinedMetricWarning: Recall and F-score are ill-defined and being set to 0.0 in labels with no true samples. Use `zero_division` parameter to control this behavior.\n",
            "  _warn_prf(average, modifier, msg_start, len(result))\n"
          ]
        },
        {
          "output_type": "stream",
          "name": "stdout",
          "text": [
            "Classification Report:\n",
            "               precision    recall  f1-score   support\n",
            "\n",
            "          E1       1.00      0.17      0.29        18\n",
            "          I1       0.69      0.33      0.45      2750\n",
            "          I2       0.61      0.86      0.71      4410\n",
            "          I3       0.69      0.78      0.73      4434\n",
            "          I4       0.69      0.65      0.67      3432\n",
            "          I5       0.68      0.24      0.35      1318\n",
            "          I6       1.00      0.06      0.11       115\n",
            "          I7       0.00      0.00      0.00         0\n",
            "          M2       1.00      0.47      0.64        99\n",
            "          M3       0.20      0.07      0.11       203\n",
            "          M4       0.68      0.91      0.78       398\n",
            "          M5       0.93      0.89      0.91       633\n",
            "          M6       0.80      0.96      0.87       193\n",
            "          M7       0.04      0.02      0.03        41\n",
            "          M8       0.00      0.00      0.00         0\n",
            "          S1       0.79      0.90      0.84      1841\n",
            "          S2       0.86      0.88      0.87      2144\n",
            "          S3       0.00      0.00      0.00       159\n",
            "\n",
            "    accuracy                           0.70     22188\n",
            "   macro avg       0.59      0.46      0.46     22188\n",
            "weighted avg       0.70      0.70      0.67     22188\n",
            "\n"
          ]
        },
        {
          "output_type": "stream",
          "name": "stderr",
          "text": [
            "/usr/local/lib/python3.10/dist-packages/sklearn/metrics/_classification.py:1344: UndefinedMetricWarning: Recall and F-score are ill-defined and being set to 0.0 in labels with no true samples. Use `zero_division` parameter to control this behavior.\n",
            "  _warn_prf(average, modifier, msg_start, len(result))\n",
            "/usr/local/lib/python3.10/dist-packages/sklearn/metrics/_classification.py:1344: UndefinedMetricWarning: Recall and F-score are ill-defined and being set to 0.0 in labels with no true samples. Use `zero_division` parameter to control this behavior.\n",
            "  _warn_prf(average, modifier, msg_start, len(result))\n"
          ]
        }
      ]
    }
  ]
}