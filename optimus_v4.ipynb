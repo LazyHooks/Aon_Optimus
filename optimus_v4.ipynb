{
  "nbformat": 4,
  "nbformat_minor": 0,
  "metadata": {
    "colab": {
      "provenance": [],
      "include_colab_link": true
    },
    "kernelspec": {
      "name": "python3",
      "display_name": "Python 3"
    },
    "language_info": {
      "name": "python"
    }
  },
  "cells": [
    {
      "cell_type": "markdown",
      "metadata": {
        "id": "view-in-github",
        "colab_type": "text"
      },
      "source": [
        "<a href=\"https://colab.research.google.com/github/LazyHooks/Optimus/blob/main/optimus_v4.ipynb\" target=\"_parent\"><img src=\"https://colab.research.google.com/assets/colab-badge.svg\" alt=\"Open In Colab\"/></a>"
      ]
    },
    {
      "cell_type": "code",
      "source": [
        "import pandas as pd"
      ],
      "metadata": {
        "id": "qnHLNOlup9EC"
      },
      "execution_count": null,
      "outputs": []
    },
    {
      "cell_type": "code",
      "source": [
        "df = pd.read_csv('Train_1_ExcludingTest.csv')\n",
        "df.head()"
      ],
      "metadata": {
        "id": "A8i1ht13p_jE",
        "outputId": "19a2fcd6-0edc-4477-85fd-f20f0d3713bb",
        "colab": {
          "base_uri": "https://localhost:8080/",
          "height": 206
        }
      },
      "execution_count": null,
      "outputs": [
        {
          "output_type": "execute_result",
          "data": {
            "text/plain": [
              "                  Company Name            Co. Designation  \\\n",
              "0  Zeomega Hi Tech & ITES 2022         Software Developer   \n",
              "1  Zeomega Hi Tech & ITES 2022                QA Engineer   \n",
              "2  Zeomega Hi Tech & ITES 2022         Senior RFP Analyst   \n",
              "3  Zeomega Hi Tech & ITES 2022              Sales Manager   \n",
              "4  Zeomega Hi Tech & ITES 2022  Associate Project Manager   \n",
              "\n",
              "           Co. Function Job Family Code  \n",
              "0  Software Development            PDFS  \n",
              "1  Software Development            TEMT  \n",
              "2  Software Development            SASD  \n",
              "3  Software Development            SASD  \n",
              "4  Software Development            PRPO  "
            ],
            "text/html": [
              "\n",
              "  <div id=\"df-b77a9f7f-210b-4c50-81b9-af37bf619ed4\">\n",
              "    <div class=\"colab-df-container\">\n",
              "      <div>\n",
              "<style scoped>\n",
              "    .dataframe tbody tr th:only-of-type {\n",
              "        vertical-align: middle;\n",
              "    }\n",
              "\n",
              "    .dataframe tbody tr th {\n",
              "        vertical-align: top;\n",
              "    }\n",
              "\n",
              "    .dataframe thead th {\n",
              "        text-align: right;\n",
              "    }\n",
              "</style>\n",
              "<table border=\"1\" class=\"dataframe\">\n",
              "  <thead>\n",
              "    <tr style=\"text-align: right;\">\n",
              "      <th></th>\n",
              "      <th>Company Name</th>\n",
              "      <th>Co. Designation</th>\n",
              "      <th>Co. Function</th>\n",
              "      <th>Job Family Code</th>\n",
              "    </tr>\n",
              "  </thead>\n",
              "  <tbody>\n",
              "    <tr>\n",
              "      <th>0</th>\n",
              "      <td>Zeomega Hi Tech &amp; ITES 2022</td>\n",
              "      <td>Software Developer</td>\n",
              "      <td>Software Development</td>\n",
              "      <td>PDFS</td>\n",
              "    </tr>\n",
              "    <tr>\n",
              "      <th>1</th>\n",
              "      <td>Zeomega Hi Tech &amp; ITES 2022</td>\n",
              "      <td>QA Engineer</td>\n",
              "      <td>Software Development</td>\n",
              "      <td>TEMT</td>\n",
              "    </tr>\n",
              "    <tr>\n",
              "      <th>2</th>\n",
              "      <td>Zeomega Hi Tech &amp; ITES 2022</td>\n",
              "      <td>Senior RFP Analyst</td>\n",
              "      <td>Software Development</td>\n",
              "      <td>SASD</td>\n",
              "    </tr>\n",
              "    <tr>\n",
              "      <th>3</th>\n",
              "      <td>Zeomega Hi Tech &amp; ITES 2022</td>\n",
              "      <td>Sales Manager</td>\n",
              "      <td>Software Development</td>\n",
              "      <td>SASD</td>\n",
              "    </tr>\n",
              "    <tr>\n",
              "      <th>4</th>\n",
              "      <td>Zeomega Hi Tech &amp; ITES 2022</td>\n",
              "      <td>Associate Project Manager</td>\n",
              "      <td>Software Development</td>\n",
              "      <td>PRPO</td>\n",
              "    </tr>\n",
              "  </tbody>\n",
              "</table>\n",
              "</div>\n",
              "      <button class=\"colab-df-convert\" onclick=\"convertToInteractive('df-b77a9f7f-210b-4c50-81b9-af37bf619ed4')\"\n",
              "              title=\"Convert this dataframe to an interactive table.\"\n",
              "              style=\"display:none;\">\n",
              "        \n",
              "  <svg xmlns=\"http://www.w3.org/2000/svg\" height=\"24px\"viewBox=\"0 0 24 24\"\n",
              "       width=\"24px\">\n",
              "    <path d=\"M0 0h24v24H0V0z\" fill=\"none\"/>\n",
              "    <path d=\"M18.56 5.44l.94 2.06.94-2.06 2.06-.94-2.06-.94-.94-2.06-.94 2.06-2.06.94zm-11 1L8.5 8.5l.94-2.06 2.06-.94-2.06-.94L8.5 2.5l-.94 2.06-2.06.94zm10 10l.94 2.06.94-2.06 2.06-.94-2.06-.94-.94-2.06-.94 2.06-2.06.94z\"/><path d=\"M17.41 7.96l-1.37-1.37c-.4-.4-.92-.59-1.43-.59-.52 0-1.04.2-1.43.59L10.3 9.45l-7.72 7.72c-.78.78-.78 2.05 0 2.83L4 21.41c.39.39.9.59 1.41.59.51 0 1.02-.2 1.41-.59l7.78-7.78 2.81-2.81c.8-.78.8-2.07 0-2.86zM5.41 20L4 18.59l7.72-7.72 1.47 1.35L5.41 20z\"/>\n",
              "  </svg>\n",
              "      </button>\n",
              "      \n",
              "  <style>\n",
              "    .colab-df-container {\n",
              "      display:flex;\n",
              "      flex-wrap:wrap;\n",
              "      gap: 12px;\n",
              "    }\n",
              "\n",
              "    .colab-df-convert {\n",
              "      background-color: #E8F0FE;\n",
              "      border: none;\n",
              "      border-radius: 50%;\n",
              "      cursor: pointer;\n",
              "      display: none;\n",
              "      fill: #1967D2;\n",
              "      height: 32px;\n",
              "      padding: 0 0 0 0;\n",
              "      width: 32px;\n",
              "    }\n",
              "\n",
              "    .colab-df-convert:hover {\n",
              "      background-color: #E2EBFA;\n",
              "      box-shadow: 0px 1px 2px rgba(60, 64, 67, 0.3), 0px 1px 3px 1px rgba(60, 64, 67, 0.15);\n",
              "      fill: #174EA6;\n",
              "    }\n",
              "\n",
              "    [theme=dark] .colab-df-convert {\n",
              "      background-color: #3B4455;\n",
              "      fill: #D2E3FC;\n",
              "    }\n",
              "\n",
              "    [theme=dark] .colab-df-convert:hover {\n",
              "      background-color: #434B5C;\n",
              "      box-shadow: 0px 1px 3px 1px rgba(0, 0, 0, 0.15);\n",
              "      filter: drop-shadow(0px 1px 2px rgba(0, 0, 0, 0.3));\n",
              "      fill: #FFFFFF;\n",
              "    }\n",
              "  </style>\n",
              "\n",
              "      <script>\n",
              "        const buttonEl =\n",
              "          document.querySelector('#df-b77a9f7f-210b-4c50-81b9-af37bf619ed4 button.colab-df-convert');\n",
              "        buttonEl.style.display =\n",
              "          google.colab.kernel.accessAllowed ? 'block' : 'none';\n",
              "\n",
              "        async function convertToInteractive(key) {\n",
              "          const element = document.querySelector('#df-b77a9f7f-210b-4c50-81b9-af37bf619ed4');\n",
              "          const dataTable =\n",
              "            await google.colab.kernel.invokeFunction('convertToInteractive',\n",
              "                                                     [key], {});\n",
              "          if (!dataTable) return;\n",
              "\n",
              "          const docLinkHtml = 'Like what you see? Visit the ' +\n",
              "            '<a target=\"_blank\" href=https://colab.research.google.com/notebooks/data_table.ipynb>data table notebook</a>'\n",
              "            + ' to learn more about interactive tables.';\n",
              "          element.innerHTML = '';\n",
              "          dataTable['output_type'] = 'display_data';\n",
              "          await google.colab.output.renderOutput(dataTable, element);\n",
              "          const docLink = document.createElement('div');\n",
              "          docLink.innerHTML = docLinkHtml;\n",
              "          element.appendChild(docLink);\n",
              "        }\n",
              "      </script>\n",
              "    </div>\n",
              "  </div>\n",
              "  "
            ]
          },
          "metadata": {},
          "execution_count": 10
        }
      ]
    },
    {
      "cell_type": "code",
      "source": [
        "df_test = pd.read_csv('Test_2_Citrix.csv')\n",
        "df_test.head()"
      ],
      "metadata": {
        "id": "g8-zz11mqB8b",
        "outputId": "4e31c181-3eb9-4b27-edeb-80ed5157e3ca",
        "colab": {
          "base_uri": "https://localhost:8080/",
          "height": 206
        }
      },
      "execution_count": null,
      "outputs": [
        {
          "output_type": "execute_result",
          "data": {
            "text/plain": [
              "     Company Name                  Co. Designation Co. Function  \\\n",
              "0  Citrix Systems  Principal Information Developer  Engineering   \n",
              "1  Citrix Systems           Staff Quality Engineer  Engineering   \n",
              "2  Citrix Systems           Sr Manager Engineering  Engineering   \n",
              "3  Citrix Systems            Principal SW Engineer  Engineering   \n",
              "4  Citrix Systems          Sr Director Engineering  Engineering   \n",
              "\n",
              "  Job Family Code  \n",
              "0            TWXX  \n",
              "1            TEAU  \n",
              "2            PDXX  \n",
              "3            PDXX  \n",
              "4            PDXX  "
            ],
            "text/html": [
              "\n",
              "  <div id=\"df-1b1758f6-5dec-47c3-95eb-e0d4175dca9e\">\n",
              "    <div class=\"colab-df-container\">\n",
              "      <div>\n",
              "<style scoped>\n",
              "    .dataframe tbody tr th:only-of-type {\n",
              "        vertical-align: middle;\n",
              "    }\n",
              "\n",
              "    .dataframe tbody tr th {\n",
              "        vertical-align: top;\n",
              "    }\n",
              "\n",
              "    .dataframe thead th {\n",
              "        text-align: right;\n",
              "    }\n",
              "</style>\n",
              "<table border=\"1\" class=\"dataframe\">\n",
              "  <thead>\n",
              "    <tr style=\"text-align: right;\">\n",
              "      <th></th>\n",
              "      <th>Company Name</th>\n",
              "      <th>Co. Designation</th>\n",
              "      <th>Co. Function</th>\n",
              "      <th>Job Family Code</th>\n",
              "    </tr>\n",
              "  </thead>\n",
              "  <tbody>\n",
              "    <tr>\n",
              "      <th>0</th>\n",
              "      <td>Citrix Systems</td>\n",
              "      <td>Principal Information Developer</td>\n",
              "      <td>Engineering</td>\n",
              "      <td>TWXX</td>\n",
              "    </tr>\n",
              "    <tr>\n",
              "      <th>1</th>\n",
              "      <td>Citrix Systems</td>\n",
              "      <td>Staff Quality Engineer</td>\n",
              "      <td>Engineering</td>\n",
              "      <td>TEAU</td>\n",
              "    </tr>\n",
              "    <tr>\n",
              "      <th>2</th>\n",
              "      <td>Citrix Systems</td>\n",
              "      <td>Sr Manager Engineering</td>\n",
              "      <td>Engineering</td>\n",
              "      <td>PDXX</td>\n",
              "    </tr>\n",
              "    <tr>\n",
              "      <th>3</th>\n",
              "      <td>Citrix Systems</td>\n",
              "      <td>Principal SW Engineer</td>\n",
              "      <td>Engineering</td>\n",
              "      <td>PDXX</td>\n",
              "    </tr>\n",
              "    <tr>\n",
              "      <th>4</th>\n",
              "      <td>Citrix Systems</td>\n",
              "      <td>Sr Director Engineering</td>\n",
              "      <td>Engineering</td>\n",
              "      <td>PDXX</td>\n",
              "    </tr>\n",
              "  </tbody>\n",
              "</table>\n",
              "</div>\n",
              "      <button class=\"colab-df-convert\" onclick=\"convertToInteractive('df-1b1758f6-5dec-47c3-95eb-e0d4175dca9e')\"\n",
              "              title=\"Convert this dataframe to an interactive table.\"\n",
              "              style=\"display:none;\">\n",
              "        \n",
              "  <svg xmlns=\"http://www.w3.org/2000/svg\" height=\"24px\"viewBox=\"0 0 24 24\"\n",
              "       width=\"24px\">\n",
              "    <path d=\"M0 0h24v24H0V0z\" fill=\"none\"/>\n",
              "    <path d=\"M18.56 5.44l.94 2.06.94-2.06 2.06-.94-2.06-.94-.94-2.06-.94 2.06-2.06.94zm-11 1L8.5 8.5l.94-2.06 2.06-.94-2.06-.94L8.5 2.5l-.94 2.06-2.06.94zm10 10l.94 2.06.94-2.06 2.06-.94-2.06-.94-.94-2.06-.94 2.06-2.06.94z\"/><path d=\"M17.41 7.96l-1.37-1.37c-.4-.4-.92-.59-1.43-.59-.52 0-1.04.2-1.43.59L10.3 9.45l-7.72 7.72c-.78.78-.78 2.05 0 2.83L4 21.41c.39.39.9.59 1.41.59.51 0 1.02-.2 1.41-.59l7.78-7.78 2.81-2.81c.8-.78.8-2.07 0-2.86zM5.41 20L4 18.59l7.72-7.72 1.47 1.35L5.41 20z\"/>\n",
              "  </svg>\n",
              "      </button>\n",
              "      \n",
              "  <style>\n",
              "    .colab-df-container {\n",
              "      display:flex;\n",
              "      flex-wrap:wrap;\n",
              "      gap: 12px;\n",
              "    }\n",
              "\n",
              "    .colab-df-convert {\n",
              "      background-color: #E8F0FE;\n",
              "      border: none;\n",
              "      border-radius: 50%;\n",
              "      cursor: pointer;\n",
              "      display: none;\n",
              "      fill: #1967D2;\n",
              "      height: 32px;\n",
              "      padding: 0 0 0 0;\n",
              "      width: 32px;\n",
              "    }\n",
              "\n",
              "    .colab-df-convert:hover {\n",
              "      background-color: #E2EBFA;\n",
              "      box-shadow: 0px 1px 2px rgba(60, 64, 67, 0.3), 0px 1px 3px 1px rgba(60, 64, 67, 0.15);\n",
              "      fill: #174EA6;\n",
              "    }\n",
              "\n",
              "    [theme=dark] .colab-df-convert {\n",
              "      background-color: #3B4455;\n",
              "      fill: #D2E3FC;\n",
              "    }\n",
              "\n",
              "    [theme=dark] .colab-df-convert:hover {\n",
              "      background-color: #434B5C;\n",
              "      box-shadow: 0px 1px 3px 1px rgba(0, 0, 0, 0.15);\n",
              "      filter: drop-shadow(0px 1px 2px rgba(0, 0, 0, 0.3));\n",
              "      fill: #FFFFFF;\n",
              "    }\n",
              "  </style>\n",
              "\n",
              "      <script>\n",
              "        const buttonEl =\n",
              "          document.querySelector('#df-1b1758f6-5dec-47c3-95eb-e0d4175dca9e button.colab-df-convert');\n",
              "        buttonEl.style.display =\n",
              "          google.colab.kernel.accessAllowed ? 'block' : 'none';\n",
              "\n",
              "        async function convertToInteractive(key) {\n",
              "          const element = document.querySelector('#df-1b1758f6-5dec-47c3-95eb-e0d4175dca9e');\n",
              "          const dataTable =\n",
              "            await google.colab.kernel.invokeFunction('convertToInteractive',\n",
              "                                                     [key], {});\n",
              "          if (!dataTable) return;\n",
              "\n",
              "          const docLinkHtml = 'Like what you see? Visit the ' +\n",
              "            '<a target=\"_blank\" href=https://colab.research.google.com/notebooks/data_table.ipynb>data table notebook</a>'\n",
              "            + ' to learn more about interactive tables.';\n",
              "          element.innerHTML = '';\n",
              "          dataTable['output_type'] = 'display_data';\n",
              "          await google.colab.output.renderOutput(dataTable, element);\n",
              "          const docLink = document.createElement('div');\n",
              "          docLink.innerHTML = docLinkHtml;\n",
              "          element.appendChild(docLink);\n",
              "        }\n",
              "      </script>\n",
              "    </div>\n",
              "  </div>\n",
              "  "
            ]
          },
          "metadata": {},
          "execution_count": 11
        }
      ]
    },
    {
      "cell_type": "code",
      "source": [
        "df.shape\n",
        "set(df['Company Name'])"
      ],
      "metadata": {
        "id": "WUT3QAtFqFAk",
        "outputId": "53d0cffc-3654-40c7-ef95-9a0482ec6215",
        "colab": {
          "base_uri": "https://localhost:8080/"
        }
      },
      "execution_count": null,
      "outputs": [
        {
          "output_type": "execute_result",
          "data": {
            "text/plain": [
              "{'75F Hi Tech & ITES 2022',\n",
              " 'Amadeus Hi Tech & ITES 2022',\n",
              " 'American Express',\n",
              " 'Applied Materials',\n",
              " 'Atkins Hi Tech & ITES 2022',\n",
              " 'Browser Hi Tech & ITES 2022',\n",
              " 'Cadence Hi Tech & ITES 2022',\n",
              " 'CoinDCX Hi Tech & ITES 2022',\n",
              " 'Dealshare Non Tech Hi Tech & ITES 2022',\n",
              " 'Dealshare Tech Hi Tech & ITES 2022',\n",
              " 'Duck Creek Hi Tech & ITES 2022',\n",
              " 'EcomExpress Hi Tech & ITES 2022',\n",
              " 'Esri',\n",
              " 'Expedia',\n",
              " 'F5, Inc',\n",
              " 'FalconX Tech & ITES 2022',\n",
              " 'Finastra',\n",
              " 'Freshworks Hi Tech & ITES 2022',\n",
              " 'Furlenco Hi Tech & ITES 2022',\n",
              " 'GEP Hi Tech & ITES 2022',\n",
              " 'Games 24x7 - India',\n",
              " 'Go-Jek',\n",
              " 'Groupon',\n",
              " 'HP Hi Tech & ITES 2022',\n",
              " 'Honeywell International',\n",
              " 'IQVIA',\n",
              " 'Intel',\n",
              " 'Jocata Hi Tech & ITES 2022',\n",
              " 'Juniper Networks',\n",
              " 'L&T EduTech Hi Tech & ITES 2022',\n",
              " 'Lam Research',\n",
              " 'LinkedIn Corporation',\n",
              " 'Lockheed Martin',\n",
              " 'Mastercard Worldwide',\n",
              " 'Maxlinear',\n",
              " 'McAfee',\n",
              " 'Mediatek',\n",
              " 'Mentor Graphics Hi Tech & ITES 2022',\n",
              " 'Meta',\n",
              " 'Microchip Technology',\n",
              " 'MongoDB',\n",
              " 'Motorola Hi Tech & ITES 2022',\n",
              " 'NXP  Semiconductors Hi Tech & ITES 2022',\n",
              " 'Netradyne Hi Tech & ITES 2022',\n",
              " 'Nvidia Hi Tech & ITES 2022',\n",
              " 'On Semiconductor Hi Tech & ITES 2022',\n",
              " 'Pine Labs - India',\n",
              " 'Rakuten',\n",
              " 'Red Hat',\n",
              " 'ST Micro Hi Tech & ITES 2022',\n",
              " 'Saks Hi Tech & ITES 2022',\n",
              " 'Samsung Delhi Hi Tech & ITES 2022',\n",
              " 'Samsung Noida Hi Tech & ITES 2022',\n",
              " 'Setu Hi Tech & ITES 2022',\n",
              " 'Sopra Banking Hi Tech & ITES 2022',\n",
              " 'Tesco Hi Tech & ITES 2022',\n",
              " 'Texas Instruments Hi Tech & ITES 2022',\n",
              " 'Visa U.S.A. Inc',\n",
              " 'WNS Global Services Hi Tech & ITES 2022',\n",
              " 'WhitehatJr Hi Tech & ITES 2022',\n",
              " 'Zendesk',\n",
              " 'Zeomega Hi Tech & ITES 2022',\n",
              " 'Zynga Inc',\n",
              " 'eBay'}"
            ]
          },
          "metadata": {},
          "execution_count": 12
        }
      ]
    },
    {
      "cell_type": "code",
      "source": [
        "df.columns"
      ],
      "metadata": {
        "id": "XgKUy_kIqISg",
        "outputId": "b54aa9c8-6bcb-46d0-988c-57f7890b3921",
        "colab": {
          "base_uri": "https://localhost:8080/"
        }
      },
      "execution_count": null,
      "outputs": [
        {
          "output_type": "execute_result",
          "data": {
            "text/plain": [
              "Index(['Company Name', 'Co. Designation', 'Co. Function', 'Job Family Code'], dtype='object')"
            ]
          },
          "metadata": {},
          "execution_count": 13
        }
      ]
    },
    {
      "cell_type": "code",
      "source": [
        "train_cols = ['Co. Designation', 'Co. Function']"
      ],
      "metadata": {
        "id": "snqs9UFrqK1M"
      },
      "execution_count": null,
      "outputs": []
    },
    {
      "cell_type": "code",
      "source": [
        "target_col = 'Job Family Code'\n",
        "target_col_2='Level'"
      ],
      "metadata": {
        "id": "Q7EVYCfFqLPP"
      },
      "execution_count": null,
      "outputs": []
    },
    {
      "cell_type": "code",
      "source": [
        "all_cols = ['Co. Designation', 'Co. Function', 'Job Family Code','Level']"
      ],
      "metadata": {
        "id": "BnXOkzyFqMzP"
      },
      "execution_count": null,
      "outputs": []
    },
    {
      "cell_type": "code",
      "source": [
        "import pandas as pd\n",
        "from scipy.sparse import hstack\n",
        "from sklearn.feature_extraction.text import TfidfVectorizer\n",
        "from sklearn.linear_model import LogisticRegression\n",
        "from sklearn.metrics import accuracy_score, classification_report\n",
        "from sklearn.model_selection import train_test_split"
      ],
      "metadata": {
        "id": "qtC88Zw9qPj5"
      },
      "execution_count": null,
      "outputs": []
    },
    {
      "cell_type": "code",
      "source": [
        "# Load data\n",
        "data = pd.read_csv('Train_1_ExcludingTest.csv')"
      ],
      "metadata": {
        "id": "1Ut2p3HnqQtf"
      },
      "execution_count": null,
      "outputs": []
    },
    {
      "cell_type": "code",
      "source": [
        "df_test.head()"
      ],
      "metadata": {
        "id": "ZXQTHb6UqSTq",
        "outputId": "ecf4ea13-5f2a-4151-9fce-bb5c778c48fe",
        "colab": {
          "base_uri": "https://localhost:8080/",
          "height": 206
        }
      },
      "execution_count": null,
      "outputs": [
        {
          "output_type": "execute_result",
          "data": {
            "text/plain": [
              "     Company Name                  Co. Designation Co. Function  \\\n",
              "0  Citrix Systems  Principal Information Developer  Engineering   \n",
              "1  Citrix Systems           Staff Quality Engineer  Engineering   \n",
              "2  Citrix Systems           Sr Manager Engineering  Engineering   \n",
              "3  Citrix Systems            Principal SW Engineer  Engineering   \n",
              "4  Citrix Systems          Sr Director Engineering  Engineering   \n",
              "\n",
              "  Job Family Code  \n",
              "0            TWXX  \n",
              "1            TEAU  \n",
              "2            PDXX  \n",
              "3            PDXX  \n",
              "4            PDXX  "
            ],
            "text/html": [
              "\n",
              "  <div id=\"df-f19fe194-e79c-4833-baaf-15a3857195b7\">\n",
              "    <div class=\"colab-df-container\">\n",
              "      <div>\n",
              "<style scoped>\n",
              "    .dataframe tbody tr th:only-of-type {\n",
              "        vertical-align: middle;\n",
              "    }\n",
              "\n",
              "    .dataframe tbody tr th {\n",
              "        vertical-align: top;\n",
              "    }\n",
              "\n",
              "    .dataframe thead th {\n",
              "        text-align: right;\n",
              "    }\n",
              "</style>\n",
              "<table border=\"1\" class=\"dataframe\">\n",
              "  <thead>\n",
              "    <tr style=\"text-align: right;\">\n",
              "      <th></th>\n",
              "      <th>Company Name</th>\n",
              "      <th>Co. Designation</th>\n",
              "      <th>Co. Function</th>\n",
              "      <th>Job Family Code</th>\n",
              "    </tr>\n",
              "  </thead>\n",
              "  <tbody>\n",
              "    <tr>\n",
              "      <th>0</th>\n",
              "      <td>Citrix Systems</td>\n",
              "      <td>Principal Information Developer</td>\n",
              "      <td>Engineering</td>\n",
              "      <td>TWXX</td>\n",
              "    </tr>\n",
              "    <tr>\n",
              "      <th>1</th>\n",
              "      <td>Citrix Systems</td>\n",
              "      <td>Staff Quality Engineer</td>\n",
              "      <td>Engineering</td>\n",
              "      <td>TEAU</td>\n",
              "    </tr>\n",
              "    <tr>\n",
              "      <th>2</th>\n",
              "      <td>Citrix Systems</td>\n",
              "      <td>Sr Manager Engineering</td>\n",
              "      <td>Engineering</td>\n",
              "      <td>PDXX</td>\n",
              "    </tr>\n",
              "    <tr>\n",
              "      <th>3</th>\n",
              "      <td>Citrix Systems</td>\n",
              "      <td>Principal SW Engineer</td>\n",
              "      <td>Engineering</td>\n",
              "      <td>PDXX</td>\n",
              "    </tr>\n",
              "    <tr>\n",
              "      <th>4</th>\n",
              "      <td>Citrix Systems</td>\n",
              "      <td>Sr Director Engineering</td>\n",
              "      <td>Engineering</td>\n",
              "      <td>PDXX</td>\n",
              "    </tr>\n",
              "  </tbody>\n",
              "</table>\n",
              "</div>\n",
              "      <button class=\"colab-df-convert\" onclick=\"convertToInteractive('df-f19fe194-e79c-4833-baaf-15a3857195b7')\"\n",
              "              title=\"Convert this dataframe to an interactive table.\"\n",
              "              style=\"display:none;\">\n",
              "        \n",
              "  <svg xmlns=\"http://www.w3.org/2000/svg\" height=\"24px\"viewBox=\"0 0 24 24\"\n",
              "       width=\"24px\">\n",
              "    <path d=\"M0 0h24v24H0V0z\" fill=\"none\"/>\n",
              "    <path d=\"M18.56 5.44l.94 2.06.94-2.06 2.06-.94-2.06-.94-.94-2.06-.94 2.06-2.06.94zm-11 1L8.5 8.5l.94-2.06 2.06-.94-2.06-.94L8.5 2.5l-.94 2.06-2.06.94zm10 10l.94 2.06.94-2.06 2.06-.94-2.06-.94-.94-2.06-.94 2.06-2.06.94z\"/><path d=\"M17.41 7.96l-1.37-1.37c-.4-.4-.92-.59-1.43-.59-.52 0-1.04.2-1.43.59L10.3 9.45l-7.72 7.72c-.78.78-.78 2.05 0 2.83L4 21.41c.39.39.9.59 1.41.59.51 0 1.02-.2 1.41-.59l7.78-7.78 2.81-2.81c.8-.78.8-2.07 0-2.86zM5.41 20L4 18.59l7.72-7.72 1.47 1.35L5.41 20z\"/>\n",
              "  </svg>\n",
              "      </button>\n",
              "      \n",
              "  <style>\n",
              "    .colab-df-container {\n",
              "      display:flex;\n",
              "      flex-wrap:wrap;\n",
              "      gap: 12px;\n",
              "    }\n",
              "\n",
              "    .colab-df-convert {\n",
              "      background-color: #E8F0FE;\n",
              "      border: none;\n",
              "      border-radius: 50%;\n",
              "      cursor: pointer;\n",
              "      display: none;\n",
              "      fill: #1967D2;\n",
              "      height: 32px;\n",
              "      padding: 0 0 0 0;\n",
              "      width: 32px;\n",
              "    }\n",
              "\n",
              "    .colab-df-convert:hover {\n",
              "      background-color: #E2EBFA;\n",
              "      box-shadow: 0px 1px 2px rgba(60, 64, 67, 0.3), 0px 1px 3px 1px rgba(60, 64, 67, 0.15);\n",
              "      fill: #174EA6;\n",
              "    }\n",
              "\n",
              "    [theme=dark] .colab-df-convert {\n",
              "      background-color: #3B4455;\n",
              "      fill: #D2E3FC;\n",
              "    }\n",
              "\n",
              "    [theme=dark] .colab-df-convert:hover {\n",
              "      background-color: #434B5C;\n",
              "      box-shadow: 0px 1px 3px 1px rgba(0, 0, 0, 0.15);\n",
              "      filter: drop-shadow(0px 1px 2px rgba(0, 0, 0, 0.3));\n",
              "      fill: #FFFFFF;\n",
              "    }\n",
              "  </style>\n",
              "\n",
              "      <script>\n",
              "        const buttonEl =\n",
              "          document.querySelector('#df-f19fe194-e79c-4833-baaf-15a3857195b7 button.colab-df-convert');\n",
              "        buttonEl.style.display =\n",
              "          google.colab.kernel.accessAllowed ? 'block' : 'none';\n",
              "\n",
              "        async function convertToInteractive(key) {\n",
              "          const element = document.querySelector('#df-f19fe194-e79c-4833-baaf-15a3857195b7');\n",
              "          const dataTable =\n",
              "            await google.colab.kernel.invokeFunction('convertToInteractive',\n",
              "                                                     [key], {});\n",
              "          if (!dataTable) return;\n",
              "\n",
              "          const docLinkHtml = 'Like what you see? Visit the ' +\n",
              "            '<a target=\"_blank\" href=https://colab.research.google.com/notebooks/data_table.ipynb>data table notebook</a>'\n",
              "            + ' to learn more about interactive tables.';\n",
              "          element.innerHTML = '';\n",
              "          dataTable['output_type'] = 'display_data';\n",
              "          await google.colab.output.renderOutput(dataTable, element);\n",
              "          const docLink = document.createElement('div');\n",
              "          docLink.innerHTML = docLinkHtml;\n",
              "          element.appendChild(docLink);\n",
              "        }\n",
              "      </script>\n",
              "    </div>\n",
              "  </div>\n",
              "  "
            ]
          },
          "metadata": {},
          "execution_count": 19
        }
      ]
    },
    {
      "cell_type": "code",
      "source": [
        "data = data[all_cols]\n",
        "data = data.dropna()"
      ],
      "metadata": {
        "id": "677jgG6vqUER"
      },
      "execution_count": null,
      "outputs": []
    },
    {
      "cell_type": "code",
      "source": [
        "df_test = df_test[all_cols]\n",
        "df_test = df_test.dropna()"
      ],
      "metadata": {
        "id": "Lw2QDppCqVk0"
      },
      "execution_count": null,
      "outputs": []
    },
    {
      "cell_type": "code",
      "source": [
        "data.head()"
      ],
      "metadata": {
        "id": "XWwhj-PCqW1M",
        "outputId": "64b8102f-8e97-4a7e-fdd7-7576f965c079",
        "colab": {
          "base_uri": "https://localhost:8080/",
          "height": 206
        }
      },
      "execution_count": null,
      "outputs": [
        {
          "output_type": "execute_result",
          "data": {
            "text/plain": [
              "             Co. Designation          Co. Function Job Family Code\n",
              "0         Software Developer  Software Development            PDFS\n",
              "1                QA Engineer  Software Development            TEMT\n",
              "2         Senior RFP Analyst  Software Development            SASD\n",
              "3              Sales Manager  Software Development            SASD\n",
              "4  Associate Project Manager  Software Development            PRPO"
            ],
            "text/html": [
              "\n",
              "  <div id=\"df-4b587a7a-cedd-4c16-80de-f69b1f92fe86\">\n",
              "    <div class=\"colab-df-container\">\n",
              "      <div>\n",
              "<style scoped>\n",
              "    .dataframe tbody tr th:only-of-type {\n",
              "        vertical-align: middle;\n",
              "    }\n",
              "\n",
              "    .dataframe tbody tr th {\n",
              "        vertical-align: top;\n",
              "    }\n",
              "\n",
              "    .dataframe thead th {\n",
              "        text-align: right;\n",
              "    }\n",
              "</style>\n",
              "<table border=\"1\" class=\"dataframe\">\n",
              "  <thead>\n",
              "    <tr style=\"text-align: right;\">\n",
              "      <th></th>\n",
              "      <th>Co. Designation</th>\n",
              "      <th>Co. Function</th>\n",
              "      <th>Job Family Code</th>\n",
              "    </tr>\n",
              "  </thead>\n",
              "  <tbody>\n",
              "    <tr>\n",
              "      <th>0</th>\n",
              "      <td>Software Developer</td>\n",
              "      <td>Software Development</td>\n",
              "      <td>PDFS</td>\n",
              "    </tr>\n",
              "    <tr>\n",
              "      <th>1</th>\n",
              "      <td>QA Engineer</td>\n",
              "      <td>Software Development</td>\n",
              "      <td>TEMT</td>\n",
              "    </tr>\n",
              "    <tr>\n",
              "      <th>2</th>\n",
              "      <td>Senior RFP Analyst</td>\n",
              "      <td>Software Development</td>\n",
              "      <td>SASD</td>\n",
              "    </tr>\n",
              "    <tr>\n",
              "      <th>3</th>\n",
              "      <td>Sales Manager</td>\n",
              "      <td>Software Development</td>\n",
              "      <td>SASD</td>\n",
              "    </tr>\n",
              "    <tr>\n",
              "      <th>4</th>\n",
              "      <td>Associate Project Manager</td>\n",
              "      <td>Software Development</td>\n",
              "      <td>PRPO</td>\n",
              "    </tr>\n",
              "  </tbody>\n",
              "</table>\n",
              "</div>\n",
              "      <button class=\"colab-df-convert\" onclick=\"convertToInteractive('df-4b587a7a-cedd-4c16-80de-f69b1f92fe86')\"\n",
              "              title=\"Convert this dataframe to an interactive table.\"\n",
              "              style=\"display:none;\">\n",
              "        \n",
              "  <svg xmlns=\"http://www.w3.org/2000/svg\" height=\"24px\"viewBox=\"0 0 24 24\"\n",
              "       width=\"24px\">\n",
              "    <path d=\"M0 0h24v24H0V0z\" fill=\"none\"/>\n",
              "    <path d=\"M18.56 5.44l.94 2.06.94-2.06 2.06-.94-2.06-.94-.94-2.06-.94 2.06-2.06.94zm-11 1L8.5 8.5l.94-2.06 2.06-.94-2.06-.94L8.5 2.5l-.94 2.06-2.06.94zm10 10l.94 2.06.94-2.06 2.06-.94-2.06-.94-.94-2.06-.94 2.06-2.06.94z\"/><path d=\"M17.41 7.96l-1.37-1.37c-.4-.4-.92-.59-1.43-.59-.52 0-1.04.2-1.43.59L10.3 9.45l-7.72 7.72c-.78.78-.78 2.05 0 2.83L4 21.41c.39.39.9.59 1.41.59.51 0 1.02-.2 1.41-.59l7.78-7.78 2.81-2.81c.8-.78.8-2.07 0-2.86zM5.41 20L4 18.59l7.72-7.72 1.47 1.35L5.41 20z\"/>\n",
              "  </svg>\n",
              "      </button>\n",
              "      \n",
              "  <style>\n",
              "    .colab-df-container {\n",
              "      display:flex;\n",
              "      flex-wrap:wrap;\n",
              "      gap: 12px;\n",
              "    }\n",
              "\n",
              "    .colab-df-convert {\n",
              "      background-color: #E8F0FE;\n",
              "      border: none;\n",
              "      border-radius: 50%;\n",
              "      cursor: pointer;\n",
              "      display: none;\n",
              "      fill: #1967D2;\n",
              "      height: 32px;\n",
              "      padding: 0 0 0 0;\n",
              "      width: 32px;\n",
              "    }\n",
              "\n",
              "    .colab-df-convert:hover {\n",
              "      background-color: #E2EBFA;\n",
              "      box-shadow: 0px 1px 2px rgba(60, 64, 67, 0.3), 0px 1px 3px 1px rgba(60, 64, 67, 0.15);\n",
              "      fill: #174EA6;\n",
              "    }\n",
              "\n",
              "    [theme=dark] .colab-df-convert {\n",
              "      background-color: #3B4455;\n",
              "      fill: #D2E3FC;\n",
              "    }\n",
              "\n",
              "    [theme=dark] .colab-df-convert:hover {\n",
              "      background-color: #434B5C;\n",
              "      box-shadow: 0px 1px 3px 1px rgba(0, 0, 0, 0.15);\n",
              "      filter: drop-shadow(0px 1px 2px rgba(0, 0, 0, 0.3));\n",
              "      fill: #FFFFFF;\n",
              "    }\n",
              "  </style>\n",
              "\n",
              "      <script>\n",
              "        const buttonEl =\n",
              "          document.querySelector('#df-4b587a7a-cedd-4c16-80de-f69b1f92fe86 button.colab-df-convert');\n",
              "        buttonEl.style.display =\n",
              "          google.colab.kernel.accessAllowed ? 'block' : 'none';\n",
              "\n",
              "        async function convertToInteractive(key) {\n",
              "          const element = document.querySelector('#df-4b587a7a-cedd-4c16-80de-f69b1f92fe86');\n",
              "          const dataTable =\n",
              "            await google.colab.kernel.invokeFunction('convertToInteractive',\n",
              "                                                     [key], {});\n",
              "          if (!dataTable) return;\n",
              "\n",
              "          const docLinkHtml = 'Like what you see? Visit the ' +\n",
              "            '<a target=\"_blank\" href=https://colab.research.google.com/notebooks/data_table.ipynb>data table notebook</a>'\n",
              "            + ' to learn more about interactive tables.';\n",
              "          element.innerHTML = '';\n",
              "          dataTable['output_type'] = 'display_data';\n",
              "          await google.colab.output.renderOutput(dataTable, element);\n",
              "          const docLink = document.createElement('div');\n",
              "          docLink.innerHTML = docLinkHtml;\n",
              "          element.appendChild(docLink);\n",
              "        }\n",
              "      </script>\n",
              "    </div>\n",
              "  </div>\n",
              "  "
            ]
          },
          "metadata": {},
          "execution_count": 22
        }
      ]
    },
    {
      "cell_type": "code",
      "source": [
        "df_test.head()"
      ],
      "metadata": {
        "id": "Q_uADMLNqYpW",
        "outputId": "895b3b83-fd01-4720-c099-b0ded92853bf",
        "colab": {
          "base_uri": "https://localhost:8080/",
          "height": 206
        }
      },
      "execution_count": null,
      "outputs": [
        {
          "output_type": "execute_result",
          "data": {
            "text/plain": [
              "                   Co. Designation Co. Function Job Family Code\n",
              "0  Principal Information Developer  Engineering            TWXX\n",
              "1           Staff Quality Engineer  Engineering            TEAU\n",
              "2           Sr Manager Engineering  Engineering            PDXX\n",
              "3            Principal SW Engineer  Engineering            PDXX\n",
              "4          Sr Director Engineering  Engineering            PDXX"
            ],
            "text/html": [
              "\n",
              "  <div id=\"df-4c7d2c40-d381-46b6-a646-b71c81070a3d\">\n",
              "    <div class=\"colab-df-container\">\n",
              "      <div>\n",
              "<style scoped>\n",
              "    .dataframe tbody tr th:only-of-type {\n",
              "        vertical-align: middle;\n",
              "    }\n",
              "\n",
              "    .dataframe tbody tr th {\n",
              "        vertical-align: top;\n",
              "    }\n",
              "\n",
              "    .dataframe thead th {\n",
              "        text-align: right;\n",
              "    }\n",
              "</style>\n",
              "<table border=\"1\" class=\"dataframe\">\n",
              "  <thead>\n",
              "    <tr style=\"text-align: right;\">\n",
              "      <th></th>\n",
              "      <th>Co. Designation</th>\n",
              "      <th>Co. Function</th>\n",
              "      <th>Job Family Code</th>\n",
              "    </tr>\n",
              "  </thead>\n",
              "  <tbody>\n",
              "    <tr>\n",
              "      <th>0</th>\n",
              "      <td>Principal Information Developer</td>\n",
              "      <td>Engineering</td>\n",
              "      <td>TWXX</td>\n",
              "    </tr>\n",
              "    <tr>\n",
              "      <th>1</th>\n",
              "      <td>Staff Quality Engineer</td>\n",
              "      <td>Engineering</td>\n",
              "      <td>TEAU</td>\n",
              "    </tr>\n",
              "    <tr>\n",
              "      <th>2</th>\n",
              "      <td>Sr Manager Engineering</td>\n",
              "      <td>Engineering</td>\n",
              "      <td>PDXX</td>\n",
              "    </tr>\n",
              "    <tr>\n",
              "      <th>3</th>\n",
              "      <td>Principal SW Engineer</td>\n",
              "      <td>Engineering</td>\n",
              "      <td>PDXX</td>\n",
              "    </tr>\n",
              "    <tr>\n",
              "      <th>4</th>\n",
              "      <td>Sr Director Engineering</td>\n",
              "      <td>Engineering</td>\n",
              "      <td>PDXX</td>\n",
              "    </tr>\n",
              "  </tbody>\n",
              "</table>\n",
              "</div>\n",
              "      <button class=\"colab-df-convert\" onclick=\"convertToInteractive('df-4c7d2c40-d381-46b6-a646-b71c81070a3d')\"\n",
              "              title=\"Convert this dataframe to an interactive table.\"\n",
              "              style=\"display:none;\">\n",
              "        \n",
              "  <svg xmlns=\"http://www.w3.org/2000/svg\" height=\"24px\"viewBox=\"0 0 24 24\"\n",
              "       width=\"24px\">\n",
              "    <path d=\"M0 0h24v24H0V0z\" fill=\"none\"/>\n",
              "    <path d=\"M18.56 5.44l.94 2.06.94-2.06 2.06-.94-2.06-.94-.94-2.06-.94 2.06-2.06.94zm-11 1L8.5 8.5l.94-2.06 2.06-.94-2.06-.94L8.5 2.5l-.94 2.06-2.06.94zm10 10l.94 2.06.94-2.06 2.06-.94-2.06-.94-.94-2.06-.94 2.06-2.06.94z\"/><path d=\"M17.41 7.96l-1.37-1.37c-.4-.4-.92-.59-1.43-.59-.52 0-1.04.2-1.43.59L10.3 9.45l-7.72 7.72c-.78.78-.78 2.05 0 2.83L4 21.41c.39.39.9.59 1.41.59.51 0 1.02-.2 1.41-.59l7.78-7.78 2.81-2.81c.8-.78.8-2.07 0-2.86zM5.41 20L4 18.59l7.72-7.72 1.47 1.35L5.41 20z\"/>\n",
              "  </svg>\n",
              "      </button>\n",
              "      \n",
              "  <style>\n",
              "    .colab-df-container {\n",
              "      display:flex;\n",
              "      flex-wrap:wrap;\n",
              "      gap: 12px;\n",
              "    }\n",
              "\n",
              "    .colab-df-convert {\n",
              "      background-color: #E8F0FE;\n",
              "      border: none;\n",
              "      border-radius: 50%;\n",
              "      cursor: pointer;\n",
              "      display: none;\n",
              "      fill: #1967D2;\n",
              "      height: 32px;\n",
              "      padding: 0 0 0 0;\n",
              "      width: 32px;\n",
              "    }\n",
              "\n",
              "    .colab-df-convert:hover {\n",
              "      background-color: #E2EBFA;\n",
              "      box-shadow: 0px 1px 2px rgba(60, 64, 67, 0.3), 0px 1px 3px 1px rgba(60, 64, 67, 0.15);\n",
              "      fill: #174EA6;\n",
              "    }\n",
              "\n",
              "    [theme=dark] .colab-df-convert {\n",
              "      background-color: #3B4455;\n",
              "      fill: #D2E3FC;\n",
              "    }\n",
              "\n",
              "    [theme=dark] .colab-df-convert:hover {\n",
              "      background-color: #434B5C;\n",
              "      box-shadow: 0px 1px 3px 1px rgba(0, 0, 0, 0.15);\n",
              "      filter: drop-shadow(0px 1px 2px rgba(0, 0, 0, 0.3));\n",
              "      fill: #FFFFFF;\n",
              "    }\n",
              "  </style>\n",
              "\n",
              "      <script>\n",
              "        const buttonEl =\n",
              "          document.querySelector('#df-4c7d2c40-d381-46b6-a646-b71c81070a3d button.colab-df-convert');\n",
              "        buttonEl.style.display =\n",
              "          google.colab.kernel.accessAllowed ? 'block' : 'none';\n",
              "\n",
              "        async function convertToInteractive(key) {\n",
              "          const element = document.querySelector('#df-4c7d2c40-d381-46b6-a646-b71c81070a3d');\n",
              "          const dataTable =\n",
              "            await google.colab.kernel.invokeFunction('convertToInteractive',\n",
              "                                                     [key], {});\n",
              "          if (!dataTable) return;\n",
              "\n",
              "          const docLinkHtml = 'Like what you see? Visit the ' +\n",
              "            '<a target=\"_blank\" href=https://colab.research.google.com/notebooks/data_table.ipynb>data table notebook</a>'\n",
              "            + ' to learn more about interactive tables.';\n",
              "          element.innerHTML = '';\n",
              "          dataTable['output_type'] = 'display_data';\n",
              "          await google.colab.output.renderOutput(dataTable, element);\n",
              "          const docLink = document.createElement('div');\n",
              "          docLink.innerHTML = docLinkHtml;\n",
              "          element.appendChild(docLink);\n",
              "        }\n",
              "      </script>\n",
              "    </div>\n",
              "  </div>\n",
              "  "
            ]
          },
          "metadata": {},
          "execution_count": 23
        }
      ]
    },
    {
      "cell_type": "markdown",
      "source": [
        "JF"
      ],
      "metadata": {
        "id": "_UlVoosAD-It"
      }
    },
    {
      "cell_type": "code",
      "source": [
        "# Extract features from each text column using TF-IDF vectorizer\n",
        "vectorizers = []\n",
        "X_train_list = []\n",
        "X_test_list = []\n",
        "for col in train_cols:\n",
        "    vectorizer = TfidfVectorizer(max_features=10000)\n",
        "    X_train_col = vectorizer.fit_transform(data.loc[:, col])\n",
        "    X_train_list.append(X_train_col)\n",
        "    X_test_col = vectorizer.transform(data.loc[:, col])\n",
        "    X_test_list.append(X_test_col)\n",
        "    vectorizers.append(vectorizer)"
      ],
      "metadata": {
        "id": "INmGmNpcqarC"
      },
      "execution_count": null,
      "outputs": []
    },
    {
      "cell_type": "markdown",
      "source": [
        "Level"
      ],
      "metadata": {
        "id": "ftnxt4mXD_Nz"
      }
    },
    {
      "cell_type": "code",
      "source": [
        "vectorizers_2 = []\n",
        "X_train_list_2 = []\n",
        "X_test_list_2 = []\n",
        "for col in train_cols:\n",
        "    vectorizer = TfidfVectorizer(max_features=10000)\n",
        "    X_train_col = vectorizer.fit_transform(data.loc[:, col])\n",
        "    X_train_list_2.append(X_train_col)\n",
        "    X_test_col = vectorizer.transform(data.loc[:, col])\n",
        "    X_test_list_2.append(X_test_col)\n",
        "    vectorizers_2.append(vectorizer)"
      ],
      "metadata": {
        "id": "Qnp9DBKiD9eS"
      },
      "execution_count": null,
      "outputs": []
    },
    {
      "cell_type": "markdown",
      "source": [
        "JF"
      ],
      "metadata": {
        "id": "rymDy7YTESw5"
      }
    },
    {
      "cell_type": "code",
      "source": [
        "# Concatenate sparse matrices into a single feature matrix\n",
        "X_train = hstack(X_train_list)\n",
        "X_test = hstack(X_test_list)\n",
        "\n",
        "# Split data into training and testing sets\n",
        "y_train = data[target_col]\n",
        "#y_test = df_test[target_col]\n",
        "\n",
        "X_train, X_test, y_train, y_test = train_test_split(X_train, y_train, test_size=0.2, random_state=42)"
      ],
      "metadata": {
        "id": "b2nmh3_nqcsI"
      },
      "execution_count": null,
      "outputs": []
    },
    {
      "cell_type": "markdown",
      "source": [
        "Level"
      ],
      "metadata": {
        "id": "jsqt4A1TETsL"
      }
    },
    {
      "cell_type": "code",
      "source": [
        "# Concatenate sparse matrices into a single feature matrix\n",
        "X_train_2 = hstack(X_train_list_2)\n",
        "X_test_2 = hstack(X_test_list_2)\n",
        "\n",
        "# Split data into training and testing sets\n",
        "y_train_2 = data[target_col_2]\n",
        "#y_test = df_test[target_col]\n",
        "\n",
        "X_train_2, X_test_2, y_train_2, y_test_2 = train_test_split(X_train_2, y_train_2, test_size=0.2, random_state=42)"
      ],
      "metadata": {
        "id": "JmDTcbOeEU9t"
      },
      "execution_count": null,
      "outputs": []
    },
    {
      "cell_type": "markdown",
      "source": [
        "JF"
      ],
      "metadata": {
        "id": "eoMDb8e8EoCP"
      }
    },
    {
      "cell_type": "code",
      "source": [
        "# Train logistic regression model\n",
        "model = LogisticRegression()\n",
        "model.fit(X_train, y_train)\n",
        "\n",
        "# Predict on test set and evaluate performance\n",
        "y_pred = model.predict(X_test)\n",
        "print('Accuracy:', accuracy_score(y_test, y_pred))\n",
        "print('Classification Report:\\n', classification_report(y_test, y_pred))"
      ],
      "metadata": {
        "id": "oKeT0fuVqe2-",
        "outputId": "44418afd-e06c-4546-e305-d1c9b2d45687",
        "colab": {
          "base_uri": "https://localhost:8080/"
        }
      },
      "execution_count": null,
      "outputs": [
        {
          "output_type": "stream",
          "name": "stderr",
          "text": [
            "/usr/local/lib/python3.10/dist-packages/sklearn/linear_model/_logistic.py:458: ConvergenceWarning: lbfgs failed to converge (status=1):\n",
            "STOP: TOTAL NO. of ITERATIONS REACHED LIMIT.\n",
            "\n",
            "Increase the number of iterations (max_iter) or scale the data as shown in:\n",
            "    https://scikit-learn.org/stable/modules/preprocessing.html\n",
            "Please also refer to the documentation for alternative solver options:\n",
            "    https://scikit-learn.org/stable/modules/linear_model.html#logistic-regression\n",
            "  n_iter_i = _check_optimize_result(\n"
          ]
        },
        {
          "output_type": "stream",
          "name": "stdout",
          "text": [
            "Accuracy: 0.865353186853096\n"
          ]
        },
        {
          "output_type": "stream",
          "name": "stderr",
          "text": [
            "/usr/local/lib/python3.10/dist-packages/sklearn/metrics/_classification.py:1344: UndefinedMetricWarning: Precision and F-score are ill-defined and being set to 0.0 in labels with no predicted samples. Use `zero_division` parameter to control this behavior.\n",
            "  _warn_prf(average, modifier, msg_start, len(result))\n"
          ]
        },
        {
          "output_type": "stream",
          "name": "stdout",
          "text": [
            "Classification Report:\n",
            "               precision    recall  f1-score   support\n",
            "\n",
            "        AADS       0.86      0.84      0.85       141\n",
            "        AAMD       1.00      0.95      0.97        92\n",
            "        AAML       0.95      0.87      0.91       108\n",
            "        AFAD       0.81      0.54      0.65        24\n",
            "        AFFE       0.88      0.70      0.78        30\n",
            "        AFSE       0.25      0.33      0.29         6\n",
            "        AFXX       0.91      0.76      0.83        41\n",
            "        ARRP       1.00      0.75      0.86         4\n",
            "        ARSY       0.00      0.00      0.00         1\n",
            "        ARXX       0.94      0.89      0.91       366\n",
            "        ASCD       1.00      0.18      0.30        17\n",
            "        ASDB       0.80      0.86      0.83        73\n",
            "        ASEC       0.00      0.00      0.00         1\n",
            "        ASFS       0.24      0.99      0.39        77\n",
            "        ASMD       0.00      0.00      0.00         3\n",
            "        ASPI       0.78      0.64      0.70       103\n",
            "        ASRP       0.14      0.02      0.04        42\n",
            "        ASSI       0.33      0.33      0.33         3\n",
            "        ASUI       0.95      0.72      0.82        29\n",
            "        ASWD       1.00      1.00      1.00       103\n",
            "        ASXX       0.86      0.78      0.82      1925\n",
            "        BCPM       0.60      0.60      0.60         5\n",
            "        BFAC       1.00      1.00      1.00        18\n",
            "        BFCA       1.00      0.72      0.84        18\n",
            "        BFCB       1.00      1.00      1.00        26\n",
            "        BFCM       1.00      1.00      1.00         6\n",
            "        BFIR       1.00      1.00      1.00        61\n",
            "        BFKY       1.00      0.92      0.96        13\n",
            "        BFTF       1.00      0.75      0.86         4\n",
            "        BFTO       0.00      0.00      0.00         3\n",
            "        BFUW       1.00      1.00      1.00        40\n",
            "        BFWB       1.00      1.00      1.00        14\n",
            "        BSMT       1.00      0.42      0.59        12\n",
            "        CCCE       1.00      1.00      1.00        37\n",
            "        CCCO       1.00      1.00      1.00         2\n",
            "        CCCV       0.98      0.99      0.98       544\n",
            "        CCMD       0.98      0.99      0.99       470\n",
            "        CMDO       1.00      0.44      0.62        36\n",
            "        CMXX       1.00      0.89      0.94        28\n",
            "        CSAN       0.80      1.00      0.89        12\n",
            "        CSBC       0.85      0.96      0.90       368\n",
            "        CSCG       1.00      0.75      0.86        24\n",
            "        CSCS       0.85      0.93      0.89        44\n",
            "        CSED       0.00      0.00      0.00         1\n",
            "        CSEL       0.67      0.50      0.57         4\n",
            "        CSFC       0.83      0.77      0.80       310\n",
            "        CSSI       0.93      0.83      0.87       180\n",
            "        DABD       0.87      0.74      0.80        92\n",
            "        DABI       0.70      0.46      0.56        56\n",
            "        DADV       1.00      0.44      0.62         9\n",
            "        DADW       0.00      0.00      0.00        11\n",
            "        DMKM       0.00      0.00      0.00         3\n",
            "        DMMD       0.00      0.00      0.00         1\n",
            "        DMSM       1.00      1.00      1.00         5\n",
            "        EDCA       1.00      0.91      0.95        85\n",
            "        EDEE       0.99      0.95      0.97       682\n",
            "        EDME       1.00      0.99      1.00       167\n",
            "        EDXX       0.90      0.93      0.91        68\n",
            "        FAAG       0.65      0.83      0.73       121\n",
            "        FAAP       1.00      0.98      0.99       164\n",
            "        FAER       1.00      0.80      0.89         5\n",
            "        FAFA       0.74      0.85      0.79       187\n",
            "        FAFI       1.00      1.00      1.00        30\n",
            "        FALC       0.00      0.00      0.00         3\n",
            "        FAML       1.00      0.95      0.97        19\n",
            "        FLAC       0.90      0.60      0.72        45\n",
            "        FLFA       0.50      1.00      0.67         4\n",
            "        FLLE       0.97      0.99      0.98        78\n",
            "        FLMI       0.00      0.00      0.00         2\n",
            "        FLPP       0.98      0.95      0.97       118\n",
            "        FLPR       0.68      0.98      0.81        59\n",
            "        FLTR       1.00      0.67      0.80         6\n",
            "        FLTX       1.00      0.65      0.79        17\n",
            "        FLXX       0.83      0.63      0.72       271\n",
            "        GDXX       0.92      0.81      0.86        27\n",
            "        HCMC       1.00      1.00      1.00         1\n",
            "        HCMR       0.98      1.00      0.99        48\n",
            "        HCRM       1.00      0.74      0.85        34\n",
            "        HRBP       0.71      0.80      0.75        99\n",
            "        HRCB       1.00      0.89      0.94        19\n",
            "        HROD       0.00      0.00      0.00         4\n",
            "        HRRE       0.81      0.83      0.82       138\n",
            "        HRRM       0.00      0.00      0.00         1\n",
            "        HRSS       0.80      0.22      0.35        36\n",
            "        HRTR       0.89      0.42      0.57        19\n",
            "        HRXX       0.80      0.68      0.73        53\n",
            "        HSGL       0.82      0.82      0.82        11\n",
            "        INAU       0.78      0.39      0.52        18\n",
            "        INCL       0.00      0.00      0.00        37\n",
            "        INDB       0.79      0.67      0.73        49\n",
            "        INDC       1.00      0.85      0.92        13\n",
            "        INDS       0.91      0.80      0.85       141\n",
            "        INFS       1.00      0.96      0.98        72\n",
            "        INNE       0.86      0.70      0.77       113\n",
            "        INRA       0.98      0.97      0.97       403\n",
            "        INRE       0.84      0.64      0.73        25\n",
            "        INRI       1.00      1.00      1.00         7\n",
            "        INRP       0.00      0.00      0.00         1\n",
            "        INSA       0.94      1.00      0.97        34\n",
            "        INSS       0.47      0.42      0.44        19\n",
            "        INXX       0.75      0.77      0.76       280\n",
            "        ITAU       0.32      0.86      0.47        28\n",
            "        LECM       0.96      1.00      0.98        22\n",
            "        LECO       0.00      0.00      0.00         1\n",
            "        LEPO       1.00      1.00      1.00        21\n",
            "        LERE       0.00      0.00      0.00         1\n",
            "        MBCC       1.00      0.79      0.88        14\n",
            "        MBCM       0.72      0.58      0.64        50\n",
            "        MBDM       0.69      0.33      0.45        33\n",
            "        MBGM       0.00      0.00      0.00         7\n",
            "        MBSE       1.00      1.00      1.00         3\n",
            "        MBXX       0.64      0.89      0.74       116\n",
            "        PDFD       0.94      0.73      0.82      1100\n",
            "        PDFS       0.85      0.73      0.79        56\n",
            "        PDHD       0.72      0.96      0.82      1092\n",
            "        PDLE       0.99      0.97      0.98       675\n",
            "        PDMD       0.67      0.14      0.24        14\n",
            "        PDPM       0.85      0.81      0.83       338\n",
            "        PDUI       0.78      0.30      0.43       103\n",
            "        PDXX       0.86      0.96      0.91      3849\n",
            "        PRAG       0.00      0.00      0.00        17\n",
            "        PRPO       0.91      0.92      0.92       420\n",
            "        PRXX       0.85      0.86      0.85       350\n",
            "        QAXX       0.78      0.70      0.74        73\n",
            "        QUTF       0.76      0.74      0.75        47\n",
            "        QUTS       1.00      1.00      1.00        66\n",
            "        RABA       0.95      0.85      0.90        66\n",
            "        RABF       1.00      0.99      0.99        83\n",
            "        RAPR       1.00      0.71      0.83        24\n",
            "        RASR       1.00      0.90      0.95        10\n",
            "        RICR       1.00      1.00      1.00         4\n",
            "        RIOR       1.00      0.67      0.80         3\n",
            "        RSMO       1.00      1.00      1.00        11\n",
            "        RSSC       1.00      0.61      0.76        28\n",
            "        RSSD       0.14      0.09      0.11        23\n",
            "        RSVM       0.67      0.67      0.67         3\n",
            "        RSWL       0.79      0.86      0.82       133\n",
            "        SAAC       0.77      0.91      0.83       188\n",
            "        SABD       0.83      0.75      0.79       221\n",
            "        SACH       0.82      0.90      0.86        71\n",
            "        SACS       0.98      0.94      0.96       101\n",
            "        SAIN       0.78      0.90      0.84       104\n",
            "        SAPS       0.91      0.88      0.89       125\n",
            "        SASD       0.97      0.83      0.89        86\n",
            "        SAXX       1.00      0.65      0.79        75\n",
            "        SCCP       0.85      0.82      0.84        28\n",
            "        SSSO       0.96      0.93      0.95        59\n",
            "        SYAS       0.88      0.71      0.79        21\n",
            "        SYGR       0.00      0.00      0.00         7\n",
            "        SYIM       0.89      0.92      0.91       100\n",
            "        SYIN       0.81      0.92      0.86        24\n",
            "        SYXX       0.33      0.05      0.09        19\n",
            "        TEAU       0.91      0.80      0.85       521\n",
            "        TEEM       1.00      0.65      0.79        23\n",
            "        TEMT       0.88      0.57      0.69       197\n",
            "        TEXX       1.00      0.94      0.97       253\n",
            "        TOCO       0.96      0.99      0.97       842\n",
            "        TOFC       0.68      0.87      0.76       205\n",
            "        TOHR       0.00      0.00      0.00         1\n",
            "        TOMR       1.00      0.12      0.21        17\n",
            "        TOPO       1.00      0.92      0.96       100\n",
            "        TOSI       1.00      0.99      1.00       106\n",
            "        TRPR       0.78      0.58      0.67        12\n",
            "        TRTN       1.00      0.17      0.29         6\n",
            "        TTXX       0.91      0.84      0.87        25\n",
            "        TWXX       0.96      0.96      0.96        93\n",
            "        UEXX       0.60      0.53      0.56        34\n",
            "        VATR       0.00      0.00      0.00         1\n",
            "\n",
            "    accuracy                           0.87     22028\n",
            "   macro avg       0.76      0.68      0.70     22028\n",
            "weighted avg       0.87      0.87      0.86     22028\n",
            "\n"
          ]
        },
        {
          "output_type": "stream",
          "name": "stderr",
          "text": [
            "/usr/local/lib/python3.10/dist-packages/sklearn/metrics/_classification.py:1344: UndefinedMetricWarning: Precision and F-score are ill-defined and being set to 0.0 in labels with no predicted samples. Use `zero_division` parameter to control this behavior.\n",
            "  _warn_prf(average, modifier, msg_start, len(result))\n",
            "/usr/local/lib/python3.10/dist-packages/sklearn/metrics/_classification.py:1344: UndefinedMetricWarning: Precision and F-score are ill-defined and being set to 0.0 in labels with no predicted samples. Use `zero_division` parameter to control this behavior.\n",
            "  _warn_prf(average, modifier, msg_start, len(result))\n"
          ]
        }
      ]
    },
    {
      "cell_type": "markdown",
      "source": [
        "Level"
      ],
      "metadata": {
        "id": "speJir44Esd9"
      }
    },
    {
      "cell_type": "code",
      "source": [
        "# Train logistic regression model\n",
        "model_2 = LogisticRegression()\n",
        "model_2.fit(X_train_2, y_train_2)\n",
        "\n",
        "# Predict on test set and evaluate performance\n",
        "y_pred_2 = model.predict(X_test_2)\n",
        "print('Accuracy:', accuracy_score(y_test_2, y_pred_2))\n",
        "print('Classification Report:\\n', classification_report(y_test_2, y_pred_2))"
      ],
      "metadata": {
        "id": "g3VrW4jvEtUm"
      },
      "execution_count": null,
      "outputs": []
    },
    {
      "cell_type": "markdown",
      "source": [
        "Unseen JF"
      ],
      "metadata": {
        "id": "Uw3a2C6MFFps"
      }
    },
    {
      "cell_type": "code",
      "source": [
        "X_test_unseen = []\n",
        "\n",
        "for i, col in enumerate(train_cols):\n",
        "    vectorizer = vectorizers[i]\n",
        "    X_test_col = vectorizer.transform(df_test.loc[:, col])\n",
        "    X_test_unseen.append(X_test_col)\n",
        "\n",
        "X_unseen = hstack(X_test_unseen)"
      ],
      "metadata": {
        "id": "NQZToaZCqgw9"
      },
      "execution_count": null,
      "outputs": []
    },
    {
      "cell_type": "markdown",
      "source": [
        "Unseen Level"
      ],
      "metadata": {
        "id": "m8QTnX63E_R2"
      }
    },
    {
      "cell_type": "code",
      "source": [
        "X_test_unseen_2 = []\n",
        "\n",
        "for i, col in enumerate(train_cols):\n",
        "    vectorizer = vectorizers[i]\n",
        "    X_test_col_2 = vectorizer.transform(df_test.loc[:, col])\n",
        "    X_test_unseen_2.append(X_test_col_2)\n",
        "\n",
        "X_unseen_2 = hstack(X_test_unseen_2)"
      ],
      "metadata": {
        "id": "F7UFSaZ9FHUI"
      },
      "execution_count": null,
      "outputs": []
    },
    {
      "cell_type": "markdown",
      "source": [
        "JF"
      ],
      "metadata": {
        "id": "p7G0-yLwG1Om"
      }
    },
    {
      "cell_type": "code",
      "source": [
        "y_test_pred = model.predict (X_unseen)"
      ],
      "metadata": {
        "id": "YHDH2Tm-qinj"
      },
      "execution_count": null,
      "outputs": []
    },
    {
      "cell_type": "markdown",
      "source": [
        "Level"
      ],
      "metadata": {
        "id": "70r5Xbw5G2en"
      }
    },
    {
      "cell_type": "code",
      "source": [
        "y_test_pred_2 = model.predict (X_unseen_2)"
      ],
      "metadata": {
        "id": "0XWYp9w4G4M2"
      },
      "execution_count": null,
      "outputs": []
    },
    {
      "cell_type": "code",
      "source": [
        "pd.DataFrame(y_test_pred).to_csv('JF_x.csv')\n",
        "pd.DataFrame(y_test_pred_2).to_csv('Lvl_x.csv')\n",
        "frames=[y_test_pred,y_test_pred_2]\n",
        "maps=pd.concat(frames)\n",
        "pd.DataFrame(maps).to_csv('maps_x.csv')"
      ],
      "metadata": {
        "id": "GFo__iaGqkq3"
      },
      "execution_count": null,
      "outputs": []
    },
    {
      "cell_type": "markdown",
      "source": [
        "JF"
      ],
      "metadata": {
        "id": "ReL5_jziHi-X"
      }
    },
    {
      "cell_type": "code",
      "source": [
        "# Predict on test set and evaluate performance\n",
        "y_test_actual=df_test[target_col]\n",
        "print('Accuracy:', accuracy_score(y_test_actual, y_test_pred))\n",
        "print('Classification Report:\\n', classification_report(y_test_actual, y_test_pred))"
      ],
      "metadata": {
        "id": "gKDeyzgiSrDX",
        "outputId": "c23a8f18-98d9-4e37-98a6-eff5dd5a240b",
        "colab": {
          "base_uri": "https://localhost:8080/"
        }
      },
      "execution_count": null,
      "outputs": [
        {
          "output_type": "stream",
          "name": "stdout",
          "text": [
            "Accuracy: 0.5947181310309801\n"
          ]
        },
        {
          "output_type": "stream",
          "name": "stderr",
          "text": [
            "/usr/local/lib/python3.10/dist-packages/sklearn/metrics/_classification.py:1344: UndefinedMetricWarning: Precision and F-score are ill-defined and being set to 0.0 in labels with no predicted samples. Use `zero_division` parameter to control this behavior.\n",
            "  _warn_prf(average, modifier, msg_start, len(result))\n"
          ]
        },
        {
          "output_type": "stream",
          "name": "stdout",
          "text": [
            "Classification Report:\n",
            "               precision    recall  f1-score   support\n",
            "\n",
            "        AADS       0.86      0.84      0.85       141\n",
            "        AAMD       1.00      0.95      0.97        92\n",
            "        AAML       0.95      0.87      0.91       108\n",
            "        AFAD       0.81      0.54      0.65        24\n",
            "        AFFE       0.88      0.70      0.78        30\n",
            "        AFSE       0.25      0.33      0.29         6\n",
            "        AFXX       0.91      0.76      0.83        41\n",
            "        ARRP       1.00      0.75      0.86         4\n",
            "        ARSY       0.00      0.00      0.00         1\n",
            "        ARXX       0.94      0.89      0.91       366\n",
            "        ASCD       1.00      0.18      0.30        17\n",
            "        ASDB       0.80      0.86      0.83        73\n",
            "        ASEC       0.00      0.00      0.00         1\n",
            "        ASFS       0.24      0.99      0.39        77\n",
            "        ASMD       0.00      0.00      0.00         3\n",
            "        ASPI       0.78      0.64      0.70       103\n",
            "        ASRP       0.14      0.02      0.04        42\n",
            "        ASSI       0.33      0.33      0.33         3\n",
            "        ASUI       0.95      0.72      0.82        29\n",
            "        ASWD       1.00      1.00      1.00       103\n",
            "        ASXX       0.86      0.78      0.82      1925\n",
            "        BCPM       0.60      0.60      0.60         5\n",
            "        BFAC       1.00      1.00      1.00        18\n",
            "        BFCA       1.00      0.72      0.84        18\n",
            "        BFCB       1.00      1.00      1.00        26\n",
            "        BFCM       1.00      1.00      1.00         6\n",
            "        BFIR       1.00      1.00      1.00        61\n",
            "        BFKY       1.00      0.92      0.96        13\n",
            "        BFTF       1.00      0.75      0.86         4\n",
            "        BFTO       0.00      0.00      0.00         3\n",
            "        BFUW       1.00      1.00      1.00        40\n",
            "        BFWB       1.00      1.00      1.00        14\n",
            "        BSMT       1.00      0.42      0.59        12\n",
            "        CCCE       1.00      1.00      1.00        37\n",
            "        CCCO       1.00      1.00      1.00         2\n",
            "        CCCV       0.98      0.99      0.98       544\n",
            "        CCMD       0.98      0.99      0.99       470\n",
            "        CMDO       1.00      0.44      0.62        36\n",
            "        CMXX       1.00      0.89      0.94        28\n",
            "        CSAN       0.80      1.00      0.89        12\n",
            "        CSBC       0.85      0.96      0.90       368\n",
            "        CSCG       1.00      0.75      0.86        24\n",
            "        CSCS       0.85      0.93      0.89        44\n",
            "        CSED       0.00      0.00      0.00         1\n",
            "        CSEL       0.67      0.50      0.57         4\n",
            "        CSFC       0.83      0.77      0.80       310\n",
            "        CSSI       0.93      0.83      0.87       180\n",
            "        DABD       0.87      0.74      0.80        92\n",
            "        DABI       0.70      0.46      0.56        56\n",
            "        DADV       1.00      0.44      0.62         9\n",
            "        DADW       0.00      0.00      0.00        11\n",
            "        DMKM       0.00      0.00      0.00         3\n",
            "        DMMD       0.00      0.00      0.00         1\n",
            "        DMSM       1.00      1.00      1.00         5\n",
            "        EDCA       1.00      0.91      0.95        85\n",
            "        EDEE       0.99      0.95      0.97       682\n",
            "        EDME       1.00      0.99      1.00       167\n",
            "        EDXX       0.90      0.93      0.91        68\n",
            "        FAAG       0.65      0.83      0.73       121\n",
            "        FAAP       1.00      0.98      0.99       164\n",
            "        FAER       1.00      0.80      0.89         5\n",
            "        FAFA       0.74      0.85      0.79       187\n",
            "        FAFI       1.00      1.00      1.00        30\n",
            "        FALC       0.00      0.00      0.00         3\n",
            "        FAML       1.00      0.95      0.97        19\n",
            "        FLAC       0.90      0.60      0.72        45\n",
            "        FLFA       0.50      1.00      0.67         4\n",
            "        FLLE       0.97      0.99      0.98        78\n",
            "        FLMI       0.00      0.00      0.00         2\n",
            "        FLPP       0.98      0.95      0.97       118\n",
            "        FLPR       0.68      0.98      0.81        59\n",
            "        FLTR       1.00      0.67      0.80         6\n",
            "        FLTX       1.00      0.65      0.79        17\n",
            "        FLXX       0.83      0.63      0.72       271\n",
            "        GDXX       0.92      0.81      0.86        27\n",
            "        HCMC       1.00      1.00      1.00         1\n",
            "        HCMR       0.98      1.00      0.99        48\n",
            "        HCRM       1.00      0.74      0.85        34\n",
            "        HRBP       0.71      0.80      0.75        99\n",
            "        HRCB       1.00      0.89      0.94        19\n",
            "        HROD       0.00      0.00      0.00         4\n",
            "        HRRE       0.81      0.83      0.82       138\n",
            "        HRRM       0.00      0.00      0.00         1\n",
            "        HRSS       0.80      0.22      0.35        36\n",
            "        HRTR       0.89      0.42      0.57        19\n",
            "        HRXX       0.80      0.68      0.73        53\n",
            "        HSGL       0.82      0.82      0.82        11\n",
            "        INAU       0.78      0.39      0.52        18\n",
            "        INCL       0.00      0.00      0.00        37\n",
            "        INDB       0.79      0.67      0.73        49\n",
            "        INDC       1.00      0.85      0.92        13\n",
            "        INDS       0.91      0.80      0.85       141\n",
            "        INFS       1.00      0.96      0.98        72\n",
            "        INNE       0.86      0.70      0.77       113\n",
            "        INRA       0.98      0.97      0.97       403\n",
            "        INRE       0.84      0.64      0.73        25\n",
            "        INRI       1.00      1.00      1.00         7\n",
            "        INRP       0.00      0.00      0.00         1\n",
            "        INSA       0.94      1.00      0.97        34\n",
            "        INSS       0.47      0.42      0.44        19\n",
            "        INXX       0.75      0.77      0.76       280\n",
            "        ITAU       0.32      0.86      0.47        28\n",
            "        LECM       0.96      1.00      0.98        22\n",
            "        LECO       0.00      0.00      0.00         1\n",
            "        LEPO       1.00      1.00      1.00        21\n",
            "        LERE       0.00      0.00      0.00         1\n",
            "        MBCC       1.00      0.79      0.88        14\n",
            "        MBCM       0.72      0.58      0.64        50\n",
            "        MBDM       0.69      0.33      0.45        33\n",
            "        MBGM       0.00      0.00      0.00         7\n",
            "        MBSE       1.00      1.00      1.00         3\n",
            "        MBXX       0.64      0.89      0.74       116\n",
            "        PDFD       0.94      0.73      0.82      1100\n",
            "        PDFS       0.85      0.73      0.79        56\n",
            "        PDHD       0.72      0.96      0.82      1092\n",
            "        PDLE       0.99      0.97      0.98       675\n",
            "        PDMD       0.67      0.14      0.24        14\n",
            "        PDPM       0.85      0.81      0.83       338\n",
            "        PDUI       0.78      0.30      0.43       103\n",
            "        PDXX       0.86      0.96      0.91      3849\n",
            "        PRAG       0.00      0.00      0.00        17\n",
            "        PRPO       0.91      0.92      0.92       420\n",
            "        PRXX       0.85      0.86      0.85       350\n",
            "        QAXX       0.78      0.70      0.74        73\n",
            "        QUTF       0.76      0.74      0.75        47\n",
            "        QUTS       1.00      1.00      1.00        66\n",
            "        RABA       0.95      0.85      0.90        66\n",
            "        RABF       1.00      0.99      0.99        83\n",
            "        RAPR       1.00      0.71      0.83        24\n",
            "        RASR       1.00      0.90      0.95        10\n",
            "        RICR       1.00      1.00      1.00         4\n",
            "        RIOR       1.00      0.67      0.80         3\n",
            "        RSMO       1.00      1.00      1.00        11\n",
            "        RSSC       1.00      0.61      0.76        28\n",
            "        RSSD       0.14      0.09      0.11        23\n",
            "        RSVM       0.67      0.67      0.67         3\n",
            "        RSWL       0.79      0.86      0.82       133\n",
            "        SAAC       0.77      0.91      0.83       188\n",
            "        SABD       0.83      0.75      0.79       221\n",
            "        SACH       0.82      0.90      0.86        71\n",
            "        SACS       0.98      0.94      0.96       101\n",
            "        SAIN       0.78      0.90      0.84       104\n",
            "        SAPS       0.91      0.88      0.89       125\n",
            "        SASD       0.97      0.83      0.89        86\n",
            "        SAXX       1.00      0.65      0.79        75\n",
            "        SCCP       0.85      0.82      0.84        28\n",
            "        SSSO       0.96      0.93      0.95        59\n",
            "        SYAS       0.88      0.71      0.79        21\n",
            "        SYGR       0.00      0.00      0.00         7\n",
            "        SYIM       0.89      0.92      0.91       100\n",
            "        SYIN       0.81      0.92      0.86        24\n",
            "        SYXX       0.33      0.05      0.09        19\n",
            "        TEAU       0.91      0.80      0.85       521\n",
            "        TEEM       1.00      0.65      0.79        23\n",
            "        TEMT       0.88      0.57      0.69       197\n",
            "        TEXX       1.00      0.94      0.97       253\n",
            "        TOCO       0.96      0.99      0.97       842\n",
            "        TOFC       0.68      0.87      0.76       205\n",
            "        TOHR       0.00      0.00      0.00         1\n",
            "        TOMR       1.00      0.12      0.21        17\n",
            "        TOPO       1.00      0.92      0.96       100\n",
            "        TOSI       1.00      0.99      1.00       106\n",
            "        TRPR       0.78      0.58      0.67        12\n",
            "        TRTN       1.00      0.17      0.29         6\n",
            "        TTXX       0.91      0.84      0.87        25\n",
            "        TWXX       0.96      0.96      0.96        93\n",
            "        UEXX       0.60      0.53      0.56        34\n",
            "        VATR       0.00      0.00      0.00         1\n",
            "\n",
            "    accuracy                           0.87     22028\n",
            "   macro avg       0.76      0.68      0.70     22028\n",
            "weighted avg       0.87      0.87      0.86     22028\n",
            "\n"
          ]
        },
        {
          "output_type": "stream",
          "name": "stderr",
          "text": [
            "/usr/local/lib/python3.10/dist-packages/sklearn/metrics/_classification.py:1344: UndefinedMetricWarning: Precision and F-score are ill-defined and being set to 0.0 in labels with no predicted samples. Use `zero_division` parameter to control this behavior.\n",
            "  _warn_prf(average, modifier, msg_start, len(result))\n",
            "/usr/local/lib/python3.10/dist-packages/sklearn/metrics/_classification.py:1344: UndefinedMetricWarning: Precision and F-score are ill-defined and being set to 0.0 in labels with no predicted samples. Use `zero_division` parameter to control this behavior.\n",
            "  _warn_prf(average, modifier, msg_start, len(result))\n"
          ]
        }
      ]
    },
    {
      "cell_type": "markdown",
      "source": [
        "Level"
      ],
      "metadata": {
        "id": "WdQCZxtcHllh"
      }
    },
    {
      "cell_type": "code",
      "source": [
        "# Predict on test set and evaluate performance\n",
        "y_test_actual_2=df_test[target_col_2]\n",
        "print('Accuracy:', accuracy_score(y_test_actual_2, y_test_pred_2))\n",
        "print('Classification Report:\\n', classification_report(y_test_actual_2, y_test_pred_2))"
      ],
      "metadata": {
        "id": "0Dty7SHVHmtG"
      },
      "execution_count": null,
      "outputs": []
    }
  ]
}