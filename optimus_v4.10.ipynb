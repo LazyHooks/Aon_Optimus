{
  "nbformat": 4,
  "nbformat_minor": 0,
  "metadata": {
    "colab": {
      "provenance": [],
      "include_colab_link": true
    },
    "kernelspec": {
      "name": "python3",
      "display_name": "Python 3"
    },
    "language_info": {
      "name": "python"
    },
    "widgets": {
      "application/vnd.jupyter.widget-state+json": {
        "d3233197386545178af451909271ba39": {
          "model_module": "@jupyter-widgets/controls",
          "model_name": "HBoxModel",
          "model_module_version": "1.5.0",
          "state": {
            "_dom_classes": [],
            "_model_module": "@jupyter-widgets/controls",
            "_model_module_version": "1.5.0",
            "_model_name": "HBoxModel",
            "_view_count": null,
            "_view_module": "@jupyter-widgets/controls",
            "_view_module_version": "1.5.0",
            "_view_name": "HBoxView",
            "box_style": "",
            "children": [
              "IPY_MODEL_6c511ee0917b4a6689d9f693bf69c09b",
              "IPY_MODEL_ff9c129ffadc49f49148c14f5f898595",
              "IPY_MODEL_6baca2e03bba4fce9a90d56c10e52c23"
            ],
            "layout": "IPY_MODEL_42f38b11775046dcb74d194bf3ac5d43"
          }
        },
        "6c511ee0917b4a6689d9f693bf69c09b": {
          "model_module": "@jupyter-widgets/controls",
          "model_name": "HTMLModel",
          "model_module_version": "1.5.0",
          "state": {
            "_dom_classes": [],
            "_model_module": "@jupyter-widgets/controls",
            "_model_module_version": "1.5.0",
            "_model_name": "HTMLModel",
            "_view_count": null,
            "_view_module": "@jupyter-widgets/controls",
            "_view_module_version": "1.5.0",
            "_view_name": "HTMLView",
            "description": "",
            "description_tooltip": null,
            "layout": "IPY_MODEL_ece2482b1d794bb5947a49b88f3510a2",
            "placeholder": "​",
            "style": "IPY_MODEL_e641c5c0c6d24f49b52836faffbfcbe1",
            "value": ""
          }
        },
        "ff9c129ffadc49f49148c14f5f898595": {
          "model_module": "@jupyter-widgets/controls",
          "model_name": "FloatProgressModel",
          "model_module_version": "1.5.0",
          "state": {
            "_dom_classes": [],
            "_model_module": "@jupyter-widgets/controls",
            "_model_module_version": "1.5.0",
            "_model_name": "FloatProgressModel",
            "_view_count": null,
            "_view_module": "@jupyter-widgets/controls",
            "_view_module_version": "1.5.0",
            "_view_name": "ProgressView",
            "bar_style": "success",
            "description": "",
            "description_tooltip": null,
            "layout": "IPY_MODEL_2fc9bd8c5f3e462b9fd6fa1ba68cb152",
            "max": 1,
            "min": 0,
            "orientation": "horizontal",
            "style": "IPY_MODEL_f5bd93f338614c8fa425c4bd5896d472",
            "value": 1
          }
        },
        "6baca2e03bba4fce9a90d56c10e52c23": {
          "model_module": "@jupyter-widgets/controls",
          "model_name": "HTMLModel",
          "model_module_version": "1.5.0",
          "state": {
            "_dom_classes": [],
            "_model_module": "@jupyter-widgets/controls",
            "_model_module_version": "1.5.0",
            "_model_name": "HTMLModel",
            "_view_count": null,
            "_view_module": "@jupyter-widgets/controls",
            "_view_module_version": "1.5.0",
            "_view_name": "HTMLView",
            "description": "",
            "description_tooltip": null,
            "layout": "IPY_MODEL_1952a7d01380477abeebb3061da173e0",
            "placeholder": "​",
            "style": "IPY_MODEL_537b6b52f98747b1b94b533cf31ec031",
            "value": " 15433/? [00:30&lt;00:00, 517.83it/s]"
          }
        },
        "42f38b11775046dcb74d194bf3ac5d43": {
          "model_module": "@jupyter-widgets/base",
          "model_name": "LayoutModel",
          "model_module_version": "1.2.0",
          "state": {
            "_model_module": "@jupyter-widgets/base",
            "_model_module_version": "1.2.0",
            "_model_name": "LayoutModel",
            "_view_count": null,
            "_view_module": "@jupyter-widgets/base",
            "_view_module_version": "1.2.0",
            "_view_name": "LayoutView",
            "align_content": null,
            "align_items": null,
            "align_self": null,
            "border": null,
            "bottom": null,
            "display": null,
            "flex": null,
            "flex_flow": null,
            "grid_area": null,
            "grid_auto_columns": null,
            "grid_auto_flow": null,
            "grid_auto_rows": null,
            "grid_column": null,
            "grid_gap": null,
            "grid_row": null,
            "grid_template_areas": null,
            "grid_template_columns": null,
            "grid_template_rows": null,
            "height": null,
            "justify_content": null,
            "justify_items": null,
            "left": null,
            "margin": null,
            "max_height": null,
            "max_width": null,
            "min_height": null,
            "min_width": null,
            "object_fit": null,
            "object_position": null,
            "order": null,
            "overflow": null,
            "overflow_x": null,
            "overflow_y": null,
            "padding": null,
            "right": null,
            "top": null,
            "visibility": null,
            "width": null
          }
        },
        "ece2482b1d794bb5947a49b88f3510a2": {
          "model_module": "@jupyter-widgets/base",
          "model_name": "LayoutModel",
          "model_module_version": "1.2.0",
          "state": {
            "_model_module": "@jupyter-widgets/base",
            "_model_module_version": "1.2.0",
            "_model_name": "LayoutModel",
            "_view_count": null,
            "_view_module": "@jupyter-widgets/base",
            "_view_module_version": "1.2.0",
            "_view_name": "LayoutView",
            "align_content": null,
            "align_items": null,
            "align_self": null,
            "border": null,
            "bottom": null,
            "display": null,
            "flex": null,
            "flex_flow": null,
            "grid_area": null,
            "grid_auto_columns": null,
            "grid_auto_flow": null,
            "grid_auto_rows": null,
            "grid_column": null,
            "grid_gap": null,
            "grid_row": null,
            "grid_template_areas": null,
            "grid_template_columns": null,
            "grid_template_rows": null,
            "height": null,
            "justify_content": null,
            "justify_items": null,
            "left": null,
            "margin": null,
            "max_height": null,
            "max_width": null,
            "min_height": null,
            "min_width": null,
            "object_fit": null,
            "object_position": null,
            "order": null,
            "overflow": null,
            "overflow_x": null,
            "overflow_y": null,
            "padding": null,
            "right": null,
            "top": null,
            "visibility": null,
            "width": null
          }
        },
        "e641c5c0c6d24f49b52836faffbfcbe1": {
          "model_module": "@jupyter-widgets/controls",
          "model_name": "DescriptionStyleModel",
          "model_module_version": "1.5.0",
          "state": {
            "_model_module": "@jupyter-widgets/controls",
            "_model_module_version": "1.5.0",
            "_model_name": "DescriptionStyleModel",
            "_view_count": null,
            "_view_module": "@jupyter-widgets/base",
            "_view_module_version": "1.2.0",
            "_view_name": "StyleView",
            "description_width": ""
          }
        },
        "2fc9bd8c5f3e462b9fd6fa1ba68cb152": {
          "model_module": "@jupyter-widgets/base",
          "model_name": "LayoutModel",
          "model_module_version": "1.2.0",
          "state": {
            "_model_module": "@jupyter-widgets/base",
            "_model_module_version": "1.2.0",
            "_model_name": "LayoutModel",
            "_view_count": null,
            "_view_module": "@jupyter-widgets/base",
            "_view_module_version": "1.2.0",
            "_view_name": "LayoutView",
            "align_content": null,
            "align_items": null,
            "align_self": null,
            "border": null,
            "bottom": null,
            "display": null,
            "flex": null,
            "flex_flow": null,
            "grid_area": null,
            "grid_auto_columns": null,
            "grid_auto_flow": null,
            "grid_auto_rows": null,
            "grid_column": null,
            "grid_gap": null,
            "grid_row": null,
            "grid_template_areas": null,
            "grid_template_columns": null,
            "grid_template_rows": null,
            "height": null,
            "justify_content": null,
            "justify_items": null,
            "left": null,
            "margin": null,
            "max_height": null,
            "max_width": null,
            "min_height": null,
            "min_width": null,
            "object_fit": null,
            "object_position": null,
            "order": null,
            "overflow": null,
            "overflow_x": null,
            "overflow_y": null,
            "padding": null,
            "right": null,
            "top": null,
            "visibility": null,
            "width": "20px"
          }
        },
        "f5bd93f338614c8fa425c4bd5896d472": {
          "model_module": "@jupyter-widgets/controls",
          "model_name": "ProgressStyleModel",
          "model_module_version": "1.5.0",
          "state": {
            "_model_module": "@jupyter-widgets/controls",
            "_model_module_version": "1.5.0",
            "_model_name": "ProgressStyleModel",
            "_view_count": null,
            "_view_module": "@jupyter-widgets/base",
            "_view_module_version": "1.2.0",
            "_view_name": "StyleView",
            "bar_color": null,
            "description_width": ""
          }
        },
        "1952a7d01380477abeebb3061da173e0": {
          "model_module": "@jupyter-widgets/base",
          "model_name": "LayoutModel",
          "model_module_version": "1.2.0",
          "state": {
            "_model_module": "@jupyter-widgets/base",
            "_model_module_version": "1.2.0",
            "_model_name": "LayoutModel",
            "_view_count": null,
            "_view_module": "@jupyter-widgets/base",
            "_view_module_version": "1.2.0",
            "_view_name": "LayoutView",
            "align_content": null,
            "align_items": null,
            "align_self": null,
            "border": null,
            "bottom": null,
            "display": null,
            "flex": null,
            "flex_flow": null,
            "grid_area": null,
            "grid_auto_columns": null,
            "grid_auto_flow": null,
            "grid_auto_rows": null,
            "grid_column": null,
            "grid_gap": null,
            "grid_row": null,
            "grid_template_areas": null,
            "grid_template_columns": null,
            "grid_template_rows": null,
            "height": null,
            "justify_content": null,
            "justify_items": null,
            "left": null,
            "margin": null,
            "max_height": null,
            "max_width": null,
            "min_height": null,
            "min_width": null,
            "object_fit": null,
            "object_position": null,
            "order": null,
            "overflow": null,
            "overflow_x": null,
            "overflow_y": null,
            "padding": null,
            "right": null,
            "top": null,
            "visibility": null,
            "width": null
          }
        },
        "537b6b52f98747b1b94b533cf31ec031": {
          "model_module": "@jupyter-widgets/controls",
          "model_name": "DescriptionStyleModel",
          "model_module_version": "1.5.0",
          "state": {
            "_model_module": "@jupyter-widgets/controls",
            "_model_module_version": "1.5.0",
            "_model_name": "DescriptionStyleModel",
            "_view_count": null,
            "_view_module": "@jupyter-widgets/base",
            "_view_module_version": "1.2.0",
            "_view_name": "StyleView",
            "description_width": ""
          }
        }
      }
    }
  },
  "cells": [
    {
      "cell_type": "markdown",
      "metadata": {
        "id": "view-in-github",
        "colab_type": "text"
      },
      "source": [
        "<a href=\"https://colab.research.google.com/github/LazyHooks/Optimus/blob/main/optimus_v4.10.ipynb\" target=\"_parent\"><img src=\"https://colab.research.google.com/assets/colab-badge.svg\" alt=\"Open In Colab\"/></a>"
      ]
    },
    {
      "cell_type": "code",
      "source": [
        "import pandas as pd"
      ],
      "metadata": {
        "id": "qnHLNOlup9EC"
      },
      "execution_count": 1,
      "outputs": []
    },
    {
      "cell_type": "code",
      "source": [
        "df = pd.read_csv('Train.csv')\n",
        "df.shape"
      ],
      "metadata": {
        "id": "A8i1ht13p_jE",
        "outputId": "c078c5fd-9e01-4904-a7dc-62cdcb4e310b",
        "colab": {
          "base_uri": "https://localhost:8080/"
        }
      },
      "execution_count": 2,
      "outputs": [
        {
          "output_type": "execute_result",
          "data": {
            "text/plain": [
              "(94950, 6)"
            ]
          },
          "metadata": {},
          "execution_count": 2
        }
      ]
    },
    {
      "cell_type": "code",
      "source": [
        "df_test = pd.read_csv('Test2.csv')\n",
        "df_test.head()"
      ],
      "metadata": {
        "id": "g8-zz11mqB8b",
        "outputId": "d10ec6ad-0014-4091-a848-c64f27b06f8e",
        "colab": {
          "base_uri": "https://localhost:8080/",
          "height": 337
        }
      },
      "execution_count": 3,
      "outputs": [
        {
          "output_type": "execute_result",
          "data": {
            "text/plain": [
              "  Company Name                        Co. Designation     Co. Function  \\\n",
              "0    Microsoft                 Financial Analysis IC4          Finance   \n",
              "1    Microsoft   HR Shared Services Ops Management M4  Human Resources   \n",
              "2    Microsoft  HR Shared Services Ops Management IC3  Human Resources   \n",
              "3    Microsoft         HR Shared Services Support IC2  Human Resources   \n",
              "4    Microsoft         HR Shared Services Support IC1  Human Resources   \n",
              "\n",
              "  Job Family Code Level           TFP  \n",
              "0            FAFA    I4  4.795850e+06  \n",
              "1            HRSS    M4  2.430679e+06  \n",
              "2            HRSS    I3  1.713029e+06  \n",
              "3            HRSS    I2  9.774002e+05  \n",
              "4            HRSS    I1  7.627184e+05  "
            ],
            "text/html": [
              "\n",
              "\n",
              "  <div id=\"df-c7044224-c1fa-4723-b223-e4f9d5890629\">\n",
              "    <div class=\"colab-df-container\">\n",
              "      <div>\n",
              "<style scoped>\n",
              "    .dataframe tbody tr th:only-of-type {\n",
              "        vertical-align: middle;\n",
              "    }\n",
              "\n",
              "    .dataframe tbody tr th {\n",
              "        vertical-align: top;\n",
              "    }\n",
              "\n",
              "    .dataframe thead th {\n",
              "        text-align: right;\n",
              "    }\n",
              "</style>\n",
              "<table border=\"1\" class=\"dataframe\">\n",
              "  <thead>\n",
              "    <tr style=\"text-align: right;\">\n",
              "      <th></th>\n",
              "      <th>Company Name</th>\n",
              "      <th>Co. Designation</th>\n",
              "      <th>Co. Function</th>\n",
              "      <th>Job Family Code</th>\n",
              "      <th>Level</th>\n",
              "      <th>TFP</th>\n",
              "    </tr>\n",
              "  </thead>\n",
              "  <tbody>\n",
              "    <tr>\n",
              "      <th>0</th>\n",
              "      <td>Microsoft</td>\n",
              "      <td>Financial Analysis IC4</td>\n",
              "      <td>Finance</td>\n",
              "      <td>FAFA</td>\n",
              "      <td>I4</td>\n",
              "      <td>4.795850e+06</td>\n",
              "    </tr>\n",
              "    <tr>\n",
              "      <th>1</th>\n",
              "      <td>Microsoft</td>\n",
              "      <td>HR Shared Services Ops Management M4</td>\n",
              "      <td>Human Resources</td>\n",
              "      <td>HRSS</td>\n",
              "      <td>M4</td>\n",
              "      <td>2.430679e+06</td>\n",
              "    </tr>\n",
              "    <tr>\n",
              "      <th>2</th>\n",
              "      <td>Microsoft</td>\n",
              "      <td>HR Shared Services Ops Management IC3</td>\n",
              "      <td>Human Resources</td>\n",
              "      <td>HRSS</td>\n",
              "      <td>I3</td>\n",
              "      <td>1.713029e+06</td>\n",
              "    </tr>\n",
              "    <tr>\n",
              "      <th>3</th>\n",
              "      <td>Microsoft</td>\n",
              "      <td>HR Shared Services Support IC2</td>\n",
              "      <td>Human Resources</td>\n",
              "      <td>HRSS</td>\n",
              "      <td>I2</td>\n",
              "      <td>9.774002e+05</td>\n",
              "    </tr>\n",
              "    <tr>\n",
              "      <th>4</th>\n",
              "      <td>Microsoft</td>\n",
              "      <td>HR Shared Services Support IC1</td>\n",
              "      <td>Human Resources</td>\n",
              "      <td>HRSS</td>\n",
              "      <td>I1</td>\n",
              "      <td>7.627184e+05</td>\n",
              "    </tr>\n",
              "  </tbody>\n",
              "</table>\n",
              "</div>\n",
              "      <button class=\"colab-df-convert\" onclick=\"convertToInteractive('df-c7044224-c1fa-4723-b223-e4f9d5890629')\"\n",
              "              title=\"Convert this dataframe to an interactive table.\"\n",
              "              style=\"display:none;\">\n",
              "\n",
              "  <svg xmlns=\"http://www.w3.org/2000/svg\" height=\"24px\"viewBox=\"0 0 24 24\"\n",
              "       width=\"24px\">\n",
              "    <path d=\"M0 0h24v24H0V0z\" fill=\"none\"/>\n",
              "    <path d=\"M18.56 5.44l.94 2.06.94-2.06 2.06-.94-2.06-.94-.94-2.06-.94 2.06-2.06.94zm-11 1L8.5 8.5l.94-2.06 2.06-.94-2.06-.94L8.5 2.5l-.94 2.06-2.06.94zm10 10l.94 2.06.94-2.06 2.06-.94-2.06-.94-.94-2.06-.94 2.06-2.06.94z\"/><path d=\"M17.41 7.96l-1.37-1.37c-.4-.4-.92-.59-1.43-.59-.52 0-1.04.2-1.43.59L10.3 9.45l-7.72 7.72c-.78.78-.78 2.05 0 2.83L4 21.41c.39.39.9.59 1.41.59.51 0 1.02-.2 1.41-.59l7.78-7.78 2.81-2.81c.8-.78.8-2.07 0-2.86zM5.41 20L4 18.59l7.72-7.72 1.47 1.35L5.41 20z\"/>\n",
              "  </svg>\n",
              "      </button>\n",
              "\n",
              "\n",
              "\n",
              "    <div id=\"df-5f6c834f-8994-46a8-a71c-8dfd5af9e8f0\">\n",
              "      <button class=\"colab-df-quickchart\" onclick=\"quickchart('df-5f6c834f-8994-46a8-a71c-8dfd5af9e8f0')\"\n",
              "              title=\"Suggest charts.\"\n",
              "              style=\"display:none;\">\n",
              "\n",
              "<svg xmlns=\"http://www.w3.org/2000/svg\" height=\"24px\"viewBox=\"0 0 24 24\"\n",
              "     width=\"24px\">\n",
              "    <g>\n",
              "        <path d=\"M19 3H5c-1.1 0-2 .9-2 2v14c0 1.1.9 2 2 2h14c1.1 0 2-.9 2-2V5c0-1.1-.9-2-2-2zM9 17H7v-7h2v7zm4 0h-2V7h2v10zm4 0h-2v-4h2v4z\"/>\n",
              "    </g>\n",
              "</svg>\n",
              "      </button>\n",
              "    </div>\n",
              "\n",
              "<style>\n",
              "  .colab-df-quickchart {\n",
              "    background-color: #E8F0FE;\n",
              "    border: none;\n",
              "    border-radius: 50%;\n",
              "    cursor: pointer;\n",
              "    display: none;\n",
              "    fill: #1967D2;\n",
              "    height: 32px;\n",
              "    padding: 0 0 0 0;\n",
              "    width: 32px;\n",
              "  }\n",
              "\n",
              "  .colab-df-quickchart:hover {\n",
              "    background-color: #E2EBFA;\n",
              "    box-shadow: 0px 1px 2px rgba(60, 64, 67, 0.3), 0px 1px 3px 1px rgba(60, 64, 67, 0.15);\n",
              "    fill: #174EA6;\n",
              "  }\n",
              "\n",
              "  [theme=dark] .colab-df-quickchart {\n",
              "    background-color: #3B4455;\n",
              "    fill: #D2E3FC;\n",
              "  }\n",
              "\n",
              "  [theme=dark] .colab-df-quickchart:hover {\n",
              "    background-color: #434B5C;\n",
              "    box-shadow: 0px 1px 3px 1px rgba(0, 0, 0, 0.15);\n",
              "    filter: drop-shadow(0px 1px 2px rgba(0, 0, 0, 0.3));\n",
              "    fill: #FFFFFF;\n",
              "  }\n",
              "</style>\n",
              "\n",
              "    <script>\n",
              "      async function quickchart(key) {\n",
              "        const containerElement = document.querySelector('#' + key);\n",
              "        const charts = await google.colab.kernel.invokeFunction(\n",
              "            'suggestCharts', [key], {});\n",
              "      }\n",
              "    </script>\n",
              "\n",
              "      <script>\n",
              "\n",
              "function displayQuickchartButton(domScope) {\n",
              "  let quickchartButtonEl =\n",
              "    domScope.querySelector('#df-5f6c834f-8994-46a8-a71c-8dfd5af9e8f0 button.colab-df-quickchart');\n",
              "  quickchartButtonEl.style.display =\n",
              "    google.colab.kernel.accessAllowed ? 'block' : 'none';\n",
              "}\n",
              "\n",
              "        displayQuickchartButton(document);\n",
              "      </script>\n",
              "      <style>\n",
              "    .colab-df-container {\n",
              "      display:flex;\n",
              "      flex-wrap:wrap;\n",
              "      gap: 12px;\n",
              "    }\n",
              "\n",
              "    .colab-df-convert {\n",
              "      background-color: #E8F0FE;\n",
              "      border: none;\n",
              "      border-radius: 50%;\n",
              "      cursor: pointer;\n",
              "      display: none;\n",
              "      fill: #1967D2;\n",
              "      height: 32px;\n",
              "      padding: 0 0 0 0;\n",
              "      width: 32px;\n",
              "    }\n",
              "\n",
              "    .colab-df-convert:hover {\n",
              "      background-color: #E2EBFA;\n",
              "      box-shadow: 0px 1px 2px rgba(60, 64, 67, 0.3), 0px 1px 3px 1px rgba(60, 64, 67, 0.15);\n",
              "      fill: #174EA6;\n",
              "    }\n",
              "\n",
              "    [theme=dark] .colab-df-convert {\n",
              "      background-color: #3B4455;\n",
              "      fill: #D2E3FC;\n",
              "    }\n",
              "\n",
              "    [theme=dark] .colab-df-convert:hover {\n",
              "      background-color: #434B5C;\n",
              "      box-shadow: 0px 1px 3px 1px rgba(0, 0, 0, 0.15);\n",
              "      filter: drop-shadow(0px 1px 2px rgba(0, 0, 0, 0.3));\n",
              "      fill: #FFFFFF;\n",
              "    }\n",
              "  </style>\n",
              "\n",
              "      <script>\n",
              "        const buttonEl =\n",
              "          document.querySelector('#df-c7044224-c1fa-4723-b223-e4f9d5890629 button.colab-df-convert');\n",
              "        buttonEl.style.display =\n",
              "          google.colab.kernel.accessAllowed ? 'block' : 'none';\n",
              "\n",
              "        async function convertToInteractive(key) {\n",
              "          const element = document.querySelector('#df-c7044224-c1fa-4723-b223-e4f9d5890629');\n",
              "          const dataTable =\n",
              "            await google.colab.kernel.invokeFunction('convertToInteractive',\n",
              "                                                     [key], {});\n",
              "          if (!dataTable) return;\n",
              "\n",
              "          const docLinkHtml = 'Like what you see? Visit the ' +\n",
              "            '<a target=\"_blank\" href=https://colab.research.google.com/notebooks/data_table.ipynb>data table notebook</a>'\n",
              "            + ' to learn more about interactive tables.';\n",
              "          element.innerHTML = '';\n",
              "          dataTable['output_type'] = 'display_data';\n",
              "          await google.colab.output.renderOutput(dataTable, element);\n",
              "          const docLink = document.createElement('div');\n",
              "          docLink.innerHTML = docLinkHtml;\n",
              "          element.appendChild(docLink);\n",
              "        }\n",
              "      </script>\n",
              "    </div>\n",
              "  </div>\n"
            ]
          },
          "metadata": {},
          "execution_count": 3
        }
      ]
    },
    {
      "cell_type": "code",
      "source": [
        "df.shape\n",
        "#set(df['Company Name'])"
      ],
      "metadata": {
        "id": "WUT3QAtFqFAk",
        "outputId": "0f7bc667-ba1a-437b-b474-69f9643711ae",
        "colab": {
          "base_uri": "https://localhost:8080/"
        }
      },
      "execution_count": 4,
      "outputs": [
        {
          "output_type": "execute_result",
          "data": {
            "text/plain": [
              "(94950, 6)"
            ]
          },
          "metadata": {},
          "execution_count": 4
        }
      ]
    },
    {
      "cell_type": "code",
      "source": [
        "df.columns"
      ],
      "metadata": {
        "id": "XgKUy_kIqISg",
        "outputId": "6bdd8bc2-37fb-4e53-b32e-3c5d1280dd26",
        "colab": {
          "base_uri": "https://localhost:8080/"
        }
      },
      "execution_count": 5,
      "outputs": [
        {
          "output_type": "execute_result",
          "data": {
            "text/plain": [
              "Index(['Company Name', 'Co. Designation', 'Co. Function', 'Job Family Code',\n",
              "       'Level', 'TFP'],\n",
              "      dtype='object')"
            ]
          },
          "metadata": {},
          "execution_count": 5
        }
      ]
    },
    {
      "cell_type": "code",
      "source": [
        "train_cols = ['Co. Designation', 'Co. Function']"
      ],
      "metadata": {
        "id": "snqs9UFrqK1M"
      },
      "execution_count": 6,
      "outputs": []
    },
    {
      "cell_type": "code",
      "source": [
        "target_col = 'Job Family Code'\n",
        "target_col_2='Level'"
      ],
      "metadata": {
        "id": "Q7EVYCfFqLPP"
      },
      "execution_count": 7,
      "outputs": []
    },
    {
      "cell_type": "code",
      "source": [
        "all_cols = ['Co. Designation', 'Co. Function', 'Job Family Code','Level']\n",
        "univ_cols= ['Co. Designation', 'Co. Function', 'Job Family Code','Level','TFP']"
      ],
      "metadata": {
        "id": "BnXOkzyFqMzP"
      },
      "execution_count": 8,
      "outputs": []
    },
    {
      "cell_type": "code",
      "source": [
        "import pandas as pd\n",
        "from scipy.sparse import hstack\n",
        "from sklearn.feature_extraction.text import TfidfVectorizer\n",
        "from sklearn.linear_model import LogisticRegression\n",
        "from sklearn.metrics import accuracy_score, classification_report\n",
        "from sklearn.model_selection import train_test_split"
      ],
      "metadata": {
        "id": "qtC88Zw9qPj5"
      },
      "execution_count": 9,
      "outputs": []
    },
    {
      "cell_type": "code",
      "source": [
        "# Load data\n",
        "data = pd.read_csv('Train.csv')"
      ],
      "metadata": {
        "id": "1Ut2p3HnqQtf"
      },
      "execution_count": 10,
      "outputs": []
    },
    {
      "cell_type": "code",
      "source": [
        "df_test.head()"
      ],
      "metadata": {
        "id": "ZXQTHb6UqSTq",
        "outputId": "f01699e8-6192-4e0a-8588-5fd179665167",
        "colab": {
          "base_uri": "https://localhost:8080/",
          "height": 337
        }
      },
      "execution_count": 11,
      "outputs": [
        {
          "output_type": "execute_result",
          "data": {
            "text/plain": [
              "  Company Name                        Co. Designation     Co. Function  \\\n",
              "0    Microsoft                 Financial Analysis IC4          Finance   \n",
              "1    Microsoft   HR Shared Services Ops Management M4  Human Resources   \n",
              "2    Microsoft  HR Shared Services Ops Management IC3  Human Resources   \n",
              "3    Microsoft         HR Shared Services Support IC2  Human Resources   \n",
              "4    Microsoft         HR Shared Services Support IC1  Human Resources   \n",
              "\n",
              "  Job Family Code Level           TFP  \n",
              "0            FAFA    I4  4.795850e+06  \n",
              "1            HRSS    M4  2.430679e+06  \n",
              "2            HRSS    I3  1.713029e+06  \n",
              "3            HRSS    I2  9.774002e+05  \n",
              "4            HRSS    I1  7.627184e+05  "
            ],
            "text/html": [
              "\n",
              "\n",
              "  <div id=\"df-40d8c0ab-f077-473d-b8e6-147fcc0312e5\">\n",
              "    <div class=\"colab-df-container\">\n",
              "      <div>\n",
              "<style scoped>\n",
              "    .dataframe tbody tr th:only-of-type {\n",
              "        vertical-align: middle;\n",
              "    }\n",
              "\n",
              "    .dataframe tbody tr th {\n",
              "        vertical-align: top;\n",
              "    }\n",
              "\n",
              "    .dataframe thead th {\n",
              "        text-align: right;\n",
              "    }\n",
              "</style>\n",
              "<table border=\"1\" class=\"dataframe\">\n",
              "  <thead>\n",
              "    <tr style=\"text-align: right;\">\n",
              "      <th></th>\n",
              "      <th>Company Name</th>\n",
              "      <th>Co. Designation</th>\n",
              "      <th>Co. Function</th>\n",
              "      <th>Job Family Code</th>\n",
              "      <th>Level</th>\n",
              "      <th>TFP</th>\n",
              "    </tr>\n",
              "  </thead>\n",
              "  <tbody>\n",
              "    <tr>\n",
              "      <th>0</th>\n",
              "      <td>Microsoft</td>\n",
              "      <td>Financial Analysis IC4</td>\n",
              "      <td>Finance</td>\n",
              "      <td>FAFA</td>\n",
              "      <td>I4</td>\n",
              "      <td>4.795850e+06</td>\n",
              "    </tr>\n",
              "    <tr>\n",
              "      <th>1</th>\n",
              "      <td>Microsoft</td>\n",
              "      <td>HR Shared Services Ops Management M4</td>\n",
              "      <td>Human Resources</td>\n",
              "      <td>HRSS</td>\n",
              "      <td>M4</td>\n",
              "      <td>2.430679e+06</td>\n",
              "    </tr>\n",
              "    <tr>\n",
              "      <th>2</th>\n",
              "      <td>Microsoft</td>\n",
              "      <td>HR Shared Services Ops Management IC3</td>\n",
              "      <td>Human Resources</td>\n",
              "      <td>HRSS</td>\n",
              "      <td>I3</td>\n",
              "      <td>1.713029e+06</td>\n",
              "    </tr>\n",
              "    <tr>\n",
              "      <th>3</th>\n",
              "      <td>Microsoft</td>\n",
              "      <td>HR Shared Services Support IC2</td>\n",
              "      <td>Human Resources</td>\n",
              "      <td>HRSS</td>\n",
              "      <td>I2</td>\n",
              "      <td>9.774002e+05</td>\n",
              "    </tr>\n",
              "    <tr>\n",
              "      <th>4</th>\n",
              "      <td>Microsoft</td>\n",
              "      <td>HR Shared Services Support IC1</td>\n",
              "      <td>Human Resources</td>\n",
              "      <td>HRSS</td>\n",
              "      <td>I1</td>\n",
              "      <td>7.627184e+05</td>\n",
              "    </tr>\n",
              "  </tbody>\n",
              "</table>\n",
              "</div>\n",
              "      <button class=\"colab-df-convert\" onclick=\"convertToInteractive('df-40d8c0ab-f077-473d-b8e6-147fcc0312e5')\"\n",
              "              title=\"Convert this dataframe to an interactive table.\"\n",
              "              style=\"display:none;\">\n",
              "\n",
              "  <svg xmlns=\"http://www.w3.org/2000/svg\" height=\"24px\"viewBox=\"0 0 24 24\"\n",
              "       width=\"24px\">\n",
              "    <path d=\"M0 0h24v24H0V0z\" fill=\"none\"/>\n",
              "    <path d=\"M18.56 5.44l.94 2.06.94-2.06 2.06-.94-2.06-.94-.94-2.06-.94 2.06-2.06.94zm-11 1L8.5 8.5l.94-2.06 2.06-.94-2.06-.94L8.5 2.5l-.94 2.06-2.06.94zm10 10l.94 2.06.94-2.06 2.06-.94-2.06-.94-.94-2.06-.94 2.06-2.06.94z\"/><path d=\"M17.41 7.96l-1.37-1.37c-.4-.4-.92-.59-1.43-.59-.52 0-1.04.2-1.43.59L10.3 9.45l-7.72 7.72c-.78.78-.78 2.05 0 2.83L4 21.41c.39.39.9.59 1.41.59.51 0 1.02-.2 1.41-.59l7.78-7.78 2.81-2.81c.8-.78.8-2.07 0-2.86zM5.41 20L4 18.59l7.72-7.72 1.47 1.35L5.41 20z\"/>\n",
              "  </svg>\n",
              "      </button>\n",
              "\n",
              "\n",
              "\n",
              "    <div id=\"df-a1df58d6-8fe8-4865-9ef9-33273fda09e9\">\n",
              "      <button class=\"colab-df-quickchart\" onclick=\"quickchart('df-a1df58d6-8fe8-4865-9ef9-33273fda09e9')\"\n",
              "              title=\"Suggest charts.\"\n",
              "              style=\"display:none;\">\n",
              "\n",
              "<svg xmlns=\"http://www.w3.org/2000/svg\" height=\"24px\"viewBox=\"0 0 24 24\"\n",
              "     width=\"24px\">\n",
              "    <g>\n",
              "        <path d=\"M19 3H5c-1.1 0-2 .9-2 2v14c0 1.1.9 2 2 2h14c1.1 0 2-.9 2-2V5c0-1.1-.9-2-2-2zM9 17H7v-7h2v7zm4 0h-2V7h2v10zm4 0h-2v-4h2v4z\"/>\n",
              "    </g>\n",
              "</svg>\n",
              "      </button>\n",
              "    </div>\n",
              "\n",
              "<style>\n",
              "  .colab-df-quickchart {\n",
              "    background-color: #E8F0FE;\n",
              "    border: none;\n",
              "    border-radius: 50%;\n",
              "    cursor: pointer;\n",
              "    display: none;\n",
              "    fill: #1967D2;\n",
              "    height: 32px;\n",
              "    padding: 0 0 0 0;\n",
              "    width: 32px;\n",
              "  }\n",
              "\n",
              "  .colab-df-quickchart:hover {\n",
              "    background-color: #E2EBFA;\n",
              "    box-shadow: 0px 1px 2px rgba(60, 64, 67, 0.3), 0px 1px 3px 1px rgba(60, 64, 67, 0.15);\n",
              "    fill: #174EA6;\n",
              "  }\n",
              "\n",
              "  [theme=dark] .colab-df-quickchart {\n",
              "    background-color: #3B4455;\n",
              "    fill: #D2E3FC;\n",
              "  }\n",
              "\n",
              "  [theme=dark] .colab-df-quickchart:hover {\n",
              "    background-color: #434B5C;\n",
              "    box-shadow: 0px 1px 3px 1px rgba(0, 0, 0, 0.15);\n",
              "    filter: drop-shadow(0px 1px 2px rgba(0, 0, 0, 0.3));\n",
              "    fill: #FFFFFF;\n",
              "  }\n",
              "</style>\n",
              "\n",
              "    <script>\n",
              "      async function quickchart(key) {\n",
              "        const containerElement = document.querySelector('#' + key);\n",
              "        const charts = await google.colab.kernel.invokeFunction(\n",
              "            'suggestCharts', [key], {});\n",
              "      }\n",
              "    </script>\n",
              "\n",
              "      <script>\n",
              "\n",
              "function displayQuickchartButton(domScope) {\n",
              "  let quickchartButtonEl =\n",
              "    domScope.querySelector('#df-a1df58d6-8fe8-4865-9ef9-33273fda09e9 button.colab-df-quickchart');\n",
              "  quickchartButtonEl.style.display =\n",
              "    google.colab.kernel.accessAllowed ? 'block' : 'none';\n",
              "}\n",
              "\n",
              "        displayQuickchartButton(document);\n",
              "      </script>\n",
              "      <style>\n",
              "    .colab-df-container {\n",
              "      display:flex;\n",
              "      flex-wrap:wrap;\n",
              "      gap: 12px;\n",
              "    }\n",
              "\n",
              "    .colab-df-convert {\n",
              "      background-color: #E8F0FE;\n",
              "      border: none;\n",
              "      border-radius: 50%;\n",
              "      cursor: pointer;\n",
              "      display: none;\n",
              "      fill: #1967D2;\n",
              "      height: 32px;\n",
              "      padding: 0 0 0 0;\n",
              "      width: 32px;\n",
              "    }\n",
              "\n",
              "    .colab-df-convert:hover {\n",
              "      background-color: #E2EBFA;\n",
              "      box-shadow: 0px 1px 2px rgba(60, 64, 67, 0.3), 0px 1px 3px 1px rgba(60, 64, 67, 0.15);\n",
              "      fill: #174EA6;\n",
              "    }\n",
              "\n",
              "    [theme=dark] .colab-df-convert {\n",
              "      background-color: #3B4455;\n",
              "      fill: #D2E3FC;\n",
              "    }\n",
              "\n",
              "    [theme=dark] .colab-df-convert:hover {\n",
              "      background-color: #434B5C;\n",
              "      box-shadow: 0px 1px 3px 1px rgba(0, 0, 0, 0.15);\n",
              "      filter: drop-shadow(0px 1px 2px rgba(0, 0, 0, 0.3));\n",
              "      fill: #FFFFFF;\n",
              "    }\n",
              "  </style>\n",
              "\n",
              "      <script>\n",
              "        const buttonEl =\n",
              "          document.querySelector('#df-40d8c0ab-f077-473d-b8e6-147fcc0312e5 button.colab-df-convert');\n",
              "        buttonEl.style.display =\n",
              "          google.colab.kernel.accessAllowed ? 'block' : 'none';\n",
              "\n",
              "        async function convertToInteractive(key) {\n",
              "          const element = document.querySelector('#df-40d8c0ab-f077-473d-b8e6-147fcc0312e5');\n",
              "          const dataTable =\n",
              "            await google.colab.kernel.invokeFunction('convertToInteractive',\n",
              "                                                     [key], {});\n",
              "          if (!dataTable) return;\n",
              "\n",
              "          const docLinkHtml = 'Like what you see? Visit the ' +\n",
              "            '<a target=\"_blank\" href=https://colab.research.google.com/notebooks/data_table.ipynb>data table notebook</a>'\n",
              "            + ' to learn more about interactive tables.';\n",
              "          element.innerHTML = '';\n",
              "          dataTable['output_type'] = 'display_data';\n",
              "          await google.colab.output.renderOutput(dataTable, element);\n",
              "          const docLink = document.createElement('div');\n",
              "          docLink.innerHTML = docLinkHtml;\n",
              "          element.appendChild(docLink);\n",
              "        }\n",
              "      </script>\n",
              "    </div>\n",
              "  </div>\n"
            ]
          },
          "metadata": {},
          "execution_count": 11
        }
      ]
    },
    {
      "cell_type": "code",
      "source": [
        "\n",
        "data = data[all_cols]\n",
        "data = data.dropna()"
      ],
      "metadata": {
        "id": "677jgG6vqUER"
      },
      "execution_count": 12,
      "outputs": []
    },
    {
      "cell_type": "code",
      "source": [
        "df_test_2=df_test\n",
        "df_test_2=df_test[univ_cols]\n",
        "\n",
        "df_test = df_test[all_cols]\n",
        "df_test = df_test.dropna()\n",
        "df_test_2 = df_test_2.dropna()"
      ],
      "metadata": {
        "id": "Lw2QDppCqVk0"
      },
      "execution_count": 13,
      "outputs": []
    },
    {
      "cell_type": "code",
      "source": [
        "#data.head()"
      ],
      "metadata": {
        "id": "XWwhj-PCqW1M"
      },
      "execution_count": 14,
      "outputs": []
    },
    {
      "cell_type": "code",
      "source": [
        "#df_test.head()"
      ],
      "metadata": {
        "id": "Q_uADMLNqYpW"
      },
      "execution_count": 15,
      "outputs": []
    },
    {
      "cell_type": "markdown",
      "source": [
        "JF"
      ],
      "metadata": {
        "id": "_UlVoosAD-It"
      }
    },
    {
      "cell_type": "code",
      "source": [
        "# Extract features from each text column using TF-IDF vectorizer\n",
        "vectorizers = []\n",
        "X_train_list = []\n",
        "X_test_list = []\n",
        "for col in train_cols:\n",
        "    vectorizer = TfidfVectorizer(max_features=10000)\n",
        "    X_train_col = vectorizer.fit_transform(data.loc[:, col])\n",
        "    X_train_list.append(X_train_col)\n",
        "    X_test_col = vectorizer.transform(data.loc[:, col])\n",
        "    X_test_list.append(X_test_col)\n",
        "    vectorizers.append(vectorizer)"
      ],
      "metadata": {
        "id": "INmGmNpcqarC"
      },
      "execution_count": 16,
      "outputs": []
    },
    {
      "cell_type": "markdown",
      "source": [
        "Level"
      ],
      "metadata": {
        "id": "ftnxt4mXD_Nz"
      }
    },
    {
      "cell_type": "code",
      "source": [
        "vectorizers_2 = []\n",
        "X_train_list_2 = []\n",
        "X_test_list_2 = []\n",
        "for col in train_cols:\n",
        "    vectorizer = TfidfVectorizer(max_features=10000)\n",
        "    X_train_col = vectorizer.fit_transform(data.loc[:, col])\n",
        "    X_train_list_2.append(X_train_col)\n",
        "    X_test_col = vectorizer.transform(data.loc[:, col])\n",
        "    X_test_list_2.append(X_test_col)\n",
        "    vectorizers_2.append(vectorizer)\n",
        "\n",
        "jfcol='Job Family Code'\n",
        "vectorizer = TfidfVectorizer(max_features=10000)\n",
        "X_train_col = vectorizer.fit_transform(data.loc[:, jfcol])\n",
        "X_train_list_2.append(X_train_col)\n",
        "X_test_col = vectorizer.transform(data.loc[:, jfcol])\n",
        "X_test_list_2.append(X_test_col)\n",
        "vectorizers_2.append(vectorizer)\n"
      ],
      "metadata": {
        "id": "Qnp9DBKiD9eS"
      },
      "execution_count": 17,
      "outputs": []
    },
    {
      "cell_type": "markdown",
      "source": [
        "JF"
      ],
      "metadata": {
        "id": "rymDy7YTESw5"
      }
    },
    {
      "cell_type": "code",
      "source": [
        "# Concatenate sparse matrices into a single feature matrix\n",
        "X_train = hstack(X_train_list)\n",
        "X_test = hstack(X_test_list)\n",
        "\n",
        "# Split data into training and testing sets\n",
        "y_train = data[target_col]\n",
        "#y_test = df_test[target_col]\n",
        "\n",
        "X_train, X_test, y_train, y_test = train_test_split(X_train, y_train, test_size=0.2, random_state=42)"
      ],
      "metadata": {
        "id": "b2nmh3_nqcsI"
      },
      "execution_count": 18,
      "outputs": []
    },
    {
      "cell_type": "markdown",
      "source": [
        "Level"
      ],
      "metadata": {
        "id": "jsqt4A1TETsL"
      }
    },
    {
      "cell_type": "code",
      "source": [
        "# Concatenate sparse matrices into a single feature matrix\n",
        "X_train_2 = hstack(X_train_list_2)\n",
        "X_test_2 = hstack(X_test_list_2)\n",
        "\n",
        "# Split data into training and testing sets\n",
        "y_train_2 = data[target_col_2]\n",
        "#y_test = df_test[target_col]\n",
        "\n",
        "X_train_2, X_test_2, y_train_2, y_test_2 = train_test_split(X_train_2, y_train_2, test_size=0.2, random_state=42)\n"
      ],
      "metadata": {
        "id": "JmDTcbOeEU9t"
      },
      "execution_count": 19,
      "outputs": []
    },
    {
      "cell_type": "markdown",
      "source": [
        "JF"
      ],
      "metadata": {
        "id": "eoMDb8e8EoCP"
      }
    },
    {
      "cell_type": "code",
      "source": [
        "# Train logistic regression model\n",
        "model = LogisticRegression()\n",
        "model.fit(X_train, y_train)\n",
        "\n",
        "# Predict on test set and evaluate performance\n",
        "y_pred = model.predict(X_test)\n",
        "print('Accuracy:', accuracy_score(y_test, y_pred))\n",
        "print('Classification Report:\\n', classification_report(y_test, y_pred))"
      ],
      "metadata": {
        "id": "oKeT0fuVqe2-",
        "outputId": "35a88e64-68d4-45e0-efb2-3fa664f186f2",
        "colab": {
          "base_uri": "https://localhost:8080/"
        }
      },
      "execution_count": 20,
      "outputs": [
        {
          "output_type": "stream",
          "name": "stderr",
          "text": [
            "/usr/local/lib/python3.10/dist-packages/sklearn/linear_model/_logistic.py:458: ConvergenceWarning: lbfgs failed to converge (status=1):\n",
            "STOP: TOTAL NO. of ITERATIONS REACHED LIMIT.\n",
            "\n",
            "Increase the number of iterations (max_iter) or scale the data as shown in:\n",
            "    https://scikit-learn.org/stable/modules/preprocessing.html\n",
            "Please also refer to the documentation for alternative solver options:\n",
            "    https://scikit-learn.org/stable/modules/linear_model.html#logistic-regression\n",
            "  n_iter_i = _check_optimize_result(\n"
          ]
        },
        {
          "output_type": "stream",
          "name": "stdout",
          "text": [
            "Accuracy: 0.8848867825171143\n"
          ]
        },
        {
          "output_type": "stream",
          "name": "stderr",
          "text": [
            "/usr/local/lib/python3.10/dist-packages/sklearn/metrics/_classification.py:1344: UndefinedMetricWarning: Precision and F-score are ill-defined and being set to 0.0 in labels with no predicted samples. Use `zero_division` parameter to control this behavior.\n",
            "  _warn_prf(average, modifier, msg_start, len(result))\n",
            "/usr/local/lib/python3.10/dist-packages/sklearn/metrics/_classification.py:1344: UndefinedMetricWarning: Recall and F-score are ill-defined and being set to 0.0 in labels with no true samples. Use `zero_division` parameter to control this behavior.\n",
            "  _warn_prf(average, modifier, msg_start, len(result))\n"
          ]
        },
        {
          "output_type": "stream",
          "name": "stdout",
          "text": [
            "Classification Report:\n",
            "               precision    recall  f1-score   support\n",
            "\n",
            "        AADS       0.86      0.75      0.80       136\n",
            "        AAMD       0.97      0.90      0.94        82\n",
            "        AAML       0.92      0.93      0.93        90\n",
            "        AFAD       0.77      0.42      0.54        24\n",
            "        AFFE       0.67      0.55      0.60        22\n",
            "        AFSE       0.50      0.17      0.25         6\n",
            "        AFXX       0.85      0.77      0.81        30\n",
            "        ARRP       1.00      0.75      0.86         8\n",
            "        ARXX       0.91      0.89      0.90       377\n",
            "        ASCD       0.98      0.81      0.89        58\n",
            "        ASDB       0.68      0.79      0.73        52\n",
            "        ASEC       0.00      0.00      0.00         2\n",
            "        ASFS       0.20      1.00      0.33        63\n",
            "        ASMD       0.00      0.00      0.00        10\n",
            "        ASPI       0.85      0.63      0.72       123\n",
            "        ASRP       0.60      0.50      0.55         6\n",
            "        ASUI       0.56      0.59      0.57        17\n",
            "        ASWD       1.00      1.00      1.00        98\n",
            "        ASXX       0.85      0.72      0.78      1408\n",
            "        BCPM       1.00      0.71      0.83         7\n",
            "        BFAC       1.00      1.00      1.00         3\n",
            "        BFCA       1.00      0.82      0.90        11\n",
            "        BFCB       0.00      0.00      0.00         1\n",
            "        BFCM       0.00      0.00      0.00         1\n",
            "        BFIR       0.00      0.00      0.00         2\n",
            "        BFWB       0.00      0.00      0.00        11\n",
            "        BSMT       1.00      0.65      0.79        17\n",
            "        CCCV       0.97      0.99      0.98       247\n",
            "        CCMD       0.98      0.98      0.98       451\n",
            "        CMDO       1.00      0.20      0.33        20\n",
            "        CMXX       0.94      0.85      0.89        20\n",
            "        CSAN       1.00      0.67      0.80         9\n",
            "        CSBC       0.86      0.97      0.91       377\n",
            "        CSCG       1.00      0.62      0.77        16\n",
            "        CSCS       0.90      0.97      0.94        38\n",
            "        CSED       0.00      0.00      0.00         1\n",
            "        CSEL       0.50      0.50      0.50         4\n",
            "        CSFC       0.91      0.82      0.86       333\n",
            "        CSSI       0.89      0.81      0.85       146\n",
            "        DABD       0.80      0.84      0.82        92\n",
            "        DABI       0.74      0.77      0.76        66\n",
            "        DADV       1.00      0.50      0.67         4\n",
            "        DADW       0.00      0.00      0.00        12\n",
            "        DMKM       0.00      0.00      0.00         2\n",
            "        EDCA       1.00      0.97      0.98        64\n",
            "        EDEE       0.98      0.96      0.97       707\n",
            "        EDME       1.00      1.00      1.00       163\n",
            "        EDXX       0.98      0.94      0.96        67\n",
            "        FAAG       0.45      0.74      0.56        54\n",
            "        FAAP       1.00      0.62      0.77         8\n",
            "        FAFA       0.79      0.82      0.81       192\n",
            "        FAFI       0.78      0.93      0.85        15\n",
            "        FALC       0.00      0.00      0.00         2\n",
            "        FAML       1.00      0.67      0.80         3\n",
            "        FLAC       0.86      0.35      0.50        17\n",
            "        FLFA       0.86      0.75      0.80         8\n",
            "        FLLE       0.97      1.00      0.98        83\n",
            "        FLMI       0.00      0.00      0.00         1\n",
            "        FLPP       0.99      0.99      0.99       115\n",
            "        FLPR       0.71      0.98      0.82        55\n",
            "        FLTR       1.00      1.00      1.00         4\n",
            "        FLTX       1.00      0.80      0.89        15\n",
            "        FLXX       0.88      0.68      0.77       266\n",
            "        GDXX       0.92      0.83      0.87        41\n",
            "        HCMR       1.00      1.00      1.00        29\n",
            "        HCRM       0.00      0.00      0.00         7\n",
            "        HRBP       0.67      0.78      0.72        77\n",
            "        HRCB       1.00      0.40      0.57        10\n",
            "        HRGM       0.00      0.00      0.00         2\n",
            "        HRRE       0.90      0.89      0.89       126\n",
            "        HRRM       0.00      0.00      0.00         7\n",
            "        HRSS       1.00      0.30      0.46        37\n",
            "        HRTR       0.90      0.56      0.69        16\n",
            "        HRXX       0.61      0.66      0.63        47\n",
            "        HSGL       0.86      1.00      0.92        12\n",
            "        HSPL       0.00      0.00      0.00         1\n",
            "        INAU       0.83      0.71      0.77        14\n",
            "        INCL       0.00      0.00      0.00        35\n",
            "        INDB       0.94      0.77      0.85        57\n",
            "        INDC       1.00      0.75      0.86        16\n",
            "        INDS       0.87      0.90      0.88        97\n",
            "        INFS       0.99      0.92      0.95        79\n",
            "        INNE       0.90      0.80      0.84       108\n",
            "        INRA       0.96      0.98      0.97       324\n",
            "        INRE       0.88      0.85      0.87        34\n",
            "        INRI       0.88      0.88      0.88         8\n",
            "        INSA       0.83      0.83      0.83        12\n",
            "        INSS       0.44      0.64      0.52        11\n",
            "        INTI       0.00      0.00      0.00         1\n",
            "        INXX       0.89      0.74      0.81       262\n",
            "        ITAU       0.42      0.59      0.49        29\n",
            "        LECM       0.94      1.00      0.97        29\n",
            "        LEIP       0.00      0.00      0.00         1\n",
            "        LEPO       1.00      1.00      1.00         5\n",
            "        LERE       0.00      0.00      0.00         1\n",
            "        MBCC       1.00      0.80      0.89        25\n",
            "        MBCM       0.62      0.74      0.68        47\n",
            "        MBDM       0.87      0.54      0.67        24\n",
            "        MBGM       0.00      0.00      0.00         1\n",
            "        MBSE       1.00      1.00      1.00         5\n",
            "        MBXX       0.68      0.83      0.75        90\n",
            "        PDFD       0.95      0.95      0.95       856\n",
            "        PDFS       0.83      0.75      0.79        92\n",
            "        PDHD       0.94      0.93      0.94       946\n",
            "        PDLE       0.99      0.97      0.98       639\n",
            "        PDMD       0.67      0.40      0.50        10\n",
            "        PDPM       0.90      0.85      0.87       255\n",
            "        PDUI       0.93      0.30      0.45        44\n",
            "        PDXX       0.89      0.97      0.92      4177\n",
            "        PRAG       0.00      0.00      0.00        14\n",
            "        PRPO       0.95      0.95      0.95       351\n",
            "        PRXX       0.86      0.93      0.89       297\n",
            "        QAXX       0.73      0.76      0.75        68\n",
            "        QUTF       0.86      0.67      0.76        46\n",
            "        QUTS       1.00      0.88      0.93        16\n",
            "        RABA       0.87      0.80      0.83        60\n",
            "        RABF       1.00      0.36      0.53        11\n",
            "        RAPR       1.00      0.56      0.71        18\n",
            "        RARA       0.00      0.00      0.00         1\n",
            "        RASR       1.00      1.00      1.00         6\n",
            "        RICR       0.00      0.00      0.00         0\n",
            "        RSMO       1.00      0.93      0.96        14\n",
            "        RSSC       1.00      0.72      0.84        29\n",
            "        RSSD       0.10      0.31      0.15        13\n",
            "        RSVM       1.00      1.00      1.00         2\n",
            "        RSWL       0.84      0.91      0.88       127\n",
            "        SAAC       0.91      0.97      0.94       580\n",
            "        SABD       0.82      0.50      0.62        36\n",
            "        SACH       0.89      0.84      0.86        38\n",
            "        SACS       0.96      0.88      0.92        57\n",
            "        SAIN       0.90      0.79      0.84        48\n",
            "        SAPS       0.89      0.78      0.83        86\n",
            "        SASD       0.97      0.95      0.96        75\n",
            "        SAXX       0.92      0.75      0.83        79\n",
            "        SCCP       0.88      0.78      0.82         9\n",
            "        SSSO       0.98      0.91      0.94        56\n",
            "        SYAS       1.00      0.89      0.94         9\n",
            "        SYGR       1.00      0.20      0.33         5\n",
            "        SYIM       0.83      0.97      0.89        74\n",
            "        SYIN       0.86      1.00      0.92         6\n",
            "        SYPT       0.00      0.00      0.00         2\n",
            "        SYXX       0.50      0.04      0.08        24\n",
            "        TEAU       0.92      0.85      0.88       505\n",
            "        TEEM       1.00      0.70      0.82        23\n",
            "        TEMT       1.00      0.36      0.53        11\n",
            "        TEXX       0.99      0.96      0.97       213\n",
            "        TOCO       0.93      0.99      0.96       420\n",
            "        TOFC       0.71      0.89      0.79       185\n",
            "        TOHR       0.00      0.00      0.00         1\n",
            "        TOMR       0.00      0.00      0.00        17\n",
            "        TOPO       1.00      0.93      0.96        97\n",
            "        TOSI       1.00      0.94      0.97        18\n",
            "        TRPR       0.00      0.00      0.00         4\n",
            "        TRTN       0.00      0.00      0.00         1\n",
            "        TTXX       0.83      0.81      0.82        31\n",
            "        TWXX       0.97      0.96      0.96        92\n",
            "        UEXX       0.62      0.37      0.47        27\n",
            "\n",
            "    accuracy                           0.88     18990\n",
            "   macro avg       0.72      0.63      0.66     18990\n",
            "weighted avg       0.89      0.88      0.88     18990\n",
            "\n"
          ]
        },
        {
          "output_type": "stream",
          "name": "stderr",
          "text": [
            "/usr/local/lib/python3.10/dist-packages/sklearn/metrics/_classification.py:1344: UndefinedMetricWarning: Precision and F-score are ill-defined and being set to 0.0 in labels with no predicted samples. Use `zero_division` parameter to control this behavior.\n",
            "  _warn_prf(average, modifier, msg_start, len(result))\n",
            "/usr/local/lib/python3.10/dist-packages/sklearn/metrics/_classification.py:1344: UndefinedMetricWarning: Recall and F-score are ill-defined and being set to 0.0 in labels with no true samples. Use `zero_division` parameter to control this behavior.\n",
            "  _warn_prf(average, modifier, msg_start, len(result))\n",
            "/usr/local/lib/python3.10/dist-packages/sklearn/metrics/_classification.py:1344: UndefinedMetricWarning: Precision and F-score are ill-defined and being set to 0.0 in labels with no predicted samples. Use `zero_division` parameter to control this behavior.\n",
            "  _warn_prf(average, modifier, msg_start, len(result))\n",
            "/usr/local/lib/python3.10/dist-packages/sklearn/metrics/_classification.py:1344: UndefinedMetricWarning: Recall and F-score are ill-defined and being set to 0.0 in labels with no true samples. Use `zero_division` parameter to control this behavior.\n",
            "  _warn_prf(average, modifier, msg_start, len(result))\n"
          ]
        }
      ]
    },
    {
      "cell_type": "markdown",
      "source": [
        "Level"
      ],
      "metadata": {
        "id": "speJir44Esd9"
      }
    },
    {
      "cell_type": "code",
      "source": [
        "# Train logistic regression model\n",
        "model_2 = LogisticRegression()\n",
        "model_2.fit(X_train_2, y_train_2)\n",
        "\n",
        "# Predict on test set and evaluate performance\n",
        "y_pred_2 = model_2.predict(X_test_2)\n",
        "print('Accuracy:', accuracy_score(y_test_2, y_pred_2))\n",
        "print('Classification Report:\\n', classification_report(y_test_2, y_pred_2))"
      ],
      "metadata": {
        "id": "g3VrW4jvEtUm",
        "colab": {
          "base_uri": "https://localhost:8080/"
        },
        "outputId": "81b6cb44-f298-4a30-d1ae-c0546ed18e74"
      },
      "execution_count": 21,
      "outputs": [
        {
          "output_type": "stream",
          "name": "stderr",
          "text": [
            "/usr/local/lib/python3.10/dist-packages/sklearn/linear_model/_logistic.py:458: ConvergenceWarning: lbfgs failed to converge (status=1):\n",
            "STOP: TOTAL NO. of ITERATIONS REACHED LIMIT.\n",
            "\n",
            "Increase the number of iterations (max_iter) or scale the data as shown in:\n",
            "    https://scikit-learn.org/stable/modules/preprocessing.html\n",
            "Please also refer to the documentation for alternative solver options:\n",
            "    https://scikit-learn.org/stable/modules/linear_model.html#logistic-regression\n",
            "  n_iter_i = _check_optimize_result(\n"
          ]
        },
        {
          "output_type": "stream",
          "name": "stdout",
          "text": [
            "Accuracy: 0.6371248025276461\n"
          ]
        },
        {
          "output_type": "stream",
          "name": "stderr",
          "text": [
            "/usr/local/lib/python3.10/dist-packages/sklearn/metrics/_classification.py:1344: UndefinedMetricWarning: Precision and F-score are ill-defined and being set to 0.0 in labels with no predicted samples. Use `zero_division` parameter to control this behavior.\n",
            "  _warn_prf(average, modifier, msg_start, len(result))\n",
            "/usr/local/lib/python3.10/dist-packages/sklearn/metrics/_classification.py:1344: UndefinedMetricWarning: Precision and F-score are ill-defined and being set to 0.0 in labels with no predicted samples. Use `zero_division` parameter to control this behavior.\n",
            "  _warn_prf(average, modifier, msg_start, len(result))\n"
          ]
        },
        {
          "output_type": "stream",
          "name": "stdout",
          "text": [
            "Classification Report:\n",
            "               precision    recall  f1-score   support\n",
            "\n",
            "          E1       1.00      0.33      0.50        36\n",
            "          E2       0.00      0.00      0.00         4\n",
            "          I1       0.72      0.65      0.69      2334\n",
            "          I2       0.67      0.67      0.67      4249\n",
            "          I3       0.66      0.68      0.67      4410\n",
            "          I4       0.52      0.62      0.56      2947\n",
            "          I5       0.68      0.44      0.53       789\n",
            "          I6       0.65      0.31      0.42       266\n",
            "          I7       1.00      0.06      0.11        18\n",
            "          M2       0.80      0.68      0.73       117\n",
            "          M3       0.84      0.66      0.74       465\n",
            "          M4       0.60      0.62      0.61       783\n",
            "          M5       0.55      0.52      0.53       654\n",
            "          M6       0.60      0.44      0.51       438\n",
            "          M7       0.68      0.39      0.50       195\n",
            "          S1       0.97      0.75      0.85        84\n",
            "          S2       0.64      0.54      0.59       428\n",
            "          S3       0.61      0.87      0.72       773\n",
            "\n",
            "    accuracy                           0.64     18990\n",
            "   macro avg       0.68      0.51      0.55     18990\n",
            "weighted avg       0.64      0.64      0.64     18990\n",
            "\n"
          ]
        },
        {
          "output_type": "stream",
          "name": "stderr",
          "text": [
            "/usr/local/lib/python3.10/dist-packages/sklearn/metrics/_classification.py:1344: UndefinedMetricWarning: Precision and F-score are ill-defined and being set to 0.0 in labels with no predicted samples. Use `zero_division` parameter to control this behavior.\n",
            "  _warn_prf(average, modifier, msg_start, len(result))\n"
          ]
        }
      ]
    },
    {
      "cell_type": "markdown",
      "source": [
        "Unseen JF"
      ],
      "metadata": {
        "id": "Uw3a2C6MFFps"
      }
    },
    {
      "cell_type": "code",
      "source": [
        "X_test_unseen = []\n",
        "\n",
        "for i, col in enumerate(train_cols):\n",
        "    vectorizer = vectorizers[i]\n",
        "    X_test_col = vectorizer.transform(df_test.loc[:, col])\n",
        "    X_test_unseen.append(X_test_col)\n",
        "\n",
        "X_unseen = hstack(X_test_unseen)"
      ],
      "metadata": {
        "id": "NQZToaZCqgw9"
      },
      "execution_count": 22,
      "outputs": []
    },
    {
      "cell_type": "markdown",
      "source": [
        "JF"
      ],
      "metadata": {
        "id": "p7G0-yLwG1Om"
      }
    },
    {
      "cell_type": "code",
      "source": [
        "y_test_pred = model.predict (X_unseen)"
      ],
      "metadata": {
        "id": "YHDH2Tm-qinj"
      },
      "execution_count": 23,
      "outputs": []
    },
    {
      "cell_type": "markdown",
      "source": [
        "Unseen Level + Pred JF"
      ],
      "metadata": {
        "id": "ouGxrZbu9AB8"
      }
    },
    {
      "cell_type": "code",
      "source": [
        "X_test_unseen_2 = []\n",
        "z=0\n",
        "for i, col in enumerate(train_cols):\n",
        "    vectorizer = vectorizers_2[i]\n",
        "    X_test_col_2 = vectorizer.transform(df_test.loc[:, col])\n",
        "    X_test_unseen_2.append(X_test_col_2)\n",
        "    z=i\n",
        "\n",
        "vectorizer = vectorizers_2[z+1]\n",
        "X_test_col_2 = vectorizer.transform(df_test.loc[:, jfcol])\n",
        "X_test_unseen_2.append(X_test_col_2)\n",
        "\n",
        "X_unseen_2 = hstack(X_test_unseen_2)\n"
      ],
      "metadata": {
        "id": "2InaNFw39De7"
      },
      "execution_count": 24,
      "outputs": []
    },
    {
      "cell_type": "markdown",
      "source": [
        "Level"
      ],
      "metadata": {
        "id": "70r5Xbw5G2en"
      }
    },
    {
      "cell_type": "code",
      "source": [
        "y_test_pred_2 = model_2.predict (X_unseen_2)"
      ],
      "metadata": {
        "id": "0XWYp9w4G4M2"
      },
      "execution_count": 25,
      "outputs": []
    },
    {
      "cell_type": "code",
      "source": [
        "pd.DataFrame(y_test_pred).to_csv('JF_x.csv')\n",
        "pd.DataFrame(y_test_pred_2).to_csv('Lvl_x.csv')\n",
        "frames=[pd.DataFrame(y_test_pred),pd.DataFrame(y_test_pred_2)]\n",
        "maps=pd.concat(frames, axis=1)\n",
        "pd.DataFrame(maps).to_csv('maps_x.csv')"
      ],
      "metadata": {
        "id": "GFo__iaGqkq3"
      },
      "execution_count": 26,
      "outputs": []
    },
    {
      "cell_type": "markdown",
      "source": [
        "JF"
      ],
      "metadata": {
        "id": "ReL5_jziHi-X"
      }
    },
    {
      "cell_type": "code",
      "source": [
        "# Predict on test set and evaluate performance\n",
        "y_test_actual=df_test[target_col]\n",
        "print('Accuracy:', accuracy_score(y_test_actual, y_test_pred))\n",
        "print('Classification Report:\\n', classification_report(y_test_actual, y_test_pred))"
      ],
      "metadata": {
        "id": "gKDeyzgiSrDX",
        "outputId": "115234ad-2b05-4d34-8c46-78cf8a8facdd",
        "colab": {
          "base_uri": "https://localhost:8080/"
        }
      },
      "execution_count": 27,
      "outputs": [
        {
          "output_type": "stream",
          "name": "stdout",
          "text": [
            "Accuracy: 0.8199961122270459\n"
          ]
        },
        {
          "output_type": "stream",
          "name": "stderr",
          "text": [
            "/usr/local/lib/python3.10/dist-packages/sklearn/metrics/_classification.py:1344: UndefinedMetricWarning: Precision and F-score are ill-defined and being set to 0.0 in labels with no predicted samples. Use `zero_division` parameter to control this behavior.\n",
            "  _warn_prf(average, modifier, msg_start, len(result))\n",
            "/usr/local/lib/python3.10/dist-packages/sklearn/metrics/_classification.py:1344: UndefinedMetricWarning: Recall and F-score are ill-defined and being set to 0.0 in labels with no true samples. Use `zero_division` parameter to control this behavior.\n",
            "  _warn_prf(average, modifier, msg_start, len(result))\n",
            "/usr/local/lib/python3.10/dist-packages/sklearn/metrics/_classification.py:1344: UndefinedMetricWarning: Precision and F-score are ill-defined and being set to 0.0 in labels with no predicted samples. Use `zero_division` parameter to control this behavior.\n",
            "  _warn_prf(average, modifier, msg_start, len(result))\n",
            "/usr/local/lib/python3.10/dist-packages/sklearn/metrics/_classification.py:1344: UndefinedMetricWarning: Recall and F-score are ill-defined and being set to 0.0 in labels with no true samples. Use `zero_division` parameter to control this behavior.\n",
            "  _warn_prf(average, modifier, msg_start, len(result))\n"
          ]
        },
        {
          "output_type": "stream",
          "name": "stdout",
          "text": [
            "Classification Report:\n",
            "               precision    recall  f1-score   support\n",
            "\n",
            "        AADS       0.94      1.00      0.97       248\n",
            "        AAMD       0.00      0.00      0.00         1\n",
            "        AFFE       1.00      1.00      1.00         6\n",
            "        AFXX       1.00      1.00      1.00        25\n",
            "        ASCD       0.00      0.00      0.00        34\n",
            "        ASDB       0.00      0.00      0.00         0\n",
            "        ASXX       0.00      0.00      0.00         0\n",
            "        BCPM       0.00      0.00      0.00         5\n",
            "        CCMD       0.05      0.89      0.10        18\n",
            "        CMXX       0.00      0.00      0.00         2\n",
            "        CSBC       0.04      0.66      0.08       100\n",
            "        CSCS       1.00      1.00      1.00        25\n",
            "        CSFC       0.00      0.00      0.00        21\n",
            "        CSSI       0.50      0.00      0.00      1492\n",
            "        DABI       0.00      0.00      0.00        16\n",
            "        EDEE       1.00      1.00      1.00         2\n",
            "        EDXX       1.00      1.00      1.00        39\n",
            "        FAFA       1.00      1.00      1.00        13\n",
            "        FLAC       1.00      1.00      1.00         3\n",
            "        FLLE       1.00      1.00      1.00        11\n",
            "        FLPP       0.00      0.00      0.00         0\n",
            "        FLPR       1.00      1.00      1.00         3\n",
            "        FLTX       1.00      1.00      1.00         3\n",
            "        FLXX       0.00      0.00      0.00         0\n",
            "        HRBP       1.00      1.00      1.00        33\n",
            "        HRCB       1.00      1.00      1.00         3\n",
            "        HRDI       0.00      0.00      0.00         1\n",
            "        HRGM       0.00      0.00      0.00         1\n",
            "        HRRE       0.97      1.00      0.99        77\n",
            "        HRRM       0.00      0.00      0.00         7\n",
            "        HRSS       1.00      1.00      1.00        91\n",
            "        INAU       0.00      0.00      0.00         4\n",
            "        INDC       0.00      0.00      0.00        11\n",
            "        INDS       0.00      0.00      0.00         5\n",
            "        INFS       0.00      0.00      0.00       196\n",
            "        INRA       1.00      0.96      0.98      2404\n",
            "        INRE       1.00      0.06      0.11       434\n",
            "        INXX       0.00      1.00      0.00         1\n",
            "        MBCC       1.00      1.00      1.00         2\n",
            "        MBCM       0.92      0.96      0.94        25\n",
            "        MBXX       0.62      0.95      0.75        39\n",
            "        PDHD       0.56      1.00      0.71         5\n",
            "        PDPM       0.00      0.00      0.00         1\n",
            "        PDXX       1.00      1.00      1.00      7462\n",
            "        PRPO       0.95      0.83      0.89       760\n",
            "        PRXX       1.00      0.85      0.92      1244\n",
            "        QUTF       0.01      0.20      0.02         5\n",
            "        RABA       1.00      0.97      0.98        33\n",
            "        RAPR       0.00      0.00      0.00        21\n",
            "        RSSC       0.00      0.00      0.00         4\n",
            "        SAAC       0.83      0.94      0.88       236\n",
            "        SACH       0.58      0.64      0.61        59\n",
            "        SACS       1.00      1.00      1.00        74\n",
            "        SAPS       0.00      0.00      0.00        64\n",
            "        SASD       1.00      1.00      1.00         5\n",
            "        SAXX       0.00      0.00      0.00         0\n",
            "        TEAU       0.67      1.00      0.80        53\n",
            "        TOCO       0.00      0.00      0.00         0\n",
            "        TWXX       1.00      0.67      0.80         6\n",
            "\n",
            "    accuracy                           0.82     15433\n",
            "   macro avg       0.50      0.54      0.48     15433\n",
            "weighted avg       0.91      0.82      0.82     15433\n",
            "\n"
          ]
        },
        {
          "output_type": "stream",
          "name": "stderr",
          "text": [
            "/usr/local/lib/python3.10/dist-packages/sklearn/metrics/_classification.py:1344: UndefinedMetricWarning: Precision and F-score are ill-defined and being set to 0.0 in labels with no predicted samples. Use `zero_division` parameter to control this behavior.\n",
            "  _warn_prf(average, modifier, msg_start, len(result))\n",
            "/usr/local/lib/python3.10/dist-packages/sklearn/metrics/_classification.py:1344: UndefinedMetricWarning: Recall and F-score are ill-defined and being set to 0.0 in labels with no true samples. Use `zero_division` parameter to control this behavior.\n",
            "  _warn_prf(average, modifier, msg_start, len(result))\n"
          ]
        }
      ]
    },
    {
      "cell_type": "code",
      "source": [
        "df_lvlx = pd.read_csv('maps_x.csv')"
      ],
      "metadata": {
        "id": "3F3Q17mTphUg"
      },
      "execution_count": 28,
      "outputs": []
    },
    {
      "cell_type": "markdown",
      "source": [
        "Level"
      ],
      "metadata": {
        "id": "WdQCZxtcHllh"
      }
    },
    {
      "cell_type": "code",
      "source": [
        "# Predict on test set and evaluate performance\n",
        "y_test_actual_2=df_test[target_col_2]\n",
        "print('Accuracy:', accuracy_score(y_test_actual_2, y_test_pred_2))\n",
        "print('Classification Report:\\n', classification_report(y_test_actual_2, y_test_pred_2))"
      ],
      "metadata": {
        "id": "0Dty7SHVHmtG",
        "colab": {
          "base_uri": "https://localhost:8080/"
        },
        "outputId": "a19548cb-41cf-4225-94c7-39911d0ece50"
      },
      "execution_count": 29,
      "outputs": [
        {
          "output_type": "stream",
          "name": "stderr",
          "text": [
            "/usr/local/lib/python3.10/dist-packages/sklearn/metrics/_classification.py:1344: UndefinedMetricWarning: Precision and F-score are ill-defined and being set to 0.0 in labels with no predicted samples. Use `zero_division` parameter to control this behavior.\n",
            "  _warn_prf(average, modifier, msg_start, len(result))\n",
            "/usr/local/lib/python3.10/dist-packages/sklearn/metrics/_classification.py:1344: UndefinedMetricWarning: Recall and F-score are ill-defined and being set to 0.0 in labels with no true samples. Use `zero_division` parameter to control this behavior.\n",
            "  _warn_prf(average, modifier, msg_start, len(result))\n"
          ]
        },
        {
          "output_type": "stream",
          "name": "stdout",
          "text": [
            "Accuracy: 0.23702455776582648\n"
          ]
        },
        {
          "output_type": "stream",
          "name": "stderr",
          "text": [
            "/usr/local/lib/python3.10/dist-packages/sklearn/metrics/_classification.py:1344: UndefinedMetricWarning: Precision and F-score are ill-defined and being set to 0.0 in labels with no predicted samples. Use `zero_division` parameter to control this behavior.\n",
            "  _warn_prf(average, modifier, msg_start, len(result))\n",
            "/usr/local/lib/python3.10/dist-packages/sklearn/metrics/_classification.py:1344: UndefinedMetricWarning: Recall and F-score are ill-defined and being set to 0.0 in labels with no true samples. Use `zero_division` parameter to control this behavior.\n",
            "  _warn_prf(average, modifier, msg_start, len(result))\n"
          ]
        },
        {
          "output_type": "stream",
          "name": "stdout",
          "text": [
            "Classification Report:\n",
            "               precision    recall  f1-score   support\n",
            "\n",
            "          E1       0.00      0.00      0.00         3\n",
            "          I1       0.00      0.00      0.00        16\n",
            "          I2       0.28      0.79      0.41      3364\n",
            "          I3       0.29      0.03      0.06      6785\n",
            "          I4       0.40      0.17      0.24      3774\n",
            "          I5       0.00      0.00      0.00       538\n",
            "          I6       0.00      0.00      0.00        23\n",
            "          M2       0.00      0.00      0.00         0\n",
            "          M3       0.00      0.00      0.00         7\n",
            "          M4       0.31      0.46      0.37       267\n",
            "          M5       0.00      0.00      0.00       398\n",
            "          M6       0.18      0.15      0.16       193\n",
            "          M7       0.00      0.00      0.00        40\n",
            "          S2       0.00      0.00      0.00         0\n",
            "          S3       0.00      0.00      0.00        25\n",
            "\n",
            "    accuracy                           0.24     15433\n",
            "   macro avg       0.10      0.11      0.08     15433\n",
            "weighted avg       0.29      0.24      0.18     15433\n",
            "\n"
          ]
        },
        {
          "output_type": "stream",
          "name": "stderr",
          "text": [
            "/usr/local/lib/python3.10/dist-packages/sklearn/metrics/_classification.py:1344: UndefinedMetricWarning: Precision and F-score are ill-defined and being set to 0.0 in labels with no predicted samples. Use `zero_division` parameter to control this behavior.\n",
            "  _warn_prf(average, modifier, msg_start, len(result))\n",
            "/usr/local/lib/python3.10/dist-packages/sklearn/metrics/_classification.py:1344: UndefinedMetricWarning: Recall and F-score are ill-defined and being set to 0.0 in labels with no true samples. Use `zero_division` parameter to control this behavior.\n",
            "  _warn_prf(average, modifier, msg_start, len(result))\n"
          ]
        }
      ]
    },
    {
      "cell_type": "code",
      "source": [
        "df_test_2.shape"
      ],
      "metadata": {
        "colab": {
          "base_uri": "https://localhost:8080/"
        },
        "id": "olWMiIi_sMD2",
        "outputId": "1ea73422-0628-4989-9638-4cb2e494a024"
      },
      "execution_count": 30,
      "outputs": [
        {
          "output_type": "execute_result",
          "data": {
            "text/plain": [
              "(15433, 5)"
            ]
          },
          "metadata": {},
          "execution_count": 30
        }
      ]
    },
    {
      "cell_type": "code",
      "source": [
        "temp=df_test_2.loc[:,'TFP']\n",
        "init_maps=pd.concat([maps , temp], axis=1)\n",
        "init_maps"
      ],
      "metadata": {
        "colab": {
          "base_uri": "https://localhost:8080/",
          "height": 423
        },
        "id": "UrJNtqbep0WK",
        "outputId": "8f2d4d3d-736a-454d-91dc-9a4aa8754490"
      },
      "execution_count": 31,
      "outputs": [
        {
          "output_type": "execute_result",
          "data": {
            "text/plain": [
              "          0   0           TFP\n",
              "0      FAFA  I3  4.795850e+06\n",
              "1      HRSS  S3  2.430679e+06\n",
              "2      HRSS  S3  1.713029e+06\n",
              "3      HRSS  S3  9.774002e+05\n",
              "4      HRSS  S3  7.627184e+05\n",
              "...     ...  ..           ...\n",
              "15428  PDXX  M4  1.051000e+07\n",
              "15429  PDXX  I2  2.372000e+06\n",
              "15430  PDXX  I2  5.118472e+06\n",
              "15431  CSBC  I1  2.032160e+06\n",
              "15432  PDXX  I2  2.984000e+06\n",
              "\n",
              "[15433 rows x 3 columns]"
            ],
            "text/html": [
              "\n",
              "\n",
              "  <div id=\"df-67850f12-0cc2-4687-9ecb-fdfdaa225571\">\n",
              "    <div class=\"colab-df-container\">\n",
              "      <div>\n",
              "<style scoped>\n",
              "    .dataframe tbody tr th:only-of-type {\n",
              "        vertical-align: middle;\n",
              "    }\n",
              "\n",
              "    .dataframe tbody tr th {\n",
              "        vertical-align: top;\n",
              "    }\n",
              "\n",
              "    .dataframe thead th {\n",
              "        text-align: right;\n",
              "    }\n",
              "</style>\n",
              "<table border=\"1\" class=\"dataframe\">\n",
              "  <thead>\n",
              "    <tr style=\"text-align: right;\">\n",
              "      <th></th>\n",
              "      <th>0</th>\n",
              "      <th>0</th>\n",
              "      <th>TFP</th>\n",
              "    </tr>\n",
              "  </thead>\n",
              "  <tbody>\n",
              "    <tr>\n",
              "      <th>0</th>\n",
              "      <td>FAFA</td>\n",
              "      <td>I3</td>\n",
              "      <td>4.795850e+06</td>\n",
              "    </tr>\n",
              "    <tr>\n",
              "      <th>1</th>\n",
              "      <td>HRSS</td>\n",
              "      <td>S3</td>\n",
              "      <td>2.430679e+06</td>\n",
              "    </tr>\n",
              "    <tr>\n",
              "      <th>2</th>\n",
              "      <td>HRSS</td>\n",
              "      <td>S3</td>\n",
              "      <td>1.713029e+06</td>\n",
              "    </tr>\n",
              "    <tr>\n",
              "      <th>3</th>\n",
              "      <td>HRSS</td>\n",
              "      <td>S3</td>\n",
              "      <td>9.774002e+05</td>\n",
              "    </tr>\n",
              "    <tr>\n",
              "      <th>4</th>\n",
              "      <td>HRSS</td>\n",
              "      <td>S3</td>\n",
              "      <td>7.627184e+05</td>\n",
              "    </tr>\n",
              "    <tr>\n",
              "      <th>...</th>\n",
              "      <td>...</td>\n",
              "      <td>...</td>\n",
              "      <td>...</td>\n",
              "    </tr>\n",
              "    <tr>\n",
              "      <th>15428</th>\n",
              "      <td>PDXX</td>\n",
              "      <td>M4</td>\n",
              "      <td>1.051000e+07</td>\n",
              "    </tr>\n",
              "    <tr>\n",
              "      <th>15429</th>\n",
              "      <td>PDXX</td>\n",
              "      <td>I2</td>\n",
              "      <td>2.372000e+06</td>\n",
              "    </tr>\n",
              "    <tr>\n",
              "      <th>15430</th>\n",
              "      <td>PDXX</td>\n",
              "      <td>I2</td>\n",
              "      <td>5.118472e+06</td>\n",
              "    </tr>\n",
              "    <tr>\n",
              "      <th>15431</th>\n",
              "      <td>CSBC</td>\n",
              "      <td>I1</td>\n",
              "      <td>2.032160e+06</td>\n",
              "    </tr>\n",
              "    <tr>\n",
              "      <th>15432</th>\n",
              "      <td>PDXX</td>\n",
              "      <td>I2</td>\n",
              "      <td>2.984000e+06</td>\n",
              "    </tr>\n",
              "  </tbody>\n",
              "</table>\n",
              "<p>15433 rows × 3 columns</p>\n",
              "</div>\n",
              "      <button class=\"colab-df-convert\" onclick=\"convertToInteractive('df-67850f12-0cc2-4687-9ecb-fdfdaa225571')\"\n",
              "              title=\"Convert this dataframe to an interactive table.\"\n",
              "              style=\"display:none;\">\n",
              "\n",
              "  <svg xmlns=\"http://www.w3.org/2000/svg\" height=\"24px\"viewBox=\"0 0 24 24\"\n",
              "       width=\"24px\">\n",
              "    <path d=\"M0 0h24v24H0V0z\" fill=\"none\"/>\n",
              "    <path d=\"M18.56 5.44l.94 2.06.94-2.06 2.06-.94-2.06-.94-.94-2.06-.94 2.06-2.06.94zm-11 1L8.5 8.5l.94-2.06 2.06-.94-2.06-.94L8.5 2.5l-.94 2.06-2.06.94zm10 10l.94 2.06.94-2.06 2.06-.94-2.06-.94-.94-2.06-.94 2.06-2.06.94z\"/><path d=\"M17.41 7.96l-1.37-1.37c-.4-.4-.92-.59-1.43-.59-.52 0-1.04.2-1.43.59L10.3 9.45l-7.72 7.72c-.78.78-.78 2.05 0 2.83L4 21.41c.39.39.9.59 1.41.59.51 0 1.02-.2 1.41-.59l7.78-7.78 2.81-2.81c.8-.78.8-2.07 0-2.86zM5.41 20L4 18.59l7.72-7.72 1.47 1.35L5.41 20z\"/>\n",
              "  </svg>\n",
              "      </button>\n",
              "\n",
              "\n",
              "\n",
              "    <div id=\"df-5974a76d-f8c2-4bf1-b48c-ef5b94b06bce\">\n",
              "      <button class=\"colab-df-quickchart\" onclick=\"quickchart('df-5974a76d-f8c2-4bf1-b48c-ef5b94b06bce')\"\n",
              "              title=\"Suggest charts.\"\n",
              "              style=\"display:none;\">\n",
              "\n",
              "<svg xmlns=\"http://www.w3.org/2000/svg\" height=\"24px\"viewBox=\"0 0 24 24\"\n",
              "     width=\"24px\">\n",
              "    <g>\n",
              "        <path d=\"M19 3H5c-1.1 0-2 .9-2 2v14c0 1.1.9 2 2 2h14c1.1 0 2-.9 2-2V5c0-1.1-.9-2-2-2zM9 17H7v-7h2v7zm4 0h-2V7h2v10zm4 0h-2v-4h2v4z\"/>\n",
              "    </g>\n",
              "</svg>\n",
              "      </button>\n",
              "    </div>\n",
              "\n",
              "<style>\n",
              "  .colab-df-quickchart {\n",
              "    background-color: #E8F0FE;\n",
              "    border: none;\n",
              "    border-radius: 50%;\n",
              "    cursor: pointer;\n",
              "    display: none;\n",
              "    fill: #1967D2;\n",
              "    height: 32px;\n",
              "    padding: 0 0 0 0;\n",
              "    width: 32px;\n",
              "  }\n",
              "\n",
              "  .colab-df-quickchart:hover {\n",
              "    background-color: #E2EBFA;\n",
              "    box-shadow: 0px 1px 2px rgba(60, 64, 67, 0.3), 0px 1px 3px 1px rgba(60, 64, 67, 0.15);\n",
              "    fill: #174EA6;\n",
              "  }\n",
              "\n",
              "  [theme=dark] .colab-df-quickchart {\n",
              "    background-color: #3B4455;\n",
              "    fill: #D2E3FC;\n",
              "  }\n",
              "\n",
              "  [theme=dark] .colab-df-quickchart:hover {\n",
              "    background-color: #434B5C;\n",
              "    box-shadow: 0px 1px 3px 1px rgba(0, 0, 0, 0.15);\n",
              "    filter: drop-shadow(0px 1px 2px rgba(0, 0, 0, 0.3));\n",
              "    fill: #FFFFFF;\n",
              "  }\n",
              "</style>\n",
              "\n",
              "    <script>\n",
              "      async function quickchart(key) {\n",
              "        const containerElement = document.querySelector('#' + key);\n",
              "        const charts = await google.colab.kernel.invokeFunction(\n",
              "            'suggestCharts', [key], {});\n",
              "      }\n",
              "    </script>\n",
              "\n",
              "      <script>\n",
              "\n",
              "function displayQuickchartButton(domScope) {\n",
              "  let quickchartButtonEl =\n",
              "    domScope.querySelector('#df-5974a76d-f8c2-4bf1-b48c-ef5b94b06bce button.colab-df-quickchart');\n",
              "  quickchartButtonEl.style.display =\n",
              "    google.colab.kernel.accessAllowed ? 'block' : 'none';\n",
              "}\n",
              "\n",
              "        displayQuickchartButton(document);\n",
              "      </script>\n",
              "      <style>\n",
              "    .colab-df-container {\n",
              "      display:flex;\n",
              "      flex-wrap:wrap;\n",
              "      gap: 12px;\n",
              "    }\n",
              "\n",
              "    .colab-df-convert {\n",
              "      background-color: #E8F0FE;\n",
              "      border: none;\n",
              "      border-radius: 50%;\n",
              "      cursor: pointer;\n",
              "      display: none;\n",
              "      fill: #1967D2;\n",
              "      height: 32px;\n",
              "      padding: 0 0 0 0;\n",
              "      width: 32px;\n",
              "    }\n",
              "\n",
              "    .colab-df-convert:hover {\n",
              "      background-color: #E2EBFA;\n",
              "      box-shadow: 0px 1px 2px rgba(60, 64, 67, 0.3), 0px 1px 3px 1px rgba(60, 64, 67, 0.15);\n",
              "      fill: #174EA6;\n",
              "    }\n",
              "\n",
              "    [theme=dark] .colab-df-convert {\n",
              "      background-color: #3B4455;\n",
              "      fill: #D2E3FC;\n",
              "    }\n",
              "\n",
              "    [theme=dark] .colab-df-convert:hover {\n",
              "      background-color: #434B5C;\n",
              "      box-shadow: 0px 1px 3px 1px rgba(0, 0, 0, 0.15);\n",
              "      filter: drop-shadow(0px 1px 2px rgba(0, 0, 0, 0.3));\n",
              "      fill: #FFFFFF;\n",
              "    }\n",
              "  </style>\n",
              "\n",
              "      <script>\n",
              "        const buttonEl =\n",
              "          document.querySelector('#df-67850f12-0cc2-4687-9ecb-fdfdaa225571 button.colab-df-convert');\n",
              "        buttonEl.style.display =\n",
              "          google.colab.kernel.accessAllowed ? 'block' : 'none';\n",
              "\n",
              "        async function convertToInteractive(key) {\n",
              "          const element = document.querySelector('#df-67850f12-0cc2-4687-9ecb-fdfdaa225571');\n",
              "          const dataTable =\n",
              "            await google.colab.kernel.invokeFunction('convertToInteractive',\n",
              "                                                     [key], {});\n",
              "          if (!dataTable) return;\n",
              "\n",
              "          const docLinkHtml = 'Like what you see? Visit the ' +\n",
              "            '<a target=\"_blank\" href=https://colab.research.google.com/notebooks/data_table.ipynb>data table notebook</a>'\n",
              "            + ' to learn more about interactive tables.';\n",
              "          element.innerHTML = '';\n",
              "          dataTable['output_type'] = 'display_data';\n",
              "          await google.colab.output.renderOutput(dataTable, element);\n",
              "          const docLink = document.createElement('div');\n",
              "          docLink.innerHTML = docLinkHtml;\n",
              "          element.appendChild(docLink);\n",
              "        }\n",
              "      </script>\n",
              "    </div>\n",
              "  </div>\n"
            ]
          },
          "metadata": {},
          "execution_count": 31
        }
      ]
    },
    {
      "cell_type": "code",
      "source": [
        "#init_maps.JF.unique()"
      ],
      "metadata": {
        "id": "Z4APnSDjyDTJ"
      },
      "execution_count": 32,
      "outputs": []
    },
    {
      "cell_type": "code",
      "source": [
        "init_maps.columns = ['JF', 'level', 'TFP']"
      ],
      "metadata": {
        "id": "PkPWGplhxuIs"
      },
      "execution_count": 33,
      "outputs": []
    },
    {
      "cell_type": "code",
      "source": [
        "ref_table = pd.read_excel('PROD_LOL.xlsx')"
      ],
      "metadata": {
        "id": "hYZJT24Nq_oa"
      },
      "execution_count": 35,
      "outputs": []
    },
    {
      "cell_type": "code",
      "source": [
        "#temp_level = ref_table.loc[ref_table.index == 3].Level.values[0]\n",
        "#temp_level"
      ],
      "metadata": {
        "id": "PRIS2U_Ixcps"
      },
      "execution_count": 36,
      "outputs": []
    },
    {
      "cell_type": "code",
      "source": [
        "def find_in_ref(df, jf, level):\n",
        "  try:\n",
        "    return df.loc[(df.JF == jf) & (df.Level == level)]\n",
        "  except:\n",
        "    return None\n",
        "\n",
        "def check_range_ref(ref_df, comp, index):\n",
        "  ref_row = ref_df.loc[ref_df.index == index]\n",
        "\n",
        "  if comp >= ref_row.P10.values[0] and comp <= ref_row.P90.values[0] :\n",
        "    return True\n",
        "\n",
        "  return False\n",
        "\n",
        "def compare_range_ref(ref_df, comp, index):\n",
        "  ref_row = ref_df.loc[ref_df.index == index]\n",
        "\n",
        "  if comp < ref_row.P10.values[0]:\n",
        "    return -1\n",
        "  elif comp > ref_row.P90.values[0]:\n",
        "    return 1\n",
        "  elif comp >= ref_row.P10.values[0] and comp <= ref_row.P90.values[0] :\n",
        "    return 0\n",
        "\n",
        "  return False\n"
      ],
      "metadata": {
        "id": "j5bQBmhCxmHj"
      },
      "execution_count": 37,
      "outputs": []
    },
    {
      "cell_type": "code",
      "source": [
        "find_in_ref(ref_table, 'HRBP', 'I5')"
      ],
      "metadata": {
        "colab": {
          "base_uri": "https://localhost:8080/",
          "height": 80
        },
        "id": "Jrh3742py6zY",
        "outputId": "50adaf38-43f5-4f32-c05a-414fc9502741"
      },
      "execution_count": 38,
      "outputs": [
        {
          "output_type": "execute_result",
          "data": {
            "text/plain": [
              "     JF+Level    JF Level          P10          P90\n",
              "1154   HRBPI5  HRBP    I5  2678.815271  6355.659933"
            ],
            "text/html": [
              "\n",
              "\n",
              "  <div id=\"df-7c36fe15-aec2-4bc8-80d1-d8320881c0b0\">\n",
              "    <div class=\"colab-df-container\">\n",
              "      <div>\n",
              "<style scoped>\n",
              "    .dataframe tbody tr th:only-of-type {\n",
              "        vertical-align: middle;\n",
              "    }\n",
              "\n",
              "    .dataframe tbody tr th {\n",
              "        vertical-align: top;\n",
              "    }\n",
              "\n",
              "    .dataframe thead th {\n",
              "        text-align: right;\n",
              "    }\n",
              "</style>\n",
              "<table border=\"1\" class=\"dataframe\">\n",
              "  <thead>\n",
              "    <tr style=\"text-align: right;\">\n",
              "      <th></th>\n",
              "      <th>JF+Level</th>\n",
              "      <th>JF</th>\n",
              "      <th>Level</th>\n",
              "      <th>P10</th>\n",
              "      <th>P90</th>\n",
              "    </tr>\n",
              "  </thead>\n",
              "  <tbody>\n",
              "    <tr>\n",
              "      <th>1154</th>\n",
              "      <td>HRBPI5</td>\n",
              "      <td>HRBP</td>\n",
              "      <td>I5</td>\n",
              "      <td>2678.815271</td>\n",
              "      <td>6355.659933</td>\n",
              "    </tr>\n",
              "  </tbody>\n",
              "</table>\n",
              "</div>\n",
              "      <button class=\"colab-df-convert\" onclick=\"convertToInteractive('df-7c36fe15-aec2-4bc8-80d1-d8320881c0b0')\"\n",
              "              title=\"Convert this dataframe to an interactive table.\"\n",
              "              style=\"display:none;\">\n",
              "\n",
              "  <svg xmlns=\"http://www.w3.org/2000/svg\" height=\"24px\"viewBox=\"0 0 24 24\"\n",
              "       width=\"24px\">\n",
              "    <path d=\"M0 0h24v24H0V0z\" fill=\"none\"/>\n",
              "    <path d=\"M18.56 5.44l.94 2.06.94-2.06 2.06-.94-2.06-.94-.94-2.06-.94 2.06-2.06.94zm-11 1L8.5 8.5l.94-2.06 2.06-.94-2.06-.94L8.5 2.5l-.94 2.06-2.06.94zm10 10l.94 2.06.94-2.06 2.06-.94-2.06-.94-.94-2.06-.94 2.06-2.06.94z\"/><path d=\"M17.41 7.96l-1.37-1.37c-.4-.4-.92-.59-1.43-.59-.52 0-1.04.2-1.43.59L10.3 9.45l-7.72 7.72c-.78.78-.78 2.05 0 2.83L4 21.41c.39.39.9.59 1.41.59.51 0 1.02-.2 1.41-.59l7.78-7.78 2.81-2.81c.8-.78.8-2.07 0-2.86zM5.41 20L4 18.59l7.72-7.72 1.47 1.35L5.41 20z\"/>\n",
              "  </svg>\n",
              "      </button>\n",
              "\n",
              "\n",
              "\n",
              "    <div id=\"df-630ae959-e5e8-4243-a1b7-8f82c3644cfe\">\n",
              "      <button class=\"colab-df-quickchart\" onclick=\"quickchart('df-630ae959-e5e8-4243-a1b7-8f82c3644cfe')\"\n",
              "              title=\"Suggest charts.\"\n",
              "              style=\"display:none;\">\n",
              "\n",
              "<svg xmlns=\"http://www.w3.org/2000/svg\" height=\"24px\"viewBox=\"0 0 24 24\"\n",
              "     width=\"24px\">\n",
              "    <g>\n",
              "        <path d=\"M19 3H5c-1.1 0-2 .9-2 2v14c0 1.1.9 2 2 2h14c1.1 0 2-.9 2-2V5c0-1.1-.9-2-2-2zM9 17H7v-7h2v7zm4 0h-2V7h2v10zm4 0h-2v-4h2v4z\"/>\n",
              "    </g>\n",
              "</svg>\n",
              "      </button>\n",
              "    </div>\n",
              "\n",
              "<style>\n",
              "  .colab-df-quickchart {\n",
              "    background-color: #E8F0FE;\n",
              "    border: none;\n",
              "    border-radius: 50%;\n",
              "    cursor: pointer;\n",
              "    display: none;\n",
              "    fill: #1967D2;\n",
              "    height: 32px;\n",
              "    padding: 0 0 0 0;\n",
              "    width: 32px;\n",
              "  }\n",
              "\n",
              "  .colab-df-quickchart:hover {\n",
              "    background-color: #E2EBFA;\n",
              "    box-shadow: 0px 1px 2px rgba(60, 64, 67, 0.3), 0px 1px 3px 1px rgba(60, 64, 67, 0.15);\n",
              "    fill: #174EA6;\n",
              "  }\n",
              "\n",
              "  [theme=dark] .colab-df-quickchart {\n",
              "    background-color: #3B4455;\n",
              "    fill: #D2E3FC;\n",
              "  }\n",
              "\n",
              "  [theme=dark] .colab-df-quickchart:hover {\n",
              "    background-color: #434B5C;\n",
              "    box-shadow: 0px 1px 3px 1px rgba(0, 0, 0, 0.15);\n",
              "    filter: drop-shadow(0px 1px 2px rgba(0, 0, 0, 0.3));\n",
              "    fill: #FFFFFF;\n",
              "  }\n",
              "</style>\n",
              "\n",
              "    <script>\n",
              "      async function quickchart(key) {\n",
              "        const containerElement = document.querySelector('#' + key);\n",
              "        const charts = await google.colab.kernel.invokeFunction(\n",
              "            'suggestCharts', [key], {});\n",
              "      }\n",
              "    </script>\n",
              "\n",
              "      <script>\n",
              "\n",
              "function displayQuickchartButton(domScope) {\n",
              "  let quickchartButtonEl =\n",
              "    domScope.querySelector('#df-630ae959-e5e8-4243-a1b7-8f82c3644cfe button.colab-df-quickchart');\n",
              "  quickchartButtonEl.style.display =\n",
              "    google.colab.kernel.accessAllowed ? 'block' : 'none';\n",
              "}\n",
              "\n",
              "        displayQuickchartButton(document);\n",
              "      </script>\n",
              "      <style>\n",
              "    .colab-df-container {\n",
              "      display:flex;\n",
              "      flex-wrap:wrap;\n",
              "      gap: 12px;\n",
              "    }\n",
              "\n",
              "    .colab-df-convert {\n",
              "      background-color: #E8F0FE;\n",
              "      border: none;\n",
              "      border-radius: 50%;\n",
              "      cursor: pointer;\n",
              "      display: none;\n",
              "      fill: #1967D2;\n",
              "      height: 32px;\n",
              "      padding: 0 0 0 0;\n",
              "      width: 32px;\n",
              "    }\n",
              "\n",
              "    .colab-df-convert:hover {\n",
              "      background-color: #E2EBFA;\n",
              "      box-shadow: 0px 1px 2px rgba(60, 64, 67, 0.3), 0px 1px 3px 1px rgba(60, 64, 67, 0.15);\n",
              "      fill: #174EA6;\n",
              "    }\n",
              "\n",
              "    [theme=dark] .colab-df-convert {\n",
              "      background-color: #3B4455;\n",
              "      fill: #D2E3FC;\n",
              "    }\n",
              "\n",
              "    [theme=dark] .colab-df-convert:hover {\n",
              "      background-color: #434B5C;\n",
              "      box-shadow: 0px 1px 3px 1px rgba(0, 0, 0, 0.15);\n",
              "      filter: drop-shadow(0px 1px 2px rgba(0, 0, 0, 0.3));\n",
              "      fill: #FFFFFF;\n",
              "    }\n",
              "  </style>\n",
              "\n",
              "      <script>\n",
              "        const buttonEl =\n",
              "          document.querySelector('#df-7c36fe15-aec2-4bc8-80d1-d8320881c0b0 button.colab-df-convert');\n",
              "        buttonEl.style.display =\n",
              "          google.colab.kernel.accessAllowed ? 'block' : 'none';\n",
              "\n",
              "        async function convertToInteractive(key) {\n",
              "          const element = document.querySelector('#df-7c36fe15-aec2-4bc8-80d1-d8320881c0b0');\n",
              "          const dataTable =\n",
              "            await google.colab.kernel.invokeFunction('convertToInteractive',\n",
              "                                                     [key], {});\n",
              "          if (!dataTable) return;\n",
              "\n",
              "          const docLinkHtml = 'Like what you see? Visit the ' +\n",
              "            '<a target=\"_blank\" href=https://colab.research.google.com/notebooks/data_table.ipynb>data table notebook</a>'\n",
              "            + ' to learn more about interactive tables.';\n",
              "          element.innerHTML = '';\n",
              "          dataTable['output_type'] = 'display_data';\n",
              "          await google.colab.output.renderOutput(dataTable, element);\n",
              "          const docLink = document.createElement('div');\n",
              "          docLink.innerHTML = docLinkHtml;\n",
              "          element.appendChild(docLink);\n",
              "        }\n",
              "      </script>\n",
              "    </div>\n",
              "  </div>\n"
            ]
          },
          "metadata": {},
          "execution_count": 38
        }
      ]
    },
    {
      "cell_type": "code",
      "source": [
        "reassigned_maps = init_maps.copy(deep=True)"
      ],
      "metadata": {
        "id": "Ssn6CGFI8NC8"
      },
      "execution_count": 39,
      "outputs": []
    },
    {
      "cell_type": "code",
      "source": [
        "pd.DataFrame(init_maps).to_csv('init_maps.csv')\n",
        "init_maps.shape"
      ],
      "metadata": {
        "id": "7B0X4t3-JbDG",
        "outputId": "224f6860-8ab9-44ef-a791-b421438181eb",
        "colab": {
          "base_uri": "https://localhost:8080/"
        }
      },
      "execution_count": 40,
      "outputs": [
        {
          "output_type": "execute_result",
          "data": {
            "text/plain": [
              "(15433, 3)"
            ]
          },
          "metadata": {},
          "execution_count": 40
        }
      ]
    },
    {
      "cell_type": "code",
      "source": [
        "from tqdm.auto import tqdm"
      ],
      "metadata": {
        "id": "zwzYog8T974k"
      },
      "execution_count": 41,
      "outputs": []
    },
    {
      "cell_type": "code",
      "source": [
        "for index, query in tqdm(init_maps.iterrows()):\n",
        "  ref_row = find_in_ref(ref_table, query.JF, query.level)\n",
        "  d_index=index\n",
        "\n",
        "  try:\n",
        "    ref_index = ref_row.index[0]\n",
        "  except:\n",
        "    continue\n",
        "\n",
        "  # check if comp falls in that range\n",
        "  comp = query['TFP']/1000\n",
        "  final_index = -1\n",
        "  if compare_range_ref(ref_table, comp, ref_index)==0:\n",
        "    #print(\"Exact match found at \", ref_index)\n",
        "    final_index = ref_index\n",
        "  elif compare_range_ref(ref_table, comp, ref_index )==-1:\n",
        "    #print(\"Exact match found before ref_index, at \", ref_index -1)\n",
        "    if ref_table.loc[ref_table.index == ref_index].Level.values[0]!='S2':\n",
        "      final_index = ref_index - 1\n",
        "    else:\n",
        "      final_index = ref_index\n",
        "  elif compare_range_ref(ref_table, comp, ref_index )==1:\n",
        "    #print(\"Exact match found after index at \", ref_index + 1)\n",
        "    if ref_table.loc[ref_table.index == ref_index].Level.values[0] =='E2':\n",
        "      final_index = ref_index\n",
        "    elif ref_table.loc[ref_table.index == ref_index].Level.values[0] =='I7':\n",
        "      final_index = ref_index+8\n",
        "    else:\n",
        "      final_index = ref_index+1\n",
        "\n",
        "  if final_index != -1 :\n",
        "    final_level = ref_table.loc[ref_table.index == final_index].Level.values[0]\n",
        "    reassigned_maps.at[d_index, 'level'] = final_level\n"
      ],
      "metadata": {
        "id": "HhG6BOhfzCwd",
        "outputId": "94bc64a2-cb93-4dca-db52-ff5c229acfeb",
        "colab": {
          "base_uri": "https://localhost:8080/",
          "height": 49,
          "referenced_widgets": [
            "d3233197386545178af451909271ba39",
            "6c511ee0917b4a6689d9f693bf69c09b",
            "ff9c129ffadc49f49148c14f5f898595",
            "6baca2e03bba4fce9a90d56c10e52c23",
            "42f38b11775046dcb74d194bf3ac5d43",
            "ece2482b1d794bb5947a49b88f3510a2",
            "e641c5c0c6d24f49b52836faffbfcbe1",
            "2fc9bd8c5f3e462b9fd6fa1ba68cb152",
            "f5bd93f338614c8fa425c4bd5896d472",
            "1952a7d01380477abeebb3061da173e0",
            "537b6b52f98747b1b94b533cf31ec031"
          ]
        }
      },
      "execution_count": 42,
      "outputs": [
        {
          "output_type": "display_data",
          "data": {
            "text/plain": [
              "0it [00:00, ?it/s]"
            ],
            "application/vnd.jupyter.widget-view+json": {
              "version_major": 2,
              "version_minor": 0,
              "model_id": "d3233197386545178af451909271ba39"
            }
          },
          "metadata": {}
        }
      ]
    },
    {
      "cell_type": "code",
      "source": [
        "pd.DataFrame(reassigned_maps).to_csv('reassigned maps.csv')"
      ],
      "metadata": {
        "id": "E0CdXFbX02Gi"
      },
      "execution_count": 43,
      "outputs": []
    }
  ]
}