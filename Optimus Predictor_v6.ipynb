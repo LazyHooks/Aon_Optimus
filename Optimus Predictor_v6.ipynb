{
  "nbformat": 4,
  "nbformat_minor": 0,
  "metadata": {
    "colab": {
      "provenance": [],
      "include_colab_link": true
    },
    "kernelspec": {
      "name": "python3",
      "display_name": "Python 3"
    },
    "language_info": {
      "name": "python"
    },
    "widgets": {
      "application/vnd.jupyter.widget-state+json": {
        "b3b5018ec7d6461a8384ecfd09a04161": {
          "model_module": "@jupyter-widgets/controls",
          "model_name": "HBoxModel",
          "model_module_version": "1.5.0",
          "state": {
            "_dom_classes": [],
            "_model_module": "@jupyter-widgets/controls",
            "_model_module_version": "1.5.0",
            "_model_name": "HBoxModel",
            "_view_count": null,
            "_view_module": "@jupyter-widgets/controls",
            "_view_module_version": "1.5.0",
            "_view_name": "HBoxView",
            "box_style": "",
            "children": [
              "IPY_MODEL_24539a45d72f484abb68db47e3332cfd",
              "IPY_MODEL_fbf9416642bc4d32bb738a050afc358d",
              "IPY_MODEL_5a659b9d52a74882884faa5a91c49293"
            ],
            "layout": "IPY_MODEL_e74d5a3dbb8c451cb114aa2d3558318f"
          }
        },
        "24539a45d72f484abb68db47e3332cfd": {
          "model_module": "@jupyter-widgets/controls",
          "model_name": "HTMLModel",
          "model_module_version": "1.5.0",
          "state": {
            "_dom_classes": [],
            "_model_module": "@jupyter-widgets/controls",
            "_model_module_version": "1.5.0",
            "_model_name": "HTMLModel",
            "_view_count": null,
            "_view_module": "@jupyter-widgets/controls",
            "_view_module_version": "1.5.0",
            "_view_name": "HTMLView",
            "description": "",
            "description_tooltip": null,
            "layout": "IPY_MODEL_e82c4c7c3a9a4a9d99a9217f2f548fec",
            "placeholder": "​",
            "style": "IPY_MODEL_87b55137c3564fa4824729faf6d442ce",
            "value": ""
          }
        },
        "fbf9416642bc4d32bb738a050afc358d": {
          "model_module": "@jupyter-widgets/controls",
          "model_name": "FloatProgressModel",
          "model_module_version": "1.5.0",
          "state": {
            "_dom_classes": [],
            "_model_module": "@jupyter-widgets/controls",
            "_model_module_version": "1.5.0",
            "_model_name": "FloatProgressModel",
            "_view_count": null,
            "_view_module": "@jupyter-widgets/controls",
            "_view_module_version": "1.5.0",
            "_view_name": "ProgressView",
            "bar_style": "success",
            "description": "",
            "description_tooltip": null,
            "layout": "IPY_MODEL_0e9dcc6ee6cc4e5a8c3f03c1f537e0e0",
            "max": 1,
            "min": 0,
            "orientation": "horizontal",
            "style": "IPY_MODEL_0e60dc2aff6646c2b51a439e964f5988",
            "value": 1
          }
        },
        "5a659b9d52a74882884faa5a91c49293": {
          "model_module": "@jupyter-widgets/controls",
          "model_name": "HTMLModel",
          "model_module_version": "1.5.0",
          "state": {
            "_dom_classes": [],
            "_model_module": "@jupyter-widgets/controls",
            "_model_module_version": "1.5.0",
            "_model_name": "HTMLModel",
            "_view_count": null,
            "_view_module": "@jupyter-widgets/controls",
            "_view_module_version": "1.5.0",
            "_view_name": "HTMLView",
            "description": "",
            "description_tooltip": null,
            "layout": "IPY_MODEL_9a521eb6d62b490c8654321281409805",
            "placeholder": "​",
            "style": "IPY_MODEL_c7337d47945a4aa598670e5e631019be",
            "value": " 27644/? [00:37&lt;00:00, 849.81it/s]"
          }
        },
        "e74d5a3dbb8c451cb114aa2d3558318f": {
          "model_module": "@jupyter-widgets/base",
          "model_name": "LayoutModel",
          "model_module_version": "1.2.0",
          "state": {
            "_model_module": "@jupyter-widgets/base",
            "_model_module_version": "1.2.0",
            "_model_name": "LayoutModel",
            "_view_count": null,
            "_view_module": "@jupyter-widgets/base",
            "_view_module_version": "1.2.0",
            "_view_name": "LayoutView",
            "align_content": null,
            "align_items": null,
            "align_self": null,
            "border": null,
            "bottom": null,
            "display": null,
            "flex": null,
            "flex_flow": null,
            "grid_area": null,
            "grid_auto_columns": null,
            "grid_auto_flow": null,
            "grid_auto_rows": null,
            "grid_column": null,
            "grid_gap": null,
            "grid_row": null,
            "grid_template_areas": null,
            "grid_template_columns": null,
            "grid_template_rows": null,
            "height": null,
            "justify_content": null,
            "justify_items": null,
            "left": null,
            "margin": null,
            "max_height": null,
            "max_width": null,
            "min_height": null,
            "min_width": null,
            "object_fit": null,
            "object_position": null,
            "order": null,
            "overflow": null,
            "overflow_x": null,
            "overflow_y": null,
            "padding": null,
            "right": null,
            "top": null,
            "visibility": null,
            "width": null
          }
        },
        "e82c4c7c3a9a4a9d99a9217f2f548fec": {
          "model_module": "@jupyter-widgets/base",
          "model_name": "LayoutModel",
          "model_module_version": "1.2.0",
          "state": {
            "_model_module": "@jupyter-widgets/base",
            "_model_module_version": "1.2.0",
            "_model_name": "LayoutModel",
            "_view_count": null,
            "_view_module": "@jupyter-widgets/base",
            "_view_module_version": "1.2.0",
            "_view_name": "LayoutView",
            "align_content": null,
            "align_items": null,
            "align_self": null,
            "border": null,
            "bottom": null,
            "display": null,
            "flex": null,
            "flex_flow": null,
            "grid_area": null,
            "grid_auto_columns": null,
            "grid_auto_flow": null,
            "grid_auto_rows": null,
            "grid_column": null,
            "grid_gap": null,
            "grid_row": null,
            "grid_template_areas": null,
            "grid_template_columns": null,
            "grid_template_rows": null,
            "height": null,
            "justify_content": null,
            "justify_items": null,
            "left": null,
            "margin": null,
            "max_height": null,
            "max_width": null,
            "min_height": null,
            "min_width": null,
            "object_fit": null,
            "object_position": null,
            "order": null,
            "overflow": null,
            "overflow_x": null,
            "overflow_y": null,
            "padding": null,
            "right": null,
            "top": null,
            "visibility": null,
            "width": null
          }
        },
        "87b55137c3564fa4824729faf6d442ce": {
          "model_module": "@jupyter-widgets/controls",
          "model_name": "DescriptionStyleModel",
          "model_module_version": "1.5.0",
          "state": {
            "_model_module": "@jupyter-widgets/controls",
            "_model_module_version": "1.5.0",
            "_model_name": "DescriptionStyleModel",
            "_view_count": null,
            "_view_module": "@jupyter-widgets/base",
            "_view_module_version": "1.2.0",
            "_view_name": "StyleView",
            "description_width": ""
          }
        },
        "0e9dcc6ee6cc4e5a8c3f03c1f537e0e0": {
          "model_module": "@jupyter-widgets/base",
          "model_name": "LayoutModel",
          "model_module_version": "1.2.0",
          "state": {
            "_model_module": "@jupyter-widgets/base",
            "_model_module_version": "1.2.0",
            "_model_name": "LayoutModel",
            "_view_count": null,
            "_view_module": "@jupyter-widgets/base",
            "_view_module_version": "1.2.0",
            "_view_name": "LayoutView",
            "align_content": null,
            "align_items": null,
            "align_self": null,
            "border": null,
            "bottom": null,
            "display": null,
            "flex": null,
            "flex_flow": null,
            "grid_area": null,
            "grid_auto_columns": null,
            "grid_auto_flow": null,
            "grid_auto_rows": null,
            "grid_column": null,
            "grid_gap": null,
            "grid_row": null,
            "grid_template_areas": null,
            "grid_template_columns": null,
            "grid_template_rows": null,
            "height": null,
            "justify_content": null,
            "justify_items": null,
            "left": null,
            "margin": null,
            "max_height": null,
            "max_width": null,
            "min_height": null,
            "min_width": null,
            "object_fit": null,
            "object_position": null,
            "order": null,
            "overflow": null,
            "overflow_x": null,
            "overflow_y": null,
            "padding": null,
            "right": null,
            "top": null,
            "visibility": null,
            "width": "20px"
          }
        },
        "0e60dc2aff6646c2b51a439e964f5988": {
          "model_module": "@jupyter-widgets/controls",
          "model_name": "ProgressStyleModel",
          "model_module_version": "1.5.0",
          "state": {
            "_model_module": "@jupyter-widgets/controls",
            "_model_module_version": "1.5.0",
            "_model_name": "ProgressStyleModel",
            "_view_count": null,
            "_view_module": "@jupyter-widgets/base",
            "_view_module_version": "1.2.0",
            "_view_name": "StyleView",
            "bar_color": null,
            "description_width": ""
          }
        },
        "9a521eb6d62b490c8654321281409805": {
          "model_module": "@jupyter-widgets/base",
          "model_name": "LayoutModel",
          "model_module_version": "1.2.0",
          "state": {
            "_model_module": "@jupyter-widgets/base",
            "_model_module_version": "1.2.0",
            "_model_name": "LayoutModel",
            "_view_count": null,
            "_view_module": "@jupyter-widgets/base",
            "_view_module_version": "1.2.0",
            "_view_name": "LayoutView",
            "align_content": null,
            "align_items": null,
            "align_self": null,
            "border": null,
            "bottom": null,
            "display": null,
            "flex": null,
            "flex_flow": null,
            "grid_area": null,
            "grid_auto_columns": null,
            "grid_auto_flow": null,
            "grid_auto_rows": null,
            "grid_column": null,
            "grid_gap": null,
            "grid_row": null,
            "grid_template_areas": null,
            "grid_template_columns": null,
            "grid_template_rows": null,
            "height": null,
            "justify_content": null,
            "justify_items": null,
            "left": null,
            "margin": null,
            "max_height": null,
            "max_width": null,
            "min_height": null,
            "min_width": null,
            "object_fit": null,
            "object_position": null,
            "order": null,
            "overflow": null,
            "overflow_x": null,
            "overflow_y": null,
            "padding": null,
            "right": null,
            "top": null,
            "visibility": null,
            "width": null
          }
        },
        "c7337d47945a4aa598670e5e631019be": {
          "model_module": "@jupyter-widgets/controls",
          "model_name": "DescriptionStyleModel",
          "model_module_version": "1.5.0",
          "state": {
            "_model_module": "@jupyter-widgets/controls",
            "_model_module_version": "1.5.0",
            "_model_name": "DescriptionStyleModel",
            "_view_count": null,
            "_view_module": "@jupyter-widgets/base",
            "_view_module_version": "1.2.0",
            "_view_name": "StyleView",
            "description_width": ""
          }
        }
      }
    }
  },
  "cells": [
    {
      "cell_type": "markdown",
      "metadata": {
        "id": "view-in-github",
        "colab_type": "text"
      },
      "source": [
        "<a href=\"https://colab.research.google.com/github/LazyHooks/Optimus/blob/main/Optimus%20Predictor_v6.ipynb\" target=\"_parent\"><img src=\"https://colab.research.google.com/assets/colab-badge.svg\" alt=\"Open In Colab\"/></a>"
      ]
    },
    {
      "cell_type": "code",
      "source": [
        "import pandas as pd"
      ],
      "metadata": {
        "id": "qnHLNOlup9EC"
      },
      "execution_count": 18,
      "outputs": []
    },
    {
      "cell_type": "code",
      "source": [
        "df = pd.read_csv('Train.csv')\n",
        "df.shape"
      ],
      "metadata": {
        "id": "A8i1ht13p_jE",
        "outputId": "f78df204-b663-49d4-c9c8-1bad9fc02726",
        "colab": {
          "base_uri": "https://localhost:8080/"
        }
      },
      "execution_count": 19,
      "outputs": [
        {
          "output_type": "execute_result",
          "data": {
            "text/plain": [
              "(160797, 6)"
            ]
          },
          "metadata": {},
          "execution_count": 19
        }
      ]
    },
    {
      "cell_type": "code",
      "source": [
        "df_test = pd.read_csv('test1.csv')\n",
        "df_test.head()"
      ],
      "metadata": {
        "id": "g8-zz11mqB8b",
        "outputId": "6eed7e4d-def0-481c-be3c-caffd6295968",
        "colab": {
          "base_uri": "https://localhost:8080/",
          "height": 354
        }
      },
      "execution_count": 20,
      "outputs": [
        {
          "output_type": "execute_result",
          "data": {
            "text/plain": [
              "                      Company Name                       Co. Designation  \\\n",
              "0  Wells Fargo Hi Tech & ITES 2022  Senior Information Security Engineer   \n",
              "1  Wells Fargo Hi Tech & ITES 2022     Senior Investment Risk Specialist   \n",
              "2  Wells Fargo Hi Tech & ITES 2022              Senior Software Engineer   \n",
              "3  Wells Fargo Hi Tech & ITES 2022        Senior Infrastructure Engineer   \n",
              "4  Wells Fargo Hi Tech & ITES 2022              Senior Software Engineer   \n",
              "\n",
              "            Co. Function Job Family Code Level      TFP  \n",
              "0      Technology & Data            SYXX    I4  2100037  \n",
              "1  Governance & Controls            RIER    I3  2080500  \n",
              "2      Technology & Data            ASXX    I4  1743788  \n",
              "3      Technology & Data            INSS    I4  2071378  \n",
              "4      Technology & Data            ASXX    I4  3253143  "
            ],
            "text/html": [
              "\n",
              "\n",
              "  <div id=\"df-9ecd2668-fa6d-493f-a56a-c178f61f6660\">\n",
              "    <div class=\"colab-df-container\">\n",
              "      <div>\n",
              "<style scoped>\n",
              "    .dataframe tbody tr th:only-of-type {\n",
              "        vertical-align: middle;\n",
              "    }\n",
              "\n",
              "    .dataframe tbody tr th {\n",
              "        vertical-align: top;\n",
              "    }\n",
              "\n",
              "    .dataframe thead th {\n",
              "        text-align: right;\n",
              "    }\n",
              "</style>\n",
              "<table border=\"1\" class=\"dataframe\">\n",
              "  <thead>\n",
              "    <tr style=\"text-align: right;\">\n",
              "      <th></th>\n",
              "      <th>Company Name</th>\n",
              "      <th>Co. Designation</th>\n",
              "      <th>Co. Function</th>\n",
              "      <th>Job Family Code</th>\n",
              "      <th>Level</th>\n",
              "      <th>TFP</th>\n",
              "    </tr>\n",
              "  </thead>\n",
              "  <tbody>\n",
              "    <tr>\n",
              "      <th>0</th>\n",
              "      <td>Wells Fargo Hi Tech &amp; ITES 2022</td>\n",
              "      <td>Senior Information Security Engineer</td>\n",
              "      <td>Technology &amp; Data</td>\n",
              "      <td>SYXX</td>\n",
              "      <td>I4</td>\n",
              "      <td>2100037</td>\n",
              "    </tr>\n",
              "    <tr>\n",
              "      <th>1</th>\n",
              "      <td>Wells Fargo Hi Tech &amp; ITES 2022</td>\n",
              "      <td>Senior Investment Risk Specialist</td>\n",
              "      <td>Governance &amp; Controls</td>\n",
              "      <td>RIER</td>\n",
              "      <td>I3</td>\n",
              "      <td>2080500</td>\n",
              "    </tr>\n",
              "    <tr>\n",
              "      <th>2</th>\n",
              "      <td>Wells Fargo Hi Tech &amp; ITES 2022</td>\n",
              "      <td>Senior Software Engineer</td>\n",
              "      <td>Technology &amp; Data</td>\n",
              "      <td>ASXX</td>\n",
              "      <td>I4</td>\n",
              "      <td>1743788</td>\n",
              "    </tr>\n",
              "    <tr>\n",
              "      <th>3</th>\n",
              "      <td>Wells Fargo Hi Tech &amp; ITES 2022</td>\n",
              "      <td>Senior Infrastructure Engineer</td>\n",
              "      <td>Technology &amp; Data</td>\n",
              "      <td>INSS</td>\n",
              "      <td>I4</td>\n",
              "      <td>2071378</td>\n",
              "    </tr>\n",
              "    <tr>\n",
              "      <th>4</th>\n",
              "      <td>Wells Fargo Hi Tech &amp; ITES 2022</td>\n",
              "      <td>Senior Software Engineer</td>\n",
              "      <td>Technology &amp; Data</td>\n",
              "      <td>ASXX</td>\n",
              "      <td>I4</td>\n",
              "      <td>3253143</td>\n",
              "    </tr>\n",
              "  </tbody>\n",
              "</table>\n",
              "</div>\n",
              "      <button class=\"colab-df-convert\" onclick=\"convertToInteractive('df-9ecd2668-fa6d-493f-a56a-c178f61f6660')\"\n",
              "              title=\"Convert this dataframe to an interactive table.\"\n",
              "              style=\"display:none;\">\n",
              "\n",
              "  <svg xmlns=\"http://www.w3.org/2000/svg\" height=\"24px\"viewBox=\"0 0 24 24\"\n",
              "       width=\"24px\">\n",
              "    <path d=\"M0 0h24v24H0V0z\" fill=\"none\"/>\n",
              "    <path d=\"M18.56 5.44l.94 2.06.94-2.06 2.06-.94-2.06-.94-.94-2.06-.94 2.06-2.06.94zm-11 1L8.5 8.5l.94-2.06 2.06-.94-2.06-.94L8.5 2.5l-.94 2.06-2.06.94zm10 10l.94 2.06.94-2.06 2.06-.94-2.06-.94-.94-2.06-.94 2.06-2.06.94z\"/><path d=\"M17.41 7.96l-1.37-1.37c-.4-.4-.92-.59-1.43-.59-.52 0-1.04.2-1.43.59L10.3 9.45l-7.72 7.72c-.78.78-.78 2.05 0 2.83L4 21.41c.39.39.9.59 1.41.59.51 0 1.02-.2 1.41-.59l7.78-7.78 2.81-2.81c.8-.78.8-2.07 0-2.86zM5.41 20L4 18.59l7.72-7.72 1.47 1.35L5.41 20z\"/>\n",
              "  </svg>\n",
              "      </button>\n",
              "\n",
              "\n",
              "\n",
              "    <div id=\"df-c21503ab-6f2c-4935-a3eb-2789513d1af3\">\n",
              "      <button class=\"colab-df-quickchart\" onclick=\"quickchart('df-c21503ab-6f2c-4935-a3eb-2789513d1af3')\"\n",
              "              title=\"Suggest charts.\"\n",
              "              style=\"display:none;\">\n",
              "\n",
              "<svg xmlns=\"http://www.w3.org/2000/svg\" height=\"24px\"viewBox=\"0 0 24 24\"\n",
              "     width=\"24px\">\n",
              "    <g>\n",
              "        <path d=\"M19 3H5c-1.1 0-2 .9-2 2v14c0 1.1.9 2 2 2h14c1.1 0 2-.9 2-2V5c0-1.1-.9-2-2-2zM9 17H7v-7h2v7zm4 0h-2V7h2v10zm4 0h-2v-4h2v4z\"/>\n",
              "    </g>\n",
              "</svg>\n",
              "      </button>\n",
              "    </div>\n",
              "\n",
              "<style>\n",
              "  .colab-df-quickchart {\n",
              "    background-color: #E8F0FE;\n",
              "    border: none;\n",
              "    border-radius: 50%;\n",
              "    cursor: pointer;\n",
              "    display: none;\n",
              "    fill: #1967D2;\n",
              "    height: 32px;\n",
              "    padding: 0 0 0 0;\n",
              "    width: 32px;\n",
              "  }\n",
              "\n",
              "  .colab-df-quickchart:hover {\n",
              "    background-color: #E2EBFA;\n",
              "    box-shadow: 0px 1px 2px rgba(60, 64, 67, 0.3), 0px 1px 3px 1px rgba(60, 64, 67, 0.15);\n",
              "    fill: #174EA6;\n",
              "  }\n",
              "\n",
              "  [theme=dark] .colab-df-quickchart {\n",
              "    background-color: #3B4455;\n",
              "    fill: #D2E3FC;\n",
              "  }\n",
              "\n",
              "  [theme=dark] .colab-df-quickchart:hover {\n",
              "    background-color: #434B5C;\n",
              "    box-shadow: 0px 1px 3px 1px rgba(0, 0, 0, 0.15);\n",
              "    filter: drop-shadow(0px 1px 2px rgba(0, 0, 0, 0.3));\n",
              "    fill: #FFFFFF;\n",
              "  }\n",
              "</style>\n",
              "\n",
              "    <script>\n",
              "      async function quickchart(key) {\n",
              "        const containerElement = document.querySelector('#' + key);\n",
              "        const charts = await google.colab.kernel.invokeFunction(\n",
              "            'suggestCharts', [key], {});\n",
              "      }\n",
              "    </script>\n",
              "\n",
              "      <script>\n",
              "\n",
              "function displayQuickchartButton(domScope) {\n",
              "  let quickchartButtonEl =\n",
              "    domScope.querySelector('#df-c21503ab-6f2c-4935-a3eb-2789513d1af3 button.colab-df-quickchart');\n",
              "  quickchartButtonEl.style.display =\n",
              "    google.colab.kernel.accessAllowed ? 'block' : 'none';\n",
              "}\n",
              "\n",
              "        displayQuickchartButton(document);\n",
              "      </script>\n",
              "      <style>\n",
              "    .colab-df-container {\n",
              "      display:flex;\n",
              "      flex-wrap:wrap;\n",
              "      gap: 12px;\n",
              "    }\n",
              "\n",
              "    .colab-df-convert {\n",
              "      background-color: #E8F0FE;\n",
              "      border: none;\n",
              "      border-radius: 50%;\n",
              "      cursor: pointer;\n",
              "      display: none;\n",
              "      fill: #1967D2;\n",
              "      height: 32px;\n",
              "      padding: 0 0 0 0;\n",
              "      width: 32px;\n",
              "    }\n",
              "\n",
              "    .colab-df-convert:hover {\n",
              "      background-color: #E2EBFA;\n",
              "      box-shadow: 0px 1px 2px rgba(60, 64, 67, 0.3), 0px 1px 3px 1px rgba(60, 64, 67, 0.15);\n",
              "      fill: #174EA6;\n",
              "    }\n",
              "\n",
              "    [theme=dark] .colab-df-convert {\n",
              "      background-color: #3B4455;\n",
              "      fill: #D2E3FC;\n",
              "    }\n",
              "\n",
              "    [theme=dark] .colab-df-convert:hover {\n",
              "      background-color: #434B5C;\n",
              "      box-shadow: 0px 1px 3px 1px rgba(0, 0, 0, 0.15);\n",
              "      filter: drop-shadow(0px 1px 2px rgba(0, 0, 0, 0.3));\n",
              "      fill: #FFFFFF;\n",
              "    }\n",
              "  </style>\n",
              "\n",
              "      <script>\n",
              "        const buttonEl =\n",
              "          document.querySelector('#df-9ecd2668-fa6d-493f-a56a-c178f61f6660 button.colab-df-convert');\n",
              "        buttonEl.style.display =\n",
              "          google.colab.kernel.accessAllowed ? 'block' : 'none';\n",
              "\n",
              "        async function convertToInteractive(key) {\n",
              "          const element = document.querySelector('#df-9ecd2668-fa6d-493f-a56a-c178f61f6660');\n",
              "          const dataTable =\n",
              "            await google.colab.kernel.invokeFunction('convertToInteractive',\n",
              "                                                     [key], {});\n",
              "          if (!dataTable) return;\n",
              "\n",
              "          const docLinkHtml = 'Like what you see? Visit the ' +\n",
              "            '<a target=\"_blank\" href=https://colab.research.google.com/notebooks/data_table.ipynb>data table notebook</a>'\n",
              "            + ' to learn more about interactive tables.';\n",
              "          element.innerHTML = '';\n",
              "          dataTable['output_type'] = 'display_data';\n",
              "          await google.colab.output.renderOutput(dataTable, element);\n",
              "          const docLink = document.createElement('div');\n",
              "          docLink.innerHTML = docLinkHtml;\n",
              "          element.appendChild(docLink);\n",
              "        }\n",
              "      </script>\n",
              "    </div>\n",
              "  </div>\n"
            ]
          },
          "metadata": {},
          "execution_count": 20
        }
      ]
    },
    {
      "cell_type": "code",
      "source": [
        "df.shape\n",
        "#set(df['Company Name'])"
      ],
      "metadata": {
        "id": "WUT3QAtFqFAk",
        "outputId": "db79726a-3ee6-49a6-a021-6acd6cf82df1",
        "colab": {
          "base_uri": "https://localhost:8080/"
        }
      },
      "execution_count": 21,
      "outputs": [
        {
          "output_type": "execute_result",
          "data": {
            "text/plain": [
              "(160797, 6)"
            ]
          },
          "metadata": {},
          "execution_count": 21
        }
      ]
    },
    {
      "cell_type": "code",
      "source": [
        "df.columns"
      ],
      "metadata": {
        "id": "XgKUy_kIqISg",
        "outputId": "17e32f05-b8fb-49c5-f104-3810212e74c5",
        "colab": {
          "base_uri": "https://localhost:8080/"
        }
      },
      "execution_count": 22,
      "outputs": [
        {
          "output_type": "execute_result",
          "data": {
            "text/plain": [
              "Index(['Company Name', 'Co. Designation', 'Co. Function', 'Job Family Code',\n",
              "       'Level', 'TFP'],\n",
              "      dtype='object')"
            ]
          },
          "metadata": {},
          "execution_count": 22
        }
      ]
    },
    {
      "cell_type": "code",
      "source": [
        "train_cols = ['Co. Designation', 'Co. Function']"
      ],
      "metadata": {
        "id": "snqs9UFrqK1M"
      },
      "execution_count": 23,
      "outputs": []
    },
    {
      "cell_type": "code",
      "source": [
        "target_col = 'Job Family Code'\n",
        "target_col_2='Level'"
      ],
      "metadata": {
        "id": "Q7EVYCfFqLPP"
      },
      "execution_count": 24,
      "outputs": []
    },
    {
      "cell_type": "code",
      "source": [
        "all_cols = ['Co. Designation', 'Co. Function', 'Job Family Code','Level']\n",
        "univ_cols= ['Co. Designation', 'Co. Function', 'Job Family Code','Level','TFP']"
      ],
      "metadata": {
        "id": "BnXOkzyFqMzP"
      },
      "execution_count": 25,
      "outputs": []
    },
    {
      "cell_type": "code",
      "source": [
        "import pandas as pd\n",
        "from scipy.sparse import hstack\n",
        "from sklearn.feature_extraction.text import TfidfVectorizer\n",
        "from sklearn.linear_model import LogisticRegression\n",
        "from sklearn.metrics import accuracy_score, classification_report\n",
        "from sklearn.model_selection import train_test_split"
      ],
      "metadata": {
        "id": "qtC88Zw9qPj5"
      },
      "execution_count": 26,
      "outputs": []
    },
    {
      "cell_type": "code",
      "source": [
        "# Load data\n",
        "data = pd.read_csv('Train.csv')"
      ],
      "metadata": {
        "id": "1Ut2p3HnqQtf"
      },
      "execution_count": 27,
      "outputs": []
    },
    {
      "cell_type": "code",
      "source": [
        "df_test.head()"
      ],
      "metadata": {
        "id": "ZXQTHb6UqSTq",
        "outputId": "6bb3ea08-ccd5-426b-f5fd-2ee9a1e12d09",
        "colab": {
          "base_uri": "https://localhost:8080/",
          "height": 354
        }
      },
      "execution_count": 28,
      "outputs": [
        {
          "output_type": "execute_result",
          "data": {
            "text/plain": [
              "                      Company Name                       Co. Designation  \\\n",
              "0  Wells Fargo Hi Tech & ITES 2022  Senior Information Security Engineer   \n",
              "1  Wells Fargo Hi Tech & ITES 2022     Senior Investment Risk Specialist   \n",
              "2  Wells Fargo Hi Tech & ITES 2022              Senior Software Engineer   \n",
              "3  Wells Fargo Hi Tech & ITES 2022        Senior Infrastructure Engineer   \n",
              "4  Wells Fargo Hi Tech & ITES 2022              Senior Software Engineer   \n",
              "\n",
              "            Co. Function Job Family Code Level      TFP  \n",
              "0      Technology & Data            SYXX    I4  2100037  \n",
              "1  Governance & Controls            RIER    I3  2080500  \n",
              "2      Technology & Data            ASXX    I4  1743788  \n",
              "3      Technology & Data            INSS    I4  2071378  \n",
              "4      Technology & Data            ASXX    I4  3253143  "
            ],
            "text/html": [
              "\n",
              "\n",
              "  <div id=\"df-32b671b5-49c4-44d2-a66f-6a985dbfc05b\">\n",
              "    <div class=\"colab-df-container\">\n",
              "      <div>\n",
              "<style scoped>\n",
              "    .dataframe tbody tr th:only-of-type {\n",
              "        vertical-align: middle;\n",
              "    }\n",
              "\n",
              "    .dataframe tbody tr th {\n",
              "        vertical-align: top;\n",
              "    }\n",
              "\n",
              "    .dataframe thead th {\n",
              "        text-align: right;\n",
              "    }\n",
              "</style>\n",
              "<table border=\"1\" class=\"dataframe\">\n",
              "  <thead>\n",
              "    <tr style=\"text-align: right;\">\n",
              "      <th></th>\n",
              "      <th>Company Name</th>\n",
              "      <th>Co. Designation</th>\n",
              "      <th>Co. Function</th>\n",
              "      <th>Job Family Code</th>\n",
              "      <th>Level</th>\n",
              "      <th>TFP</th>\n",
              "    </tr>\n",
              "  </thead>\n",
              "  <tbody>\n",
              "    <tr>\n",
              "      <th>0</th>\n",
              "      <td>Wells Fargo Hi Tech &amp; ITES 2022</td>\n",
              "      <td>Senior Information Security Engineer</td>\n",
              "      <td>Technology &amp; Data</td>\n",
              "      <td>SYXX</td>\n",
              "      <td>I4</td>\n",
              "      <td>2100037</td>\n",
              "    </tr>\n",
              "    <tr>\n",
              "      <th>1</th>\n",
              "      <td>Wells Fargo Hi Tech &amp; ITES 2022</td>\n",
              "      <td>Senior Investment Risk Specialist</td>\n",
              "      <td>Governance &amp; Controls</td>\n",
              "      <td>RIER</td>\n",
              "      <td>I3</td>\n",
              "      <td>2080500</td>\n",
              "    </tr>\n",
              "    <tr>\n",
              "      <th>2</th>\n",
              "      <td>Wells Fargo Hi Tech &amp; ITES 2022</td>\n",
              "      <td>Senior Software Engineer</td>\n",
              "      <td>Technology &amp; Data</td>\n",
              "      <td>ASXX</td>\n",
              "      <td>I4</td>\n",
              "      <td>1743788</td>\n",
              "    </tr>\n",
              "    <tr>\n",
              "      <th>3</th>\n",
              "      <td>Wells Fargo Hi Tech &amp; ITES 2022</td>\n",
              "      <td>Senior Infrastructure Engineer</td>\n",
              "      <td>Technology &amp; Data</td>\n",
              "      <td>INSS</td>\n",
              "      <td>I4</td>\n",
              "      <td>2071378</td>\n",
              "    </tr>\n",
              "    <tr>\n",
              "      <th>4</th>\n",
              "      <td>Wells Fargo Hi Tech &amp; ITES 2022</td>\n",
              "      <td>Senior Software Engineer</td>\n",
              "      <td>Technology &amp; Data</td>\n",
              "      <td>ASXX</td>\n",
              "      <td>I4</td>\n",
              "      <td>3253143</td>\n",
              "    </tr>\n",
              "  </tbody>\n",
              "</table>\n",
              "</div>\n",
              "      <button class=\"colab-df-convert\" onclick=\"convertToInteractive('df-32b671b5-49c4-44d2-a66f-6a985dbfc05b')\"\n",
              "              title=\"Convert this dataframe to an interactive table.\"\n",
              "              style=\"display:none;\">\n",
              "\n",
              "  <svg xmlns=\"http://www.w3.org/2000/svg\" height=\"24px\"viewBox=\"0 0 24 24\"\n",
              "       width=\"24px\">\n",
              "    <path d=\"M0 0h24v24H0V0z\" fill=\"none\"/>\n",
              "    <path d=\"M18.56 5.44l.94 2.06.94-2.06 2.06-.94-2.06-.94-.94-2.06-.94 2.06-2.06.94zm-11 1L8.5 8.5l.94-2.06 2.06-.94-2.06-.94L8.5 2.5l-.94 2.06-2.06.94zm10 10l.94 2.06.94-2.06 2.06-.94-2.06-.94-.94-2.06-.94 2.06-2.06.94z\"/><path d=\"M17.41 7.96l-1.37-1.37c-.4-.4-.92-.59-1.43-.59-.52 0-1.04.2-1.43.59L10.3 9.45l-7.72 7.72c-.78.78-.78 2.05 0 2.83L4 21.41c.39.39.9.59 1.41.59.51 0 1.02-.2 1.41-.59l7.78-7.78 2.81-2.81c.8-.78.8-2.07 0-2.86zM5.41 20L4 18.59l7.72-7.72 1.47 1.35L5.41 20z\"/>\n",
              "  </svg>\n",
              "      </button>\n",
              "\n",
              "\n",
              "\n",
              "    <div id=\"df-7327063f-3861-46af-a9a7-c74335d7a2d9\">\n",
              "      <button class=\"colab-df-quickchart\" onclick=\"quickchart('df-7327063f-3861-46af-a9a7-c74335d7a2d9')\"\n",
              "              title=\"Suggest charts.\"\n",
              "              style=\"display:none;\">\n",
              "\n",
              "<svg xmlns=\"http://www.w3.org/2000/svg\" height=\"24px\"viewBox=\"0 0 24 24\"\n",
              "     width=\"24px\">\n",
              "    <g>\n",
              "        <path d=\"M19 3H5c-1.1 0-2 .9-2 2v14c0 1.1.9 2 2 2h14c1.1 0 2-.9 2-2V5c0-1.1-.9-2-2-2zM9 17H7v-7h2v7zm4 0h-2V7h2v10zm4 0h-2v-4h2v4z\"/>\n",
              "    </g>\n",
              "</svg>\n",
              "      </button>\n",
              "    </div>\n",
              "\n",
              "<style>\n",
              "  .colab-df-quickchart {\n",
              "    background-color: #E8F0FE;\n",
              "    border: none;\n",
              "    border-radius: 50%;\n",
              "    cursor: pointer;\n",
              "    display: none;\n",
              "    fill: #1967D2;\n",
              "    height: 32px;\n",
              "    padding: 0 0 0 0;\n",
              "    width: 32px;\n",
              "  }\n",
              "\n",
              "  .colab-df-quickchart:hover {\n",
              "    background-color: #E2EBFA;\n",
              "    box-shadow: 0px 1px 2px rgba(60, 64, 67, 0.3), 0px 1px 3px 1px rgba(60, 64, 67, 0.15);\n",
              "    fill: #174EA6;\n",
              "  }\n",
              "\n",
              "  [theme=dark] .colab-df-quickchart {\n",
              "    background-color: #3B4455;\n",
              "    fill: #D2E3FC;\n",
              "  }\n",
              "\n",
              "  [theme=dark] .colab-df-quickchart:hover {\n",
              "    background-color: #434B5C;\n",
              "    box-shadow: 0px 1px 3px 1px rgba(0, 0, 0, 0.15);\n",
              "    filter: drop-shadow(0px 1px 2px rgba(0, 0, 0, 0.3));\n",
              "    fill: #FFFFFF;\n",
              "  }\n",
              "</style>\n",
              "\n",
              "    <script>\n",
              "      async function quickchart(key) {\n",
              "        const containerElement = document.querySelector('#' + key);\n",
              "        const charts = await google.colab.kernel.invokeFunction(\n",
              "            'suggestCharts', [key], {});\n",
              "      }\n",
              "    </script>\n",
              "\n",
              "      <script>\n",
              "\n",
              "function displayQuickchartButton(domScope) {\n",
              "  let quickchartButtonEl =\n",
              "    domScope.querySelector('#df-7327063f-3861-46af-a9a7-c74335d7a2d9 button.colab-df-quickchart');\n",
              "  quickchartButtonEl.style.display =\n",
              "    google.colab.kernel.accessAllowed ? 'block' : 'none';\n",
              "}\n",
              "\n",
              "        displayQuickchartButton(document);\n",
              "      </script>\n",
              "      <style>\n",
              "    .colab-df-container {\n",
              "      display:flex;\n",
              "      flex-wrap:wrap;\n",
              "      gap: 12px;\n",
              "    }\n",
              "\n",
              "    .colab-df-convert {\n",
              "      background-color: #E8F0FE;\n",
              "      border: none;\n",
              "      border-radius: 50%;\n",
              "      cursor: pointer;\n",
              "      display: none;\n",
              "      fill: #1967D2;\n",
              "      height: 32px;\n",
              "      padding: 0 0 0 0;\n",
              "      width: 32px;\n",
              "    }\n",
              "\n",
              "    .colab-df-convert:hover {\n",
              "      background-color: #E2EBFA;\n",
              "      box-shadow: 0px 1px 2px rgba(60, 64, 67, 0.3), 0px 1px 3px 1px rgba(60, 64, 67, 0.15);\n",
              "      fill: #174EA6;\n",
              "    }\n",
              "\n",
              "    [theme=dark] .colab-df-convert {\n",
              "      background-color: #3B4455;\n",
              "      fill: #D2E3FC;\n",
              "    }\n",
              "\n",
              "    [theme=dark] .colab-df-convert:hover {\n",
              "      background-color: #434B5C;\n",
              "      box-shadow: 0px 1px 3px 1px rgba(0, 0, 0, 0.15);\n",
              "      filter: drop-shadow(0px 1px 2px rgba(0, 0, 0, 0.3));\n",
              "      fill: #FFFFFF;\n",
              "    }\n",
              "  </style>\n",
              "\n",
              "      <script>\n",
              "        const buttonEl =\n",
              "          document.querySelector('#df-32b671b5-49c4-44d2-a66f-6a985dbfc05b button.colab-df-convert');\n",
              "        buttonEl.style.display =\n",
              "          google.colab.kernel.accessAllowed ? 'block' : 'none';\n",
              "\n",
              "        async function convertToInteractive(key) {\n",
              "          const element = document.querySelector('#df-32b671b5-49c4-44d2-a66f-6a985dbfc05b');\n",
              "          const dataTable =\n",
              "            await google.colab.kernel.invokeFunction('convertToInteractive',\n",
              "                                                     [key], {});\n",
              "          if (!dataTable) return;\n",
              "\n",
              "          const docLinkHtml = 'Like what you see? Visit the ' +\n",
              "            '<a target=\"_blank\" href=https://colab.research.google.com/notebooks/data_table.ipynb>data table notebook</a>'\n",
              "            + ' to learn more about interactive tables.';\n",
              "          element.innerHTML = '';\n",
              "          dataTable['output_type'] = 'display_data';\n",
              "          await google.colab.output.renderOutput(dataTable, element);\n",
              "          const docLink = document.createElement('div');\n",
              "          docLink.innerHTML = docLinkHtml;\n",
              "          element.appendChild(docLink);\n",
              "        }\n",
              "      </script>\n",
              "    </div>\n",
              "  </div>\n"
            ]
          },
          "metadata": {},
          "execution_count": 28
        }
      ]
    },
    {
      "cell_type": "code",
      "source": [
        "\n",
        "data = data[all_cols]\n",
        "data = data.dropna()"
      ],
      "metadata": {
        "id": "677jgG6vqUER"
      },
      "execution_count": 29,
      "outputs": []
    },
    {
      "cell_type": "code",
      "source": [
        "df_test_2=df_test\n",
        "df_test_2=df_test[univ_cols]\n",
        "\n",
        "df_test = df_test[all_cols]\n",
        "df_test = df_test.dropna()\n",
        "df_test_2 = df_test_2.dropna()"
      ],
      "metadata": {
        "id": "Lw2QDppCqVk0"
      },
      "execution_count": 30,
      "outputs": []
    },
    {
      "cell_type": "code",
      "source": [
        "#data.head()"
      ],
      "metadata": {
        "id": "XWwhj-PCqW1M"
      },
      "execution_count": 31,
      "outputs": []
    },
    {
      "cell_type": "code",
      "source": [
        "#df_test.head()"
      ],
      "metadata": {
        "id": "Q_uADMLNqYpW"
      },
      "execution_count": 32,
      "outputs": []
    },
    {
      "cell_type": "markdown",
      "source": [
        "JF"
      ],
      "metadata": {
        "id": "_UlVoosAD-It"
      }
    },
    {
      "cell_type": "code",
      "source": [
        "# Extract features from each text column using TF-IDF vectorizer\n",
        "vectorizers = []\n",
        "X_train_list = []\n",
        "X_test_list = []\n",
        "for col in train_cols:\n",
        "    vectorizer = TfidfVectorizer(max_features=10000)\n",
        "    X_train_col = vectorizer.fit_transform(data.loc[:, col])\n",
        "    X_train_list.append(X_train_col)\n",
        "    X_test_col = vectorizer.transform(data.loc[:, col])\n",
        "    X_test_list.append(X_test_col)\n",
        "    vectorizers.append(vectorizer)"
      ],
      "metadata": {
        "id": "INmGmNpcqarC"
      },
      "execution_count": 33,
      "outputs": []
    },
    {
      "cell_type": "markdown",
      "source": [
        "Level"
      ],
      "metadata": {
        "id": "ftnxt4mXD_Nz"
      }
    },
    {
      "cell_type": "code",
      "source": [
        "vectorizers_2 = []\n",
        "X_train_list_2 = []\n",
        "X_test_list_2 = []\n",
        "for col in train_cols:\n",
        "    vectorizer = TfidfVectorizer(max_features=10000)\n",
        "    X_train_col = vectorizer.fit_transform(data.loc[:, col])\n",
        "    X_train_list_2.append(X_train_col)\n",
        "    X_test_col = vectorizer.transform(data.loc[:, col])\n",
        "    X_test_list_2.append(X_test_col)\n",
        "    vectorizers_2.append(vectorizer)\n",
        "\n",
        "jfcol='Job Family Code'\n",
        "vectorizer = TfidfVectorizer(max_features=10000)\n",
        "X_train_col = vectorizer.fit_transform(data.loc[:, jfcol])\n",
        "X_train_list_2.append(X_train_col)\n",
        "X_test_col = vectorizer.transform(data.loc[:, jfcol])\n",
        "X_test_list_2.append(X_test_col)\n",
        "vectorizers_2.append(vectorizer)\n"
      ],
      "metadata": {
        "id": "Qnp9DBKiD9eS"
      },
      "execution_count": 34,
      "outputs": []
    },
    {
      "cell_type": "markdown",
      "source": [
        "JF"
      ],
      "metadata": {
        "id": "rymDy7YTESw5"
      }
    },
    {
      "cell_type": "code",
      "source": [
        "# Concatenate sparse matrices into a single feature matrix\n",
        "X_train = hstack(X_train_list)\n",
        "X_test = hstack(X_test_list)\n",
        "\n",
        "# Split data into training and testing sets\n",
        "y_train = data[target_col]\n",
        "#y_test = df_test[target_col]\n",
        "\n",
        "X_train, X_test, y_train, y_test = train_test_split(X_train, y_train, test_size=0.2, random_state=42)"
      ],
      "metadata": {
        "id": "b2nmh3_nqcsI"
      },
      "execution_count": 35,
      "outputs": []
    },
    {
      "cell_type": "markdown",
      "source": [
        "Level"
      ],
      "metadata": {
        "id": "jsqt4A1TETsL"
      }
    },
    {
      "cell_type": "code",
      "source": [
        "# Concatenate sparse matrices into a single feature matrix\n",
        "X_train_2 = hstack(X_train_list_2)\n",
        "X_test_2 = hstack(X_test_list_2)\n",
        "\n",
        "# Split data into training and testing sets\n",
        "y_train_2 = data[target_col_2]\n",
        "#y_test = df_test[target_col]\n",
        "\n",
        "X_train_2, X_test_2, y_train_2, y_test_2 = train_test_split(X_train_2, y_train_2, test_size=0.2, random_state=42)\n"
      ],
      "metadata": {
        "id": "JmDTcbOeEU9t"
      },
      "execution_count": 36,
      "outputs": []
    },
    {
      "cell_type": "markdown",
      "source": [
        "JF"
      ],
      "metadata": {
        "id": "eoMDb8e8EoCP"
      }
    },
    {
      "cell_type": "code",
      "source": [
        "# Train logistic regression model\n",
        "model = LogisticRegression()\n",
        "model.fit(X_train, y_train)\n",
        "\n",
        "# Predict on test set and evaluate performance\n",
        "y_pred = model.predict(X_test)\n",
        "print('Accuracy:', accuracy_score(y_test, y_pred))\n",
        "print('Classification Report:\\n', classification_report(y_test, y_pred))"
      ],
      "metadata": {
        "id": "oKeT0fuVqe2-",
        "outputId": "9ed1b034-923f-4f52-e426-a60722ed693b",
        "colab": {
          "base_uri": "https://localhost:8080/"
        }
      },
      "execution_count": 37,
      "outputs": [
        {
          "output_type": "stream",
          "name": "stderr",
          "text": [
            "/usr/local/lib/python3.10/dist-packages/sklearn/linear_model/_logistic.py:458: ConvergenceWarning: lbfgs failed to converge (status=1):\n",
            "STOP: TOTAL NO. of ITERATIONS REACHED LIMIT.\n",
            "\n",
            "Increase the number of iterations (max_iter) or scale the data as shown in:\n",
            "    https://scikit-learn.org/stable/modules/preprocessing.html\n",
            "Please also refer to the documentation for alternative solver options:\n",
            "    https://scikit-learn.org/stable/modules/linear_model.html#logistic-regression\n",
            "  n_iter_i = _check_optimize_result(\n"
          ]
        },
        {
          "output_type": "stream",
          "name": "stdout",
          "text": [
            "Accuracy: 0.8553793532338309\n"
          ]
        },
        {
          "output_type": "stream",
          "name": "stderr",
          "text": [
            "/usr/local/lib/python3.10/dist-packages/sklearn/metrics/_classification.py:1344: UndefinedMetricWarning: Precision and F-score are ill-defined and being set to 0.0 in labels with no predicted samples. Use `zero_division` parameter to control this behavior.\n",
            "  _warn_prf(average, modifier, msg_start, len(result))\n",
            "/usr/local/lib/python3.10/dist-packages/sklearn/metrics/_classification.py:1344: UndefinedMetricWarning: Precision and F-score are ill-defined and being set to 0.0 in labels with no predicted samples. Use `zero_division` parameter to control this behavior.\n",
            "  _warn_prf(average, modifier, msg_start, len(result))\n"
          ]
        },
        {
          "output_type": "stream",
          "name": "stdout",
          "text": [
            "Classification Report:\n",
            "               precision    recall  f1-score   support\n",
            "\n",
            "        AADS       0.89      0.86      0.88        78\n",
            "        AAMD       0.81      0.76      0.78       131\n",
            "        AFAD       0.85      0.64      0.73        36\n",
            "        AFFE       0.95      0.91      0.93        22\n",
            "        AFSE       0.81      0.76      0.79        17\n",
            "        AFXX       0.40      0.29      0.33         7\n",
            "        ARIA       0.97      0.57      0.71        53\n",
            "        ARMD       0.00      0.00      0.00         1\n",
            "        ARRP       0.00      0.00      0.00         8\n",
            "        ARSY       0.00      0.00      0.00         6\n",
            "        ARXX       0.86      0.87      0.87       167\n",
            "        ASCD       0.75      0.25      0.38        36\n",
            "        ASDB       1.00      0.50      0.67        66\n",
            "        ASEC       0.50      0.17      0.25         6\n",
            "        ASFS       0.89      0.58      0.70       506\n",
            "        ASMD       0.00      0.00      0.00        19\n",
            "        ASPI       1.00      0.18      0.30        57\n",
            "        ASRP       0.84      0.46      0.60        56\n",
            "        ASSI       0.17      0.02      0.03        56\n",
            "        ASUI       0.90      0.74      0.81        58\n",
            "        ASXX       0.84      0.98      0.91      6243\n",
            "        BCPM       1.00      0.22      0.36         9\n",
            "        BFAC       0.95      0.92      0.93        59\n",
            "        BFAM       0.75      0.48      0.58       253\n",
            "        BFCA       0.98      0.97      0.97       259\n",
            "        BFCB       0.96      0.90      0.93      1019\n",
            "        BFCM       0.72      0.82      0.77      1054\n",
            "        BFFU       0.46      0.94      0.62       370\n",
            "        BFIS       0.00      0.00      0.00         1\n",
            "        BFKY       0.85      0.77      0.81       504\n",
            "        BFLP       1.00      1.00      1.00        17\n",
            "        BFPC       0.18      0.08      0.11       203\n",
            "        BFTF       0.97      0.71      0.82       262\n",
            "        BFTO       0.86      0.93      0.89      1148\n",
            "        BFUW       0.73      0.70      0.72        47\n",
            "        BFWB       0.34      0.54      0.41       109\n",
            "        BSMT       0.79      0.68      0.73       112\n",
            "        CCCE       0.86      1.00      0.92         6\n",
            "        CCCO       1.00      0.60      0.75         5\n",
            "        CCCV       0.00      0.00      0.00         1\n",
            "        CCCW       0.00      0.00      0.00        30\n",
            "        CCMD       0.97      0.99      0.98       174\n",
            "        CCMI       0.62      0.97      0.76       128\n",
            "        CCVD       0.82      0.28      0.41       218\n",
            "        CCVI       1.00      1.00      1.00       501\n",
            "        CMDO       0.75      0.36      0.48        76\n",
            "        CMDS       0.00      0.00      0.00         2\n",
            "        CMXX       0.93      0.89      0.91        46\n",
            "        CSBC       0.77      0.75      0.76       125\n",
            "        CSCG       0.00      0.00      0.00         1\n",
            "        CSCS       1.00      0.20      0.33        10\n",
            "        CSED       0.00      0.00      0.00         1\n",
            "        CSEL       0.60      0.50      0.55         6\n",
            "        CSFC       0.90      0.88      0.89       618\n",
            "        CSPS       0.00      0.00      0.00         7\n",
            "        CSSI       0.96      0.91      0.93       142\n",
            "        DABD       0.59      0.21      0.31        80\n",
            "        DABI       0.90      0.88      0.89       549\n",
            "        DADV       1.00      0.12      0.22        16\n",
            "        DADW       0.83      0.32      0.46        91\n",
            "        DMDA       0.78      0.42      0.55        66\n",
            "        DMKM       0.00      0.00      0.00         2\n",
            "        DMMD       0.00      0.00      0.00         9\n",
            "        DMSM       0.96      0.40      0.56       118\n",
            "        EDXX       0.67      1.00      0.80         2\n",
            "        FAAG       0.91      0.39      0.55        74\n",
            "        FAAP       0.90      0.62      0.74        45\n",
            "        FAAU       0.00      0.00      0.00         4\n",
            "        FADS       0.00      0.00      0.00         1\n",
            "        FAER       0.90      0.23      0.37       115\n",
            "        FAFA       0.79      0.58      0.67       248\n",
            "        FAFI       0.99      0.98      0.98       339\n",
            "        FALC       0.50      0.84      0.62       164\n",
            "        FAML       0.89      0.76      0.82       121\n",
            "        FAPC       0.00      0.00      0.00         1\n",
            "        FARR       0.87      0.35      0.50        37\n",
            "        FASR       1.00      0.23      0.38        13\n",
            "        FATA       1.00      0.68      0.81        25\n",
            "        FATP       0.00      0.00      0.00         7\n",
            "        FLAC       0.97      0.97      0.97       207\n",
            "        FLCS       1.00      0.50      0.67         2\n",
            "        FLFA       0.95      0.88      0.91        24\n",
            "        FLLE       0.88      0.75      0.81        20\n",
            "        FLMI       0.78      0.90      0.84        20\n",
            "        FLPP       0.87      0.94      0.90        35\n",
            "        FLPR       0.55      0.75      0.63         8\n",
            "        FLTR       0.95      0.67      0.78        57\n",
            "        FLTX       0.93      0.96      0.95        27\n",
            "        FLXX       0.88      0.95      0.92       298\n",
            "        GDXX       0.89      0.73      0.80        11\n",
            "        HCCA       1.00      0.64      0.78        22\n",
            "        HCMR       0.93      0.81      0.87        16\n",
            "        HRBP       0.74      0.81      0.77        67\n",
            "        HRCB       0.83      0.67      0.74        15\n",
            "        HRDI       0.00      0.00      0.00         4\n",
            "        HRGM       0.00      0.00      0.00         5\n",
            "        HROD       0.80      0.44      0.57        18\n",
            "        HRRE       0.66      0.85      0.74        86\n",
            "        HRSS       0.75      0.27      0.40        11\n",
            "        HRTR       0.81      0.78      0.79        32\n",
            "        HRXX       1.00      0.29      0.45        17\n",
            "        HSGL       0.45      0.51      0.48        39\n",
            "        HSPL       0.80      0.53      0.64        15\n",
            "        HSRS       1.00      0.43      0.60         7\n",
            "        INAU       0.82      0.91      0.86        70\n",
            "        INCL       0.80      0.44      0.57         9\n",
            "        INDB       0.89      0.88      0.88       220\n",
            "        INDC       1.00      0.25      0.40         4\n",
            "        INDS       0.78      0.61      0.68       109\n",
            "        INFS       0.00      0.00      0.00        16\n",
            "        INNE       0.99      0.88      0.93       169\n",
            "        INRA       0.92      0.90      0.91       363\n",
            "        INRE       0.85      0.92      0.88        12\n",
            "        INRI       1.00      0.98      0.99       613\n",
            "        INRP       0.40      0.18      0.25        11\n",
            "        INSA       1.00      0.28      0.43        18\n",
            "        INSS       0.76      0.94      0.84       239\n",
            "        INTI       1.00      0.89      0.94         9\n",
            "        INXX       0.86      0.88      0.87       485\n",
            "        ITAU       0.00      0.00      0.00         8\n",
            "        LECO       0.65      0.85      0.74       204\n",
            "        LEPO       0.67      0.17      0.27        12\n",
            "        LERE       1.00      0.50      0.67         4\n",
            "        MBCC       0.93      0.74      0.82        19\n",
            "        MBCM       1.00      0.14      0.25         7\n",
            "        MBDM       0.89      0.67      0.76        12\n",
            "        MBXX       0.50      0.85      0.63        13\n",
            "        PDFS       0.00      0.00      0.00        15\n",
            "        PDPM       0.83      0.79      0.81       124\n",
            "        PDXX       0.98      0.90      0.94      1580\n",
            "        PRAG       0.76      0.79      0.77       128\n",
            "        PRPO       0.88      0.88      0.88       334\n",
            "        PRXX       0.79      0.72      0.75       427\n",
            "        QAXX       0.00      0.00      0.00        10\n",
            "        QUTF       0.77      0.73      0.75        79\n",
            "        QUTS       0.95      0.99      0.97       215\n",
            "        RABA       0.83      0.80      0.81       375\n",
            "        RABF       0.82      0.94      0.87       110\n",
            "        RAPR       0.50      0.75      0.60         4\n",
            "        RARA       0.92      0.72      0.81       287\n",
            "        RASR       1.00      0.88      0.94        42\n",
            "        RAVA       0.90      0.90      0.90        81\n",
            "        RICR       0.68      0.78      0.73       101\n",
            "        RIER       0.92      0.44      0.59        50\n",
            "        RIMR       0.32      0.45      0.38        86\n",
            "        RIOR       0.94      0.91      0.92       402\n",
            "        RSSC       1.00      1.00      1.00         7\n",
            "        RSVM       1.00      0.26      0.42        19\n",
            "        RSWL       0.00      0.00      0.00         1\n",
            "        SAAC       0.88      0.92      0.90        24\n",
            "        SABD       0.93      0.76      0.84        37\n",
            "        SACS       1.00      0.67      0.80         6\n",
            "        SAPS       0.60      0.50      0.55         6\n",
            "        SASD       0.73      0.79      0.76        28\n",
            "        SAXX       0.85      0.85      0.85        41\n",
            "        SCCP       1.00      0.96      0.98        46\n",
            "        SSSO       0.88      0.88      0.88        33\n",
            "        SYAS       0.86      0.38      0.52        16\n",
            "        SYGR       1.00      0.44      0.62        36\n",
            "        SYIM       0.91      0.81      0.86        85\n",
            "        SYIN       1.00      0.81      0.89        26\n",
            "        SYIS       0.74      0.82      0.78        38\n",
            "        SYPT       0.00      0.00      0.00         3\n",
            "        SYXX       0.92      0.83      0.87       365\n",
            "        TEAU       0.93      0.92      0.93      1090\n",
            "        TEMT       0.93      0.78      0.85        55\n",
            "        TEXX       0.98      0.96      0.97       576\n",
            "        TOCO       0.89      0.91      0.90       856\n",
            "        TOFC       0.95      0.93      0.94      1482\n",
            "        TOFS       0.87      0.83      0.85        93\n",
            "        TOHR       0.00      0.00      0.00         1\n",
            "        TOMR       0.89      0.56      0.69        43\n",
            "        TOPO       0.71      0.62      0.67        40\n",
            "        TOSI       0.77      0.97      0.86       818\n",
            "        TRPR       0.80      0.42      0.55        19\n",
            "        TRTN       0.00      0.00      0.00         1\n",
            "        TTXX       0.00      0.00      0.00         2\n",
            "        TWXX       0.94      0.76      0.84        45\n",
            "        UEXX       0.95      0.87      0.91        23\n",
            "        Unma       0.99      0.99      0.99       752\n",
            "        VATR       0.00      0.00      0.00         1\n",
            "        aads       0.00      0.00      0.00         1\n",
            "        aamd       0.00      0.00      0.00         1\n",
            "        bfam       0.00      0.00      0.00         3\n",
            "        bffu       0.00      0.00      0.00         1\n",
            "        dmda       0.00      0.00      0.00         2\n",
            "        edxx       1.00      0.57      0.73         7\n",
            "        hrdi       0.00      0.00      0.00         2\n",
            "        leco       0.00      0.00      0.00         1\n",
            "        mbxx       0.00      0.00      0.00         1\n",
            "        pdxx       0.00      0.00      0.00         4\n",
            "        rabf       1.00      1.00      1.00         2\n",
            "        teau       0.00      0.00      0.00         3\n",
            "\n",
            "    accuracy                           0.86     32160\n",
            "   macro avg       0.67      0.55      0.58     32160\n",
            "weighted avg       0.86      0.86      0.85     32160\n",
            "\n"
          ]
        },
        {
          "output_type": "stream",
          "name": "stderr",
          "text": [
            "/usr/local/lib/python3.10/dist-packages/sklearn/metrics/_classification.py:1344: UndefinedMetricWarning: Precision and F-score are ill-defined and being set to 0.0 in labels with no predicted samples. Use `zero_division` parameter to control this behavior.\n",
            "  _warn_prf(average, modifier, msg_start, len(result))\n"
          ]
        }
      ]
    },
    {
      "cell_type": "markdown",
      "source": [
        "Level"
      ],
      "metadata": {
        "id": "speJir44Esd9"
      }
    },
    {
      "cell_type": "code",
      "source": [
        "# Train logistic regression model\n",
        "model_2 = LogisticRegression()\n",
        "model_2.fit(X_train_2, y_train_2)\n",
        "\n",
        "# Predict on test set and evaluate performance\n",
        "y_pred_2 = model_2.predict(X_test_2)\n",
        "print('Accuracy:', accuracy_score(y_test_2, y_pred_2))\n",
        "print('Classification Report:\\n', classification_report(y_test_2, y_pred_2))"
      ],
      "metadata": {
        "id": "g3VrW4jvEtUm",
        "colab": {
          "base_uri": "https://localhost:8080/"
        },
        "outputId": "fa534393-89f2-4caa-b536-af10cf8f2347"
      },
      "execution_count": 38,
      "outputs": [
        {
          "output_type": "stream",
          "name": "stderr",
          "text": [
            "/usr/local/lib/python3.10/dist-packages/sklearn/linear_model/_logistic.py:458: ConvergenceWarning: lbfgs failed to converge (status=1):\n",
            "STOP: TOTAL NO. of ITERATIONS REACHED LIMIT.\n",
            "\n",
            "Increase the number of iterations (max_iter) or scale the data as shown in:\n",
            "    https://scikit-learn.org/stable/modules/preprocessing.html\n",
            "Please also refer to the documentation for alternative solver options:\n",
            "    https://scikit-learn.org/stable/modules/linear_model.html#logistic-regression\n",
            "  n_iter_i = _check_optimize_result(\n"
          ]
        },
        {
          "output_type": "stream",
          "name": "stdout",
          "text": [
            "Accuracy: 0.7387748756218906\n"
          ]
        },
        {
          "output_type": "stream",
          "name": "stderr",
          "text": [
            "/usr/local/lib/python3.10/dist-packages/sklearn/metrics/_classification.py:1344: UndefinedMetricWarning: Precision and F-score are ill-defined and being set to 0.0 in labels with no predicted samples. Use `zero_division` parameter to control this behavior.\n",
            "  _warn_prf(average, modifier, msg_start, len(result))\n",
            "/usr/local/lib/python3.10/dist-packages/sklearn/metrics/_classification.py:1344: UndefinedMetricWarning: Precision and F-score are ill-defined and being set to 0.0 in labels with no predicted samples. Use `zero_division` parameter to control this behavior.\n",
            "  _warn_prf(average, modifier, msg_start, len(result))\n"
          ]
        },
        {
          "output_type": "stream",
          "name": "stdout",
          "text": [
            "Classification Report:\n",
            "               precision    recall  f1-score   support\n",
            "\n",
            "           1       1.00      1.00      1.00         6\n",
            "           2       0.53      0.47      0.50        55\n",
            "           3       0.43      0.33      0.38        69\n",
            "           4       0.53      0.60      0.56        40\n",
            "           5       0.62      0.59      0.60        22\n",
            "           6       1.00      0.25      0.40         4\n",
            "           7       0.00      0.00      0.00         5\n",
            "          E1       0.86      0.16      0.27        76\n",
            "          E2       0.42      0.56      0.48         9\n",
            "          I0       0.00      0.00      0.00         5\n",
            "          I1       0.69      0.85      0.76      4500\n",
            "          I2       0.66      0.63      0.65      3814\n",
            "          I3       0.69      0.52      0.59      3274\n",
            "          I4       0.78      0.90      0.83      6628\n",
            "          I5       0.73      0.68      0.71      1585\n",
            "          I6       0.70      0.14      0.23       237\n",
            "          I7       0.42      0.36      0.38        14\n",
            "          M2       0.79      0.84      0.81       262\n",
            "          M3       0.63      0.51      0.57      1089\n",
            "          M4       0.58      0.68      0.63      1233\n",
            "          M5       0.64      0.61      0.62      1438\n",
            "          M6       0.70      0.48      0.57       505\n",
            "          M7       0.68      0.38      0.49       394\n",
            "          S1       0.69      0.58      0.63       146\n",
            "          S2       0.88      0.91      0.90      2358\n",
            "          S3       0.82      0.69      0.75      2540\n",
            "          ed       1.00      1.00      1.00       753\n",
            "          ow       0.95      0.91      0.93      1099\n",
            "\n",
            "    accuracy                           0.74     32160\n",
            "   macro avg       0.66      0.56      0.58     32160\n",
            "weighted avg       0.74      0.74      0.73     32160\n",
            "\n"
          ]
        },
        {
          "output_type": "stream",
          "name": "stderr",
          "text": [
            "/usr/local/lib/python3.10/dist-packages/sklearn/metrics/_classification.py:1344: UndefinedMetricWarning: Precision and F-score are ill-defined and being set to 0.0 in labels with no predicted samples. Use `zero_division` parameter to control this behavior.\n",
            "  _warn_prf(average, modifier, msg_start, len(result))\n"
          ]
        }
      ]
    },
    {
      "cell_type": "markdown",
      "source": [
        "Unseen JF"
      ],
      "metadata": {
        "id": "Uw3a2C6MFFps"
      }
    },
    {
      "cell_type": "code",
      "source": [
        "X_test_unseen = []\n",
        "\n",
        "for i, col in enumerate(train_cols):\n",
        "    vectorizer = vectorizers[i]\n",
        "    X_test_col = vectorizer.transform(df_test.loc[:, col])\n",
        "    X_test_unseen.append(X_test_col)\n",
        "\n",
        "X_unseen = hstack(X_test_unseen)"
      ],
      "metadata": {
        "id": "NQZToaZCqgw9"
      },
      "execution_count": 39,
      "outputs": []
    },
    {
      "cell_type": "markdown",
      "source": [
        "JF"
      ],
      "metadata": {
        "id": "p7G0-yLwG1Om"
      }
    },
    {
      "cell_type": "code",
      "source": [
        "y_test_pred = model.predict (X_unseen)"
      ],
      "metadata": {
        "id": "YHDH2Tm-qinj"
      },
      "execution_count": 40,
      "outputs": []
    },
    {
      "cell_type": "markdown",
      "source": [
        "Unseen Level + Pred JF"
      ],
      "metadata": {
        "id": "ouGxrZbu9AB8"
      }
    },
    {
      "cell_type": "code",
      "source": [
        "X_test_unseen_2 = []\n",
        "z=0\n",
        "for i, col in enumerate(train_cols):\n",
        "    vectorizer = vectorizers_2[i]\n",
        "    X_test_col_2 = vectorizer.transform(df_test.loc[:, col])\n",
        "    X_test_unseen_2.append(X_test_col_2)\n",
        "    z=i\n",
        "\n",
        "vectorizer = vectorizers_2[z+1]\n",
        "X_test_col_2 = vectorizer.transform(df_test.loc[:, jfcol])\n",
        "X_test_unseen_2.append(X_test_col_2)\n",
        "\n",
        "X_unseen_2 = hstack(X_test_unseen_2)\n"
      ],
      "metadata": {
        "id": "2InaNFw39De7"
      },
      "execution_count": 41,
      "outputs": []
    },
    {
      "cell_type": "markdown",
      "source": [
        "Level"
      ],
      "metadata": {
        "id": "70r5Xbw5G2en"
      }
    },
    {
      "cell_type": "code",
      "source": [
        "y_test_pred_2 = model_2.predict (X_unseen_2)"
      ],
      "metadata": {
        "id": "0XWYp9w4G4M2"
      },
      "execution_count": 42,
      "outputs": []
    },
    {
      "cell_type": "code",
      "source": [
        "pd.DataFrame(y_test_pred).to_csv('JF_x.csv')\n",
        "pd.DataFrame(y_test_pred_2).to_csv('Lvl_x.csv')\n",
        "frames=[pd.DataFrame(y_test_pred),pd.DataFrame(y_test_pred_2)]\n",
        "maps=pd.concat(frames, axis=1)\n",
        "pd.DataFrame(maps).to_csv('maps_x.csv')"
      ],
      "metadata": {
        "id": "GFo__iaGqkq3"
      },
      "execution_count": 43,
      "outputs": []
    },
    {
      "cell_type": "markdown",
      "source": [
        "JF"
      ],
      "metadata": {
        "id": "ReL5_jziHi-X"
      }
    },
    {
      "cell_type": "code",
      "source": [
        "# Predict on test set and evaluate performance\n",
        "y_test_actual=df_test[target_col]\n",
        "print('Accuracy:', accuracy_score(y_test_actual, y_test_pred))\n",
        "print('Classification Report:\\n', classification_report(y_test_actual, y_test_pred))"
      ],
      "metadata": {
        "id": "gKDeyzgiSrDX",
        "outputId": "73002028-e25c-49d8-e1dd-2a90ff0186f1",
        "colab": {
          "base_uri": "https://localhost:8080/"
        }
      },
      "execution_count": 44,
      "outputs": [
        {
          "output_type": "stream",
          "name": "stdout",
          "text": [
            "Accuracy: 0.970337143683982\n"
          ]
        },
        {
          "output_type": "stream",
          "name": "stderr",
          "text": [
            "/usr/local/lib/python3.10/dist-packages/sklearn/metrics/_classification.py:1344: UndefinedMetricWarning: Precision and F-score are ill-defined and being set to 0.0 in labels with no predicted samples. Use `zero_division` parameter to control this behavior.\n",
            "  _warn_prf(average, modifier, msg_start, len(result))\n",
            "/usr/local/lib/python3.10/dist-packages/sklearn/metrics/_classification.py:1344: UndefinedMetricWarning: Recall and F-score are ill-defined and being set to 0.0 in labels with no true samples. Use `zero_division` parameter to control this behavior.\n",
            "  _warn_prf(average, modifier, msg_start, len(result))\n",
            "/usr/local/lib/python3.10/dist-packages/sklearn/metrics/_classification.py:1344: UndefinedMetricWarning: Precision and F-score are ill-defined and being set to 0.0 in labels with no predicted samples. Use `zero_division` parameter to control this behavior.\n",
            "  _warn_prf(average, modifier, msg_start, len(result))\n",
            "/usr/local/lib/python3.10/dist-packages/sklearn/metrics/_classification.py:1344: UndefinedMetricWarning: Recall and F-score are ill-defined and being set to 0.0 in labels with no true samples. Use `zero_division` parameter to control this behavior.\n",
            "  _warn_prf(average, modifier, msg_start, len(result))\n"
          ]
        },
        {
          "output_type": "stream",
          "name": "stdout",
          "text": [
            "Classification Report:\n",
            "               precision    recall  f1-score   support\n",
            "\n",
            "        AAMD       0.00      0.00      0.00         0\n",
            "        AFFE       0.81      1.00      0.89        17\n",
            "        AFSE       1.00      1.00      1.00        19\n",
            "        AFXX       0.77      0.71      0.74        14\n",
            "        ARXX       1.00      1.00      1.00        31\n",
            "        ASUI       0.95      1.00      0.98        21\n",
            "        ASXX       0.93      1.00      0.96      7590\n",
            "        BFAM       1.00      1.00      1.00        14\n",
            "        BFCA       1.00      1.00      1.00       367\n",
            "        BFCB       1.00      1.00      1.00      2793\n",
            "        BFCM       1.00      0.99      0.99        88\n",
            "        BFKY       1.00      1.00      1.00       443\n",
            "        BFLP       1.00      1.00      1.00        94\n",
            "        BFTF       1.00      1.00      1.00       233\n",
            "        BFTO       1.00      1.00      1.00       698\n",
            "        BFUW       1.00      1.00      1.00        16\n",
            "        BSMT       1.00      1.00      1.00        26\n",
            "        CSFC       1.00      1.00      1.00       559\n",
            "        DABI       0.99      1.00      1.00       318\n",
            "        FAER       1.00      1.00      1.00        24\n",
            "        FAFA       1.00      1.00      1.00       249\n",
            "        FAFI       1.00      1.00      1.00      1538\n",
            "        FLAC       1.00      1.00      1.00       343\n",
            "        FLFA       1.00      1.00      1.00        70\n",
            "        FLLE       0.70      1.00      0.82         7\n",
            "        FLPR       0.00      0.00      0.00         0\n",
            "        FLTR       1.00      1.00      1.00        98\n",
            "        HRBP       0.94      1.00      0.97        34\n",
            "        HRCB       1.00      1.00      1.00         6\n",
            "        HRDI       0.00      0.00      0.00         4\n",
            "        HROD       0.00      0.00      0.00         1\n",
            "        HRRE       0.97      0.88      0.92        76\n",
            "        HRTR       0.40      0.86      0.55         7\n",
            "        HRXX       0.00      0.00      0.00         3\n",
            "        HSPL       0.00      0.00      0.00         1\n",
            "        INAU       1.00      1.00      1.00        40\n",
            "        INDB       1.00      1.00      1.00       268\n",
            "        INNE       1.00      1.00      1.00       116\n",
            "        INRA       0.96      1.00      0.98       408\n",
            "        INRI       1.00      0.99      0.99      1908\n",
            "        INSS       1.00      1.00      1.00       229\n",
            "        LECO       1.00      1.00      1.00       103\n",
            "        MBCC       1.00      1.00      1.00        19\n",
            "        MBXX       0.00      0.00      0.00         0\n",
            "        No M       0.00      0.00      0.00       763\n",
            "        PDPM       1.00      1.00      1.00       151\n",
            "        PRAG       1.00      1.00      1.00       263\n",
            "        PRPO       1.00      1.00      1.00       834\n",
            "        PRXX       0.99      1.00      1.00       435\n",
            "        QUTF       0.97      1.00      0.98        95\n",
            "        QUTS       1.00      1.00      1.00       649\n",
            "        RABA       1.00      1.00      1.00       592\n",
            "        RABF       1.00      1.00      1.00       108\n",
            "        RARA       0.96      1.00      0.98       258\n",
            "        RICR       0.00      0.00      0.00        10\n",
            "        RIER       1.00      1.00      1.00        66\n",
            "        RIMR       0.00      0.00      0.00         3\n",
            "        RIOR       1.00      1.00      1.00      1101\n",
            "        RSSC       1.00      1.00      1.00        24\n",
            "        SSSO       1.00      1.00      1.00        94\n",
            "        SYXX       1.00      1.00      1.00       485\n",
            "        TEAU       1.00      1.00      1.00       194\n",
            "        TOCO       1.00      1.00      1.00        43\n",
            "        TOFC       1.00      1.00      1.00      1739\n",
            "        TOPO       0.94      1.00      0.97        30\n",
            "        TOSI       1.00      1.00      1.00       794\n",
            "        TWXX       1.00      1.00      1.00        20\n",
            "\n",
            "    accuracy                           0.97     27644\n",
            "   macro avg       0.82      0.84      0.83     27644\n",
            "weighted avg       0.95      0.97      0.96     27644\n",
            "\n"
          ]
        },
        {
          "output_type": "stream",
          "name": "stderr",
          "text": [
            "/usr/local/lib/python3.10/dist-packages/sklearn/metrics/_classification.py:1344: UndefinedMetricWarning: Precision and F-score are ill-defined and being set to 0.0 in labels with no predicted samples. Use `zero_division` parameter to control this behavior.\n",
            "  _warn_prf(average, modifier, msg_start, len(result))\n",
            "/usr/local/lib/python3.10/dist-packages/sklearn/metrics/_classification.py:1344: UndefinedMetricWarning: Recall and F-score are ill-defined and being set to 0.0 in labels with no true samples. Use `zero_division` parameter to control this behavior.\n",
            "  _warn_prf(average, modifier, msg_start, len(result))\n"
          ]
        }
      ]
    },
    {
      "cell_type": "code",
      "source": [
        "df_lvlx = pd.read_csv('maps_x.csv')"
      ],
      "metadata": {
        "id": "3F3Q17mTphUg"
      },
      "execution_count": 45,
      "outputs": []
    },
    {
      "cell_type": "markdown",
      "source": [
        "Level"
      ],
      "metadata": {
        "id": "WdQCZxtcHllh"
      }
    },
    {
      "cell_type": "code",
      "source": [
        "# Predict on test set and evaluate performance\n",
        "y_test_actual_2=df_test[target_col_2]\n",
        "print('Accuracy:', accuracy_score(y_test_actual_2, y_test_pred_2))\n",
        "print('Classification Report:\\n', classification_report(y_test_actual_2, y_test_pred_2))"
      ],
      "metadata": {
        "id": "0Dty7SHVHmtG",
        "colab": {
          "base_uri": "https://localhost:8080/"
        },
        "outputId": "d66483dc-1e25-4107-e526-61c8ccbdb064"
      },
      "execution_count": 46,
      "outputs": [
        {
          "output_type": "stream",
          "name": "stdout",
          "text": [
            "Accuracy: 0.8451381855013747\n"
          ]
        },
        {
          "output_type": "stream",
          "name": "stderr",
          "text": [
            "/usr/local/lib/python3.10/dist-packages/sklearn/metrics/_classification.py:1344: UndefinedMetricWarning: Precision and F-score are ill-defined and being set to 0.0 in labels with no predicted samples. Use `zero_division` parameter to control this behavior.\n",
            "  _warn_prf(average, modifier, msg_start, len(result))\n",
            "/usr/local/lib/python3.10/dist-packages/sklearn/metrics/_classification.py:1344: UndefinedMetricWarning: Recall and F-score are ill-defined and being set to 0.0 in labels with no true samples. Use `zero_division` parameter to control this behavior.\n",
            "  _warn_prf(average, modifier, msg_start, len(result))\n",
            "/usr/local/lib/python3.10/dist-packages/sklearn/metrics/_classification.py:1344: UndefinedMetricWarning: Precision and F-score are ill-defined and being set to 0.0 in labels with no predicted samples. Use `zero_division` parameter to control this behavior.\n",
            "  _warn_prf(average, modifier, msg_start, len(result))\n",
            "/usr/local/lib/python3.10/dist-packages/sklearn/metrics/_classification.py:1344: UndefinedMetricWarning: Recall and F-score are ill-defined and being set to 0.0 in labels with no true samples. Use `zero_division` parameter to control this behavior.\n",
            "  _warn_prf(average, modifier, msg_start, len(result))\n"
          ]
        },
        {
          "output_type": "stream",
          "name": "stdout",
          "text": [
            "Classification Report:\n",
            "               precision    recall  f1-score   support\n",
            "\n",
            "          E1       0.00      0.00      0.00        28\n",
            "          E2       0.00      0.00      0.00         0\n",
            "          I1       0.86      0.94      0.89      2661\n",
            "          I2       0.77      0.79      0.78      2051\n",
            "          I3       0.92      0.59      0.71      2761\n",
            "          I4       0.85      1.00      0.92      8767\n",
            "          I5       0.87      0.92      0.90      2685\n",
            "          I6       0.67      0.07      0.13       200\n",
            "          I7       0.45      0.26      0.33        19\n",
            "          M2       0.91      0.99      0.95       630\n",
            "          M3       0.68      0.37      0.48       313\n",
            "          M4       0.46      0.36      0.40       332\n",
            "          M5       0.65      0.93      0.77       702\n",
            "          M6       0.46      0.16      0.24       106\n",
            "          M7       0.00      0.00      0.00       104\n",
            "          S1       0.00      0.00      0.00         3\n",
            "          S2       0.90      0.94      0.92      3021\n",
            "          S3       0.87      0.81      0.84      2498\n",
            "          ch       0.00      0.00      0.00       763\n",
            "\n",
            "    accuracy                           0.85     27644\n",
            "   macro avg       0.54      0.48      0.49     27644\n",
            "weighted avg       0.82      0.85      0.82     27644\n",
            "\n"
          ]
        },
        {
          "output_type": "stream",
          "name": "stderr",
          "text": [
            "/usr/local/lib/python3.10/dist-packages/sklearn/metrics/_classification.py:1344: UndefinedMetricWarning: Precision and F-score are ill-defined and being set to 0.0 in labels with no predicted samples. Use `zero_division` parameter to control this behavior.\n",
            "  _warn_prf(average, modifier, msg_start, len(result))\n",
            "/usr/local/lib/python3.10/dist-packages/sklearn/metrics/_classification.py:1344: UndefinedMetricWarning: Recall and F-score are ill-defined and being set to 0.0 in labels with no true samples. Use `zero_division` parameter to control this behavior.\n",
            "  _warn_prf(average, modifier, msg_start, len(result))\n"
          ]
        }
      ]
    },
    {
      "cell_type": "code",
      "source": [
        "df_test_2.shape"
      ],
      "metadata": {
        "colab": {
          "base_uri": "https://localhost:8080/"
        },
        "id": "olWMiIi_sMD2",
        "outputId": "eb7d9b18-3d3d-4ad1-b817-ae158aeca324"
      },
      "execution_count": 47,
      "outputs": [
        {
          "output_type": "execute_result",
          "data": {
            "text/plain": [
              "(27644, 5)"
            ]
          },
          "metadata": {},
          "execution_count": 47
        }
      ]
    },
    {
      "cell_type": "code",
      "source": [
        "temp=df_test_2.loc[:,'TFP']\n",
        "init_maps=pd.concat([maps , temp], axis=1)\n",
        "init_maps"
      ],
      "metadata": {
        "colab": {
          "base_uri": "https://localhost:8080/",
          "height": 423
        },
        "id": "UrJNtqbep0WK",
        "outputId": "47374ae9-f4b6-4969-abd2-fb199ceac88c"
      },
      "execution_count": 48,
      "outputs": [
        {
          "output_type": "execute_result",
          "data": {
            "text/plain": [
              "          0   0      TFP\n",
              "0      SYXX  I4  2100037\n",
              "1      RIER  I3  2080500\n",
              "2      ASXX  I4  1743788\n",
              "3      INSS  I4  2071378\n",
              "4      ASXX  I4  3253143\n",
              "...     ...  ..      ...\n",
              "27639  ASXX  I5  4867135\n",
              "27640  ASXX  I5  2996000\n",
              "27641  ASXX  I5  6615000\n",
              "27642  PRPO  I4  2956480\n",
              "27643  HRBP  I4  3500001\n",
              "\n",
              "[27644 rows x 3 columns]"
            ],
            "text/html": [
              "\n",
              "\n",
              "  <div id=\"df-02af9943-1ee1-415b-8af3-f71e8fbfadec\">\n",
              "    <div class=\"colab-df-container\">\n",
              "      <div>\n",
              "<style scoped>\n",
              "    .dataframe tbody tr th:only-of-type {\n",
              "        vertical-align: middle;\n",
              "    }\n",
              "\n",
              "    .dataframe tbody tr th {\n",
              "        vertical-align: top;\n",
              "    }\n",
              "\n",
              "    .dataframe thead th {\n",
              "        text-align: right;\n",
              "    }\n",
              "</style>\n",
              "<table border=\"1\" class=\"dataframe\">\n",
              "  <thead>\n",
              "    <tr style=\"text-align: right;\">\n",
              "      <th></th>\n",
              "      <th>0</th>\n",
              "      <th>0</th>\n",
              "      <th>TFP</th>\n",
              "    </tr>\n",
              "  </thead>\n",
              "  <tbody>\n",
              "    <tr>\n",
              "      <th>0</th>\n",
              "      <td>SYXX</td>\n",
              "      <td>I4</td>\n",
              "      <td>2100037</td>\n",
              "    </tr>\n",
              "    <tr>\n",
              "      <th>1</th>\n",
              "      <td>RIER</td>\n",
              "      <td>I3</td>\n",
              "      <td>2080500</td>\n",
              "    </tr>\n",
              "    <tr>\n",
              "      <th>2</th>\n",
              "      <td>ASXX</td>\n",
              "      <td>I4</td>\n",
              "      <td>1743788</td>\n",
              "    </tr>\n",
              "    <tr>\n",
              "      <th>3</th>\n",
              "      <td>INSS</td>\n",
              "      <td>I4</td>\n",
              "      <td>2071378</td>\n",
              "    </tr>\n",
              "    <tr>\n",
              "      <th>4</th>\n",
              "      <td>ASXX</td>\n",
              "      <td>I4</td>\n",
              "      <td>3253143</td>\n",
              "    </tr>\n",
              "    <tr>\n",
              "      <th>...</th>\n",
              "      <td>...</td>\n",
              "      <td>...</td>\n",
              "      <td>...</td>\n",
              "    </tr>\n",
              "    <tr>\n",
              "      <th>27639</th>\n",
              "      <td>ASXX</td>\n",
              "      <td>I5</td>\n",
              "      <td>4867135</td>\n",
              "    </tr>\n",
              "    <tr>\n",
              "      <th>27640</th>\n",
              "      <td>ASXX</td>\n",
              "      <td>I5</td>\n",
              "      <td>2996000</td>\n",
              "    </tr>\n",
              "    <tr>\n",
              "      <th>27641</th>\n",
              "      <td>ASXX</td>\n",
              "      <td>I5</td>\n",
              "      <td>6615000</td>\n",
              "    </tr>\n",
              "    <tr>\n",
              "      <th>27642</th>\n",
              "      <td>PRPO</td>\n",
              "      <td>I4</td>\n",
              "      <td>2956480</td>\n",
              "    </tr>\n",
              "    <tr>\n",
              "      <th>27643</th>\n",
              "      <td>HRBP</td>\n",
              "      <td>I4</td>\n",
              "      <td>3500001</td>\n",
              "    </tr>\n",
              "  </tbody>\n",
              "</table>\n",
              "<p>27644 rows × 3 columns</p>\n",
              "</div>\n",
              "      <button class=\"colab-df-convert\" onclick=\"convertToInteractive('df-02af9943-1ee1-415b-8af3-f71e8fbfadec')\"\n",
              "              title=\"Convert this dataframe to an interactive table.\"\n",
              "              style=\"display:none;\">\n",
              "\n",
              "  <svg xmlns=\"http://www.w3.org/2000/svg\" height=\"24px\"viewBox=\"0 0 24 24\"\n",
              "       width=\"24px\">\n",
              "    <path d=\"M0 0h24v24H0V0z\" fill=\"none\"/>\n",
              "    <path d=\"M18.56 5.44l.94 2.06.94-2.06 2.06-.94-2.06-.94-.94-2.06-.94 2.06-2.06.94zm-11 1L8.5 8.5l.94-2.06 2.06-.94-2.06-.94L8.5 2.5l-.94 2.06-2.06.94zm10 10l.94 2.06.94-2.06 2.06-.94-2.06-.94-.94-2.06-.94 2.06-2.06.94z\"/><path d=\"M17.41 7.96l-1.37-1.37c-.4-.4-.92-.59-1.43-.59-.52 0-1.04.2-1.43.59L10.3 9.45l-7.72 7.72c-.78.78-.78 2.05 0 2.83L4 21.41c.39.39.9.59 1.41.59.51 0 1.02-.2 1.41-.59l7.78-7.78 2.81-2.81c.8-.78.8-2.07 0-2.86zM5.41 20L4 18.59l7.72-7.72 1.47 1.35L5.41 20z\"/>\n",
              "  </svg>\n",
              "      </button>\n",
              "\n",
              "\n",
              "\n",
              "    <div id=\"df-8cbc912b-0187-47ad-adf2-4aff461bff2d\">\n",
              "      <button class=\"colab-df-quickchart\" onclick=\"quickchart('df-8cbc912b-0187-47ad-adf2-4aff461bff2d')\"\n",
              "              title=\"Suggest charts.\"\n",
              "              style=\"display:none;\">\n",
              "\n",
              "<svg xmlns=\"http://www.w3.org/2000/svg\" height=\"24px\"viewBox=\"0 0 24 24\"\n",
              "     width=\"24px\">\n",
              "    <g>\n",
              "        <path d=\"M19 3H5c-1.1 0-2 .9-2 2v14c0 1.1.9 2 2 2h14c1.1 0 2-.9 2-2V5c0-1.1-.9-2-2-2zM9 17H7v-7h2v7zm4 0h-2V7h2v10zm4 0h-2v-4h2v4z\"/>\n",
              "    </g>\n",
              "</svg>\n",
              "      </button>\n",
              "    </div>\n",
              "\n",
              "<style>\n",
              "  .colab-df-quickchart {\n",
              "    background-color: #E8F0FE;\n",
              "    border: none;\n",
              "    border-radius: 50%;\n",
              "    cursor: pointer;\n",
              "    display: none;\n",
              "    fill: #1967D2;\n",
              "    height: 32px;\n",
              "    padding: 0 0 0 0;\n",
              "    width: 32px;\n",
              "  }\n",
              "\n",
              "  .colab-df-quickchart:hover {\n",
              "    background-color: #E2EBFA;\n",
              "    box-shadow: 0px 1px 2px rgba(60, 64, 67, 0.3), 0px 1px 3px 1px rgba(60, 64, 67, 0.15);\n",
              "    fill: #174EA6;\n",
              "  }\n",
              "\n",
              "  [theme=dark] .colab-df-quickchart {\n",
              "    background-color: #3B4455;\n",
              "    fill: #D2E3FC;\n",
              "  }\n",
              "\n",
              "  [theme=dark] .colab-df-quickchart:hover {\n",
              "    background-color: #434B5C;\n",
              "    box-shadow: 0px 1px 3px 1px rgba(0, 0, 0, 0.15);\n",
              "    filter: drop-shadow(0px 1px 2px rgba(0, 0, 0, 0.3));\n",
              "    fill: #FFFFFF;\n",
              "  }\n",
              "</style>\n",
              "\n",
              "    <script>\n",
              "      async function quickchart(key) {\n",
              "        const containerElement = document.querySelector('#' + key);\n",
              "        const charts = await google.colab.kernel.invokeFunction(\n",
              "            'suggestCharts', [key], {});\n",
              "      }\n",
              "    </script>\n",
              "\n",
              "      <script>\n",
              "\n",
              "function displayQuickchartButton(domScope) {\n",
              "  let quickchartButtonEl =\n",
              "    domScope.querySelector('#df-8cbc912b-0187-47ad-adf2-4aff461bff2d button.colab-df-quickchart');\n",
              "  quickchartButtonEl.style.display =\n",
              "    google.colab.kernel.accessAllowed ? 'block' : 'none';\n",
              "}\n",
              "\n",
              "        displayQuickchartButton(document);\n",
              "      </script>\n",
              "      <style>\n",
              "    .colab-df-container {\n",
              "      display:flex;\n",
              "      flex-wrap:wrap;\n",
              "      gap: 12px;\n",
              "    }\n",
              "\n",
              "    .colab-df-convert {\n",
              "      background-color: #E8F0FE;\n",
              "      border: none;\n",
              "      border-radius: 50%;\n",
              "      cursor: pointer;\n",
              "      display: none;\n",
              "      fill: #1967D2;\n",
              "      height: 32px;\n",
              "      padding: 0 0 0 0;\n",
              "      width: 32px;\n",
              "    }\n",
              "\n",
              "    .colab-df-convert:hover {\n",
              "      background-color: #E2EBFA;\n",
              "      box-shadow: 0px 1px 2px rgba(60, 64, 67, 0.3), 0px 1px 3px 1px rgba(60, 64, 67, 0.15);\n",
              "      fill: #174EA6;\n",
              "    }\n",
              "\n",
              "    [theme=dark] .colab-df-convert {\n",
              "      background-color: #3B4455;\n",
              "      fill: #D2E3FC;\n",
              "    }\n",
              "\n",
              "    [theme=dark] .colab-df-convert:hover {\n",
              "      background-color: #434B5C;\n",
              "      box-shadow: 0px 1px 3px 1px rgba(0, 0, 0, 0.15);\n",
              "      filter: drop-shadow(0px 1px 2px rgba(0, 0, 0, 0.3));\n",
              "      fill: #FFFFFF;\n",
              "    }\n",
              "  </style>\n",
              "\n",
              "      <script>\n",
              "        const buttonEl =\n",
              "          document.querySelector('#df-02af9943-1ee1-415b-8af3-f71e8fbfadec button.colab-df-convert');\n",
              "        buttonEl.style.display =\n",
              "          google.colab.kernel.accessAllowed ? 'block' : 'none';\n",
              "\n",
              "        async function convertToInteractive(key) {\n",
              "          const element = document.querySelector('#df-02af9943-1ee1-415b-8af3-f71e8fbfadec');\n",
              "          const dataTable =\n",
              "            await google.colab.kernel.invokeFunction('convertToInteractive',\n",
              "                                                     [key], {});\n",
              "          if (!dataTable) return;\n",
              "\n",
              "          const docLinkHtml = 'Like what you see? Visit the ' +\n",
              "            '<a target=\"_blank\" href=https://colab.research.google.com/notebooks/data_table.ipynb>data table notebook</a>'\n",
              "            + ' to learn more about interactive tables.';\n",
              "          element.innerHTML = '';\n",
              "          dataTable['output_type'] = 'display_data';\n",
              "          await google.colab.output.renderOutput(dataTable, element);\n",
              "          const docLink = document.createElement('div');\n",
              "          docLink.innerHTML = docLinkHtml;\n",
              "          element.appendChild(docLink);\n",
              "        }\n",
              "      </script>\n",
              "    </div>\n",
              "  </div>\n"
            ]
          },
          "metadata": {},
          "execution_count": 48
        }
      ]
    },
    {
      "cell_type": "code",
      "source": [
        "#init_maps.JF.unique()"
      ],
      "metadata": {
        "id": "Z4APnSDjyDTJ"
      },
      "execution_count": 49,
      "outputs": []
    },
    {
      "cell_type": "code",
      "source": [
        "init_maps.columns = ['JF', 'level', 'TFP']"
      ],
      "metadata": {
        "id": "PkPWGplhxuIs"
      },
      "execution_count": 50,
      "outputs": []
    },
    {
      "cell_type": "code",
      "source": [
        "ref_table = pd.read_excel('GCC_LOL.xlsx')"
      ],
      "metadata": {
        "id": "hYZJT24Nq_oa"
      },
      "execution_count": 51,
      "outputs": []
    },
    {
      "cell_type": "code",
      "source": [
        "#temp_level = ref_table.loc[ref_table.index == 3].Level.values[0]\n",
        "#temp_level"
      ],
      "metadata": {
        "colab": {
          "base_uri": "https://localhost:8080/",
          "height": 35
        },
        "id": "PRIS2U_Ixcps",
        "outputId": "a12d05cd-2de3-4751-c36b-032002f72268"
      },
      "execution_count": 53,
      "outputs": [
        {
          "output_type": "execute_result",
          "data": {
            "text/plain": [
              "'I2'"
            ],
            "application/vnd.google.colaboratory.intrinsic+json": {
              "type": "string"
            }
          },
          "metadata": {},
          "execution_count": 53
        }
      ]
    },
    {
      "cell_type": "code",
      "source": [
        "def find_in_ref(df, jf, level):\n",
        "  try:\n",
        "    return df.loc[(df.JF == jf) & (df.Level == level)]\n",
        "  except:\n",
        "    return None\n",
        "\n",
        "def check_range_ref(ref_df, comp, index):\n",
        "  ref_row = ref_df.loc[ref_df.index == index]\n",
        "\n",
        "  if comp >= ref_row.P10.values[0] and comp <= ref_row.P90.values[0] :\n",
        "    return True\n",
        "\n",
        "  return False\n",
        "\n",
        "def compare_range_ref(ref_df, comp, index):\n",
        "  ref_row = ref_df.loc[ref_df.index == index]\n",
        "\n",
        "  if comp < ref_row.P10.values[0]:\n",
        "    return -1\n",
        "  elif comp > ref_row.P90.values[0]:\n",
        "    return 1\n",
        "  elif comp >= ref_row.P10.values[0] and comp <= ref_row.P90.values[0] :\n",
        "    return 0\n",
        "\n",
        "  return False\n"
      ],
      "metadata": {
        "id": "j5bQBmhCxmHj"
      },
      "execution_count": 54,
      "outputs": []
    },
    {
      "cell_type": "code",
      "source": [
        "find_in_ref(ref_table, 'HRBP', 'I5')"
      ],
      "metadata": {
        "colab": {
          "base_uri": "https://localhost:8080/",
          "height": 80
        },
        "id": "Jrh3742py6zY",
        "outputId": "80f61f4b-d3ea-4422-c61b-15bedf362807"
      },
      "execution_count": 55,
      "outputs": [
        {
          "output_type": "execute_result",
          "data": {
            "text/plain": [
              "    JF+Level    JF Level     P10     P90\n",
              "606   HRBPI5  HRBP    I5  2927.0  5732.0"
            ],
            "text/html": [
              "\n",
              "\n",
              "  <div id=\"df-a585c48a-ecb7-48a9-b742-4b2b089b4a28\">\n",
              "    <div class=\"colab-df-container\">\n",
              "      <div>\n",
              "<style scoped>\n",
              "    .dataframe tbody tr th:only-of-type {\n",
              "        vertical-align: middle;\n",
              "    }\n",
              "\n",
              "    .dataframe tbody tr th {\n",
              "        vertical-align: top;\n",
              "    }\n",
              "\n",
              "    .dataframe thead th {\n",
              "        text-align: right;\n",
              "    }\n",
              "</style>\n",
              "<table border=\"1\" class=\"dataframe\">\n",
              "  <thead>\n",
              "    <tr style=\"text-align: right;\">\n",
              "      <th></th>\n",
              "      <th>JF+Level</th>\n",
              "      <th>JF</th>\n",
              "      <th>Level</th>\n",
              "      <th>P10</th>\n",
              "      <th>P90</th>\n",
              "    </tr>\n",
              "  </thead>\n",
              "  <tbody>\n",
              "    <tr>\n",
              "      <th>606</th>\n",
              "      <td>HRBPI5</td>\n",
              "      <td>HRBP</td>\n",
              "      <td>I5</td>\n",
              "      <td>2927.0</td>\n",
              "      <td>5732.0</td>\n",
              "    </tr>\n",
              "  </tbody>\n",
              "</table>\n",
              "</div>\n",
              "      <button class=\"colab-df-convert\" onclick=\"convertToInteractive('df-a585c48a-ecb7-48a9-b742-4b2b089b4a28')\"\n",
              "              title=\"Convert this dataframe to an interactive table.\"\n",
              "              style=\"display:none;\">\n",
              "\n",
              "  <svg xmlns=\"http://www.w3.org/2000/svg\" height=\"24px\"viewBox=\"0 0 24 24\"\n",
              "       width=\"24px\">\n",
              "    <path d=\"M0 0h24v24H0V0z\" fill=\"none\"/>\n",
              "    <path d=\"M18.56 5.44l.94 2.06.94-2.06 2.06-.94-2.06-.94-.94-2.06-.94 2.06-2.06.94zm-11 1L8.5 8.5l.94-2.06 2.06-.94-2.06-.94L8.5 2.5l-.94 2.06-2.06.94zm10 10l.94 2.06.94-2.06 2.06-.94-2.06-.94-.94-2.06-.94 2.06-2.06.94z\"/><path d=\"M17.41 7.96l-1.37-1.37c-.4-.4-.92-.59-1.43-.59-.52 0-1.04.2-1.43.59L10.3 9.45l-7.72 7.72c-.78.78-.78 2.05 0 2.83L4 21.41c.39.39.9.59 1.41.59.51 0 1.02-.2 1.41-.59l7.78-7.78 2.81-2.81c.8-.78.8-2.07 0-2.86zM5.41 20L4 18.59l7.72-7.72 1.47 1.35L5.41 20z\"/>\n",
              "  </svg>\n",
              "      </button>\n",
              "\n",
              "\n",
              "\n",
              "    <div id=\"df-a22e9998-14cf-4995-ada6-f14dba8f32c3\">\n",
              "      <button class=\"colab-df-quickchart\" onclick=\"quickchart('df-a22e9998-14cf-4995-ada6-f14dba8f32c3')\"\n",
              "              title=\"Suggest charts.\"\n",
              "              style=\"display:none;\">\n",
              "\n",
              "<svg xmlns=\"http://www.w3.org/2000/svg\" height=\"24px\"viewBox=\"0 0 24 24\"\n",
              "     width=\"24px\">\n",
              "    <g>\n",
              "        <path d=\"M19 3H5c-1.1 0-2 .9-2 2v14c0 1.1.9 2 2 2h14c1.1 0 2-.9 2-2V5c0-1.1-.9-2-2-2zM9 17H7v-7h2v7zm4 0h-2V7h2v10zm4 0h-2v-4h2v4z\"/>\n",
              "    </g>\n",
              "</svg>\n",
              "      </button>\n",
              "    </div>\n",
              "\n",
              "<style>\n",
              "  .colab-df-quickchart {\n",
              "    background-color: #E8F0FE;\n",
              "    border: none;\n",
              "    border-radius: 50%;\n",
              "    cursor: pointer;\n",
              "    display: none;\n",
              "    fill: #1967D2;\n",
              "    height: 32px;\n",
              "    padding: 0 0 0 0;\n",
              "    width: 32px;\n",
              "  }\n",
              "\n",
              "  .colab-df-quickchart:hover {\n",
              "    background-color: #E2EBFA;\n",
              "    box-shadow: 0px 1px 2px rgba(60, 64, 67, 0.3), 0px 1px 3px 1px rgba(60, 64, 67, 0.15);\n",
              "    fill: #174EA6;\n",
              "  }\n",
              "\n",
              "  [theme=dark] .colab-df-quickchart {\n",
              "    background-color: #3B4455;\n",
              "    fill: #D2E3FC;\n",
              "  }\n",
              "\n",
              "  [theme=dark] .colab-df-quickchart:hover {\n",
              "    background-color: #434B5C;\n",
              "    box-shadow: 0px 1px 3px 1px rgba(0, 0, 0, 0.15);\n",
              "    filter: drop-shadow(0px 1px 2px rgba(0, 0, 0, 0.3));\n",
              "    fill: #FFFFFF;\n",
              "  }\n",
              "</style>\n",
              "\n",
              "    <script>\n",
              "      async function quickchart(key) {\n",
              "        const containerElement = document.querySelector('#' + key);\n",
              "        const charts = await google.colab.kernel.invokeFunction(\n",
              "            'suggestCharts', [key], {});\n",
              "      }\n",
              "    </script>\n",
              "\n",
              "      <script>\n",
              "\n",
              "function displayQuickchartButton(domScope) {\n",
              "  let quickchartButtonEl =\n",
              "    domScope.querySelector('#df-a22e9998-14cf-4995-ada6-f14dba8f32c3 button.colab-df-quickchart');\n",
              "  quickchartButtonEl.style.display =\n",
              "    google.colab.kernel.accessAllowed ? 'block' : 'none';\n",
              "}\n",
              "\n",
              "        displayQuickchartButton(document);\n",
              "      </script>\n",
              "      <style>\n",
              "    .colab-df-container {\n",
              "      display:flex;\n",
              "      flex-wrap:wrap;\n",
              "      gap: 12px;\n",
              "    }\n",
              "\n",
              "    .colab-df-convert {\n",
              "      background-color: #E8F0FE;\n",
              "      border: none;\n",
              "      border-radius: 50%;\n",
              "      cursor: pointer;\n",
              "      display: none;\n",
              "      fill: #1967D2;\n",
              "      height: 32px;\n",
              "      padding: 0 0 0 0;\n",
              "      width: 32px;\n",
              "    }\n",
              "\n",
              "    .colab-df-convert:hover {\n",
              "      background-color: #E2EBFA;\n",
              "      box-shadow: 0px 1px 2px rgba(60, 64, 67, 0.3), 0px 1px 3px 1px rgba(60, 64, 67, 0.15);\n",
              "      fill: #174EA6;\n",
              "    }\n",
              "\n",
              "    [theme=dark] .colab-df-convert {\n",
              "      background-color: #3B4455;\n",
              "      fill: #D2E3FC;\n",
              "    }\n",
              "\n",
              "    [theme=dark] .colab-df-convert:hover {\n",
              "      background-color: #434B5C;\n",
              "      box-shadow: 0px 1px 3px 1px rgba(0, 0, 0, 0.15);\n",
              "      filter: drop-shadow(0px 1px 2px rgba(0, 0, 0, 0.3));\n",
              "      fill: #FFFFFF;\n",
              "    }\n",
              "  </style>\n",
              "\n",
              "      <script>\n",
              "        const buttonEl =\n",
              "          document.querySelector('#df-a585c48a-ecb7-48a9-b742-4b2b089b4a28 button.colab-df-convert');\n",
              "        buttonEl.style.display =\n",
              "          google.colab.kernel.accessAllowed ? 'block' : 'none';\n",
              "\n",
              "        async function convertToInteractive(key) {\n",
              "          const element = document.querySelector('#df-a585c48a-ecb7-48a9-b742-4b2b089b4a28');\n",
              "          const dataTable =\n",
              "            await google.colab.kernel.invokeFunction('convertToInteractive',\n",
              "                                                     [key], {});\n",
              "          if (!dataTable) return;\n",
              "\n",
              "          const docLinkHtml = 'Like what you see? Visit the ' +\n",
              "            '<a target=\"_blank\" href=https://colab.research.google.com/notebooks/data_table.ipynb>data table notebook</a>'\n",
              "            + ' to learn more about interactive tables.';\n",
              "          element.innerHTML = '';\n",
              "          dataTable['output_type'] = 'display_data';\n",
              "          await google.colab.output.renderOutput(dataTable, element);\n",
              "          const docLink = document.createElement('div');\n",
              "          docLink.innerHTML = docLinkHtml;\n",
              "          element.appendChild(docLink);\n",
              "        }\n",
              "      </script>\n",
              "    </div>\n",
              "  </div>\n"
            ]
          },
          "metadata": {},
          "execution_count": 55
        }
      ]
    },
    {
      "cell_type": "code",
      "source": [
        "reassigned_maps = init_maps.copy(deep=True)"
      ],
      "metadata": {
        "id": "Ssn6CGFI8NC8"
      },
      "execution_count": 56,
      "outputs": []
    },
    {
      "cell_type": "code",
      "source": [
        "pd.DataFrame(init_maps).to_csv('init_maps.csv')\n",
        "init_maps.shape"
      ],
      "metadata": {
        "id": "7B0X4t3-JbDG",
        "outputId": "5adaf7c2-86d2-479b-d952-9c341c667736",
        "colab": {
          "base_uri": "https://localhost:8080/"
        }
      },
      "execution_count": 57,
      "outputs": [
        {
          "output_type": "execute_result",
          "data": {
            "text/plain": [
              "(27644, 3)"
            ]
          },
          "metadata": {},
          "execution_count": 57
        }
      ]
    },
    {
      "cell_type": "code",
      "source": [
        "from tqdm.auto import tqdm"
      ],
      "metadata": {
        "id": "zwzYog8T974k"
      },
      "execution_count": 58,
      "outputs": []
    },
    {
      "cell_type": "code",
      "source": [
        "for index, query in tqdm(init_maps.iterrows()):\n",
        "  ref_row = find_in_ref(ref_table, query.JF, query.level)\n",
        "  d_index=index\n",
        "\n",
        "  try:\n",
        "    ref_index = ref_row.index[0]\n",
        "  except:\n",
        "    continue\n",
        "\n",
        "  # check if comp falls in that range\n",
        "  comp = query['TFP']/1000\n",
        "  final_index = -1\n",
        "  if compare_range_ref(ref_table, comp, ref_index)==0:\n",
        "    #print(\"Exact match found at \", ref_index)\n",
        "    final_index = ref_index\n",
        "  elif compare_range_ref(ref_table, comp, ref_index )==-1:\n",
        "    #print(\"Exact match found before ref_index, at \", ref_index -1)\n",
        "    if ref_table.loc[ref_table.index == ref_index].Level.values[0]!='S2':\n",
        "      final_index = ref_index - 1\n",
        "    else:\n",
        "      final_index = ref_index\n",
        "  elif compare_range_ref(ref_table, comp, ref_index )==1:\n",
        "    #print(\"Exact match found after index at \", ref_index + 1)\n",
        "    if ref_table.loc[ref_table.index == ref_index].Level.values[0]!='E2':\n",
        "      final_index = ref_index\n",
        "    elif ref_table.loc[ref_table.index == ref_index].Level.values[0]!='I7':\n",
        "      final_index = ref_index+8\n",
        "    else:\n",
        "      final_index = ref_index+1\n",
        "\n",
        "  if final_index != -1 :\n",
        "    final_level = ref_table.loc[ref_table.index == final_index].Level.values[0]\n",
        "    reassigned_maps.at[d_index, 'level'] = final_level\n"
      ],
      "metadata": {
        "id": "HhG6BOhfzCwd",
        "colab": {
          "base_uri": "https://localhost:8080/",
          "height": 49,
          "referenced_widgets": [
            "b3b5018ec7d6461a8384ecfd09a04161",
            "24539a45d72f484abb68db47e3332cfd",
            "fbf9416642bc4d32bb738a050afc358d",
            "5a659b9d52a74882884faa5a91c49293",
            "e74d5a3dbb8c451cb114aa2d3558318f",
            "e82c4c7c3a9a4a9d99a9217f2f548fec",
            "87b55137c3564fa4824729faf6d442ce",
            "0e9dcc6ee6cc4e5a8c3f03c1f537e0e0",
            "0e60dc2aff6646c2b51a439e964f5988",
            "9a521eb6d62b490c8654321281409805",
            "c7337d47945a4aa598670e5e631019be"
          ]
        },
        "outputId": "af342247-8289-4036-cb0b-af6c1925e0da"
      },
      "execution_count": 64,
      "outputs": [
        {
          "output_type": "display_data",
          "data": {
            "text/plain": [
              "0it [00:00, ?it/s]"
            ],
            "application/vnd.jupyter.widget-view+json": {
              "version_major": 2,
              "version_minor": 0,
              "model_id": "b3b5018ec7d6461a8384ecfd09a04161"
            }
          },
          "metadata": {}
        }
      ]
    },
    {
      "cell_type": "code",
      "source": [
        "pd.DataFrame(reassigned_maps).to_csv('reassigned maps.csv')"
      ],
      "metadata": {
        "id": "E0CdXFbX02Gi"
      },
      "execution_count": 65,
      "outputs": []
    },
    {
      "cell_type": "code",
      "source": [
        "from pickle import dump\n"
      ],
      "metadata": {
        "id": "a72UvXAql4Co"
      },
      "execution_count": 66,
      "outputs": []
    },
    {
      "cell_type": "code",
      "source": [
        "dump(model,open('GCCJF.pkl', 'wb'))\n",
        "dump(model_2,open('GCCLevel.pkl', 'wb'))"
      ],
      "metadata": {
        "id": "YLneHPt7mx-F"
      },
      "execution_count": 67,
      "outputs": []
    },
    {
      "cell_type": "code",
      "source": [
        "dump(vectorizers,open('GCCJF_vect.pkl', 'wb'))\n",
        "dump(vectorizers_2,open('GCCLevel_vect.pkl', 'wb'))"
      ],
      "metadata": {
        "id": "zUK3pQGenOLL"
      },
      "execution_count": 68,
      "outputs": []
    }
  ]
}