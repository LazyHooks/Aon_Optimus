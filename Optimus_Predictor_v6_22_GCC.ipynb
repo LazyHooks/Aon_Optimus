{
 "cells": [
  {
   "cell_type": "markdown",
   "metadata": {
    "id": "U88NDq2QrZhr"
   },
   "source": [
    "Imports"
   ]
  },
  {
   "cell_type": "code",
   "execution_count": 47,
   "metadata": {
    "id": "qnHLNOlup9EC"
   },
   "outputs": [],
   "source": [
    "from pickle import load\n",
    "import pandas as pd\n",
    "from scipy.sparse import hstack\n",
    "from sklearn.feature_extraction.text import TfidfVectorizer\n",
    "from sklearn.linear_model import LogisticRegression\n",
    "from sklearn.metrics import accuracy_score, classification_report\n",
    "from sklearn.model_selection import train_test_split"
   ]
  },
  {
   "cell_type": "markdown",
   "metadata": {
    "id": "6rOG3mtXrbW7"
   },
   "source": [
    "Load Data"
   ]
  },
  {
   "cell_type": "code",
   "execution_count": 48,
   "metadata": {
    "colab": {
     "base_uri": "https://localhost:8080/"
    },
    "id": "g8-zz11mqB8b",
    "outputId": "82547f05-d2bd-48f3-b696-b8dac9abf25d"
   },
   "outputs": [
    {
     "data": {
      "text/plain": [
       "(158584, 8)"
      ]
     },
     "execution_count": 48,
     "metadata": {},
     "output_type": "execute_result"
    }
   ],
   "source": [
    "#Import the Payroll Data\n",
    "df_test = pd.read_excel('GCC Dump 2.xlsx')\n",
    "\n",
    "#Import the sector reference table\n",
    "ref_table = pd.read_excel('GCC_ref.xlsx')\n",
    "\n",
    "df_test.shape"
   ]
  },
  {
   "cell_type": "markdown",
   "metadata": {
    "id": "So8kMq1IrfT9"
   },
   "source": [
    "Load Models"
   ]
  },
  {
   "cell_type": "code",
   "execution_count": 49,
   "metadata": {
    "id": "CFy8dCg6rgzY"
   },
   "outputs": [],
   "source": [
    "#Load Models\n",
    "model_JF=load(open('GCCJF.pkl', 'rb'))\n",
    "model_Level=load(open('GCCLevel.pkl', 'rb'))\n",
    "\n",
    "#Load Supporting Elements\n",
    "vectorizers_JF=load(open('GCCJF_vect.pkl', 'rb'))\n",
    "vectorizers_Level=load(open('GCCLevel_vect.pkl', 'rb'))"
   ]
  },
  {
   "cell_type": "markdown",
   "metadata": {
    "id": "LM8nvqusuS_Y"
   },
   "source": [
    "Static Variables"
   ]
  },
  {
   "cell_type": "code",
   "execution_count": 50,
   "metadata": {
    "id": "snqs9UFrqK1M"
   },
   "outputs": [],
   "source": [
    "train_cols = ['Co. Designation', 'Co. Function']"
   ]
  },
  {
   "cell_type": "code",
   "execution_count": 51,
   "metadata": {
    "id": "Q7EVYCfFqLPP"
   },
   "outputs": [],
   "source": [
    "target_col = 'Job Family Code'\n",
    "target_col_2='Level'\n",
    "jfcol='Job Family Code'\n",
    "uid = 'Unique ID'"
   ]
  },
  {
   "cell_type": "code",
   "execution_count": 52,
   "metadata": {
    "id": "BnXOkzyFqMzP"
   },
   "outputs": [],
   "source": [
    "all_cols = ['Co. Designation', 'Co. Function', 'Job Family Code','Level']\n",
    "univ_cols= ['Co. Designation', 'Co. Function', 'Job Family Code','Level','TFP']"
   ]
  },
  {
   "cell_type": "code",
   "execution_count": 53,
   "metadata": {
    "id": "Lw2QDppCqVk0"
   },
   "outputs": [],
   "source": [
    "#df_test=df_test.dropna().reset_index(drop=True)\n",
    "df_backup=df_test.copy(deep=True)\n",
    "df_test_2=df_test.copy(deep=True)\n",
    "df_test_2=df_test[univ_cols]\n",
    "df_test = df_test[all_cols]"
   ]
  },
  {
   "cell_type": "markdown",
   "metadata": {
    "id": "Uw3a2C6MFFps"
   },
   "source": [
    "Data Preprocessing JF"
   ]
  },
  {
   "cell_type": "code",
   "execution_count": 54,
   "metadata": {
    "id": "NQZToaZCqgw9"
   },
   "outputs": [],
   "source": [
    "X_test_unseen = []\n",
    "\n",
    "for i, col in enumerate(train_cols):\n",
    "    vectorizer = vectorizers_JF[i]\n",
    "    X_test_col = vectorizer.transform(df_test.loc[:, col])\n",
    "    X_test_unseen.append(X_test_col)\n",
    "\n",
    "X_unseen = hstack(X_test_unseen)"
   ]
  },
  {
   "cell_type": "markdown",
   "metadata": {
    "id": "p7G0-yLwG1Om"
   },
   "source": [
    "JF Predictions"
   ]
  },
  {
   "cell_type": "code",
   "execution_count": 55,
   "metadata": {
    "id": "YHDH2Tm-qinj"
   },
   "outputs": [],
   "source": [
    "y_test_pred = model_JF.predict (X_unseen)"
   ]
  },
  {
   "cell_type": "code",
   "execution_count": 56,
   "metadata": {
    "id": "zW0afT1lMDpI"
   },
   "outputs": [],
   "source": [
    "y_test_pred_copy=pd.DataFrame(y_test_pred)\n",
    "y_test_pred_copy.columns = ['Job Family Code']"
   ]
  },
  {
   "cell_type": "markdown",
   "metadata": {
    "id": "ouGxrZbu9AB8"
   },
   "source": [
    "Data Preprocessing Level"
   ]
  },
  {
   "cell_type": "code",
   "execution_count": 57,
   "metadata": {
    "id": "2InaNFw39De7"
   },
   "outputs": [],
   "source": [
    "X_test_unseen_2 = []\n",
    "z=0\n",
    "for i, col in enumerate(train_cols):\n",
    "    vectorizer = vectorizers_Level[i]\n",
    "    X_test_col_2 = vectorizer.transform(df_test.loc[:, col])\n",
    "    X_test_unseen_2.append(X_test_col_2)\n",
    "    z=i\n",
    "\n",
    "vectorizer = vectorizers_Level[z+1]\n",
    "X_test_col_2 = vectorizer.transform(y_test_pred_copy.loc[:, jfcol])\n",
    "X_test_unseen_2.append(X_test_col_2)\n",
    "\n",
    "X_unseen_2 = hstack(X_test_unseen_2)\n"
   ]
  },
  {
   "cell_type": "markdown",
   "metadata": {
    "id": "70r5Xbw5G2en"
   },
   "source": [
    "Level Predictions"
   ]
  },
  {
   "cell_type": "code",
   "execution_count": 58,
   "metadata": {
    "id": "0XWYp9w4G4M2"
   },
   "outputs": [],
   "source": [
    "y_test_pred_2 = model_Level.predict (X_unseen_2)"
   ]
  },
  {
   "cell_type": "code",
   "execution_count": 59,
   "metadata": {
    "id": "GFo__iaGqkq3"
   },
   "outputs": [],
   "source": [
    "pd.DataFrame(y_test_pred).to_csv('JF_x.csv')\n",
    "pd.DataFrame(y_test_pred_2).to_csv('Lvl_x.csv')\n",
    "frames=[pd.DataFrame(y_test_pred),pd.DataFrame(y_test_pred_2)]\n",
    "maps=pd.concat(frames, axis=1)"
   ]
  },
  {
   "cell_type": "markdown",
   "metadata": {
    "id": "98vU4Zuksx2c"
   },
   "source": [
    "Level Correction Preprocessing"
   ]
  },
  {
   "cell_type": "code",
   "execution_count": 60,
   "metadata": {
    "colab": {
     "base_uri": "https://localhost:8080/",
     "height": 423
    },
    "id": "UrJNtqbep0WK",
    "outputId": "329d2973-2cce-4372-e734-aaa8cfa05569"
   },
   "outputs": [
    {
     "data": {
      "text/html": [
       "<div>\n",
       "<style scoped>\n",
       "    .dataframe tbody tr th:only-of-type {\n",
       "        vertical-align: middle;\n",
       "    }\n",
       "\n",
       "    .dataframe tbody tr th {\n",
       "        vertical-align: top;\n",
       "    }\n",
       "\n",
       "    .dataframe thead th {\n",
       "        text-align: right;\n",
       "    }\n",
       "</style>\n",
       "<table border=\"1\" class=\"dataframe\">\n",
       "  <thead>\n",
       "    <tr style=\"text-align: right;\">\n",
       "      <th></th>\n",
       "      <th>Unique ID</th>\n",
       "      <th>0</th>\n",
       "      <th>0</th>\n",
       "      <th>TFP</th>\n",
       "    </tr>\n",
       "  </thead>\n",
       "  <tbody>\n",
       "    <tr>\n",
       "      <th>0</th>\n",
       "      <td>TPPS Finalized payrolls dump_Part 1.xlsx7954HL</td>\n",
       "      <td>ASXX</td>\n",
       "      <td>I2</td>\n",
       "      <td>4.000000e+06</td>\n",
       "    </tr>\n",
       "    <tr>\n",
       "      <th>1</th>\n",
       "      <td>TPPS Finalized payrolls dump_Part 1.xlsx7953HL</td>\n",
       "      <td>ASXX</td>\n",
       "      <td>I2</td>\n",
       "      <td>2.400000e+06</td>\n",
       "    </tr>\n",
       "    <tr>\n",
       "      <th>2</th>\n",
       "      <td>TPPS Finalized payrolls dump_Part 1.xlsx7952HL</td>\n",
       "      <td>ASXX</td>\n",
       "      <td>I2</td>\n",
       "      <td>7.000000e+06</td>\n",
       "    </tr>\n",
       "    <tr>\n",
       "      <th>3</th>\n",
       "      <td>TPPS Finalized payrolls dump_Part 1.xlsx7951HL</td>\n",
       "      <td>ASXX</td>\n",
       "      <td>I2</td>\n",
       "      <td>4.500000e+06</td>\n",
       "    </tr>\n",
       "    <tr>\n",
       "      <th>4</th>\n",
       "      <td>TPPS Finalized payrolls dump_Part 1.xlsx7950HL</td>\n",
       "      <td>ASXX</td>\n",
       "      <td>I2</td>\n",
       "      <td>7.500000e+05</td>\n",
       "    </tr>\n",
       "    <tr>\n",
       "      <th>...</th>\n",
       "      <td>...</td>\n",
       "      <td>...</td>\n",
       "      <td>...</td>\n",
       "      <td>...</td>\n",
       "    </tr>\n",
       "    <tr>\n",
       "      <th>158579</th>\n",
       "      <td>TPPS Finalized payrolls dump_Part 2.xlsx12Mova...</td>\n",
       "      <td>ASXX</td>\n",
       "      <td>I4</td>\n",
       "      <td>4.669272e+05</td>\n",
       "    </tr>\n",
       "    <tr>\n",
       "      <th>158580</th>\n",
       "      <td>TPPS Finalized payrolls dump_Part 2.xlsx12Mova...</td>\n",
       "      <td>ASXX</td>\n",
       "      <td>I4</td>\n",
       "      <td>8.552998e+05</td>\n",
       "    </tr>\n",
       "    <tr>\n",
       "      <th>158581</th>\n",
       "      <td>TPPS Finalized payrolls dump_Part 2.xlsx12Mova...</td>\n",
       "      <td>ASXX</td>\n",
       "      <td>I4</td>\n",
       "      <td>5.453952e+05</td>\n",
       "    </tr>\n",
       "    <tr>\n",
       "      <th>158582</th>\n",
       "      <td>TPPS Finalized payrolls dump_Part 2.xlsx12Mova...</td>\n",
       "      <td>ASXX</td>\n",
       "      <td>I4</td>\n",
       "      <td>3.564455e+05</td>\n",
       "    </tr>\n",
       "    <tr>\n",
       "      <th>158583</th>\n",
       "      <td>TPPS Finalized payrolls dump_Part 2.xlsx12Mova...</td>\n",
       "      <td>ASXX</td>\n",
       "      <td>I4</td>\n",
       "      <td>1.749600e+06</td>\n",
       "    </tr>\n",
       "  </tbody>\n",
       "</table>\n",
       "<p>158584 rows × 4 columns</p>\n",
       "</div>"
      ],
      "text/plain": [
       "                                                Unique ID     0   0  \\\n",
       "0          TPPS Finalized payrolls dump_Part 1.xlsx7954HL  ASXX  I2   \n",
       "1          TPPS Finalized payrolls dump_Part 1.xlsx7953HL  ASXX  I2   \n",
       "2          TPPS Finalized payrolls dump_Part 1.xlsx7952HL  ASXX  I2   \n",
       "3          TPPS Finalized payrolls dump_Part 1.xlsx7951HL  ASXX  I2   \n",
       "4          TPPS Finalized payrolls dump_Part 1.xlsx7950HL  ASXX  I2   \n",
       "...                                                   ...   ...  ..   \n",
       "158579  TPPS Finalized payrolls dump_Part 2.xlsx12Mova...  ASXX  I4   \n",
       "158580  TPPS Finalized payrolls dump_Part 2.xlsx12Mova...  ASXX  I4   \n",
       "158581  TPPS Finalized payrolls dump_Part 2.xlsx12Mova...  ASXX  I4   \n",
       "158582  TPPS Finalized payrolls dump_Part 2.xlsx12Mova...  ASXX  I4   \n",
       "158583  TPPS Finalized payrolls dump_Part 2.xlsx12Mova...  ASXX  I4   \n",
       "\n",
       "                 TFP  \n",
       "0       4.000000e+06  \n",
       "1       2.400000e+06  \n",
       "2       7.000000e+06  \n",
       "3       4.500000e+06  \n",
       "4       7.500000e+05  \n",
       "...              ...  \n",
       "158579  4.669272e+05  \n",
       "158580  8.552998e+05  \n",
       "158581  5.453952e+05  \n",
       "158582  3.564455e+05  \n",
       "158583  1.749600e+06  \n",
       "\n",
       "[158584 rows x 4 columns]"
      ]
     },
     "execution_count": 60,
     "metadata": {},
     "output_type": "execute_result"
    }
   ],
   "source": [
    "temp=df_test_2.loc[:,'TFP']\n",
    "unique_id=df_backup.loc[:,uid]\n",
    "init_maps=pd.concat([maps , temp], axis=1)\n",
    "init_maps=pd.concat([unique_id,init_maps], axis=1)\n",
    "init_maps"
   ]
  },
  {
   "cell_type": "code",
   "execution_count": 61,
   "metadata": {
    "id": "PkPWGplhxuIs"
   },
   "outputs": [],
   "source": [
    "init_maps.columns = ['Unique ID','JF', 'level', 'TFP']"
   ]
  },
  {
   "cell_type": "code",
   "execution_count": 62,
   "metadata": {
    "id": "j5bQBmhCxmHj"
   },
   "outputs": [],
   "source": [
    "def find_in_ref(df, jf, level):\n",
    "  try:\n",
    "    return df.loc[(df.JF == jf) & (df.Level == level)]\n",
    "  except:\n",
    "    return None\n",
    "\n",
    "def check_range_ref(ref_df, comp, index):\n",
    "  ref_row = ref_df.loc[ref_df.index == index]\n",
    "\n",
    "  if comp >= ref_row.Min.values[0] and comp <= ref_row.Max.values[0] :\n",
    "    return True\n",
    "\n",
    "  return False\n",
    "\n",
    "def compare_range_ref(ref_df, comp, index):\n",
    "  ref_row = ref_df.loc[ref_df.index == index]\n",
    "\n",
    "  if comp < ref_row.Min.values[0]:\n",
    "    return -1\n",
    "  elif comp > ref_row.Max.values[0]:\n",
    "    return 1\n",
    "  elif comp >= ref_row.Min.values[0] and comp <= ref_row.Max.values[0] :\n",
    "    return 0\n",
    "\n",
    "  return False\n"
   ]
  },
  {
   "cell_type": "code",
   "execution_count": 63,
   "metadata": {
    "id": "Ssn6CGFI8NC8"
   },
   "outputs": [],
   "source": [
    "reassigned_maps = init_maps.copy(deep=True)"
   ]
  },
  {
   "cell_type": "markdown",
   "metadata": {
    "id": "zyhn6s_FtULz"
   },
   "source": [
    "Level Correction"
   ]
  },
  {
   "cell_type": "code",
   "execution_count": 64,
   "metadata": {
    "id": "zwzYog8T974k"
   },
   "outputs": [],
   "source": [
    "from tqdm.auto import tqdm"
   ]
  },
  {
   "cell_type": "code",
   "execution_count": 65,
   "metadata": {
    "colab": {
     "base_uri": "https://localhost:8080/",
     "height": 35
    },
    "id": "cCaD-1-2ppKE",
    "outputId": "78f73469-07cb-4c61-b061-80fc490721cf"
   },
   "outputs": [
    {
     "data": {
      "text/plain": [
       "'AAAA'"
      ]
     },
     "execution_count": 65,
     "metadata": {},
     "output_type": "execute_result"
    }
   ],
   "source": [
    "ref_table.loc[ref_table.index == 0].JF.values[0]"
   ]
  },
  {
   "cell_type": "code",
   "execution_count": 67,
   "metadata": {},
   "outputs": [
    {
     "data": {
      "application/vnd.jupyter.widget-view+json": {
       "model_id": "4224107ab8ae4fd88954a8a11cc4cb74",
       "version_major": 2,
       "version_minor": 0
      },
      "text/plain": [
       "0it [00:00, ?it/s]"
      ]
     },
     "metadata": {},
     "output_type": "display_data"
    }
   ],
   "source": [
    "for index, query in tqdm(init_maps.iterrows()):\n",
    "    if(df_backup.loc[df_backup.index == index,'Co. Designation'].values[0]=='NA' or df_backup.loc[df_backup.index == index,'Co. Function'].values[0]=='NA'):\n",
    "        init_maps.at[index, 'JF'] = df_backup.loc[df_backup.index == index,'Job Family Code'].values[0]\n",
    "        query.JF=df_backup.loc[df_backup.index == index,'Job Family Code'].values[0]"
   ]
  },
  {
   "cell_type": "code",
   "execution_count": 68,
   "metadata": {
    "colab": {
     "base_uri": "https://localhost:8080/",
     "height": 49,
     "referenced_widgets": [
      "dba7dc498ce34280bac20566f8e1721d",
      "5da4875b0bf64b0e9e93b8f296b6f909",
      "91691b6cd0e346c9a977aa7934bad04e",
      "5e49ae4122a84bbd81177b6d1818e2fa",
      "a91c58462c3d48b98fe75257d543e5c6",
      "bd14be1d79ce4d19a56d992202b4828c",
      "22d07cbc534f4879a6887256cac72392",
      "f0703153498245bbab6e556020138ec2",
      "a3cf8eb85cf44ff48a3a0680fe3ba022",
      "a80fe5058f644b73ab0afe26306fad16",
      "865bafde588942c5a880098e62507201"
     ]
    },
    "id": "HhG6BOhfzCwd",
    "outputId": "72189b29-a82a-4f5f-80de-517678a55972"
   },
   "outputs": [
    {
     "data": {
      "application/vnd.jupyter.widget-view+json": {
       "model_id": "3981622d01144efbb9414c335bdcb4d5",
       "version_major": 2,
       "version_minor": 0
      },
      "text/plain": [
       "0it [00:00, ?it/s]"
      ]
     },
     "metadata": {},
     "output_type": "display_data"
    }
   ],
   "source": [
    "for index, query in tqdm(init_maps.iterrows()):\n",
    "  if(df_backup.loc[df_backup.index == index,'Job Family Code'].values[0][0:2]==query.JF[0:2]):\n",
    "     reassigned_maps.at[index, 'JF'] = df_backup.loc[df_backup.index == index,'Job Family Code'].values[0]\n",
    "  ref_row = find_in_ref(ref_table, query.JF, query.level)\n",
    "  d_index=index\n",
    "  try:\n",
    "    ref_index = ref_row.index[0]\n",
    "  except:\n",
    "    continue\n",
    "\n",
    "  # check if comp falls in that range\n",
    "  comp = query['TFP']/1000\n",
    "  final_index = -1\n",
    "  cur_jf=query.JF\n",
    "  if compare_range_ref(ref_table, comp, ref_index)==0:\n",
    "    #print(\"Exact match found at \", ref_index)\n",
    "    final_index = ref_index\n",
    "  elif compare_range_ref(ref_table, comp, ref_index )==-1:\n",
    "    ref_index_l=ref_index\n",
    "    while ref_table.loc[ref_table.index == ref_index_l].JF.values[0]==cur_jf:\n",
    "      if ref_table.loc[ref_table.index == ref_index_l].Level.values[0]=='S2':\n",
    "        final_index = ref_index_l\n",
    "        break\n",
    "      elif compare_range_ref(ref_table, comp, ref_index_l)==0:\n",
    "        final_index = ref_index_l\n",
    "        break\n",
    "      ref_index_l=ref_index_l-1\n",
    "  elif compare_range_ref(ref_table, comp, ref_index )==1:\n",
    "    ref_index_u=ref_index\n",
    "    while ref_table.loc[ref_table.index == ref_index_u].JF.values[0]==cur_jf:\n",
    "      if compare_range_ref(ref_table, comp, ref_index_u)==0:\n",
    "        final_index = ref_index_u\n",
    "        break\n",
    "      elif ref_table.loc[ref_table.index == ref_index_u].Level.values[0]=='E2':\n",
    "        final_index = ref_index_u\n",
    "        break\n",
    "      else:\n",
    "        if ref_table.loc[ref_table.index == ref_index_u].Level.values[0]=='I7':\n",
    "          ref_index_u = ref_index_u+7\n",
    "        else:\n",
    "          ref_index_u = ref_index_u+1\n",
    "\n",
    "  if final_index != -1 :\n",
    "    final_level = ref_table.loc[ref_table.index == final_index].Level.values[0]\n",
    "    reassigned_maps.at[d_index, 'level'] = final_level\n"
   ]
  },
  {
   "cell_type": "markdown",
   "metadata": {
    "id": "aXCEbpRvtQMQ"
   },
   "source": [
    "Final Outputs"
   ]
  },
  {
   "cell_type": "code",
   "execution_count": 69,
   "metadata": {
    "id": "E0CdXFbX02Gi"
   },
   "outputs": [],
   "source": [
    "pd.DataFrame(init_maps).to_csv('init_maps.csv')\n",
    "pd.DataFrame(reassigned_maps).to_csv('reassigned maps.csv')"
   ]
  },
  {
   "cell_type": "code",
   "execution_count": null,
   "metadata": {},
   "outputs": [],
   "source": []
  }
 ],
 "metadata": {
  "colab": {
   "provenance": []
  },
  "kernelspec": {
   "display_name": "Python 3 (ipykernel)",
   "language": "python",
   "name": "python3"
  },
  "language_info": {
   "codemirror_mode": {
    "name": "ipython",
    "version": 3
   },
   "file_extension": ".py",
   "mimetype": "text/x-python",
   "name": "python",
   "nbconvert_exporter": "python",
   "pygments_lexer": "ipython3",
   "version": "3.11.3"
  },
  "widgets": {
   "application/vnd.jupyter.widget-state+json": {
    "22d07cbc534f4879a6887256cac72392": {
     "model_module": "@jupyter-widgets/controls",
     "model_module_version": "1.5.0",
     "model_name": "DescriptionStyleModel",
     "state": {
      "_model_module": "@jupyter-widgets/controls",
      "_model_module_version": "1.5.0",
      "_model_name": "DescriptionStyleModel",
      "_view_count": null,
      "_view_module": "@jupyter-widgets/base",
      "_view_module_version": "1.2.0",
      "_view_name": "StyleView",
      "description_width": ""
     }
    },
    "5da4875b0bf64b0e9e93b8f296b6f909": {
     "model_module": "@jupyter-widgets/controls",
     "model_module_version": "1.5.0",
     "model_name": "HTMLModel",
     "state": {
      "_dom_classes": [],
      "_model_module": "@jupyter-widgets/controls",
      "_model_module_version": "1.5.0",
      "_model_name": "HTMLModel",
      "_view_count": null,
      "_view_module": "@jupyter-widgets/controls",
      "_view_module_version": "1.5.0",
      "_view_name": "HTMLView",
      "description": "",
      "description_tooltip": null,
      "layout": "IPY_MODEL_bd14be1d79ce4d19a56d992202b4828c",
      "placeholder": "​",
      "style": "IPY_MODEL_22d07cbc534f4879a6887256cac72392",
      "value": ""
     }
    },
    "5e49ae4122a84bbd81177b6d1818e2fa": {
     "model_module": "@jupyter-widgets/controls",
     "model_module_version": "1.5.0",
     "model_name": "HTMLModel",
     "state": {
      "_dom_classes": [],
      "_model_module": "@jupyter-widgets/controls",
      "_model_module_version": "1.5.0",
      "_model_name": "HTMLModel",
      "_view_count": null,
      "_view_module": "@jupyter-widgets/controls",
      "_view_module_version": "1.5.0",
      "_view_name": "HTMLView",
      "description": "",
      "description_tooltip": null,
      "layout": "IPY_MODEL_a80fe5058f644b73ab0afe26306fad16",
      "placeholder": "​",
      "style": "IPY_MODEL_865bafde588942c5a880098e62507201",
      "value": " 42954/? [03:59&lt;00:00, 159.85it/s]"
     }
    },
    "865bafde588942c5a880098e62507201": {
     "model_module": "@jupyter-widgets/controls",
     "model_module_version": "1.5.0",
     "model_name": "DescriptionStyleModel",
     "state": {
      "_model_module": "@jupyter-widgets/controls",
      "_model_module_version": "1.5.0",
      "_model_name": "DescriptionStyleModel",
      "_view_count": null,
      "_view_module": "@jupyter-widgets/base",
      "_view_module_version": "1.2.0",
      "_view_name": "StyleView",
      "description_width": ""
     }
    },
    "91691b6cd0e346c9a977aa7934bad04e": {
     "model_module": "@jupyter-widgets/controls",
     "model_module_version": "1.5.0",
     "model_name": "FloatProgressModel",
     "state": {
      "_dom_classes": [],
      "_model_module": "@jupyter-widgets/controls",
      "_model_module_version": "1.5.0",
      "_model_name": "FloatProgressModel",
      "_view_count": null,
      "_view_module": "@jupyter-widgets/controls",
      "_view_module_version": "1.5.0",
      "_view_name": "ProgressView",
      "bar_style": "info",
      "description": "",
      "description_tooltip": null,
      "layout": "IPY_MODEL_f0703153498245bbab6e556020138ec2",
      "max": 1,
      "min": 0,
      "orientation": "horizontal",
      "style": "IPY_MODEL_a3cf8eb85cf44ff48a3a0680fe3ba022",
      "value": 1
     }
    },
    "a3cf8eb85cf44ff48a3a0680fe3ba022": {
     "model_module": "@jupyter-widgets/controls",
     "model_module_version": "1.5.0",
     "model_name": "ProgressStyleModel",
     "state": {
      "_model_module": "@jupyter-widgets/controls",
      "_model_module_version": "1.5.0",
      "_model_name": "ProgressStyleModel",
      "_view_count": null,
      "_view_module": "@jupyter-widgets/base",
      "_view_module_version": "1.2.0",
      "_view_name": "StyleView",
      "bar_color": null,
      "description_width": ""
     }
    },
    "a80fe5058f644b73ab0afe26306fad16": {
     "model_module": "@jupyter-widgets/base",
     "model_module_version": "1.2.0",
     "model_name": "LayoutModel",
     "state": {
      "_model_module": "@jupyter-widgets/base",
      "_model_module_version": "1.2.0",
      "_model_name": "LayoutModel",
      "_view_count": null,
      "_view_module": "@jupyter-widgets/base",
      "_view_module_version": "1.2.0",
      "_view_name": "LayoutView",
      "align_content": null,
      "align_items": null,
      "align_self": null,
      "border": null,
      "bottom": null,
      "display": null,
      "flex": null,
      "flex_flow": null,
      "grid_area": null,
      "grid_auto_columns": null,
      "grid_auto_flow": null,
      "grid_auto_rows": null,
      "grid_column": null,
      "grid_gap": null,
      "grid_row": null,
      "grid_template_areas": null,
      "grid_template_columns": null,
      "grid_template_rows": null,
      "height": null,
      "justify_content": null,
      "justify_items": null,
      "left": null,
      "margin": null,
      "max_height": null,
      "max_width": null,
      "min_height": null,
      "min_width": null,
      "object_fit": null,
      "object_position": null,
      "order": null,
      "overflow": null,
      "overflow_x": null,
      "overflow_y": null,
      "padding": null,
      "right": null,
      "top": null,
      "visibility": null,
      "width": null
     }
    },
    "a91c58462c3d48b98fe75257d543e5c6": {
     "model_module": "@jupyter-widgets/base",
     "model_module_version": "1.2.0",
     "model_name": "LayoutModel",
     "state": {
      "_model_module": "@jupyter-widgets/base",
      "_model_module_version": "1.2.0",
      "_model_name": "LayoutModel",
      "_view_count": null,
      "_view_module": "@jupyter-widgets/base",
      "_view_module_version": "1.2.0",
      "_view_name": "LayoutView",
      "align_content": null,
      "align_items": null,
      "align_self": null,
      "border": null,
      "bottom": null,
      "display": null,
      "flex": null,
      "flex_flow": null,
      "grid_area": null,
      "grid_auto_columns": null,
      "grid_auto_flow": null,
      "grid_auto_rows": null,
      "grid_column": null,
      "grid_gap": null,
      "grid_row": null,
      "grid_template_areas": null,
      "grid_template_columns": null,
      "grid_template_rows": null,
      "height": null,
      "justify_content": null,
      "justify_items": null,
      "left": null,
      "margin": null,
      "max_height": null,
      "max_width": null,
      "min_height": null,
      "min_width": null,
      "object_fit": null,
      "object_position": null,
      "order": null,
      "overflow": null,
      "overflow_x": null,
      "overflow_y": null,
      "padding": null,
      "right": null,
      "top": null,
      "visibility": null,
      "width": null
     }
    },
    "bd14be1d79ce4d19a56d992202b4828c": {
     "model_module": "@jupyter-widgets/base",
     "model_module_version": "1.2.0",
     "model_name": "LayoutModel",
     "state": {
      "_model_module": "@jupyter-widgets/base",
      "_model_module_version": "1.2.0",
      "_model_name": "LayoutModel",
      "_view_count": null,
      "_view_module": "@jupyter-widgets/base",
      "_view_module_version": "1.2.0",
      "_view_name": "LayoutView",
      "align_content": null,
      "align_items": null,
      "align_self": null,
      "border": null,
      "bottom": null,
      "display": null,
      "flex": null,
      "flex_flow": null,
      "grid_area": null,
      "grid_auto_columns": null,
      "grid_auto_flow": null,
      "grid_auto_rows": null,
      "grid_column": null,
      "grid_gap": null,
      "grid_row": null,
      "grid_template_areas": null,
      "grid_template_columns": null,
      "grid_template_rows": null,
      "height": null,
      "justify_content": null,
      "justify_items": null,
      "left": null,
      "margin": null,
      "max_height": null,
      "max_width": null,
      "min_height": null,
      "min_width": null,
      "object_fit": null,
      "object_position": null,
      "order": null,
      "overflow": null,
      "overflow_x": null,
      "overflow_y": null,
      "padding": null,
      "right": null,
      "top": null,
      "visibility": null,
      "width": null
     }
    },
    "dba7dc498ce34280bac20566f8e1721d": {
     "model_module": "@jupyter-widgets/controls",
     "model_module_version": "1.5.0",
     "model_name": "HBoxModel",
     "state": {
      "_dom_classes": [],
      "_model_module": "@jupyter-widgets/controls",
      "_model_module_version": "1.5.0",
      "_model_name": "HBoxModel",
      "_view_count": null,
      "_view_module": "@jupyter-widgets/controls",
      "_view_module_version": "1.5.0",
      "_view_name": "HBoxView",
      "box_style": "",
      "children": [
       "IPY_MODEL_5da4875b0bf64b0e9e93b8f296b6f909",
       "IPY_MODEL_91691b6cd0e346c9a977aa7934bad04e",
       "IPY_MODEL_5e49ae4122a84bbd81177b6d1818e2fa"
      ],
      "layout": "IPY_MODEL_a91c58462c3d48b98fe75257d543e5c6"
     }
    },
    "f0703153498245bbab6e556020138ec2": {
     "model_module": "@jupyter-widgets/base",
     "model_module_version": "1.2.0",
     "model_name": "LayoutModel",
     "state": {
      "_model_module": "@jupyter-widgets/base",
      "_model_module_version": "1.2.0",
      "_model_name": "LayoutModel",
      "_view_count": null,
      "_view_module": "@jupyter-widgets/base",
      "_view_module_version": "1.2.0",
      "_view_name": "LayoutView",
      "align_content": null,
      "align_items": null,
      "align_self": null,
      "border": null,
      "bottom": null,
      "display": null,
      "flex": null,
      "flex_flow": null,
      "grid_area": null,
      "grid_auto_columns": null,
      "grid_auto_flow": null,
      "grid_auto_rows": null,
      "grid_column": null,
      "grid_gap": null,
      "grid_row": null,
      "grid_template_areas": null,
      "grid_template_columns": null,
      "grid_template_rows": null,
      "height": null,
      "justify_content": null,
      "justify_items": null,
      "left": null,
      "margin": null,
      "max_height": null,
      "max_width": null,
      "min_height": null,
      "min_width": null,
      "object_fit": null,
      "object_position": null,
      "order": null,
      "overflow": null,
      "overflow_x": null,
      "overflow_y": null,
      "padding": null,
      "right": null,
      "top": null,
      "visibility": null,
      "width": "20px"
     }
    }
   }
  }
 },
 "nbformat": 4,
 "nbformat_minor": 1
}
