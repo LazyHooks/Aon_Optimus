{
  "nbformat": 4,
  "nbformat_minor": 0,
  "metadata": {
    "colab": {
      "provenance": [],
      "include_colab_link": true
    },
    "kernelspec": {
      "name": "python3",
      "display_name": "Python 3"
    },
    "language_info": {
      "name": "python"
    }
  },
  "cells": [
    {
      "cell_type": "markdown",
      "metadata": {
        "id": "view-in-github",
        "colab_type": "text"
      },
      "source": [
        "<a href=\"https://colab.research.google.com/github/LazyHooks/Optimus/blob/main/optimus_v4.3_Version4_TestSpringboard.ipynb\" target=\"_parent\"><img src=\"https://colab.research.google.com/assets/colab-badge.svg\" alt=\"Open In Colab\"/></a>"
      ]
    },
    {
      "cell_type": "code",
      "source": [
        "import pandas as pd"
      ],
      "metadata": {
        "id": "qnHLNOlup9EC"
      },
      "execution_count": 1,
      "outputs": []
    },
    {
      "cell_type": "code",
      "source": [
        "df = pd.read_csv('Version4_Train_product.csv')\n",
        "df.shape"
      ],
      "metadata": {
        "id": "A8i1ht13p_jE",
        "outputId": "6766d2bb-d27a-4b96-b948-f4b251f80bca",
        "colab": {
          "base_uri": "https://localhost:8080/"
        }
      },
      "execution_count": 2,
      "outputs": [
        {
          "output_type": "execute_result",
          "data": {
            "text/plain": [
              "(178944, 6)"
            ]
          },
          "metadata": {},
          "execution_count": 2
        }
      ]
    },
    {
      "cell_type": "code",
      "source": [
        "df_test = pd.read_csv('Version4_Test_Springboard.csv')\n",
        "df_test.shape"
      ],
      "metadata": {
        "id": "g8-zz11mqB8b",
        "outputId": "75645a33-2fff-4fd7-c740-d033735ff593",
        "colab": {
          "base_uri": "https://localhost:8080/"
        }
      },
      "execution_count": 3,
      "outputs": [
        {
          "output_type": "execute_result",
          "data": {
            "text/plain": [
              "(46, 6)"
            ]
          },
          "metadata": {},
          "execution_count": 3
        }
      ]
    },
    {
      "cell_type": "code",
      "source": [
        "df.shape\n",
        "#set(df['Company Name'])"
      ],
      "metadata": {
        "id": "WUT3QAtFqFAk",
        "outputId": "74d2e116-a17c-43fe-c8d5-b9ad10f145d3",
        "colab": {
          "base_uri": "https://localhost:8080/"
        }
      },
      "execution_count": 4,
      "outputs": [
        {
          "output_type": "execute_result",
          "data": {
            "text/plain": [
              "(178944, 6)"
            ]
          },
          "metadata": {},
          "execution_count": 4
        }
      ]
    },
    {
      "cell_type": "code",
      "source": [
        "df.columns"
      ],
      "metadata": {
        "id": "XgKUy_kIqISg",
        "outputId": "e6fa14e9-4b0d-4206-95be-2e3cb186636d",
        "colab": {
          "base_uri": "https://localhost:8080/"
        }
      },
      "execution_count": 5,
      "outputs": [
        {
          "output_type": "execute_result",
          "data": {
            "text/plain": [
              "Index(['Company Name', 'Co. Designation', 'Co. Function', 'Job Family Code',\n",
              "       'Level', 'TFP'],\n",
              "      dtype='object')"
            ]
          },
          "metadata": {},
          "execution_count": 5
        }
      ]
    },
    {
      "cell_type": "code",
      "source": [
        "train_cols = ['Co. Designation', 'Co. Function']\n",
        "train_cols_2='Co. Designation'"
      ],
      "metadata": {
        "id": "snqs9UFrqK1M"
      },
      "execution_count": 6,
      "outputs": []
    },
    {
      "cell_type": "code",
      "source": [
        "target_col = 'Job Family Code'\n",
        "target_col_2='Level'"
      ],
      "metadata": {
        "id": "Q7EVYCfFqLPP"
      },
      "execution_count": 7,
      "outputs": []
    },
    {
      "cell_type": "code",
      "source": [
        "all_cols = ['Co. Designation', 'Co. Function', 'Job Family Code','Level']"
      ],
      "metadata": {
        "id": "BnXOkzyFqMzP"
      },
      "execution_count": 8,
      "outputs": []
    },
    {
      "cell_type": "code",
      "source": [
        "import pandas as pd\n",
        "from scipy.sparse import hstack\n",
        "from sklearn.feature_extraction.text import TfidfVectorizer\n",
        "from sklearn.linear_model import LogisticRegression\n",
        "from sklearn.metrics import accuracy_score, classification_report\n",
        "from sklearn.model_selection import train_test_split"
      ],
      "metadata": {
        "id": "qtC88Zw9qPj5"
      },
      "execution_count": 9,
      "outputs": []
    },
    {
      "cell_type": "code",
      "source": [
        "# Load data\n",
        "data = pd.read_csv('Version4_Train_product.csv')"
      ],
      "metadata": {
        "id": "1Ut2p3HnqQtf"
      },
      "execution_count": 10,
      "outputs": []
    },
    {
      "cell_type": "code",
      "source": [
        "#df_test.head()"
      ],
      "metadata": {
        "id": "ZXQTHb6UqSTq"
      },
      "execution_count": 11,
      "outputs": []
    },
    {
      "cell_type": "code",
      "source": [
        "data = data[all_cols]\n",
        "data = data.dropna()"
      ],
      "metadata": {
        "id": "677jgG6vqUER"
      },
      "execution_count": 12,
      "outputs": []
    },
    {
      "cell_type": "code",
      "source": [
        "df_test = df_test[all_cols]\n",
        "df_test = df_test.dropna()"
      ],
      "metadata": {
        "id": "Lw2QDppCqVk0"
      },
      "execution_count": 13,
      "outputs": []
    },
    {
      "cell_type": "code",
      "source": [
        "#data.head()"
      ],
      "metadata": {
        "id": "XWwhj-PCqW1M"
      },
      "execution_count": 14,
      "outputs": []
    },
    {
      "cell_type": "code",
      "source": [
        "#df_test.head()"
      ],
      "metadata": {
        "id": "Q_uADMLNqYpW"
      },
      "execution_count": 15,
      "outputs": []
    },
    {
      "cell_type": "markdown",
      "source": [
        "JF"
      ],
      "metadata": {
        "id": "_UlVoosAD-It"
      }
    },
    {
      "cell_type": "code",
      "source": [
        "# Extract features from each text column using TF-IDF vectorizer\n",
        "vectorizers = []\n",
        "X_train_list = []\n",
        "X_test_list = []\n",
        "for col in train_cols:\n",
        "    vectorizer = TfidfVectorizer(max_features=10000)\n",
        "    X_train_col = vectorizer.fit_transform(data.loc[:, col])\n",
        "    X_train_list.append(X_train_col)\n",
        "    X_test_col = vectorizer.transform(data.loc[:, col])\n",
        "    X_test_list.append(X_test_col)\n",
        "    vectorizers.append(vectorizer)"
      ],
      "metadata": {
        "id": "INmGmNpcqarC"
      },
      "execution_count": 16,
      "outputs": []
    },
    {
      "cell_type": "markdown",
      "source": [
        "Level"
      ],
      "metadata": {
        "id": "ftnxt4mXD_Nz"
      }
    },
    {
      "cell_type": "code",
      "source": [
        "vectorizers_2 = []\n",
        "X_train_list_2 = []\n",
        "X_test_list_2 = []\n",
        "#for col in train_cols_2:\n",
        "vectorizer = TfidfVectorizer(max_features=10000)\n",
        "X_train_col = vectorizer.fit_transform(data.loc[:, train_cols_2])\n",
        "X_train_list_2.append(X_train_col)\n",
        "X_test_col = vectorizer.transform(data.loc[:, train_cols_2])\n",
        "X_test_list_2.append(X_test_col)\n",
        "vectorizers_2.append(vectorizer)\n",
        "\n",
        "jfcol='Job Family Code'\n",
        "vectorizer = TfidfVectorizer(max_features=10000)\n",
        "X_train_col = vectorizer.fit_transform(data.loc[:, jfcol])\n",
        "X_train_list_2.append(X_train_col)\n",
        "X_test_col = vectorizer.transform(data.loc[:, jfcol])\n",
        "X_test_list_2.append(X_test_col)\n",
        "vectorizers_2.append(vectorizer)\n"
      ],
      "metadata": {
        "id": "Qnp9DBKiD9eS"
      },
      "execution_count": 17,
      "outputs": []
    },
    {
      "cell_type": "markdown",
      "source": [
        "JF"
      ],
      "metadata": {
        "id": "rymDy7YTESw5"
      }
    },
    {
      "cell_type": "code",
      "source": [
        "# Concatenate sparse matrices into a single feature matrix\n",
        "X_train = hstack(X_train_list)\n",
        "X_test = hstack(X_test_list)\n",
        "\n",
        "# Split data into training and testing sets\n",
        "y_train = data[target_col]\n",
        "#y_test = df_test[target_col]\n",
        "\n",
        "X_train, X_test, y_train, y_test = train_test_split(X_train, y_train, test_size=0.2, random_state=42)"
      ],
      "metadata": {
        "id": "b2nmh3_nqcsI"
      },
      "execution_count": 18,
      "outputs": []
    },
    {
      "cell_type": "markdown",
      "source": [
        "Level"
      ],
      "metadata": {
        "id": "jsqt4A1TETsL"
      }
    },
    {
      "cell_type": "code",
      "source": [
        "# Concatenate sparse matrices into a single feature matrix\n",
        "X_train_2 = hstack(X_train_list_2)\n",
        "X_test_2 = hstack(X_test_list_2)\n",
        "\n",
        "# Split data into training and testing sets\n",
        "y_train_2 = data[target_col_2]\n",
        "#y_test = df_test[target_col]\n",
        "\n",
        "X_train_2, X_test_2, y_train_2, y_test_2 = train_test_split(X_train_2, y_train_2, test_size=0.2, random_state=42)\n"
      ],
      "metadata": {
        "id": "JmDTcbOeEU9t"
      },
      "execution_count": 19,
      "outputs": []
    },
    {
      "cell_type": "markdown",
      "source": [
        "JF"
      ],
      "metadata": {
        "id": "eoMDb8e8EoCP"
      }
    },
    {
      "cell_type": "code",
      "source": [
        "# Train logistic regression model\n",
        "model = LogisticRegression()\n",
        "model.fit(X_train, y_train)\n",
        "\n",
        "# Predict on test set and evaluate performance\n",
        "y_pred = model.predict(X_test)\n",
        "print('Accuracy:', accuracy_score(y_test, y_pred))\n",
        "print('Classification Report:\\n', classification_report(y_test, y_pred))"
      ],
      "metadata": {
        "id": "oKeT0fuVqe2-",
        "outputId": "79d8eea2-3135-4c59-b0d1-b54f055d15f9",
        "colab": {
          "base_uri": "https://localhost:8080/"
        }
      },
      "execution_count": 20,
      "outputs": [
        {
          "output_type": "stream",
          "name": "stderr",
          "text": [
            "/usr/local/lib/python3.10/dist-packages/sklearn/linear_model/_logistic.py:458: ConvergenceWarning: lbfgs failed to converge (status=1):\n",
            "STOP: TOTAL NO. of ITERATIONS REACHED LIMIT.\n",
            "\n",
            "Increase the number of iterations (max_iter) or scale the data as shown in:\n",
            "    https://scikit-learn.org/stable/modules/preprocessing.html\n",
            "Please also refer to the documentation for alternative solver options:\n",
            "    https://scikit-learn.org/stable/modules/linear_model.html#logistic-regression\n",
            "  n_iter_i = _check_optimize_result(\n"
          ]
        },
        {
          "output_type": "stream",
          "name": "stdout",
          "text": [
            "Accuracy: 0.8730336136801811\n"
          ]
        },
        {
          "output_type": "stream",
          "name": "stderr",
          "text": [
            "/usr/local/lib/python3.10/dist-packages/sklearn/metrics/_classification.py:1344: UndefinedMetricWarning: Precision and F-score are ill-defined and being set to 0.0 in labels with no predicted samples. Use `zero_division` parameter to control this behavior.\n",
            "  _warn_prf(average, modifier, msg_start, len(result))\n",
            "/usr/local/lib/python3.10/dist-packages/sklearn/metrics/_classification.py:1344: UndefinedMetricWarning: Precision and F-score are ill-defined and being set to 0.0 in labels with no predicted samples. Use `zero_division` parameter to control this behavior.\n",
            "  _warn_prf(average, modifier, msg_start, len(result))\n"
          ]
        },
        {
          "output_type": "stream",
          "name": "stdout",
          "text": [
            "Classification Report:\n",
            "               precision    recall  f1-score   support\n",
            "\n",
            "        AADS       0.83      0.78      0.81       180\n",
            "        AAMD       0.94      0.86      0.90       150\n",
            "        AAML       0.91      0.85      0.88        96\n",
            "        AFAD       0.68      0.61      0.65        49\n",
            "        AFFE       0.93      0.72      0.81        39\n",
            "        AFSE       0.55      0.46      0.50        13\n",
            "        AFXX       0.81      0.60      0.69        43\n",
            "        ARCD       0.83      0.83      0.83         6\n",
            "        ARRP       1.00      1.00      1.00         3\n",
            "        ARXX       0.93      0.87      0.90       399\n",
            "        ASCD       1.00      0.67      0.80        61\n",
            "        ASDB       0.75      0.76      0.76        63\n",
            "        ASEC       1.00      0.83      0.91        12\n",
            "        ASFS       0.26      0.92      0.40        88\n",
            "        ASMD       1.00      0.09      0.17        11\n",
            "        ASPI       0.86      0.65      0.74       165\n",
            "        ASRP       1.00      0.88      0.94        41\n",
            "        ASUI       0.74      0.72      0.73        43\n",
            "        ASWD       1.00      0.99      1.00       112\n",
            "        ASXX       0.85      0.62      0.72      2008\n",
            "        BCPM       0.80      0.57      0.67         7\n",
            "        BFAC       1.00      1.00      1.00        97\n",
            "        BFAM       1.00      0.83      0.91         6\n",
            "        BFCA       1.00      0.87      0.93        15\n",
            "        BFCB       1.00      0.97      0.99        79\n",
            "        BFCM       1.00      1.00      1.00        28\n",
            "        BFIR       1.00      1.00      1.00       249\n",
            "        BFKY       1.00      1.00      1.00        34\n",
            "        BFUW       1.00      1.00      1.00       102\n",
            "        BFWB       1.00      0.90      0.95        83\n",
            "        BSMT       0.85      0.91      0.88        89\n",
            "        CCCE       1.00      1.00      1.00       172\n",
            "        CCCO       0.78      1.00      0.88         7\n",
            "        CCCV       0.99      0.99      0.99      1146\n",
            "        CCID       0.00      0.00      0.00         3\n",
            "        CCMD       0.97      0.98      0.98       636\n",
            "        CMDO       0.74      0.22      0.34        63\n",
            "        CMXX       0.90      0.90      0.90        40\n",
            "        CSAN       1.00      0.88      0.93         8\n",
            "        CSBC       0.84      0.94      0.89       431\n",
            "        CSCG       0.90      0.77      0.83        71\n",
            "        CSCS       0.89      0.77      0.83        44\n",
            "        CSED       1.00      0.96      0.98        27\n",
            "        CSEL       0.00      0.00      0.00         6\n",
            "        CSFC       0.81      0.82      0.82       558\n",
            "        CSSI       0.90      0.73      0.81       145\n",
            "        DABD       0.87      0.84      0.85       157\n",
            "        DABI       0.75      0.66      0.70        80\n",
            "        DADV       1.00      0.96      0.98        24\n",
            "        DADW       0.00      0.00      0.00        19\n",
            "        DMMD       0.00      0.00      0.00         2\n",
            "        DMSM       1.00      1.00      1.00        26\n",
            "        EDCA       1.00      0.95      0.97        98\n",
            "        EDEE       0.98      0.96      0.97       686\n",
            "        EDFE       1.00      0.25      0.40         4\n",
            "        EDME       0.97      0.97      0.97       202\n",
            "        EDXX       0.97      0.84      0.90        74\n",
            "        FAAG       0.84      0.90      0.87       305\n",
            "        FAAP       1.00      0.99      0.99       478\n",
            "        FAER       0.89      0.62      0.73        13\n",
            "        FAFA       0.78      0.77      0.78       188\n",
            "        FAFI       0.93      1.00      0.96        54\n",
            "        FALC       0.00      0.00      0.00         6\n",
            "        FAML       1.00      0.99      0.99        91\n",
            "        FLAC       0.91      0.66      0.76        73\n",
            "        FLCS       0.00      0.00      0.00         2\n",
            "        FLFA       0.70      0.78      0.74         9\n",
            "        FLLE       0.92      0.98      0.95       117\n",
            "        FLMI       0.00      0.00      0.00         1\n",
            "        FLPP       0.97      0.98      0.98       224\n",
            "        FLPR       0.72      0.99      0.84        80\n",
            "        FLTR       1.00      0.80      0.89        10\n",
            "        FLTX       1.00      0.83      0.91        29\n",
            "        FLXX       0.74      0.72      0.73       351\n",
            "        GDXX       1.00      0.78      0.87        58\n",
            "        HCMC       1.00      1.00      1.00        11\n",
            "        HCMR       1.00      1.00      1.00        29\n",
            "        HCRM       0.90      0.95      0.92       180\n",
            "        HRBP       0.68      0.76      0.71       119\n",
            "        HRCB       0.95      0.67      0.78        27\n",
            "        HRDI       0.00      0.00      0.00         1\n",
            "        HRGM       1.00      0.50      0.67         8\n",
            "        HROD       1.00      0.20      0.33         5\n",
            "        HRRE       0.94      0.87      0.90       215\n",
            "        HRRM       0.00      0.00      0.00         5\n",
            "        HRSS       0.69      0.42      0.52        43\n",
            "        HRTR       0.93      0.64      0.76        44\n",
            "        HRXX       0.77      0.72      0.75        57\n",
            "        HSGL       0.80      0.80      0.80        15\n",
            "        HSPL       0.00      0.00      0.00         1\n",
            "        INAU       0.94      0.75      0.83        20\n",
            "        INCL       1.00      0.25      0.40        36\n",
            "        INDB       0.97      0.63      0.77        57\n",
            "        INDC       1.00      0.53      0.70        15\n",
            "        INDS       0.93      0.85      0.89       121\n",
            "        INFS       0.97      0.96      0.97        72\n",
            "        INNE       0.86      0.72      0.78       108\n",
            "        INRA       0.96      0.96      0.96       532\n",
            "        INRE       0.87      0.84      0.85        31\n",
            "        INRI       0.86      1.00      0.92         6\n",
            "        INSA       1.00      0.82      0.90        11\n",
            "        INSS       0.63      0.82      0.71        33\n",
            "        INTI       1.00      1.00      1.00         5\n",
            "        INXX       0.83      0.82      0.83       436\n",
            "        ITAU       0.43      0.87      0.58        38\n",
            "        LECM       0.79      0.31      0.44        36\n",
            "        LECO       0.00      0.00      0.00         2\n",
            "        LEIP       0.00      0.00      0.00         1\n",
            "        LEPO       1.00      1.00      1.00        30\n",
            "        LERE       0.00      0.00      0.00         2\n",
            "        MBCC       0.92      0.67      0.77        18\n",
            "        MBCM       0.71      0.69      0.70        67\n",
            "        MBDM       0.88      0.58      0.70        26\n",
            "        MBGM       0.00      0.00      0.00         4\n",
            "        MBSE       1.00      0.25      0.40         4\n",
            "        MBXX       0.66      0.91      0.77       127\n",
            "        PDFD       0.66      0.98      0.79      2160\n",
            "        PDFS       0.79      0.70      0.74        93\n",
            "        PDHD       0.96      0.44      0.61      1996\n",
            "        PDLE       0.91      0.97      0.94       778\n",
            "        PDMD       0.83      0.42      0.56        12\n",
            "        PDPM       0.83      0.86      0.84       336\n",
            "        PDUI       0.69      0.38      0.50        65\n",
            "        PDXX       0.83      0.96      0.89      4967\n",
            "        PRAG       0.91      0.45      0.61        22\n",
            "        PRPO       0.91      0.93      0.92       396\n",
            "        PRXX       0.86      0.91      0.89       501\n",
            "        QAXX       0.75      0.78      0.76        85\n",
            "        QUTF       0.87      0.82      0.84        93\n",
            "        QUTS       1.00      1.00      1.00       205\n",
            "        RABA       0.97      0.95      0.96       223\n",
            "        RABF       1.00      0.98      0.99       145\n",
            "        RAPR       1.00      0.86      0.93        44\n",
            "        RASR       0.99      0.99      0.99       391\n",
            "        RICR       1.00      1.00      1.00         8\n",
            "        RIOR       1.00      1.00      1.00        27\n",
            "        RSMO       1.00      0.80      0.89        15\n",
            "        RSSC       1.00      0.64      0.78        25\n",
            "        RSSD       0.21      0.12      0.15        26\n",
            "        RSVM       0.50      1.00      0.67         1\n",
            "        RSWL       0.79      0.94      0.86       207\n",
            "        SAAC       0.91      0.95      0.93       682\n",
            "        SABD       0.86      0.74      0.79       152\n",
            "        SACH       0.83      0.85      0.84       200\n",
            "        SACS       0.89      0.79      0.84       107\n",
            "        SAIN       0.89      0.94      0.92       197\n",
            "        SAPS       0.93      0.51      0.66       221\n",
            "        SASD       0.90      0.82      0.86       171\n",
            "        SAXX       0.86      0.81      0.83       212\n",
            "        SCCP       0.96      0.87      0.91       146\n",
            "        SSSO       0.67      0.90      0.77        48\n",
            "        SYAS       0.62      0.71      0.67         7\n",
            "        SYGR       1.00      0.64      0.78        11\n",
            "        SYIM       0.80      0.91      0.85       100\n",
            "        SYIN       0.85      0.92      0.88        12\n",
            "        SYXX       0.94      0.48      0.63        63\n",
            "        TEAU       0.91      0.92      0.91      1016\n",
            "        TEEM       1.00      0.50      0.67        20\n",
            "        TEMT       0.50      0.05      0.08        22\n",
            "        TEXX       0.99      0.98      0.99      2083\n",
            "        TOCO       0.98      1.00      0.99      2487\n",
            "        TOFC       0.69      0.87      0.77       178\n",
            "        TOFS       0.00      0.00      0.00         4\n",
            "        TOHR       0.00      0.00      0.00         1\n",
            "        TOMR       1.00      0.42      0.59        24\n",
            "        TOPO       1.00      0.91      0.95        98\n",
            "        TOSI       1.00      1.00      1.00       637\n",
            "        TRPR       1.00      0.94      0.97        51\n",
            "        TRTN       1.00      0.80      0.89        20\n",
            "        TTXX       0.81      0.76      0.78        33\n",
            "        TWXX       0.98      0.96      0.97       133\n",
            "        UEXX       0.46      0.30      0.36        40\n",
            "        VATR       1.00      1.00      1.00         5\n",
            "\n",
            "    accuracy                           0.87     35789\n",
            "   macro avg       0.80      0.72      0.74     35789\n",
            "weighted avg       0.89      0.87      0.87     35789\n",
            "\n"
          ]
        },
        {
          "output_type": "stream",
          "name": "stderr",
          "text": [
            "/usr/local/lib/python3.10/dist-packages/sklearn/metrics/_classification.py:1344: UndefinedMetricWarning: Precision and F-score are ill-defined and being set to 0.0 in labels with no predicted samples. Use `zero_division` parameter to control this behavior.\n",
            "  _warn_prf(average, modifier, msg_start, len(result))\n"
          ]
        }
      ]
    },
    {
      "cell_type": "markdown",
      "source": [
        "Level"
      ],
      "metadata": {
        "id": "speJir44Esd9"
      }
    },
    {
      "cell_type": "code",
      "source": [
        "# Train logistic regression model\n",
        "model_2 = LogisticRegression()\n",
        "model_2.fit(X_train_2, y_train_2)\n",
        "\n",
        "# Predict on test set and evaluate performance\n",
        "y_pred_2 = model_2.predict(X_test_2)\n",
        "print('Accuracy:', accuracy_score(y_test_2, y_pred_2))\n",
        "print('Classification Report:\\n', classification_report(y_test_2, y_pred_2))"
      ],
      "metadata": {
        "id": "g3VrW4jvEtUm",
        "colab": {
          "base_uri": "https://localhost:8080/"
        },
        "outputId": "02c0017e-378e-49b1-f33a-4448d00e25e4"
      },
      "execution_count": 21,
      "outputs": [
        {
          "output_type": "stream",
          "name": "stderr",
          "text": [
            "/usr/local/lib/python3.10/dist-packages/sklearn/linear_model/_logistic.py:458: ConvergenceWarning: lbfgs failed to converge (status=1):\n",
            "STOP: TOTAL NO. of ITERATIONS REACHED LIMIT.\n",
            "\n",
            "Increase the number of iterations (max_iter) or scale the data as shown in:\n",
            "    https://scikit-learn.org/stable/modules/preprocessing.html\n",
            "Please also refer to the documentation for alternative solver options:\n",
            "    https://scikit-learn.org/stable/modules/linear_model.html#logistic-regression\n",
            "  n_iter_i = _check_optimize_result(\n"
          ]
        },
        {
          "output_type": "stream",
          "name": "stdout",
          "text": [
            "Accuracy: 0.6873061555226466\n"
          ]
        },
        {
          "output_type": "stream",
          "name": "stderr",
          "text": [
            "/usr/local/lib/python3.10/dist-packages/sklearn/metrics/_classification.py:1344: UndefinedMetricWarning: Precision and F-score are ill-defined and being set to 0.0 in labels with no predicted samples. Use `zero_division` parameter to control this behavior.\n",
            "  _warn_prf(average, modifier, msg_start, len(result))\n",
            "/usr/local/lib/python3.10/dist-packages/sklearn/metrics/_classification.py:1344: UndefinedMetricWarning: Precision and F-score are ill-defined and being set to 0.0 in labels with no predicted samples. Use `zero_division` parameter to control this behavior.\n",
            "  _warn_prf(average, modifier, msg_start, len(result))\n"
          ]
        },
        {
          "output_type": "stream",
          "name": "stdout",
          "text": [
            "Classification Report:\n",
            "               precision    recall  f1-score   support\n",
            "\n",
            "          E1       0.74      0.32      0.44        63\n",
            "          E2       0.00      0.00      0.00         5\n",
            "          I1       0.82      0.73      0.77      4795\n",
            "          I2       0.62      0.72      0.66      6978\n",
            "          I3       0.63      0.66      0.64      6790\n",
            "          I4       0.54      0.55      0.54      4090\n",
            "          I5       0.67      0.53      0.59      1410\n",
            "          I6       0.65      0.33      0.43       340\n",
            "          I7       0.64      0.19      0.30        36\n",
            "          M2       0.71      0.32      0.44       165\n",
            "          M3       0.79      0.60      0.68       944\n",
            "          M4       0.60      0.68      0.64      1570\n",
            "          M5       0.60      0.44      0.51      1207\n",
            "          M6       0.61      0.59      0.60       781\n",
            "          M7       0.71      0.36      0.48       364\n",
            "          S1       0.86      0.75      0.80       177\n",
            "          S2       0.59      0.67      0.63       636\n",
            "          S3       0.92      0.95      0.94      5438\n",
            "\n",
            "    accuracy                           0.69     35789\n",
            "   macro avg       0.65      0.52      0.56     35789\n",
            "weighted avg       0.69      0.69      0.69     35789\n",
            "\n"
          ]
        },
        {
          "output_type": "stream",
          "name": "stderr",
          "text": [
            "/usr/local/lib/python3.10/dist-packages/sklearn/metrics/_classification.py:1344: UndefinedMetricWarning: Precision and F-score are ill-defined and being set to 0.0 in labels with no predicted samples. Use `zero_division` parameter to control this behavior.\n",
            "  _warn_prf(average, modifier, msg_start, len(result))\n"
          ]
        }
      ]
    },
    {
      "cell_type": "markdown",
      "source": [
        "Unseen JF"
      ],
      "metadata": {
        "id": "Uw3a2C6MFFps"
      }
    },
    {
      "cell_type": "code",
      "source": [
        "X_test_unseen = []\n",
        "\n",
        "for i, col in enumerate(train_cols):\n",
        "    vectorizer = vectorizers[i]\n",
        "    X_test_col = vectorizer.transform(df_test.loc[:, col])\n",
        "    X_test_unseen.append(X_test_col)\n",
        "\n",
        "X_unseen = hstack(X_test_unseen)"
      ],
      "metadata": {
        "id": "NQZToaZCqgw9"
      },
      "execution_count": 22,
      "outputs": []
    },
    {
      "cell_type": "markdown",
      "source": [
        "JF"
      ],
      "metadata": {
        "id": "p7G0-yLwG1Om"
      }
    },
    {
      "cell_type": "code",
      "source": [
        "y_test_pred = model.predict (X_unseen)"
      ],
      "metadata": {
        "id": "YHDH2Tm-qinj"
      },
      "execution_count": 23,
      "outputs": []
    },
    {
      "cell_type": "markdown",
      "source": [
        "Unseen Level + Pred JF"
      ],
      "metadata": {
        "id": "ouGxrZbu9AB8"
      }
    },
    {
      "cell_type": "code",
      "source": [
        "X_test_unseen_2 = []\n",
        "z=0\n",
        "\n",
        "vectorizer = vectorizers_2[0]\n",
        "X_test_col_2 = vectorizer.transform(df_test.loc[:, train_cols_2])\n",
        "X_test_unseen_2.append(X_test_col_2)\n",
        "z=i\n",
        "\n",
        "vectorizer = vectorizers_2[1]\n",
        "X_test_col_2 = vectorizer.transform(df_test.loc[:, jfcol])\n",
        "X_test_unseen_2.append(X_test_col_2)\n",
        "\n",
        "X_unseen_2 = hstack(X_test_unseen_2)\n"
      ],
      "metadata": {
        "id": "2InaNFw39De7"
      },
      "execution_count": 24,
      "outputs": []
    },
    {
      "cell_type": "markdown",
      "source": [
        "Level"
      ],
      "metadata": {
        "id": "70r5Xbw5G2en"
      }
    },
    {
      "cell_type": "code",
      "source": [
        "y_test_pred_2 = model_2.predict (X_unseen_2)"
      ],
      "metadata": {
        "id": "0XWYp9w4G4M2"
      },
      "execution_count": 25,
      "outputs": []
    },
    {
      "cell_type": "code",
      "source": [
        "pd.DataFrame(y_test_pred).to_csv('JF_x.csv')\n",
        "pd.DataFrame(y_test_pred_2).to_csv('Lvl_x.csv')\n",
        "frames=[pd.DataFrame(y_test_pred),pd.DataFrame(y_test_pred_2)]\n",
        "maps=pd.concat(frames, axis=1)\n",
        "pd.DataFrame(maps).to_csv('maps_x.csv')"
      ],
      "metadata": {
        "id": "GFo__iaGqkq3"
      },
      "execution_count": 26,
      "outputs": []
    },
    {
      "cell_type": "markdown",
      "source": [
        "JF"
      ],
      "metadata": {
        "id": "ReL5_jziHi-X"
      }
    },
    {
      "cell_type": "code",
      "source": [
        "# Predict on test set and evaluate performance\n",
        "y_test_actual=df_test[target_col]\n",
        "print('Accuracy:', accuracy_score(y_test_actual, y_test_pred))\n",
        "print('Classification Report:\\n', classification_report(y_test_actual, y_test_pred))"
      ],
      "metadata": {
        "id": "gKDeyzgiSrDX",
        "outputId": "8117835f-83ab-40f5-d19f-2342d8d81122",
        "colab": {
          "base_uri": "https://localhost:8080/"
        }
      },
      "execution_count": 27,
      "outputs": [
        {
          "output_type": "stream",
          "name": "stdout",
          "text": [
            "Accuracy: 0.7608695652173914\n",
            "Classification Report:\n",
            "               precision    recall  f1-score   support\n",
            "\n",
            "        ARXX       0.00      0.00      0.00         1\n",
            "        CSCG       0.00      0.00      0.00         1\n",
            "        FLPR       0.00      0.00      0.00         0\n",
            "        FLXX       1.00      1.00      1.00         1\n",
            "        HRRE       1.00      1.00      1.00         2\n",
            "        HRXX       0.00      0.00      0.00         1\n",
            "        INDS       0.00      0.00      0.00         1\n",
            "        PDFS       0.00      0.00      0.00         0\n",
            "        PDPM       0.00      0.00      0.00         2\n",
            "        PDXX       0.88      0.97      0.92        29\n",
            "        PRAG       0.00      0.00      0.00         2\n",
            "        PRPO       0.00      0.00      0.00         1\n",
            "        PRXX       0.00      0.00      0.00         1\n",
            "        TEAU       1.00      1.00      1.00         4\n",
            "        TWXX       0.00      0.00      0.00         0\n",
            "\n",
            "    accuracy                           0.76        46\n",
            "   macro avg       0.26      0.26      0.26        46\n",
            "weighted avg       0.70      0.76      0.73        46\n",
            "\n"
          ]
        },
        {
          "output_type": "stream",
          "name": "stderr",
          "text": [
            "/usr/local/lib/python3.10/dist-packages/sklearn/metrics/_classification.py:1344: UndefinedMetricWarning: Precision and F-score are ill-defined and being set to 0.0 in labels with no predicted samples. Use `zero_division` parameter to control this behavior.\n",
            "  _warn_prf(average, modifier, msg_start, len(result))\n",
            "/usr/local/lib/python3.10/dist-packages/sklearn/metrics/_classification.py:1344: UndefinedMetricWarning: Recall and F-score are ill-defined and being set to 0.0 in labels with no true samples. Use `zero_division` parameter to control this behavior.\n",
            "  _warn_prf(average, modifier, msg_start, len(result))\n",
            "/usr/local/lib/python3.10/dist-packages/sklearn/metrics/_classification.py:1344: UndefinedMetricWarning: Precision and F-score are ill-defined and being set to 0.0 in labels with no predicted samples. Use `zero_division` parameter to control this behavior.\n",
            "  _warn_prf(average, modifier, msg_start, len(result))\n",
            "/usr/local/lib/python3.10/dist-packages/sklearn/metrics/_classification.py:1344: UndefinedMetricWarning: Recall and F-score are ill-defined and being set to 0.0 in labels with no true samples. Use `zero_division` parameter to control this behavior.\n",
            "  _warn_prf(average, modifier, msg_start, len(result))\n",
            "/usr/local/lib/python3.10/dist-packages/sklearn/metrics/_classification.py:1344: UndefinedMetricWarning: Precision and F-score are ill-defined and being set to 0.0 in labels with no predicted samples. Use `zero_division` parameter to control this behavior.\n",
            "  _warn_prf(average, modifier, msg_start, len(result))\n",
            "/usr/local/lib/python3.10/dist-packages/sklearn/metrics/_classification.py:1344: UndefinedMetricWarning: Recall and F-score are ill-defined and being set to 0.0 in labels with no true samples. Use `zero_division` parameter to control this behavior.\n",
            "  _warn_prf(average, modifier, msg_start, len(result))\n"
          ]
        }
      ]
    },
    {
      "cell_type": "markdown",
      "source": [
        "Level"
      ],
      "metadata": {
        "id": "WdQCZxtcHllh"
      }
    },
    {
      "cell_type": "code",
      "source": [
        "# Predict on test set and evaluate performance\n",
        "y_test_actual_2=df_test[target_col_2]\n",
        "print('Accuracy:', accuracy_score(y_test_actual_2, y_test_pred_2))\n",
        "print('Classification Report:\\n', classification_report(y_test_actual_2, y_test_pred_2))"
      ],
      "metadata": {
        "id": "0Dty7SHVHmtG",
        "colab": {
          "base_uri": "https://localhost:8080/"
        },
        "outputId": "72e12e1d-fe20-4124-c049-f31d70e77fe9"
      },
      "execution_count": 28,
      "outputs": [
        {
          "output_type": "stream",
          "name": "stdout",
          "text": [
            "Accuracy: 0.6956521739130435\n",
            "Classification Report:\n",
            "               precision    recall  f1-score   support\n",
            "\n",
            "          I1       0.33      0.25      0.29         4\n",
            "          I2       0.77      0.71      0.74        14\n",
            "          I3       0.93      0.88      0.90        16\n",
            "          I4       0.40      1.00      0.57         2\n",
            "          I5       0.00      0.00      0.00         0\n",
            "          I6       0.00      0.00      0.00         1\n",
            "          M3       0.00      0.00      0.00         2\n",
            "          M4       1.00      1.00      1.00         2\n",
            "          M5       1.00      0.33      0.50         3\n",
            "          M6       0.40      1.00      0.57         2\n",
            "          S3       0.00      0.00      0.00         0\n",
            "\n",
            "    accuracy                           0.70        46\n",
            "   macro avg       0.44      0.47      0.42        46\n",
            "weighted avg       0.73      0.70      0.69        46\n",
            "\n"
          ]
        },
        {
          "output_type": "stream",
          "name": "stderr",
          "text": [
            "/usr/local/lib/python3.10/dist-packages/sklearn/metrics/_classification.py:1344: UndefinedMetricWarning: Precision and F-score are ill-defined and being set to 0.0 in labels with no predicted samples. Use `zero_division` parameter to control this behavior.\n",
            "  _warn_prf(average, modifier, msg_start, len(result))\n",
            "/usr/local/lib/python3.10/dist-packages/sklearn/metrics/_classification.py:1344: UndefinedMetricWarning: Recall and F-score are ill-defined and being set to 0.0 in labels with no true samples. Use `zero_division` parameter to control this behavior.\n",
            "  _warn_prf(average, modifier, msg_start, len(result))\n",
            "/usr/local/lib/python3.10/dist-packages/sklearn/metrics/_classification.py:1344: UndefinedMetricWarning: Precision and F-score are ill-defined and being set to 0.0 in labels with no predicted samples. Use `zero_division` parameter to control this behavior.\n",
            "  _warn_prf(average, modifier, msg_start, len(result))\n",
            "/usr/local/lib/python3.10/dist-packages/sklearn/metrics/_classification.py:1344: UndefinedMetricWarning: Recall and F-score are ill-defined and being set to 0.0 in labels with no true samples. Use `zero_division` parameter to control this behavior.\n",
            "  _warn_prf(average, modifier, msg_start, len(result))\n",
            "/usr/local/lib/python3.10/dist-packages/sklearn/metrics/_classification.py:1344: UndefinedMetricWarning: Precision and F-score are ill-defined and being set to 0.0 in labels with no predicted samples. Use `zero_division` parameter to control this behavior.\n",
            "  _warn_prf(average, modifier, msg_start, len(result))\n",
            "/usr/local/lib/python3.10/dist-packages/sklearn/metrics/_classification.py:1344: UndefinedMetricWarning: Recall and F-score are ill-defined and being set to 0.0 in labels with no true samples. Use `zero_division` parameter to control this behavior.\n",
            "  _warn_prf(average, modifier, msg_start, len(result))\n"
          ]
        }
      ]
    }
  ]
}