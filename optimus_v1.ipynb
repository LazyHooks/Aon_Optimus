{
  "nbformat": 4,
  "nbformat_minor": 0,
  "metadata": {
    "colab": {
      "provenance": [],
      "include_colab_link": true
    },
    "kernelspec": {
      "name": "python3",
      "display_name": "Python 3"
    },
    "language_info": {
      "name": "python"
    }
  },
  "cells": [
    {
      "cell_type": "markdown",
      "metadata": {
        "id": "view-in-github",
        "colab_type": "text"
      },
      "source": [
        "<a href=\"https://colab.research.google.com/github/LazyHooks/Aon_Optimus/blob/main/optimus_v1.ipynb\" target=\"_parent\"><img src=\"https://colab.research.google.com/assets/colab-badge.svg\" alt=\"Open In Colab\"/></a>"
      ]
    },
    {
      "cell_type": "markdown",
      "source": [
        "imports"
      ],
      "metadata": {
        "id": "EZ66BoAMg2RN"
      }
    },
    {
      "cell_type": "code",
      "source": [
        "import numpy as np\n",
        "import matplotlib.pyplot as plt\n",
        "import pandas as pd\n",
        "import numpy as np\n",
        "import math"
      ],
      "metadata": {
        "id": "85Jrb1-0g5gr"
      },
      "execution_count": null,
      "outputs": []
    },
    {
      "cell_type": "code",
      "source": [
        "from transformers import BertTokenizer\n",
        "from torch.optim import AdamW\n",
        "from transformers import get_linear_schedule_with_warmup\n",
        "from torch.nn.utils import clip_grad_norm_\n",
        "from tqdm.notebook import tqdm\n",
        "from keras.wrappers.scikit_learn import KerasClassifier\n",
        "from sklearn.model_selection import GridSearchCV\n",
        "from keras.models import Sequential \n",
        "from keras.layers import Dense\n",
        "from keras.layers import Dropout"
      ],
      "metadata": {
        "id": "Y-mwBcyxhdww"
      },
      "execution_count": null,
      "outputs": []
    },
    {
      "cell_type": "markdown",
      "source": [
        "input"
      ],
      "metadata": {
        "id": "-enRFqMvhe57"
      }
    },
    {
      "cell_type": "code",
      "source": [
        "dataset = pd.read_csv('Churn_Modelling.csv')\n"
      ],
      "metadata": {
        "id": "J8b3fvEehfwn"
      },
      "execution_count": null,
      "outputs": []
    },
    {
      "cell_type": "markdown",
      "source": [
        "Descriptive"
      ],
      "metadata": {
        "id": "VRUPkPjSduKP"
      }
    },
    {
      "cell_type": "code",
      "source": [
        "df.shape\n",
        "df.info()"
      ],
      "metadata": {
        "id": "Wo9v1Q2SdbcC"
      },
      "execution_count": null,
      "outputs": []
    },
    {
      "cell_type": "code",
      "source": [
        "df.head()"
      ],
      "metadata": {
        "id": "4bUsnFH8djIx"
      },
      "execution_count": null,
      "outputs": []
    },
    {
      "cell_type": "code",
      "source": [
        "df.isnull().sum()\n",
        "df.describe()"
      ],
      "metadata": {
        "id": "3aRAvv1Sdm7q"
      },
      "execution_count": null,
      "outputs": []
    },
    {
      "cell_type": "markdown",
      "source": [
        "Split X & Y"
      ],
      "metadata": {
        "id": "WtMuvYWFdXbN"
      }
    },
    {
      "cell_type": "code",
      "source": [
        "X = dataset.iloc[:, 1:-1].values\n",
        "Y = dataset.iloc[:, -1].values"
      ],
      "metadata": {
        "id": "1eAGcs3wdVmw"
      },
      "execution_count": null,
      "outputs": []
    },
    {
      "cell_type": "markdown",
      "source": [
        "Scaling ?"
      ],
      "metadata": {
        "id": "Fpkgk9MYdytu"
      }
    },
    {
      "cell_type": "markdown",
      "source": [
        "Tokenizing"
      ],
      "metadata": {
        "id": "Oa7pdfdzd2Nd"
      }
    },
    {
      "cell_type": "code",
      "source": [
        "#PRETRAINED_LM = \"bert-base-uncased\"\n",
        "#tokenizer = BertTokenizer.from_pretrained(PRETRAINED_LM, do_lower_case=True)\n",
        "#tokenizer"
      ],
      "metadata": {
        "id": "2Sob8hcWdz-I"
      },
      "execution_count": null,
      "outputs": []
    },
    {
      "cell_type": "code",
      "source": [
        "\"\"\"\n",
        "def encode(docs):\n",
        "    '''\n",
        "    This function takes list of texts and returns input_ids and attention_mask of texts\n",
        "    '''\n",
        "    encoded_dict = tokenizer.batch_encode_plus(docs, add_special_tokens=True, max_length=128, padding='max_length',\n",
        "                            return_attention_mask=True, truncation=True, return_tensors='pt')\n",
        "    input_ids = encoded_dict['input_ids']\n",
        "    attention_masks = encoded_dict['attention_mask']\n",
        "    return input_ids, attention_masks\n",
        "    \"\"\""
      ],
      "metadata": {
        "colab": {
          "base_uri": "https://localhost:8080/",
          "height": 87
        },
        "id": "kb9vWf8beCRq",
        "outputId": "f18ecea9-25f1-4e82-dbc9-bdb7d42beeaf"
      },
      "execution_count": 1,
      "outputs": [
        {
          "output_type": "execute_result",
          "data": {
            "text/plain": [
              "\"\\ndef encode(docs):\\n    '''\\n    This function takes list of texts and returns input_ids and attention_mask of texts\\n    '''\\n    encoded_dict = tokenizer.batch_encode_plus(docs, add_special_tokens=True, max_length=128, padding='max_length',\\n                            return_attention_mask=True, truncation=True, return_tensors='pt')\\n    input_ids = encoded_dict['input_ids']\\n    attention_masks = encoded_dict['attention_mask']\\n    return input_ids, attention_masks\\n    \""
            ],
            "application/vnd.google.colaboratory.intrinsic+json": {
              "type": "string"
            }
          },
          "metadata": {},
          "execution_count": 1
        }
      ]
    },
    {
      "cell_type": "markdown",
      "source": [
        "Build Classifier"
      ],
      "metadata": {
        "id": "GL_MSmUmeqFJ"
      }
    },
    {
      "cell_type": "code",
      "source": [
        "\"\"\"\n",
        "from transformers import BertForSequenceClassification\n",
        "N_labels = len(train_df.label.unique())\n",
        "model = BertForSequenceClassification.from_pretrained(PRETRAINED_LM,\n",
        "                                                      num_labels=N_labels,\n",
        "                                                      output_attentions=False,\n",
        "                                                      output_hidden_states=False)\n",
        "\"\"\""
      ],
      "metadata": {
        "id": "3FZ2v6Jqel9F"
      },
      "execution_count": null,
      "outputs": []
    },
    {
      "cell_type": "markdown",
      "source": [
        "Build Function"
      ],
      "metadata": {
        "id": "MRTrcyAghhtE"
      }
    },
    {
      "cell_type": "code",
      "source": [
        "def build_classifier(optimizer):\n",
        "    #initialise ANN\n",
        "    classifier = Sequential()\n",
        "\n",
        "    #layers w/ dropout\n",
        "    classifier.add(Dense(units=6, kernel_initializer='uniform', activation ='relu',input_dim=11))\n",
        "    classifier.add(Dropout(p=0.1))\n",
        "    classifier.add(Dense(units=6, kernel_initializer='uniform', activation ='relu'))\n",
        "    classifier.add(Dropout(p=0.1))\n",
        "\n",
        "    #output layer\n",
        "    classifier.add(Dense(units=1, kernel_initializer='uniform', activation ='sigmoid'))\n",
        "\n",
        "    #compile\n",
        "    classifier.compile(optimizer=optimizer, loss='binary_crossentropy', metrics=['accuracy'])\n",
        "    return classifier"
      ],
      "metadata": {
        "id": "4M7pAuM2hhUm"
      },
      "execution_count": null,
      "outputs": []
    },
    {
      "cell_type": "markdown",
      "source": [
        "Tuning"
      ],
      "metadata": {
        "id": "vCgm04Ome7sP"
      }
    },
    {
      "cell_type": "code",
      "source": [
        "EPOCHS = 30\n",
        "LEARNING_RATE = 2e-6\n",
        "\n",
        "optimizer = AdamW(model.parameters(), lr=LEARNING_RATE)\n",
        "scheduler = get_linear_schedule_with_warmup(optimizer, \n",
        "             num_warmup_steps=0,\n",
        "            num_training_steps=len(train_dataloader)*EPOCHS )"
      ],
      "metadata": {
        "id": "xnGW96CRfGId"
      },
      "execution_count": null,
      "outputs": []
    },
    {
      "cell_type": "code",
      "source": [
        "Training"
      ],
      "metadata": {
        "id": "8BfvV79ng9SG"
      },
      "execution_count": null,
      "outputs": []
    },
    {
      "cell_type": "code",
      "source": [
        "#init\n",
        "classifier = KerasClassifier(build_fn = build_classifier)\n",
        "\n",
        "#search\n",
        "parameters = {'batch_size':[25,32], 'epochs':[100, 500],'optimizer':['adam', 'rmsprop']}\n",
        "grid_search = GridSearchCV(estimator=classifier, param_grid=parameters, scoring = 'accuracy', cv=10)\n"
      ],
      "metadata": {
        "id": "j5qO20PJhsoH"
      },
      "execution_count": null,
      "outputs": []
    },
    {
      "cell_type": "code",
      "source": [
        "#fit\n",
        "grid_search=grid_search.fit(X_train, y_train)\n",
        "best_parameters = grid_search.best_params_ \n",
        "best_accuracy =grid_search.best_score_"
      ],
      "metadata": {
        "id": "orKur5y2h3Qu"
      },
      "execution_count": null,
      "outputs": []
    },
    {
      "cell_type": "markdown",
      "source": [
        "predictions"
      ],
      "metadata": {
        "id": "wethDo79iEyB"
      }
    },
    {
      "cell_type": "code",
      "source": [
        "# predict\n",
        "y_pred = classifier.predict(X_test)\n",
        "\n",
        "# Confusion Matrix\n",
        "from sklearn.metrics import confusion_matrix\n",
        "cm = confusion_matrix(y_test, y_pred)"
      ],
      "metadata": {
        "id": "bI268jbViGhK"
      },
      "execution_count": null,
      "outputs": []
    },
    {
      "cell_type": "markdown",
      "source": [],
      "metadata": {
        "id": "Wv508pULc3C9"
      }
    }
  ]
}