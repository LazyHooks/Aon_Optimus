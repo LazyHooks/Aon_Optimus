{
  "nbformat": 4,
  "nbformat_minor": 0,
  "metadata": {
    "colab": {
      "provenance": [],
      "include_colab_link": true
    },
    "kernelspec": {
      "name": "python3",
      "display_name": "Python 3"
    },
    "language_info": {
      "name": "python"
    },
    "widgets": {
      "application/vnd.jupyter.widget-state+json": {
        "f3158ef7ae5c428fbc9f184ea1f4cb4d": {
          "model_module": "@jupyter-widgets/controls",
          "model_name": "HBoxModel",
          "model_module_version": "1.5.0",
          "state": {
            "_dom_classes": [],
            "_model_module": "@jupyter-widgets/controls",
            "_model_module_version": "1.5.0",
            "_model_name": "HBoxModel",
            "_view_count": null,
            "_view_module": "@jupyter-widgets/controls",
            "_view_module_version": "1.5.0",
            "_view_name": "HBoxView",
            "box_style": "",
            "children": [
              "IPY_MODEL_5544b158ba884ef19d2ccc96a69ce6a8",
              "IPY_MODEL_a0dd12014a0e4555950a2e36956cb4ab",
              "IPY_MODEL_2fbfa9edeb0242949577014d842f56e6"
            ],
            "layout": "IPY_MODEL_a1bb969c45014ee8aae861bab2eb2851"
          }
        },
        "5544b158ba884ef19d2ccc96a69ce6a8": {
          "model_module": "@jupyter-widgets/controls",
          "model_name": "HTMLModel",
          "model_module_version": "1.5.0",
          "state": {
            "_dom_classes": [],
            "_model_module": "@jupyter-widgets/controls",
            "_model_module_version": "1.5.0",
            "_model_name": "HTMLModel",
            "_view_count": null,
            "_view_module": "@jupyter-widgets/controls",
            "_view_module_version": "1.5.0",
            "_view_name": "HTMLView",
            "description": "",
            "description_tooltip": null,
            "layout": "IPY_MODEL_f8f6b0abc1c34b1bbd1289f9a004feea",
            "placeholder": "​",
            "style": "IPY_MODEL_a860907db9444037b10b99dd3403ee19",
            "value": ""
          }
        },
        "a0dd12014a0e4555950a2e36956cb4ab": {
          "model_module": "@jupyter-widgets/controls",
          "model_name": "FloatProgressModel",
          "model_module_version": "1.5.0",
          "state": {
            "_dom_classes": [],
            "_model_module": "@jupyter-widgets/controls",
            "_model_module_version": "1.5.0",
            "_model_name": "FloatProgressModel",
            "_view_count": null,
            "_view_module": "@jupyter-widgets/controls",
            "_view_module_version": "1.5.0",
            "_view_name": "ProgressView",
            "bar_style": "success",
            "description": "",
            "description_tooltip": null,
            "layout": "IPY_MODEL_deeac7256a284c32b3693dfe53cd6d98",
            "max": 1,
            "min": 0,
            "orientation": "horizontal",
            "style": "IPY_MODEL_dbd2e0e8f90546f08a65fe52cd1f02a9",
            "value": 1
          }
        },
        "2fbfa9edeb0242949577014d842f56e6": {
          "model_module": "@jupyter-widgets/controls",
          "model_name": "HTMLModel",
          "model_module_version": "1.5.0",
          "state": {
            "_dom_classes": [],
            "_model_module": "@jupyter-widgets/controls",
            "_model_module_version": "1.5.0",
            "_model_name": "HTMLModel",
            "_view_count": null,
            "_view_module": "@jupyter-widgets/controls",
            "_view_module_version": "1.5.0",
            "_view_name": "HTMLView",
            "description": "",
            "description_tooltip": null,
            "layout": "IPY_MODEL_6858c18dc4df41ca8d0c8abea2f87d38",
            "placeholder": "​",
            "style": "IPY_MODEL_3daeab2e993942cd8107fed37e5c9f86",
            "value": " 104068/? [00:07&lt;00:00, 15293.20it/s]"
          }
        },
        "a1bb969c45014ee8aae861bab2eb2851": {
          "model_module": "@jupyter-widgets/base",
          "model_name": "LayoutModel",
          "model_module_version": "1.2.0",
          "state": {
            "_model_module": "@jupyter-widgets/base",
            "_model_module_version": "1.2.0",
            "_model_name": "LayoutModel",
            "_view_count": null,
            "_view_module": "@jupyter-widgets/base",
            "_view_module_version": "1.2.0",
            "_view_name": "LayoutView",
            "align_content": null,
            "align_items": null,
            "align_self": null,
            "border": null,
            "bottom": null,
            "display": null,
            "flex": null,
            "flex_flow": null,
            "grid_area": null,
            "grid_auto_columns": null,
            "grid_auto_flow": null,
            "grid_auto_rows": null,
            "grid_column": null,
            "grid_gap": null,
            "grid_row": null,
            "grid_template_areas": null,
            "grid_template_columns": null,
            "grid_template_rows": null,
            "height": null,
            "justify_content": null,
            "justify_items": null,
            "left": null,
            "margin": null,
            "max_height": null,
            "max_width": null,
            "min_height": null,
            "min_width": null,
            "object_fit": null,
            "object_position": null,
            "order": null,
            "overflow": null,
            "overflow_x": null,
            "overflow_y": null,
            "padding": null,
            "right": null,
            "top": null,
            "visibility": null,
            "width": null
          }
        },
        "f8f6b0abc1c34b1bbd1289f9a004feea": {
          "model_module": "@jupyter-widgets/base",
          "model_name": "LayoutModel",
          "model_module_version": "1.2.0",
          "state": {
            "_model_module": "@jupyter-widgets/base",
            "_model_module_version": "1.2.0",
            "_model_name": "LayoutModel",
            "_view_count": null,
            "_view_module": "@jupyter-widgets/base",
            "_view_module_version": "1.2.0",
            "_view_name": "LayoutView",
            "align_content": null,
            "align_items": null,
            "align_self": null,
            "border": null,
            "bottom": null,
            "display": null,
            "flex": null,
            "flex_flow": null,
            "grid_area": null,
            "grid_auto_columns": null,
            "grid_auto_flow": null,
            "grid_auto_rows": null,
            "grid_column": null,
            "grid_gap": null,
            "grid_row": null,
            "grid_template_areas": null,
            "grid_template_columns": null,
            "grid_template_rows": null,
            "height": null,
            "justify_content": null,
            "justify_items": null,
            "left": null,
            "margin": null,
            "max_height": null,
            "max_width": null,
            "min_height": null,
            "min_width": null,
            "object_fit": null,
            "object_position": null,
            "order": null,
            "overflow": null,
            "overflow_x": null,
            "overflow_y": null,
            "padding": null,
            "right": null,
            "top": null,
            "visibility": null,
            "width": null
          }
        },
        "a860907db9444037b10b99dd3403ee19": {
          "model_module": "@jupyter-widgets/controls",
          "model_name": "DescriptionStyleModel",
          "model_module_version": "1.5.0",
          "state": {
            "_model_module": "@jupyter-widgets/controls",
            "_model_module_version": "1.5.0",
            "_model_name": "DescriptionStyleModel",
            "_view_count": null,
            "_view_module": "@jupyter-widgets/base",
            "_view_module_version": "1.2.0",
            "_view_name": "StyleView",
            "description_width": ""
          }
        },
        "deeac7256a284c32b3693dfe53cd6d98": {
          "model_module": "@jupyter-widgets/base",
          "model_name": "LayoutModel",
          "model_module_version": "1.2.0",
          "state": {
            "_model_module": "@jupyter-widgets/base",
            "_model_module_version": "1.2.0",
            "_model_name": "LayoutModel",
            "_view_count": null,
            "_view_module": "@jupyter-widgets/base",
            "_view_module_version": "1.2.0",
            "_view_name": "LayoutView",
            "align_content": null,
            "align_items": null,
            "align_self": null,
            "border": null,
            "bottom": null,
            "display": null,
            "flex": null,
            "flex_flow": null,
            "grid_area": null,
            "grid_auto_columns": null,
            "grid_auto_flow": null,
            "grid_auto_rows": null,
            "grid_column": null,
            "grid_gap": null,
            "grid_row": null,
            "grid_template_areas": null,
            "grid_template_columns": null,
            "grid_template_rows": null,
            "height": null,
            "justify_content": null,
            "justify_items": null,
            "left": null,
            "margin": null,
            "max_height": null,
            "max_width": null,
            "min_height": null,
            "min_width": null,
            "object_fit": null,
            "object_position": null,
            "order": null,
            "overflow": null,
            "overflow_x": null,
            "overflow_y": null,
            "padding": null,
            "right": null,
            "top": null,
            "visibility": null,
            "width": "20px"
          }
        },
        "dbd2e0e8f90546f08a65fe52cd1f02a9": {
          "model_module": "@jupyter-widgets/controls",
          "model_name": "ProgressStyleModel",
          "model_module_version": "1.5.0",
          "state": {
            "_model_module": "@jupyter-widgets/controls",
            "_model_module_version": "1.5.0",
            "_model_name": "ProgressStyleModel",
            "_view_count": null,
            "_view_module": "@jupyter-widgets/base",
            "_view_module_version": "1.2.0",
            "_view_name": "StyleView",
            "bar_color": null,
            "description_width": ""
          }
        },
        "6858c18dc4df41ca8d0c8abea2f87d38": {
          "model_module": "@jupyter-widgets/base",
          "model_name": "LayoutModel",
          "model_module_version": "1.2.0",
          "state": {
            "_model_module": "@jupyter-widgets/base",
            "_model_module_version": "1.2.0",
            "_model_name": "LayoutModel",
            "_view_count": null,
            "_view_module": "@jupyter-widgets/base",
            "_view_module_version": "1.2.0",
            "_view_name": "LayoutView",
            "align_content": null,
            "align_items": null,
            "align_self": null,
            "border": null,
            "bottom": null,
            "display": null,
            "flex": null,
            "flex_flow": null,
            "grid_area": null,
            "grid_auto_columns": null,
            "grid_auto_flow": null,
            "grid_auto_rows": null,
            "grid_column": null,
            "grid_gap": null,
            "grid_row": null,
            "grid_template_areas": null,
            "grid_template_columns": null,
            "grid_template_rows": null,
            "height": null,
            "justify_content": null,
            "justify_items": null,
            "left": null,
            "margin": null,
            "max_height": null,
            "max_width": null,
            "min_height": null,
            "min_width": null,
            "object_fit": null,
            "object_position": null,
            "order": null,
            "overflow": null,
            "overflow_x": null,
            "overflow_y": null,
            "padding": null,
            "right": null,
            "top": null,
            "visibility": null,
            "width": null
          }
        },
        "3daeab2e993942cd8107fed37e5c9f86": {
          "model_module": "@jupyter-widgets/controls",
          "model_name": "DescriptionStyleModel",
          "model_module_version": "1.5.0",
          "state": {
            "_model_module": "@jupyter-widgets/controls",
            "_model_module_version": "1.5.0",
            "_model_name": "DescriptionStyleModel",
            "_view_count": null,
            "_view_module": "@jupyter-widgets/base",
            "_view_module_version": "1.2.0",
            "_view_name": "StyleView",
            "description_width": ""
          }
        }
      }
    }
  },
  "cells": [
    {
      "cell_type": "markdown",
      "metadata": {
        "id": "view-in-github",
        "colab_type": "text"
      },
      "source": [
        "<a href=\"https://colab.research.google.com/github/LazyHooks/Optimus/blob/main/Optimus%20Predictor_v6.16%20-%20GCC.ipynb\" target=\"_parent\"><img src=\"https://colab.research.google.com/assets/colab-badge.svg\" alt=\"Open In Colab\"/></a>"
      ]
    },
    {
      "cell_type": "markdown",
      "source": [
        "Imports"
      ],
      "metadata": {
        "id": "U88NDq2QrZhr"
      }
    },
    {
      "cell_type": "code",
      "source": [
        "from pickle import load\n",
        "import pandas as pd\n",
        "from scipy.sparse import hstack\n",
        "from sklearn.feature_extraction.text import TfidfVectorizer\n",
        "from sklearn.linear_model import LogisticRegression\n",
        "from sklearn.metrics import accuracy_score, classification_report\n",
        "from sklearn.model_selection import train_test_split"
      ],
      "metadata": {
        "id": "qnHLNOlup9EC"
      },
      "execution_count": 3,
      "outputs": []
    },
    {
      "cell_type": "markdown",
      "source": [
        "Load Data"
      ],
      "metadata": {
        "id": "6rOG3mtXrbW7"
      }
    },
    {
      "cell_type": "code",
      "source": [
        "#Import the Payroll Data\n",
        "df_test = pd.read_excel('test1.xlsx')\n",
        "\n",
        "#Import the sector reference table\n",
        "ref_table = pd.read_excel('GCC_ref.xlsx')\n",
        "\n",
        "df_test.shape"
      ],
      "metadata": {
        "id": "g8-zz11mqB8b",
        "outputId": "2bd0f11b-09ac-486a-e44b-5bdfb454e75f",
        "colab": {
          "base_uri": "https://localhost:8080/"
        }
      },
      "execution_count": 49,
      "outputs": [
        {
          "output_type": "execute_result",
          "data": {
            "text/plain": [
              "(104068, 6)"
            ]
          },
          "metadata": {},
          "execution_count": 49
        }
      ]
    },
    {
      "cell_type": "markdown",
      "source": [
        "Load Models"
      ],
      "metadata": {
        "id": "So8kMq1IrfT9"
      }
    },
    {
      "cell_type": "code",
      "source": [
        "#Load Models\n",
        "model_JF=load(open('GCCJF.pkl', 'rb'))\n",
        "model_Level=load(open('GCCLevel.pkl', 'rb'))\n",
        "\n",
        "#Load Supporting Elements\n",
        "vectorizers_JF=load(open('GCCJF_vect.pkl', 'rb'))\n",
        "vectorizers_Level=load(open('GCCLevel_vect.pkl', 'rb'))"
      ],
      "metadata": {
        "id": "CFy8dCg6rgzY"
      },
      "execution_count": 23,
      "outputs": []
    },
    {
      "cell_type": "markdown",
      "source": [
        "Static Variables"
      ],
      "metadata": {
        "id": "LM8nvqusuS_Y"
      }
    },
    {
      "cell_type": "code",
      "source": [
        "train_cols = ['Co. Designation', 'Co. Function']"
      ],
      "metadata": {
        "id": "snqs9UFrqK1M"
      },
      "execution_count": 24,
      "outputs": []
    },
    {
      "cell_type": "code",
      "source": [
        "target_col = 'Job Family Code'\n",
        "target_col_2='Level'\n",
        "jfcol='Job Family Code'"
      ],
      "metadata": {
        "id": "Q7EVYCfFqLPP"
      },
      "execution_count": 25,
      "outputs": []
    },
    {
      "cell_type": "code",
      "source": [
        "all_cols = ['Co. Designation', 'Co. Function', 'Job Family Code','Level']\n",
        "univ_cols= ['Co. Designation', 'Co. Function', 'Job Family Code','Level','TFP']"
      ],
      "metadata": {
        "id": "BnXOkzyFqMzP"
      },
      "execution_count": 26,
      "outputs": []
    },
    {
      "cell_type": "code",
      "source": [
        "df_test_2=df_test\n",
        "df_test_2=df_test[univ_cols]\n",
        "df_test = df_test[all_cols]"
      ],
      "metadata": {
        "id": "Lw2QDppCqVk0"
      },
      "execution_count": 27,
      "outputs": []
    },
    {
      "cell_type": "markdown",
      "source": [
        "Data Preprocessing JF"
      ],
      "metadata": {
        "id": "Uw3a2C6MFFps"
      }
    },
    {
      "cell_type": "code",
      "source": [
        "X_test_unseen = []\n",
        "\n",
        "for i, col in enumerate(train_cols):\n",
        "    vectorizer = vectorizers_JF[i]\n",
        "    X_test_col = vectorizer.transform(df_test.loc[:, col])\n",
        "    X_test_unseen.append(X_test_col)\n",
        "\n",
        "X_unseen = hstack(X_test_unseen)"
      ],
      "metadata": {
        "id": "NQZToaZCqgw9"
      },
      "execution_count": 28,
      "outputs": []
    },
    {
      "cell_type": "markdown",
      "source": [
        "JF Predictions"
      ],
      "metadata": {
        "id": "p7G0-yLwG1Om"
      }
    },
    {
      "cell_type": "code",
      "source": [
        "y_test_pred = model_JF.predict (X_unseen)"
      ],
      "metadata": {
        "id": "YHDH2Tm-qinj"
      },
      "execution_count": 29,
      "outputs": []
    },
    {
      "cell_type": "code",
      "source": [
        "y_test_pred_copy=pd.DataFrame(y_test_pred)\n",
        "y_test_pred_copy.columns = ['Job Family Code']"
      ],
      "metadata": {
        "id": "zW0afT1lMDpI"
      },
      "execution_count": 31,
      "outputs": []
    },
    {
      "cell_type": "markdown",
      "source": [
        "Data Preprocessing Level"
      ],
      "metadata": {
        "id": "ouGxrZbu9AB8"
      }
    },
    {
      "cell_type": "code",
      "source": [
        "X_test_unseen_2 = []\n",
        "z=0\n",
        "for i, col in enumerate(train_cols):\n",
        "    vectorizer = vectorizers_Level[i]\n",
        "    X_test_col_2 = vectorizer.transform(df_test.loc[:, col])\n",
        "    X_test_unseen_2.append(X_test_col_2)\n",
        "    z=i\n",
        "\n",
        "vectorizer = vectorizers_Level[z+1]\n",
        "X_test_col_2 = vectorizer.transform(y_test_pred_copy.loc[:, jfcol])\n",
        "X_test_unseen_2.append(X_test_col_2)\n",
        "\n",
        "X_unseen_2 = hstack(X_test_unseen_2)\n"
      ],
      "metadata": {
        "id": "2InaNFw39De7"
      },
      "execution_count": 33,
      "outputs": []
    },
    {
      "cell_type": "markdown",
      "source": [
        "Level Predictions"
      ],
      "metadata": {
        "id": "70r5Xbw5G2en"
      }
    },
    {
      "cell_type": "code",
      "source": [
        "y_test_pred_2 = model_Level.predict (X_unseen_2)"
      ],
      "metadata": {
        "id": "0XWYp9w4G4M2"
      },
      "execution_count": 34,
      "outputs": []
    },
    {
      "cell_type": "code",
      "source": [
        "pd.DataFrame(y_test_pred).to_csv('JF_x.csv')\n",
        "pd.DataFrame(y_test_pred_2).to_csv('Lvl_x.csv')\n",
        "frames=[pd.DataFrame(y_test_pred),pd.DataFrame(y_test_pred_2)]\n",
        "maps=pd.concat(frames, axis=1)"
      ],
      "metadata": {
        "id": "GFo__iaGqkq3"
      },
      "execution_count": 35,
      "outputs": []
    },
    {
      "cell_type": "markdown",
      "source": [
        "Level Correction Preprocessing"
      ],
      "metadata": {
        "id": "98vU4Zuksx2c"
      }
    },
    {
      "cell_type": "code",
      "source": [
        "temp=df_test_2.loc[:,'TFP']\n",
        "init_maps=pd.concat([maps , temp], axis=1)\n",
        "init_maps"
      ],
      "metadata": {
        "colab": {
          "base_uri": "https://localhost:8080/",
          "height": 423
        },
        "id": "UrJNtqbep0WK",
        "outputId": "02d5d853-d32a-431f-b1a1-bac2e662eb46"
      },
      "execution_count": 36,
      "outputs": [
        {
          "output_type": "execute_result",
          "data": {
            "text/plain": [
              "           0   0         TFP\n",
              "0       FLXX  E1  23940755.0\n",
              "1       BSMT  M6  29699480.0\n",
              "2       PRPO  M6  23540580.0\n",
              "3       BFCB  M6  24483710.0\n",
              "4       BSMT  M6  20382135.0\n",
              "...      ...  ..         ...\n",
              "104063  BFCB  S3    357866.0\n",
              "104064  SAAC  S3    323780.0\n",
              "104065  BFCB  S3    352111.0\n",
              "104066  BFCB  S3    310834.0\n",
              "104067  BFCB  S3    292157.0\n",
              "\n",
              "[104068 rows x 3 columns]"
            ],
            "text/html": [
              "\n",
              "  <div id=\"df-3cba83f6-7834-4279-aae7-72e1a90bac7e\" class=\"colab-df-container\">\n",
              "    <div>\n",
              "<style scoped>\n",
              "    .dataframe tbody tr th:only-of-type {\n",
              "        vertical-align: middle;\n",
              "    }\n",
              "\n",
              "    .dataframe tbody tr th {\n",
              "        vertical-align: top;\n",
              "    }\n",
              "\n",
              "    .dataframe thead th {\n",
              "        text-align: right;\n",
              "    }\n",
              "</style>\n",
              "<table border=\"1\" class=\"dataframe\">\n",
              "  <thead>\n",
              "    <tr style=\"text-align: right;\">\n",
              "      <th></th>\n",
              "      <th>0</th>\n",
              "      <th>0</th>\n",
              "      <th>TFP</th>\n",
              "    </tr>\n",
              "  </thead>\n",
              "  <tbody>\n",
              "    <tr>\n",
              "      <th>0</th>\n",
              "      <td>FLXX</td>\n",
              "      <td>E1</td>\n",
              "      <td>23940755.0</td>\n",
              "    </tr>\n",
              "    <tr>\n",
              "      <th>1</th>\n",
              "      <td>BSMT</td>\n",
              "      <td>M6</td>\n",
              "      <td>29699480.0</td>\n",
              "    </tr>\n",
              "    <tr>\n",
              "      <th>2</th>\n",
              "      <td>PRPO</td>\n",
              "      <td>M6</td>\n",
              "      <td>23540580.0</td>\n",
              "    </tr>\n",
              "    <tr>\n",
              "      <th>3</th>\n",
              "      <td>BFCB</td>\n",
              "      <td>M6</td>\n",
              "      <td>24483710.0</td>\n",
              "    </tr>\n",
              "    <tr>\n",
              "      <th>4</th>\n",
              "      <td>BSMT</td>\n",
              "      <td>M6</td>\n",
              "      <td>20382135.0</td>\n",
              "    </tr>\n",
              "    <tr>\n",
              "      <th>...</th>\n",
              "      <td>...</td>\n",
              "      <td>...</td>\n",
              "      <td>...</td>\n",
              "    </tr>\n",
              "    <tr>\n",
              "      <th>104063</th>\n",
              "      <td>BFCB</td>\n",
              "      <td>S3</td>\n",
              "      <td>357866.0</td>\n",
              "    </tr>\n",
              "    <tr>\n",
              "      <th>104064</th>\n",
              "      <td>SAAC</td>\n",
              "      <td>S3</td>\n",
              "      <td>323780.0</td>\n",
              "    </tr>\n",
              "    <tr>\n",
              "      <th>104065</th>\n",
              "      <td>BFCB</td>\n",
              "      <td>S3</td>\n",
              "      <td>352111.0</td>\n",
              "    </tr>\n",
              "    <tr>\n",
              "      <th>104066</th>\n",
              "      <td>BFCB</td>\n",
              "      <td>S3</td>\n",
              "      <td>310834.0</td>\n",
              "    </tr>\n",
              "    <tr>\n",
              "      <th>104067</th>\n",
              "      <td>BFCB</td>\n",
              "      <td>S3</td>\n",
              "      <td>292157.0</td>\n",
              "    </tr>\n",
              "  </tbody>\n",
              "</table>\n",
              "<p>104068 rows × 3 columns</p>\n",
              "</div>\n",
              "    <div class=\"colab-df-buttons\">\n",
              "\n",
              "  <div class=\"colab-df-container\">\n",
              "    <button class=\"colab-df-convert\" onclick=\"convertToInteractive('df-3cba83f6-7834-4279-aae7-72e1a90bac7e')\"\n",
              "            title=\"Convert this dataframe to an interactive table.\"\n",
              "            style=\"display:none;\">\n",
              "\n",
              "  <svg xmlns=\"http://www.w3.org/2000/svg\" height=\"24px\" viewBox=\"0 -960 960 960\">\n",
              "    <path d=\"M120-120v-720h720v720H120Zm60-500h600v-160H180v160Zm220 220h160v-160H400v160Zm0 220h160v-160H400v160ZM180-400h160v-160H180v160Zm440 0h160v-160H620v160ZM180-180h160v-160H180v160Zm440 0h160v-160H620v160Z\"/>\n",
              "  </svg>\n",
              "    </button>\n",
              "\n",
              "  <style>\n",
              "    .colab-df-container {\n",
              "      display:flex;\n",
              "      gap: 12px;\n",
              "    }\n",
              "\n",
              "    .colab-df-convert {\n",
              "      background-color: #E8F0FE;\n",
              "      border: none;\n",
              "      border-radius: 50%;\n",
              "      cursor: pointer;\n",
              "      display: none;\n",
              "      fill: #1967D2;\n",
              "      height: 32px;\n",
              "      padding: 0 0 0 0;\n",
              "      width: 32px;\n",
              "    }\n",
              "\n",
              "    .colab-df-convert:hover {\n",
              "      background-color: #E2EBFA;\n",
              "      box-shadow: 0px 1px 2px rgba(60, 64, 67, 0.3), 0px 1px 3px 1px rgba(60, 64, 67, 0.15);\n",
              "      fill: #174EA6;\n",
              "    }\n",
              "\n",
              "    .colab-df-buttons div {\n",
              "      margin-bottom: 4px;\n",
              "    }\n",
              "\n",
              "    [theme=dark] .colab-df-convert {\n",
              "      background-color: #3B4455;\n",
              "      fill: #D2E3FC;\n",
              "    }\n",
              "\n",
              "    [theme=dark] .colab-df-convert:hover {\n",
              "      background-color: #434B5C;\n",
              "      box-shadow: 0px 1px 3px 1px rgba(0, 0, 0, 0.15);\n",
              "      filter: drop-shadow(0px 1px 2px rgba(0, 0, 0, 0.3));\n",
              "      fill: #FFFFFF;\n",
              "    }\n",
              "  </style>\n",
              "\n",
              "    <script>\n",
              "      const buttonEl =\n",
              "        document.querySelector('#df-3cba83f6-7834-4279-aae7-72e1a90bac7e button.colab-df-convert');\n",
              "      buttonEl.style.display =\n",
              "        google.colab.kernel.accessAllowed ? 'block' : 'none';\n",
              "\n",
              "      async function convertToInteractive(key) {\n",
              "        const element = document.querySelector('#df-3cba83f6-7834-4279-aae7-72e1a90bac7e');\n",
              "        const dataTable =\n",
              "          await google.colab.kernel.invokeFunction('convertToInteractive',\n",
              "                                                    [key], {});\n",
              "        if (!dataTable) return;\n",
              "\n",
              "        const docLinkHtml = 'Like what you see? Visit the ' +\n",
              "          '<a target=\"_blank\" href=https://colab.research.google.com/notebooks/data_table.ipynb>data table notebook</a>'\n",
              "          + ' to learn more about interactive tables.';\n",
              "        element.innerHTML = '';\n",
              "        dataTable['output_type'] = 'display_data';\n",
              "        await google.colab.output.renderOutput(dataTable, element);\n",
              "        const docLink = document.createElement('div');\n",
              "        docLink.innerHTML = docLinkHtml;\n",
              "        element.appendChild(docLink);\n",
              "      }\n",
              "    </script>\n",
              "  </div>\n",
              "\n",
              "\n",
              "<div id=\"df-4481fcb6-5252-4a55-a137-3580da406bdb\">\n",
              "  <button class=\"colab-df-quickchart\" onclick=\"quickchart('df-4481fcb6-5252-4a55-a137-3580da406bdb')\"\n",
              "            title=\"Suggest charts.\"\n",
              "            style=\"display:none;\">\n",
              "\n",
              "<svg xmlns=\"http://www.w3.org/2000/svg\" height=\"24px\"viewBox=\"0 0 24 24\"\n",
              "     width=\"24px\">\n",
              "    <g>\n",
              "        <path d=\"M19 3H5c-1.1 0-2 .9-2 2v14c0 1.1.9 2 2 2h14c1.1 0 2-.9 2-2V5c0-1.1-.9-2-2-2zM9 17H7v-7h2v7zm4 0h-2V7h2v10zm4 0h-2v-4h2v4z\"/>\n",
              "    </g>\n",
              "</svg>\n",
              "  </button>\n",
              "\n",
              "<style>\n",
              "  .colab-df-quickchart {\n",
              "    background-color: #E8F0FE;\n",
              "    border: none;\n",
              "    border-radius: 50%;\n",
              "    cursor: pointer;\n",
              "    display: none;\n",
              "    fill: #1967D2;\n",
              "    height: 32px;\n",
              "    padding: 0 0 0 0;\n",
              "    width: 32px;\n",
              "  }\n",
              "\n",
              "  .colab-df-quickchart:hover {\n",
              "    background-color: #E2EBFA;\n",
              "    box-shadow: 0px 1px 2px rgba(60, 64, 67, 0.3), 0px 1px 3px 1px rgba(60, 64, 67, 0.15);\n",
              "    fill: #174EA6;\n",
              "  }\n",
              "\n",
              "  [theme=dark] .colab-df-quickchart {\n",
              "    background-color: #3B4455;\n",
              "    fill: #D2E3FC;\n",
              "  }\n",
              "\n",
              "  [theme=dark] .colab-df-quickchart:hover {\n",
              "    background-color: #434B5C;\n",
              "    box-shadow: 0px 1px 3px 1px rgba(0, 0, 0, 0.15);\n",
              "    filter: drop-shadow(0px 1px 2px rgba(0, 0, 0, 0.3));\n",
              "    fill: #FFFFFF;\n",
              "  }\n",
              "</style>\n",
              "\n",
              "  <script>\n",
              "    async function quickchart(key) {\n",
              "      const charts = await google.colab.kernel.invokeFunction(\n",
              "          'suggestCharts', [key], {});\n",
              "    }\n",
              "    (() => {\n",
              "      let quickchartButtonEl =\n",
              "        document.querySelector('#df-4481fcb6-5252-4a55-a137-3580da406bdb button');\n",
              "      quickchartButtonEl.style.display =\n",
              "        google.colab.kernel.accessAllowed ? 'block' : 'none';\n",
              "    })();\n",
              "  </script>\n",
              "</div>\n",
              "    </div>\n",
              "  </div>\n"
            ]
          },
          "metadata": {},
          "execution_count": 36
        }
      ]
    },
    {
      "cell_type": "code",
      "source": [
        "init_maps.columns = ['JF', 'level', 'TFP']"
      ],
      "metadata": {
        "id": "PkPWGplhxuIs"
      },
      "execution_count": 37,
      "outputs": []
    },
    {
      "cell_type": "code",
      "source": [
        "def find_in_ref(df, jf, level):\n",
        "  try:\n",
        "    return df.loc[(df.JF == jf) & (df.Level == level)]\n",
        "  except:\n",
        "    return None\n",
        "\n",
        "def check_range_ref(ref_df, comp, index):\n",
        "  ref_row = ref_df.loc[ref_df.index == index]\n",
        "\n",
        "  if comp >= ref_row.Min.values[0] and comp <= ref_row.Max.values[0] :\n",
        "    return True\n",
        "\n",
        "  return False\n",
        "\n",
        "def compare_range_ref(ref_df, comp, index):\n",
        "  ref_row = ref_df.loc[ref_df.index == index]\n",
        "\n",
        "  if comp < ref_row.Min.values[0]:\n",
        "    return -1\n",
        "  elif comp > ref_row.Max.values[0]:\n",
        "    return 1\n",
        "  elif comp >= ref_row.Min.values[0] and comp <= ref_row.Max.values[0] :\n",
        "    return 0\n",
        "\n",
        "  return False\n"
      ],
      "metadata": {
        "id": "j5bQBmhCxmHj"
      },
      "execution_count": 38,
      "outputs": []
    },
    {
      "cell_type": "code",
      "source": [
        "reassigned_maps = init_maps.copy(deep=True)"
      ],
      "metadata": {
        "id": "Ssn6CGFI8NC8"
      },
      "execution_count": 39,
      "outputs": []
    },
    {
      "cell_type": "markdown",
      "source": [
        "Level Correction"
      ],
      "metadata": {
        "id": "zyhn6s_FtULz"
      }
    },
    {
      "cell_type": "code",
      "source": [
        "from tqdm.auto import tqdm"
      ],
      "metadata": {
        "id": "zwzYog8T974k"
      },
      "execution_count": 40,
      "outputs": []
    },
    {
      "cell_type": "code",
      "source": [
        "ref_table.loc[ref_table.index == 0].JF.values[0]"
      ],
      "metadata": {
        "id": "cCaD-1-2ppKE",
        "outputId": "547383a9-e7fe-4c1d-9d7c-5392b54e8fec",
        "colab": {
          "base_uri": "https://localhost:8080/",
          "height": 35
        }
      },
      "execution_count": 43,
      "outputs": [
        {
          "output_type": "execute_result",
          "data": {
            "text/plain": [
              "'AFAD'"
            ],
            "application/vnd.google.colaboratory.intrinsic+json": {
              "type": "string"
            }
          },
          "metadata": {},
          "execution_count": 43
        }
      ]
    },
    {
      "cell_type": "code",
      "source": [
        "for index, query in tqdm(init_maps.iterrows()):\n",
        "  ref_row = find_in_ref(ref_table, query.JF, query.level)\n",
        "  d_index=index\n",
        "\n",
        "  try:\n",
        "    ref_index = ref_row.index[0]\n",
        "  except:\n",
        "    continue\n",
        "\n",
        "  # check if comp falls in that range\n",
        "  comp = query['TFP']/1000\n",
        "  final_index = -1\n",
        "  cur_jf=query.JF\n",
        "  if compare_range_ref(ref_table, comp, ref_index)==0:\n",
        "    #print(\"Exact match found at \", ref_index)\n",
        "    final_index = ref_index\n",
        "  elif compare_range_ref(ref_table, comp, ref_index )==-1:\n",
        "    ref_index_l=ref_index\n",
        "    while ref_table.loc[ref_table.index == ref_index_l].JF.values[0]==cur_jf:\n",
        "      if ref_table.loc[ref_table.index == ref_index_l].Level.values[0]=='S2':\n",
        "        final_index = ref_index_l\n",
        "        break\n",
        "      elif compare_range_ref(ref_table, comp, ref_index_l)==0:\n",
        "        final_index = ref_index_l\n",
        "        break\n",
        "      ref_index_l=ref_index_l-1\n",
        "  elif compare_range_ref(ref_table, comp, ref_index )==1:\n",
        "    ref_index_u=ref_index\n",
        "    while ref_table.loc[ref_table.index == ref_index_u].JF.values[0]==cur_jf:\n",
        "      if compare_range_ref(ref_table, comp, ref_index_u)==0:\n",
        "        final_index = ref_index_u\n",
        "        break\n",
        "      elif ref_table.loc[ref_table.index == ref_index_u].Level.values[0]=='E2':\n",
        "        final_index = ref_index_u\n",
        "        break\n",
        "      else:\n",
        "        if ref_table.loc[ref_table.index == ref_index_u].Level.values[0]=='I7':\n",
        "          ref_index_u = ref_index_u+7\n",
        "        else:\n",
        "          ref_index_u = ref_index_u+1\n",
        "\n",
        "  if final_index != -1 :\n",
        "    final_level = ref_table.loc[ref_table.index == final_index].Level.values[0]\n",
        "    reassigned_maps.at[d_index, 'level'] = final_level\n"
      ],
      "metadata": {
        "id": "HhG6BOhfzCwd",
        "colab": {
          "base_uri": "https://localhost:8080/",
          "height": 49,
          "referenced_widgets": [
            "f3158ef7ae5c428fbc9f184ea1f4cb4d",
            "5544b158ba884ef19d2ccc96a69ce6a8",
            "a0dd12014a0e4555950a2e36956cb4ab",
            "2fbfa9edeb0242949577014d842f56e6",
            "a1bb969c45014ee8aae861bab2eb2851",
            "f8f6b0abc1c34b1bbd1289f9a004feea",
            "a860907db9444037b10b99dd3403ee19",
            "deeac7256a284c32b3693dfe53cd6d98",
            "dbd2e0e8f90546f08a65fe52cd1f02a9",
            "6858c18dc4df41ca8d0c8abea2f87d38",
            "3daeab2e993942cd8107fed37e5c9f86"
          ]
        },
        "outputId": "82fd417f-ec00-40ed-cbda-79dd4a560bea"
      },
      "execution_count": 50,
      "outputs": [
        {
          "output_type": "display_data",
          "data": {
            "text/plain": [
              "0it [00:00, ?it/s]"
            ],
            "application/vnd.jupyter.widget-view+json": {
              "version_major": 2,
              "version_minor": 0,
              "model_id": "f3158ef7ae5c428fbc9f184ea1f4cb4d"
            }
          },
          "metadata": {}
        }
      ]
    },
    {
      "cell_type": "markdown",
      "source": [
        "Final Outputs"
      ],
      "metadata": {
        "id": "aXCEbpRvtQMQ"
      }
    },
    {
      "cell_type": "code",
      "source": [
        "pd.DataFrame(init_maps).to_csv('init_maps.csv')\n",
        "pd.DataFrame(reassigned_maps).to_csv('reassigned maps.csv')"
      ],
      "metadata": {
        "id": "E0CdXFbX02Gi"
      },
      "execution_count": 47,
      "outputs": []
    }
  ]
}