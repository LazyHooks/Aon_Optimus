{
  "nbformat": 4,
  "nbformat_minor": 0,
  "metadata": {
    "colab": {
      "provenance": [],
      "include_colab_link": true
    },
    "kernelspec": {
      "name": "python3",
      "display_name": "Python 3"
    },
    "language_info": {
      "name": "python"
    }
  },
  "cells": [
    {
      "cell_type": "markdown",
      "metadata": {
        "id": "view-in-github",
        "colab_type": "text"
      },
      "source": [
        "<a href=\"https://colab.research.google.com/github/LazyHooks/Optimus/blob/main/optimus_v4.3_Version4_TestFlipkart.ipynb\" target=\"_parent\"><img src=\"https://colab.research.google.com/assets/colab-badge.svg\" alt=\"Open In Colab\"/></a>"
      ]
    },
    {
      "cell_type": "code",
      "source": [
        "import pandas as pd"
      ],
      "metadata": {
        "id": "qnHLNOlup9EC"
      },
      "execution_count": 57,
      "outputs": []
    },
    {
      "cell_type": "code",
      "source": [
        "df = pd.read_csv('Version4_Train_product.csv')\n",
        "df.shape"
      ],
      "metadata": {
        "id": "A8i1ht13p_jE",
        "outputId": "e643092e-b00c-432a-995b-358f645e47c6",
        "colab": {
          "base_uri": "https://localhost:8080/"
        }
      },
      "execution_count": 58,
      "outputs": [
        {
          "output_type": "execute_result",
          "data": {
            "text/plain": [
              "(392958, 6)"
            ]
          },
          "metadata": {},
          "execution_count": 58
        }
      ]
    },
    {
      "cell_type": "code",
      "source": [
        "df_test = pd.read_csv('Version4_Test_Flipkart.csv')\n",
        "df_test.shape"
      ],
      "metadata": {
        "id": "g8-zz11mqB8b",
        "outputId": "a6e363af-be65-46b8-e62d-0ed940422a57",
        "colab": {
          "base_uri": "https://localhost:8080/"
        }
      },
      "execution_count": 59,
      "outputs": [
        {
          "output_type": "execute_result",
          "data": {
            "text/plain": [
              "(7742, 6)"
            ]
          },
          "metadata": {},
          "execution_count": 59
        }
      ]
    },
    {
      "cell_type": "code",
      "source": [
        "df.shape\n",
        "#set(df['Company Name'])"
      ],
      "metadata": {
        "id": "WUT3QAtFqFAk",
        "outputId": "7184a457-29d1-48b8-b576-a16cbe4b238e",
        "colab": {
          "base_uri": "https://localhost:8080/"
        }
      },
      "execution_count": 60,
      "outputs": [
        {
          "output_type": "execute_result",
          "data": {
            "text/plain": [
              "(392958, 6)"
            ]
          },
          "metadata": {},
          "execution_count": 60
        }
      ]
    },
    {
      "cell_type": "code",
      "source": [
        "df.columns"
      ],
      "metadata": {
        "id": "XgKUy_kIqISg",
        "outputId": "7d34f762-ffc6-4894-fe4d-6b7cd6f8e5c8",
        "colab": {
          "base_uri": "https://localhost:8080/"
        }
      },
      "execution_count": 61,
      "outputs": [
        {
          "output_type": "execute_result",
          "data": {
            "text/plain": [
              "Index(['Company Name', 'Co. Designation', 'Co. Function', 'Job Family Code',\n",
              "       'Level', 'TFP'],\n",
              "      dtype='object')"
            ]
          },
          "metadata": {},
          "execution_count": 61
        }
      ]
    },
    {
      "cell_type": "code",
      "source": [
        "train_cols = ['Co. Designation', 'Co. Function']\n",
        "train_cols_2='Co. Designation'"
      ],
      "metadata": {
        "id": "snqs9UFrqK1M"
      },
      "execution_count": 62,
      "outputs": []
    },
    {
      "cell_type": "code",
      "source": [
        "target_col = 'Job Family Code'\n",
        "target_col_2='Level'"
      ],
      "metadata": {
        "id": "Q7EVYCfFqLPP"
      },
      "execution_count": 63,
      "outputs": []
    },
    {
      "cell_type": "code",
      "source": [
        "all_cols = ['Co. Designation', 'Co. Function', 'Job Family Code','Level']"
      ],
      "metadata": {
        "id": "BnXOkzyFqMzP"
      },
      "execution_count": 64,
      "outputs": []
    },
    {
      "cell_type": "code",
      "source": [
        "import pandas as pd\n",
        "from scipy.sparse import hstack\n",
        "from sklearn.feature_extraction.text import TfidfVectorizer\n",
        "from sklearn.linear_model import LogisticRegression\n",
        "from sklearn.metrics import accuracy_score, classification_report\n",
        "from sklearn.model_selection import train_test_split"
      ],
      "metadata": {
        "id": "qtC88Zw9qPj5"
      },
      "execution_count": 65,
      "outputs": []
    },
    {
      "cell_type": "code",
      "source": [
        "# Load data\n",
        "data = pd.read_csv('Version4_Train_product.csv')"
      ],
      "metadata": {
        "id": "1Ut2p3HnqQtf"
      },
      "execution_count": 66,
      "outputs": []
    },
    {
      "cell_type": "code",
      "source": [
        "#df_test.head()"
      ],
      "metadata": {
        "id": "ZXQTHb6UqSTq"
      },
      "execution_count": 67,
      "outputs": []
    },
    {
      "cell_type": "code",
      "source": [
        "data = data[all_cols]\n",
        "data = data.dropna()"
      ],
      "metadata": {
        "id": "677jgG6vqUER"
      },
      "execution_count": 68,
      "outputs": []
    },
    {
      "cell_type": "code",
      "source": [
        "df_test = df_test[all_cols]\n",
        "df_test = df_test.dropna()"
      ],
      "metadata": {
        "id": "Lw2QDppCqVk0"
      },
      "execution_count": 69,
      "outputs": []
    },
    {
      "cell_type": "code",
      "source": [
        "#data.head()"
      ],
      "metadata": {
        "id": "XWwhj-PCqW1M"
      },
      "execution_count": 70,
      "outputs": []
    },
    {
      "cell_type": "code",
      "source": [
        "#df_test.head()"
      ],
      "metadata": {
        "id": "Q_uADMLNqYpW"
      },
      "execution_count": 71,
      "outputs": []
    },
    {
      "cell_type": "markdown",
      "source": [
        "JF"
      ],
      "metadata": {
        "id": "_UlVoosAD-It"
      }
    },
    {
      "cell_type": "code",
      "source": [
        "# Extract features from each text column using TF-IDF vectorizer\n",
        "vectorizers = []\n",
        "X_train_list = []\n",
        "X_test_list = []\n",
        "for col in train_cols:\n",
        "    vectorizer = TfidfVectorizer(max_features=10000)\n",
        "    X_train_col = vectorizer.fit_transform(data.loc[:, col])\n",
        "    X_train_list.append(X_train_col)\n",
        "    X_test_col = vectorizer.transform(data.loc[:, col])\n",
        "    X_test_list.append(X_test_col)\n",
        "    vectorizers.append(vectorizer)"
      ],
      "metadata": {
        "id": "INmGmNpcqarC"
      },
      "execution_count": 72,
      "outputs": []
    },
    {
      "cell_type": "markdown",
      "source": [
        "Level"
      ],
      "metadata": {
        "id": "ftnxt4mXD_Nz"
      }
    },
    {
      "cell_type": "code",
      "source": [
        "vectorizers_2 = []\n",
        "X_train_list_2 = []\n",
        "X_test_list_2 = []\n",
        "#for col in train_cols_2:\n",
        "vectorizer = TfidfVectorizer(max_features=10000)\n",
        "X_train_col = vectorizer.fit_transform(data.loc[:, train_cols_2])\n",
        "X_train_list_2.append(X_train_col)\n",
        "X_test_col = vectorizer.transform(data.loc[:, train_cols_2])\n",
        "X_test_list_2.append(X_test_col)\n",
        "vectorizers_2.append(vectorizer)\n",
        "\n",
        "jfcol='Job Family Code'\n",
        "vectorizer = TfidfVectorizer(max_features=10000)\n",
        "X_train_col = vectorizer.fit_transform(data.loc[:, jfcol])\n",
        "X_train_list_2.append(X_train_col)\n",
        "X_test_col = vectorizer.transform(data.loc[:, jfcol])\n",
        "X_test_list_2.append(X_test_col)\n",
        "vectorizers_2.append(vectorizer)\n"
      ],
      "metadata": {
        "id": "Qnp9DBKiD9eS"
      },
      "execution_count": 73,
      "outputs": []
    },
    {
      "cell_type": "markdown",
      "source": [
        "JF"
      ],
      "metadata": {
        "id": "rymDy7YTESw5"
      }
    },
    {
      "cell_type": "code",
      "source": [
        "# Concatenate sparse matrices into a single feature matrix\n",
        "X_train = hstack(X_train_list)\n",
        "X_test = hstack(X_test_list)\n",
        "\n",
        "# Split data into training and testing sets\n",
        "y_train = data[target_col]\n",
        "#y_test = df_test[target_col]\n",
        "\n",
        "X_train, X_test, y_train, y_test = train_test_split(X_train, y_train, test_size=0.2, random_state=42)"
      ],
      "metadata": {
        "id": "b2nmh3_nqcsI"
      },
      "execution_count": 74,
      "outputs": []
    },
    {
      "cell_type": "markdown",
      "source": [
        "Level"
      ],
      "metadata": {
        "id": "jsqt4A1TETsL"
      }
    },
    {
      "cell_type": "code",
      "source": [
        "# Concatenate sparse matrices into a single feature matrix\n",
        "X_train_2 = hstack(X_train_list_2)\n",
        "X_test_2 = hstack(X_test_list_2)\n",
        "\n",
        "# Split data into training and testing sets\n",
        "y_train_2 = data[target_col_2]\n",
        "#y_test = df_test[target_col]\n",
        "\n",
        "X_train_2, X_test_2, y_train_2, y_test_2 = train_test_split(X_train_2, y_train_2, test_size=0.2, random_state=42)\n"
      ],
      "metadata": {
        "id": "JmDTcbOeEU9t"
      },
      "execution_count": 75,
      "outputs": []
    },
    {
      "cell_type": "markdown",
      "source": [
        "JF"
      ],
      "metadata": {
        "id": "eoMDb8e8EoCP"
      }
    },
    {
      "cell_type": "code",
      "source": [
        "# Train logistic regression model\n",
        "model = LogisticRegression()\n",
        "model.fit(X_train, y_train)\n",
        "\n",
        "# Predict on test set and evaluate performance\n",
        "y_pred = model.predict(X_test)\n",
        "print('Accuracy:', accuracy_score(y_test, y_pred))\n",
        "print('Classification Report:\\n', classification_report(y_test, y_pred))"
      ],
      "metadata": {
        "id": "oKeT0fuVqe2-",
        "outputId": "9330a6cd-6688-4d2f-c939-2129a34f382b",
        "colab": {
          "base_uri": "https://localhost:8080/"
        }
      },
      "execution_count": 76,
      "outputs": [
        {
          "output_type": "stream",
          "name": "stderr",
          "text": [
            "/usr/local/lib/python3.10/dist-packages/sklearn/linear_model/_logistic.py:458: ConvergenceWarning: lbfgs failed to converge (status=1):\n",
            "STOP: TOTAL NO. of ITERATIONS REACHED LIMIT.\n",
            "\n",
            "Increase the number of iterations (max_iter) or scale the data as shown in:\n",
            "    https://scikit-learn.org/stable/modules/preprocessing.html\n",
            "Please also refer to the documentation for alternative solver options:\n",
            "    https://scikit-learn.org/stable/modules/linear_model.html#logistic-regression\n",
            "  n_iter_i = _check_optimize_result(\n"
          ]
        },
        {
          "output_type": "stream",
          "name": "stdout",
          "text": [
            "Accuracy: 0.8943943561532193\n"
          ]
        },
        {
          "output_type": "stream",
          "name": "stderr",
          "text": [
            "/usr/local/lib/python3.10/dist-packages/sklearn/metrics/_classification.py:1344: UndefinedMetricWarning: Precision and F-score are ill-defined and being set to 0.0 in labels with no predicted samples. Use `zero_division` parameter to control this behavior.\n",
            "  _warn_prf(average, modifier, msg_start, len(result))\n",
            "/usr/local/lib/python3.10/dist-packages/sklearn/metrics/_classification.py:1344: UndefinedMetricWarning: Precision and F-score are ill-defined and being set to 0.0 in labels with no predicted samples. Use `zero_division` parameter to control this behavior.\n",
            "  _warn_prf(average, modifier, msg_start, len(result))\n"
          ]
        },
        {
          "output_type": "stream",
          "name": "stdout",
          "text": [
            "Classification Report:\n",
            "               precision    recall  f1-score   support\n",
            "\n",
            "        AADS       0.89      0.81      0.85       400\n",
            "        AAMD       0.94      0.88      0.91       206\n",
            "        AAML       0.96      0.89      0.92       122\n",
            "        AFAD       0.70      0.70      0.70        64\n",
            "        AFFE       0.89      0.86      0.87       112\n",
            "        AFSE       0.72      0.53      0.61        34\n",
            "        AFXX       0.88      0.79      0.83       119\n",
            "        ARCD       0.00      0.00      0.00        14\n",
            "        ARIA       0.00      0.00      0.00         1\n",
            "        ARRP       0.00      0.00      0.00        11\n",
            "        ARSY       0.00      0.00      0.00         2\n",
            "        ARXX       0.92      0.91      0.91      1002\n",
            "        ASCD       0.95      0.83      0.89       241\n",
            "        ASDB       0.80      0.51      0.63        72\n",
            "        ASEC       1.00      0.75      0.86        12\n",
            "        ASFS       0.24      0.93      0.38        83\n",
            "        ASMD       1.00      0.06      0.11        17\n",
            "        ASPI       0.57      0.39      0.46       949\n",
            "        ASRP       0.95      0.78      0.86        79\n",
            "        ASSI       0.00      0.00      0.00         1\n",
            "        ASUI       0.59      0.61      0.60        61\n",
            "        ASWD       1.00      0.94      0.97       126\n",
            "        ASXX       0.76      0.74      0.75      4773\n",
            "        BCPM       0.73      0.73      0.73        22\n",
            "        BFAC       1.00      1.00      1.00        94\n",
            "        BFAM       1.00      0.67      0.80         3\n",
            "        BFCA       0.86      0.76      0.81        25\n",
            "        BFCB       0.99      0.97      0.98        87\n",
            "        BFCM       1.00      1.00      1.00        20\n",
            "        BFIR       1.00      1.00      1.00       240\n",
            "        BFKY       1.00      1.00      1.00        27\n",
            "        BFUW       1.00      1.00      1.00       123\n",
            "        BFWB       1.00      0.85      0.92       100\n",
            "        BSMT       0.92      0.88      0.90       136\n",
            "        BSOP       0.97      0.85      0.91        41\n",
            "        CCCE       1.00      1.00      1.00       173\n",
            "        CCCO       1.00      1.00      1.00        17\n",
            "        CCCV       1.00      0.98      0.99      1157\n",
            "        CCID       0.00      0.00      0.00         2\n",
            "        CCMD       0.98      0.98      0.98      2007\n",
            "        CCVD       0.00      0.00      0.00         1\n",
            "        CMDO       0.74      0.51      0.61        90\n",
            "        CMXX       0.86      0.71      0.78       200\n",
            "        CSAN       1.00      0.92      0.96        12\n",
            "        CSBC       0.86      0.77      0.81       673\n",
            "        CSCG       0.95      0.87      0.91       226\n",
            "        CSCS       0.90      0.90      0.90       127\n",
            "        CSED       1.00      0.92      0.96        38\n",
            "        CSEL       0.00      0.00      0.00         5\n",
            "        CSFC       0.87      0.91      0.89      1981\n",
            "        CSSI       0.91      0.89      0.90      1775\n",
            "        DABD       0.85      0.87      0.86       256\n",
            "        DABI       0.59      0.53      0.56       128\n",
            "        DADV       0.97      0.76      0.85        79\n",
            "        DADW       0.00      0.00      0.00        20\n",
            "        DMDA       1.00      0.50      0.67         4\n",
            "        DMMD       0.00      0.00      0.00         2\n",
            "        DMSM       1.00      1.00      1.00        18\n",
            "        EDCA       1.00      0.95      0.97       114\n",
            "        EDEE       0.98      0.95      0.96       675\n",
            "        EDFE       1.00      0.83      0.91         6\n",
            "        EDME       0.99      0.94      0.96       229\n",
            "        EDXX       0.95      0.84      0.89       220\n",
            "        FAAG       0.92      0.87      0.89       386\n",
            "        FAAP       1.00      0.99      0.99       508\n",
            "        FAER       1.00      0.53      0.70        15\n",
            "        FAFA       0.79      0.87      0.83       378\n",
            "        FAFI       1.00      0.98      0.99       415\n",
            "        FALC       0.72      0.65      0.68        51\n",
            "        FAML       1.00      1.00      1.00        83\n",
            "        FATP       0.99      1.00      0.99        68\n",
            "        FLAC       0.94      0.84      0.89       242\n",
            "        FLCS       0.00      0.00      0.00         1\n",
            "        FLFA       0.78      0.33      0.47        21\n",
            "        FLLE       0.97      0.98      0.98       315\n",
            "        FLPP       0.94      0.93      0.93       288\n",
            "        FLPR       0.75      0.97      0.85        98\n",
            "        FLTR       1.00      1.00      1.00        10\n",
            "        FLTX       0.96      0.93      0.95        58\n",
            "        FLXX       0.84      0.84      0.84       968\n",
            "        GDXX       0.90      0.81      0.85       126\n",
            "        HCMC       1.00      1.00      1.00        21\n",
            "        HCMR       0.98      0.98      0.98        42\n",
            "        HCRM       0.94      0.97      0.96       187\n",
            "        HRBP       0.87      0.90      0.88       463\n",
            "        HRCB       1.00      0.89      0.94        57\n",
            "        HRDI       0.00      0.00      0.00         2\n",
            "        HRGM       0.69      1.00      0.82        18\n",
            "        HROD       1.00      0.07      0.12        15\n",
            "        HRRE       0.93      0.95      0.94       480\n",
            "        HRRM       0.86      0.55      0.67        11\n",
            "        HRSS       0.88      0.72      0.79       156\n",
            "        HRTR       0.89      0.75      0.81        67\n",
            "        HRXX       0.89      0.59      0.71        92\n",
            "        HSGL       0.93      0.96      0.94        53\n",
            "        HSLD       0.00      0.00      0.00         1\n",
            "        HSPL       0.00      0.00      0.00         1\n",
            "        INAU       0.87      0.93      0.90        76\n",
            "        INCL       0.80      0.09      0.17        43\n",
            "        INDB       0.93      0.84      0.88       135\n",
            "        INDC       0.98      0.88      0.93       110\n",
            "        INDS       0.92      0.91      0.91       237\n",
            "        INFS       0.99      0.97      0.98       422\n",
            "        INNE       0.84      0.82      0.83       338\n",
            "        INRA       0.95      0.97      0.96      4348\n",
            "        INRE       0.93      0.95      0.94       165\n",
            "        INRI       1.00      0.67      0.80         9\n",
            "        INSA       0.82      0.82      0.82        17\n",
            "        INSS       0.78      0.74      0.76        53\n",
            "        INTI       1.00      0.80      0.89         5\n",
            "        INXX       0.80      0.76      0.78       620\n",
            "        IPXX       1.00      0.25      0.40         4\n",
            "        ITAU       0.41      0.88      0.56        40\n",
            "        LECM       1.00      0.16      0.28        25\n",
            "        LECO       0.94      0.92      0.93        48\n",
            "        LEIP       0.00      0.00      0.00         1\n",
            "        LEPO       1.00      1.00      1.00        20\n",
            "        LERE       0.00      0.00      0.00         1\n",
            "        MBCC       1.00      0.74      0.85        23\n",
            "        MBCM       0.84      0.76      0.80       167\n",
            "        MBDM       0.81      0.70      0.75       119\n",
            "        MBGM       1.00      0.75      0.86        12\n",
            "        MBSE       1.00      0.25      0.40         4\n",
            "        MBXX       0.87      0.95      0.91       630\n",
            "        PDFD       0.68      0.96      0.79      2463\n",
            "        PDFS       0.88      0.70      0.78        91\n",
            "        PDHD       0.90      0.52      0.66      2322\n",
            "        PDLE       0.95      0.95      0.95       911\n",
            "        PDMD       1.00      0.40      0.57        10\n",
            "        PDPM       0.90      0.90      0.90       787\n",
            "        PDUI       0.73      0.49      0.58       140\n",
            "        PDXX       0.91      0.98      0.94     14764\n",
            "        PRAG       0.56      0.33      0.41       107\n",
            "        PRPO       0.90      0.88      0.89      1112\n",
            "        PRXX       0.88      0.89      0.89      1091\n",
            "        QAXX       0.74      0.61      0.67       160\n",
            "        QUTF       0.85      0.93      0.89       432\n",
            "        QUTS       1.00      1.00      1.00       206\n",
            "        RABA       0.94      0.96      0.95       512\n",
            "        RABF       1.00      0.98      0.99       155\n",
            "        RAPR       0.93      0.78      0.85        85\n",
            "        RASR       0.99      0.99      0.99       377\n",
            "        RECR       0.95      0.93      0.94        56\n",
            "        RICR       0.67      0.67      0.67         9\n",
            "        RIOR       1.00      0.93      0.96        14\n",
            "        RSMO       0.89      0.89      0.89        18\n",
            "        RSSC       0.91      0.86      0.88       169\n",
            "        RSSD       0.00      0.00      0.00        18\n",
            "        RSVM       0.86      0.21      0.34        57\n",
            "        RSWL       0.87      0.97      0.92       498\n",
            "        SAAC       0.89      0.95      0.92      1175\n",
            "        SABD       0.97      0.99      0.98      3228\n",
            "        SACH       0.86      0.72      0.78       234\n",
            "        SACS       0.98      0.97      0.98      1041\n",
            "        SAIN       0.88      0.95      0.91       651\n",
            "        SAPA       0.00      0.00      0.00         1\n",
            "        SAPS       0.97      0.91      0.94      1542\n",
            "        SASD       0.94      0.95      0.95       628\n",
            "        SAXX       0.92      0.81      0.86       636\n",
            "        SCCP       0.96      0.85      0.90       182\n",
            "        SSSO       0.76      0.82      0.79       103\n",
            "        SYAS       1.00      0.75      0.86        36\n",
            "        SYGR       1.00      0.60      0.75        10\n",
            "        SYIM       0.82      0.91      0.86       153\n",
            "        SYIN       0.75      0.38      0.50         8\n",
            "        SYIS       0.83      0.91      0.87        11\n",
            "        SYPT       1.00      0.25      0.40         4\n",
            "        SYXX       0.89      0.66      0.76       205\n",
            "        TEAU       0.93      0.92      0.93      2128\n",
            "        TEEM       0.70      0.73      0.72       245\n",
            "        TEMT       0.92      0.75      0.83       162\n",
            "        TEXX       0.97      0.93      0.95      2141\n",
            "        TOCO       0.98      1.00      0.99      2486\n",
            "        TOFC       0.64      0.94      0.76       203\n",
            "        TOFS       0.97      0.97      0.97       185\n",
            "        TOHR       0.00      0.00      0.00         2\n",
            "        TOMR       1.00      0.35      0.52        31\n",
            "        TOPO       0.99      0.87      0.93       114\n",
            "        TOSI       1.00      0.99      1.00       725\n",
            "        TRPR       1.00      0.83      0.91        54\n",
            "        TRTN       1.00      0.83      0.90        23\n",
            "        TTXX       0.81      0.72      0.76        72\n",
            "        TWXX       0.91      0.78      0.84       422\n",
            "        UEXX       0.72      0.49      0.59        93\n",
            "        VATR       1.00      0.86      0.92         7\n",
            "\n",
            "    accuracy                           0.89     78528\n",
            "   macro avg       0.81      0.72      0.74     78528\n",
            "weighted avg       0.90      0.89      0.89     78528\n",
            "\n"
          ]
        },
        {
          "output_type": "stream",
          "name": "stderr",
          "text": [
            "/usr/local/lib/python3.10/dist-packages/sklearn/metrics/_classification.py:1344: UndefinedMetricWarning: Precision and F-score are ill-defined and being set to 0.0 in labels with no predicted samples. Use `zero_division` parameter to control this behavior.\n",
            "  _warn_prf(average, modifier, msg_start, len(result))\n"
          ]
        }
      ]
    },
    {
      "cell_type": "markdown",
      "source": [
        "Level"
      ],
      "metadata": {
        "id": "speJir44Esd9"
      }
    },
    {
      "cell_type": "code",
      "source": [
        "# Train logistic regression model\n",
        "model_2 = LogisticRegression()\n",
        "model_2.fit(X_train_2, y_train_2)\n",
        "\n",
        "# Predict on test set and evaluate performance\n",
        "y_pred_2 = model_2.predict(X_test_2)\n",
        "print('Accuracy:', accuracy_score(y_test_2, y_pred_2))\n",
        "print('Classification Report:\\n', classification_report(y_test_2, y_pred_2))"
      ],
      "metadata": {
        "id": "g3VrW4jvEtUm",
        "colab": {
          "base_uri": "https://localhost:8080/"
        },
        "outputId": "8e82e3b0-0266-49b2-ebb4-0b5200f01af5"
      },
      "execution_count": 77,
      "outputs": [
        {
          "output_type": "stream",
          "name": "stderr",
          "text": [
            "/usr/local/lib/python3.10/dist-packages/sklearn/linear_model/_logistic.py:458: ConvergenceWarning: lbfgs failed to converge (status=1):\n",
            "STOP: TOTAL NO. of ITERATIONS REACHED LIMIT.\n",
            "\n",
            "Increase the number of iterations (max_iter) or scale the data as shown in:\n",
            "    https://scikit-learn.org/stable/modules/preprocessing.html\n",
            "Please also refer to the documentation for alternative solver options:\n",
            "    https://scikit-learn.org/stable/modules/linear_model.html#logistic-regression\n",
            "  n_iter_i = _check_optimize_result(\n"
          ]
        },
        {
          "output_type": "stream",
          "name": "stdout",
          "text": [
            "Accuracy: 0.6325769152404238\n"
          ]
        },
        {
          "output_type": "stream",
          "name": "stderr",
          "text": [
            "/usr/local/lib/python3.10/dist-packages/sklearn/metrics/_classification.py:1344: UndefinedMetricWarning: Precision and F-score are ill-defined and being set to 0.0 in labels with no predicted samples. Use `zero_division` parameter to control this behavior.\n",
            "  _warn_prf(average, modifier, msg_start, len(result))\n",
            "/usr/local/lib/python3.10/dist-packages/sklearn/metrics/_classification.py:1344: UndefinedMetricWarning: Precision and F-score are ill-defined and being set to 0.0 in labels with no predicted samples. Use `zero_division` parameter to control this behavior.\n",
            "  _warn_prf(average, modifier, msg_start, len(result))\n"
          ]
        },
        {
          "output_type": "stream",
          "name": "stdout",
          "text": [
            "Classification Report:\n",
            "               precision    recall  f1-score   support\n",
            "\n",
            "          E1       0.74      0.51      0.60       132\n",
            "          E2       0.00      0.00      0.00        10\n",
            "          I1       0.80      0.70      0.74     11842\n",
            "          I2       0.57      0.64      0.60     14758\n",
            "          I3       0.55      0.67      0.60     17159\n",
            "          I4       0.52      0.45      0.48      9866\n",
            "          I5       0.55      0.33      0.41      2844\n",
            "          I6       0.68      0.15      0.25       536\n",
            "          I7       0.00      0.00      0.00        57\n",
            "          M2       0.53      0.34      0.42       234\n",
            "          M3       0.78      0.64      0.70      1860\n",
            "          M4       0.59      0.64      0.61      3653\n",
            "          M5       0.60      0.48      0.53      2742\n",
            "          M6       0.60      0.52      0.56      1376\n",
            "          M7       0.62      0.32      0.42       592\n",
            "          M8       0.00      0.00      0.00        55\n",
            "          S1       0.78      0.90      0.84      1645\n",
            "          S2       0.64      0.68      0.66      1687\n",
            "          S3       0.91      0.88      0.89      7457\n",
            "          SL       0.00      0.00      0.00        23\n",
            "\n",
            "    accuracy                           0.63     78528\n",
            "   macro avg       0.52      0.44      0.47     78528\n",
            "weighted avg       0.64      0.63      0.63     78528\n",
            "\n"
          ]
        },
        {
          "output_type": "stream",
          "name": "stderr",
          "text": [
            "/usr/local/lib/python3.10/dist-packages/sklearn/metrics/_classification.py:1344: UndefinedMetricWarning: Precision and F-score are ill-defined and being set to 0.0 in labels with no predicted samples. Use `zero_division` parameter to control this behavior.\n",
            "  _warn_prf(average, modifier, msg_start, len(result))\n"
          ]
        }
      ]
    },
    {
      "cell_type": "markdown",
      "source": [
        "Unseen JF"
      ],
      "metadata": {
        "id": "Uw3a2C6MFFps"
      }
    },
    {
      "cell_type": "code",
      "source": [
        "X_test_unseen = []\n",
        "\n",
        "for i, col in enumerate(train_cols):\n",
        "    vectorizer = vectorizers[i]\n",
        "    X_test_col = vectorizer.transform(df_test.loc[:, col])\n",
        "    X_test_unseen.append(X_test_col)\n",
        "\n",
        "X_unseen = hstack(X_test_unseen)"
      ],
      "metadata": {
        "id": "NQZToaZCqgw9"
      },
      "execution_count": 78,
      "outputs": []
    },
    {
      "cell_type": "markdown",
      "source": [
        "JF"
      ],
      "metadata": {
        "id": "p7G0-yLwG1Om"
      }
    },
    {
      "cell_type": "code",
      "source": [
        "y_test_pred = model.predict (X_unseen)"
      ],
      "metadata": {
        "id": "YHDH2Tm-qinj"
      },
      "execution_count": 79,
      "outputs": []
    },
    {
      "cell_type": "markdown",
      "source": [
        "Unseen Level + Pred JF"
      ],
      "metadata": {
        "id": "ouGxrZbu9AB8"
      }
    },
    {
      "cell_type": "code",
      "source": [
        "X_test_unseen_2 = []\n",
        "z=0\n",
        "\n",
        "vectorizer = vectorizers_2[0]\n",
        "X_test_col_2 = vectorizer.transform(df_test.loc[:, train_cols_2])\n",
        "X_test_unseen_2.append(X_test_col_2)\n",
        "z=i\n",
        "\n",
        "vectorizer = vectorizers_2[1]\n",
        "X_test_col_2 = vectorizer.transform(df_test.loc[:, jfcol])\n",
        "X_test_unseen_2.append(X_test_col_2)\n",
        "\n",
        "X_unseen_2 = hstack(X_test_unseen_2)\n"
      ],
      "metadata": {
        "id": "2InaNFw39De7"
      },
      "execution_count": 80,
      "outputs": []
    },
    {
      "cell_type": "markdown",
      "source": [
        "Level"
      ],
      "metadata": {
        "id": "70r5Xbw5G2en"
      }
    },
    {
      "cell_type": "code",
      "source": [
        "y_test_pred_2 = model_2.predict (X_unseen_2)"
      ],
      "metadata": {
        "id": "0XWYp9w4G4M2"
      },
      "execution_count": 81,
      "outputs": []
    },
    {
      "cell_type": "code",
      "source": [
        "pd.DataFrame(y_test_pred).to_csv('JF_x.csv')\n",
        "pd.DataFrame(y_test_pred_2).to_csv('Lvl_x.csv')\n",
        "frames=[pd.DataFrame(y_test_pred),pd.DataFrame(y_test_pred_2)]\n",
        "maps=pd.concat(frames, axis=1)\n",
        "pd.DataFrame(maps).to_csv('maps_x.csv')"
      ],
      "metadata": {
        "id": "GFo__iaGqkq3"
      },
      "execution_count": 82,
      "outputs": []
    },
    {
      "cell_type": "markdown",
      "source": [
        "JF"
      ],
      "metadata": {
        "id": "ReL5_jziHi-X"
      }
    },
    {
      "cell_type": "code",
      "source": [
        "# Predict on test set and evaluate performance\n",
        "y_test_actual=df_test[target_col]\n",
        "print('Accuracy:', accuracy_score(y_test_actual, y_test_pred))\n",
        "print('Classification Report:\\n', classification_report(y_test_actual, y_test_pred))"
      ],
      "metadata": {
        "id": "gKDeyzgiSrDX",
        "outputId": "d54fa8dc-e311-4be5-a4e2-923ef6b4b71c",
        "colab": {
          "base_uri": "https://localhost:8080/"
        }
      },
      "execution_count": 83,
      "outputs": [
        {
          "output_type": "stream",
          "name": "stdout",
          "text": [
            "Accuracy: 0.8710594315245478\n",
            "Classification Report:\n",
            "               precision    recall  f1-score   support\n",
            "\n",
            "        AADS       0.99      0.97      0.98       105\n",
            "        AFFE       0.99      0.97      0.98       197\n",
            "        ARXX       0.84      0.77      0.80        74\n",
            "        ASPI       0.00      0.00      0.00         0\n",
            "        ASRP       1.00      0.92      0.96        25\n",
            "        ASUI       0.00      0.00      0.00         0\n",
            "        ASXX       0.16      0.31      0.21        16\n",
            "        BFCB       0.00      0.00      0.00         0\n",
            "        BFWB       0.00      0.00      0.00        12\n",
            "        BSMT       0.90      0.90      0.90       210\n",
            "        CCMD       0.79      0.83      0.81       244\n",
            "        CMDO       0.62      0.94      0.75        16\n",
            "        CSBC       0.83      0.80      0.81       335\n",
            "        CSCS       0.00      0.00      0.00         0\n",
            "        CSFC       0.80      0.91      0.85        22\n",
            "        DABD       0.00      0.00      0.00         0\n",
            "        DABI       0.49      0.82      0.61        79\n",
            "        EDEE       0.00      0.00      0.00         0\n",
            "        FAFA       0.00      0.00      0.00         0\n",
            "        FALC       0.82      0.87      0.84       193\n",
            "        FLLE       0.98      0.98      0.98        63\n",
            "        FLPP       0.95      0.98      0.96        53\n",
            "        FLTX       1.00      0.95      0.97        60\n",
            "        FLXX       0.83      0.80      0.81       313\n",
            "        GDXX       0.66      0.70      0.68        57\n",
            "        HRBP       0.94      1.00      0.97       307\n",
            "        HRCB       1.00      1.00      1.00         6\n",
            "        HROD       0.00      0.00      0.00        13\n",
            "        HRRE       0.91      0.97      0.94        75\n",
            "        HRSS       1.00      0.86      0.92        42\n",
            "        HRTR       0.99      1.00      0.99        95\n",
            "        INDB       1.00      0.50      0.67         2\n",
            "        INDS       0.75      0.23      0.35        13\n",
            "        INFE       0.00      0.00      0.00         4\n",
            "        INNE       0.86      0.39      0.53        31\n",
            "        INSS       0.69      0.58      0.63        19\n",
            "        INXX       0.00      0.00      0.00         0\n",
            "        LECO       0.99      0.97      0.98       209\n",
            "        MBCC       0.00      0.00      0.00         0\n",
            "        MBCM       0.91      0.93      0.92        45\n",
            "        MBDM       0.85      0.77      0.81        97\n",
            "        MBXX       0.98      0.94      0.96        84\n",
            "        PDHD       0.00      0.00      0.00         0\n",
            "        PDPM       0.93      0.98      0.96       299\n",
            "        PDUI       0.89      0.81      0.85        93\n",
            "        PDXX       0.98      0.98      0.98      2026\n",
            "        PRAG       0.96      0.55      0.70        40\n",
            "        PRPO       0.00      0.00      0.00         0\n",
            "        PRXX       0.64      0.50      0.57       137\n",
            "        QAXX       0.04      0.04      0.04        23\n",
            "        QUTF       0.00      0.00      0.00         0\n",
            "        QUTS       0.00      0.00      0.00         1\n",
            "        RABA       0.96      0.89      0.92       296\n",
            "        RABF       0.00      0.00      0.00         0\n",
            "        RAPR       1.00      0.88      0.93         8\n",
            "        RASR       0.00      0.00      0.00         0\n",
            "        RSMO       0.00      0.00      0.00         0\n",
            "        RSSC       0.00      0.00      0.00         0\n",
            "        RSVM       0.89      0.20      0.32       248\n",
            "        RSWL       0.00      0.00      0.00         0\n",
            "        SAAC       0.67      1.00      0.80         4\n",
            "        SABD       0.82      0.94      0.88      1237\n",
            "        SASD       0.00      0.00      0.00         0\n",
            "        SAXX       0.00      0.00      0.00         0\n",
            "        SCCP       0.15      0.07      0.10        29\n",
            "        SSSO       0.86      0.65      0.74       144\n",
            "        SYIN       0.00      0.00      0.00         0\n",
            "        SYXX       0.48      0.52      0.50        21\n",
            "        TEXX       0.00      0.00      0.00         0\n",
            "        TOCO       0.00      0.00      0.00         0\n",
            "        TRPR       0.00      0.00      0.00        18\n",
            "        UEXX       0.00      0.00      0.00         0\n",
            "\n",
            "    accuracy                           0.87      7740\n",
            "   macro avg       0.50      0.47      0.47      7740\n",
            "weighted avg       0.89      0.87      0.87      7740\n",
            "\n"
          ]
        },
        {
          "output_type": "stream",
          "name": "stderr",
          "text": [
            "/usr/local/lib/python3.10/dist-packages/sklearn/metrics/_classification.py:1344: UndefinedMetricWarning: Precision and F-score are ill-defined and being set to 0.0 in labels with no predicted samples. Use `zero_division` parameter to control this behavior.\n",
            "  _warn_prf(average, modifier, msg_start, len(result))\n",
            "/usr/local/lib/python3.10/dist-packages/sklearn/metrics/_classification.py:1344: UndefinedMetricWarning: Recall and F-score are ill-defined and being set to 0.0 in labels with no true samples. Use `zero_division` parameter to control this behavior.\n",
            "  _warn_prf(average, modifier, msg_start, len(result))\n",
            "/usr/local/lib/python3.10/dist-packages/sklearn/metrics/_classification.py:1344: UndefinedMetricWarning: Precision and F-score are ill-defined and being set to 0.0 in labels with no predicted samples. Use `zero_division` parameter to control this behavior.\n",
            "  _warn_prf(average, modifier, msg_start, len(result))\n",
            "/usr/local/lib/python3.10/dist-packages/sklearn/metrics/_classification.py:1344: UndefinedMetricWarning: Recall and F-score are ill-defined and being set to 0.0 in labels with no true samples. Use `zero_division` parameter to control this behavior.\n",
            "  _warn_prf(average, modifier, msg_start, len(result))\n",
            "/usr/local/lib/python3.10/dist-packages/sklearn/metrics/_classification.py:1344: UndefinedMetricWarning: Precision and F-score are ill-defined and being set to 0.0 in labels with no predicted samples. Use `zero_division` parameter to control this behavior.\n",
            "  _warn_prf(average, modifier, msg_start, len(result))\n",
            "/usr/local/lib/python3.10/dist-packages/sklearn/metrics/_classification.py:1344: UndefinedMetricWarning: Recall and F-score are ill-defined and being set to 0.0 in labels with no true samples. Use `zero_division` parameter to control this behavior.\n",
            "  _warn_prf(average, modifier, msg_start, len(result))\n"
          ]
        }
      ]
    },
    {
      "cell_type": "markdown",
      "source": [
        "Level"
      ],
      "metadata": {
        "id": "WdQCZxtcHllh"
      }
    },
    {
      "cell_type": "code",
      "source": [
        "# Predict on test set and evaluate performance\n",
        "y_test_actual_2=df_test[target_col_2]\n",
        "print('Accuracy:', accuracy_score(y_test_actual_2, y_test_pred_2))\n",
        "print('Classification Report:\\n', classification_report(y_test_actual_2, y_test_pred_2))"
      ],
      "metadata": {
        "id": "0Dty7SHVHmtG",
        "colab": {
          "base_uri": "https://localhost:8080/"
        },
        "outputId": "7edcfe1d-4f3f-4013-d5a9-233d68308933"
      },
      "execution_count": 84,
      "outputs": [
        {
          "output_type": "stream",
          "name": "stdout",
          "text": [
            "Accuracy: 0.42506459948320413\n"
          ]
        },
        {
          "output_type": "stream",
          "name": "stderr",
          "text": [
            "/usr/local/lib/python3.10/dist-packages/sklearn/metrics/_classification.py:1344: UndefinedMetricWarning: Recall and F-score are ill-defined and being set to 0.0 in labels with no true samples. Use `zero_division` parameter to control this behavior.\n",
            "  _warn_prf(average, modifier, msg_start, len(result))\n"
          ]
        },
        {
          "output_type": "stream",
          "name": "stdout",
          "text": [
            "Classification Report:\n",
            "               precision    recall  f1-score   support\n",
            "\n",
            "          E1       1.00      0.68      0.81       144\n",
            "          I1       0.00      0.00      0.00         0\n",
            "          I2       0.19      0.34      0.24       642\n",
            "          I3       0.59      0.77      0.67      2051\n",
            "          I4       0.17      0.08      0.11      1093\n",
            "          I5       0.00      0.00      0.00         0\n",
            "          I6       0.00      0.00      0.00         0\n",
            "          M2       0.00      0.00      0.00         0\n",
            "          M3       0.00      0.00      0.00         0\n",
            "          M4       0.58      0.51      0.54      1409\n",
            "          M5       0.46      0.38      0.42       996\n",
            "          M6       0.06      0.04      0.05       640\n",
            "          M7       0.90      0.39      0.54       463\n",
            "          M8       1.00      0.00      0.01       302\n",
            "          S1       0.00      0.00      0.00         0\n",
            "          S2       0.00      0.00      0.00         0\n",
            "          S3       0.00      0.00      0.00         0\n",
            "\n",
            "    accuracy                           0.43      7740\n",
            "   macro avg       0.29      0.19      0.20      7740\n",
            "weighted avg       0.48      0.43      0.42      7740\n",
            "\n"
          ]
        },
        {
          "output_type": "stream",
          "name": "stderr",
          "text": [
            "/usr/local/lib/python3.10/dist-packages/sklearn/metrics/_classification.py:1344: UndefinedMetricWarning: Recall and F-score are ill-defined and being set to 0.0 in labels with no true samples. Use `zero_division` parameter to control this behavior.\n",
            "  _warn_prf(average, modifier, msg_start, len(result))\n",
            "/usr/local/lib/python3.10/dist-packages/sklearn/metrics/_classification.py:1344: UndefinedMetricWarning: Recall and F-score are ill-defined and being set to 0.0 in labels with no true samples. Use `zero_division` parameter to control this behavior.\n",
            "  _warn_prf(average, modifier, msg_start, len(result))\n"
          ]
        }
      ]
    }
  ]
}